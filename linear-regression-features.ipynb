{
 "cells": [
  {
   "cell_type": "code",
   "execution_count": 355,
   "id": "5567c359",
   "metadata": {},
   "outputs": [],
   "source": [
    "# import modules\n",
    "import pandas as pd\n",
    "import numpy as np\n",
    "from sklearn.linear_model import LinearRegression\n",
    "from sklearn.model_selection import KFold\n",
    "from sklearn.model_selection import train_test_split\n",
    "import matplotlib.pyplot as plt"
   ]
  },
  {
   "cell_type": "code",
   "execution_count": 356,
   "id": "e6760658",
   "metadata": {},
   "outputs": [],
   "source": [
    "# Various useful functions\n",
    "\n",
    "def get_mae(az_true, zen_true, az_pred, zen_pred): \n",
    "    \"\"\"\n",
    "    Given a predicted and true azimuth and zenith, compute the mae (mean angular error)\n",
    "    \"\"\"    \n",
    "    if not (np.all(np.isfinite(az_true)) and\n",
    "            np.all(np.isfinite(zen_true)) and\n",
    "            np.all(np.isfinite(az_pred)) and\n",
    "            np.all(np.isfinite(zen_pred))):\n",
    "        raise ValueError(\"All arguments must be finite\")\n",
    "    \n",
    "    # pre-compute all sine and cosine values\n",
    "    sa1 = np.sin(az_true)\n",
    "    ca1 = np.cos(az_true)\n",
    "    sz1 = np.sin(zen_true)\n",
    "    cz1 = np.cos(zen_true)\n",
    "    \n",
    "    sa2 = np.sin(az_pred)\n",
    "    ca2 = np.cos(az_pred)\n",
    "    sz2 = np.sin(zen_pred)\n",
    "    cz2 = np.cos(zen_pred)\n",
    "    \n",
    "    # scalar product of the two cartesian vectors (x = sz*ca, y = sz*sa, z = cz)\n",
    "    scalar_prod = sz1*sz2*(ca1*ca2 + sa1*sa2) + (cz1*cz2)\n",
    "    \n",
    "    # scalar product of two unit vectors is always between -1 and 1, this is against nummerical instability\n",
    "    # that might otherwise occure from the finite precision of the sine and cosine functions\n",
    "    scalar_prod =  np.clip(scalar_prod, -1, 1)\n",
    "    \n",
    "    # convert back to an angle (in radian)\n",
    "    return np.average(np.abs(np.arccos(scalar_prod)))\n",
    "\n",
    "def get_maes(y_pred, y_true): \n",
    "    \"\"\"\n",
    "    Given a list of predictions and true values of azimuth and zenith, compute mae\n",
    "    \"\"\"\n",
    "    n = len(y_pred)\n",
    "    maes = np.zeros(n)\n",
    "    for i in range (0,n):\n",
    "        az_true = y_true[i][0]\n",
    "        ze_true = y_true[i][1]\n",
    "        az_pred = y_pred[i][0]\n",
    "        ze_pred = y_pred[i][1]\n",
    "        mae = get_mae(az_true, ze_true, az_pred, ze_pred)\n",
    "        maes[i] = mae\n",
    "        \n",
    "    return maes.mean()"
   ]
  },
  {
   "cell_type": "code",
   "execution_count": 357,
   "id": "bdc9cc58",
   "metadata": {},
   "outputs": [],
   "source": [
    "# Read data\n",
    "event_data = pd.read_csv(\"C:/Users/k_vsl/Documents/Erdos/Boot Camp/ice-cube-katja/all-feature.csv\")"
   ]
  },
  {
   "cell_type": "code",
   "execution_count": 358,
   "id": "c7c47658",
   "metadata": {},
   "outputs": [
    {
     "data": {
      "text/plain": [
       "Index(['Unnamed: 0', 'event_id', 'vx_t', 'vy_t', 'vz_t', 'az_t_pred',\n",
       "       'ze_t_pred', 'mae_t', 'mse_squared', 'mse', 'vx_pca', 'vy_pca',\n",
       "       'vz_pca', 'az_pca_pred', 'ze_pca_pred', 'az_true', 'ze_true',\n",
       "       'num_clusters', 'dot_product'],\n",
       "      dtype='object')"
      ]
     },
     "execution_count": 358,
     "metadata": {},
     "output_type": "execute_result"
    }
   ],
   "source": [
    "event_data.columns"
   ]
  },
  {
   "cell_type": "code",
   "execution_count": 359,
   "id": "02775dba",
   "metadata": {},
   "outputs": [],
   "source": [
    "# Separate training parameters into features and output\n",
    "X = event_data[['event_id', 'vx_t', 'vy_t', 'vz_t', 'az_t_pred',\n",
    "       'ze_t_pred', 'mae_t', 'mse_squared', 'mse', 'vx_pca', 'vy_pca',\n",
    "       'vz_pca', 'az_pca_pred', 'ze_pca_pred', 'num_clusters', 'dot_product']]\n",
    "X = X.set_index(\"event_id\")\n",
    "y = event_data[['event_id', 'az_true', 'ze_true']]\n",
    "y = y.set_index(\"event_id\")\n",
    "\n",
    "# Get categorical variable for mse\n",
    "i = 0\n",
    "mse_cat = np.zeros(len(X))\n",
    "for row in X.itertuples(): \n",
    "    mse = row.mse\n",
    "    if mse <= 721:\n",
    "        mse_cat[i] = np.uint8(0)\n",
    "    else:\n",
    "        mse_cat[i] = np.uint8(1)\n",
    "    i += 1\n",
    "X['mse_cat'] = mse_cat"
   ]
  },
  {
   "cell_type": "code",
   "execution_count": 360,
   "id": "51810a04",
   "metadata": {},
   "outputs": [
    {
     "data": {
      "text/plain": [
       "array([29296372, 29296374, 29296414, ..., 32567659, 32567680, 32567683],\n",
       "      dtype=int64)"
      ]
     },
     "execution_count": 360,
     "metadata": {},
     "output_type": "execute_result"
    }
   ],
   "source": [
    "X.index.values"
   ]
  },
  {
   "cell_type": "code",
   "execution_count": 361,
   "id": "e03b44ea",
   "metadata": {},
   "outputs": [],
   "source": [
    "# Get categorical variable for num_clusters\n",
    "W = pd.get_dummies(X['num_clusters'], prefix = 'cat')\n",
    "W['event_id'] = X.index.values\n",
    "W = W.set_index(\"event_id\")\n",
    "X = pd.merge(X, W, left_index = True, right_index = True)"
   ]
  },
  {
   "cell_type": "code",
   "execution_count": 362,
   "id": "43184bbf",
   "metadata": {},
   "outputs": [
    {
     "data": {
      "text/plain": [
       "Index(['vx_t', 'vy_t', 'vz_t', 'az_t_pred', 'ze_t_pred', 'mae_t',\n",
       "       'mse_squared', 'mse', 'vx_pca', 'vy_pca', 'vz_pca', 'az_pca_pred',\n",
       "       'ze_pca_pred', 'num_clusters', 'dot_product', 'mse_cat', 'cat_1.0',\n",
       "       'cat_2.0', 'cat_3.0', 'cat_4.0', 'cat_5.0', 'cat_6.0', 'cat_7.0',\n",
       "       'cat_8.0', 'cat_9.0', 'cat_10.0', 'cat_11.0'],\n",
       "      dtype='object')"
      ]
     },
     "execution_count": 362,
     "metadata": {},
     "output_type": "execute_result"
    }
   ],
   "source": [
    "X.columns"
   ]
  },
  {
   "cell_type": "code",
   "execution_count": 363,
   "id": "af08a8bd",
   "metadata": {},
   "outputs": [
    {
     "data": {
      "text/html": [
       "<div>\n",
       "<style scoped>\n",
       "    .dataframe tbody tr th:only-of-type {\n",
       "        vertical-align: middle;\n",
       "    }\n",
       "\n",
       "    .dataframe tbody tr th {\n",
       "        vertical-align: top;\n",
       "    }\n",
       "\n",
       "    .dataframe thead th {\n",
       "        text-align: right;\n",
       "    }\n",
       "</style>\n",
       "<table border=\"1\" class=\"dataframe\">\n",
       "  <thead>\n",
       "    <tr style=\"text-align: right;\">\n",
       "      <th></th>\n",
       "      <th>vx_t</th>\n",
       "      <th>vy_t</th>\n",
       "      <th>vz_t</th>\n",
       "      <th>az_t_pred</th>\n",
       "      <th>ze_t_pred</th>\n",
       "      <th>mae_t</th>\n",
       "      <th>mse_squared</th>\n",
       "      <th>mse</th>\n",
       "      <th>vx_pca</th>\n",
       "      <th>vy_pca</th>\n",
       "      <th>...</th>\n",
       "      <th>cat_2.0</th>\n",
       "      <th>cat_3.0</th>\n",
       "      <th>cat_4.0</th>\n",
       "      <th>cat_5.0</th>\n",
       "      <th>cat_6.0</th>\n",
       "      <th>cat_7.0</th>\n",
       "      <th>cat_8.0</th>\n",
       "      <th>cat_9.0</th>\n",
       "      <th>cat_10.0</th>\n",
       "      <th>cat_11.0</th>\n",
       "    </tr>\n",
       "    <tr>\n",
       "      <th>event_id</th>\n",
       "      <th></th>\n",
       "      <th></th>\n",
       "      <th></th>\n",
       "      <th></th>\n",
       "      <th></th>\n",
       "      <th></th>\n",
       "      <th></th>\n",
       "      <th></th>\n",
       "      <th></th>\n",
       "      <th></th>\n",
       "      <th></th>\n",
       "      <th></th>\n",
       "      <th></th>\n",
       "      <th></th>\n",
       "      <th></th>\n",
       "      <th></th>\n",
       "      <th></th>\n",
       "      <th></th>\n",
       "      <th></th>\n",
       "      <th></th>\n",
       "      <th></th>\n",
       "    </tr>\n",
       "  </thead>\n",
       "  <tbody>\n",
       "    <tr>\n",
       "      <th>29296372</th>\n",
       "      <td>0.840768</td>\n",
       "      <td>0.133669</td>\n",
       "      <td>0.524635</td>\n",
       "      <td>0.157664</td>\n",
       "      <td>1.018510</td>\n",
       "      <td>2.595228</td>\n",
       "      <td>2.322060e+05</td>\n",
       "      <td>481.877540</td>\n",
       "      <td>0.950603</td>\n",
       "      <td>0.151131</td>\n",
       "      <td>...</td>\n",
       "      <td>0</td>\n",
       "      <td>0</td>\n",
       "      <td>0</td>\n",
       "      <td>0</td>\n",
       "      <td>0</td>\n",
       "      <td>0</td>\n",
       "      <td>0</td>\n",
       "      <td>0</td>\n",
       "      <td>0</td>\n",
       "      <td>0</td>\n",
       "    </tr>\n",
       "    <tr>\n",
       "      <th>29296374</th>\n",
       "      <td>0.211115</td>\n",
       "      <td>-0.119066</td>\n",
       "      <td>0.970182</td>\n",
       "      <td>5.769669</td>\n",
       "      <td>0.244814</td>\n",
       "      <td>0.045669</td>\n",
       "      <td>1.174334e+06</td>\n",
       "      <td>1083.666960</td>\n",
       "      <td>0.195457</td>\n",
       "      <td>-0.145903</td>\n",
       "      <td>...</td>\n",
       "      <td>0</td>\n",
       "      <td>0</td>\n",
       "      <td>1</td>\n",
       "      <td>0</td>\n",
       "      <td>0</td>\n",
       "      <td>0</td>\n",
       "      <td>0</td>\n",
       "      <td>0</td>\n",
       "      <td>0</td>\n",
       "      <td>0</td>\n",
       "    </tr>\n",
       "    <tr>\n",
       "      <th>29296414</th>\n",
       "      <td>-0.368366</td>\n",
       "      <td>-0.911470</td>\n",
       "      <td>-0.183109</td>\n",
       "      <td>4.328315</td>\n",
       "      <td>1.754944</td>\n",
       "      <td>1.128550</td>\n",
       "      <td>1.552522e+04</td>\n",
       "      <td>124.600239</td>\n",
       "      <td>-0.358119</td>\n",
       "      <td>-0.886117</td>\n",
       "      <td>...</td>\n",
       "      <td>0</td>\n",
       "      <td>0</td>\n",
       "      <td>0</td>\n",
       "      <td>0</td>\n",
       "      <td>0</td>\n",
       "      <td>0</td>\n",
       "      <td>0</td>\n",
       "      <td>0</td>\n",
       "      <td>0</td>\n",
       "      <td>0</td>\n",
       "    </tr>\n",
       "    <tr>\n",
       "      <th>29296416</th>\n",
       "      <td>0.539816</td>\n",
       "      <td>-0.666199</td>\n",
       "      <td>0.514566</td>\n",
       "      <td>5.393375</td>\n",
       "      <td>1.030295</td>\n",
       "      <td>2.349623</td>\n",
       "      <td>4.948033e+05</td>\n",
       "      <td>703.422549</td>\n",
       "      <td>0.629551</td>\n",
       "      <td>-0.776942</td>\n",
       "      <td>...</td>\n",
       "      <td>0</td>\n",
       "      <td>0</td>\n",
       "      <td>0</td>\n",
       "      <td>0</td>\n",
       "      <td>0</td>\n",
       "      <td>0</td>\n",
       "      <td>0</td>\n",
       "      <td>0</td>\n",
       "      <td>0</td>\n",
       "      <td>0</td>\n",
       "    </tr>\n",
       "    <tr>\n",
       "      <th>29296437</th>\n",
       "      <td>0.105650</td>\n",
       "      <td>-0.889777</td>\n",
       "      <td>0.443999</td>\n",
       "      <td>4.830573</td>\n",
       "      <td>1.110740</td>\n",
       "      <td>0.635174</td>\n",
       "      <td>4.716322e+06</td>\n",
       "      <td>2171.709365</td>\n",
       "      <td>0.007387</td>\n",
       "      <td>-0.906071</td>\n",
       "      <td>...</td>\n",
       "      <td>1</td>\n",
       "      <td>0</td>\n",
       "      <td>0</td>\n",
       "      <td>0</td>\n",
       "      <td>0</td>\n",
       "      <td>0</td>\n",
       "      <td>0</td>\n",
       "      <td>0</td>\n",
       "      <td>0</td>\n",
       "      <td>0</td>\n",
       "    </tr>\n",
       "  </tbody>\n",
       "</table>\n",
       "<p>5 rows × 27 columns</p>\n",
       "</div>"
      ],
      "text/plain": [
       "              vx_t      vy_t      vz_t  az_t_pred  ze_t_pred     mae_t  \\\n",
       "event_id                                                                 \n",
       "29296372  0.840768  0.133669  0.524635   0.157664   1.018510  2.595228   \n",
       "29296374  0.211115 -0.119066  0.970182   5.769669   0.244814  0.045669   \n",
       "29296414 -0.368366 -0.911470 -0.183109   4.328315   1.754944  1.128550   \n",
       "29296416  0.539816 -0.666199  0.514566   5.393375   1.030295  2.349623   \n",
       "29296437  0.105650 -0.889777  0.443999   4.830573   1.110740  0.635174   \n",
       "\n",
       "           mse_squared          mse    vx_pca    vy_pca  ...  cat_2.0  \\\n",
       "event_id                                                 ...            \n",
       "29296372  2.322060e+05   481.877540  0.950603  0.151131  ...        0   \n",
       "29296374  1.174334e+06  1083.666960  0.195457 -0.145903  ...        0   \n",
       "29296414  1.552522e+04   124.600239 -0.358119 -0.886117  ...        0   \n",
       "29296416  4.948033e+05   703.422549  0.629551 -0.776942  ...        0   \n",
       "29296437  4.716322e+06  2171.709365  0.007387 -0.906071  ...        1   \n",
       "\n",
       "          cat_3.0  cat_4.0  cat_5.0  cat_6.0  cat_7.0  cat_8.0  cat_9.0  \\\n",
       "event_id                                                                  \n",
       "29296372        0        0        0        0        0        0        0   \n",
       "29296374        0        1        0        0        0        0        0   \n",
       "29296414        0        0        0        0        0        0        0   \n",
       "29296416        0        0        0        0        0        0        0   \n",
       "29296437        0        0        0        0        0        0        0   \n",
       "\n",
       "          cat_10.0  cat_11.0  \n",
       "event_id                      \n",
       "29296372         0         0  \n",
       "29296374         0         0  \n",
       "29296414         0         0  \n",
       "29296416         0         0  \n",
       "29296437         0         0  \n",
       "\n",
       "[5 rows x 27 columns]"
      ]
     },
     "execution_count": 363,
     "metadata": {},
     "output_type": "execute_result"
    }
   ],
   "source": [
    "X.head()"
   ]
  },
  {
   "cell_type": "code",
   "execution_count": 366,
   "id": "f1bf1c04",
   "metadata": {},
   "outputs": [],
   "source": [
    "# Separate out a final training set\n",
    "# random seed = 134\n",
    "# test size = 25%\n",
    "X_train, X_val, y_train, y_val = train_test_split(X, y, \n",
    "                                                             shuffle = True,\n",
    "                                                             random_state = 134, \n",
    "                                                             test_size = .25)"
   ]
  },
  {
   "cell_type": "code",
   "execution_count": 367,
   "id": "e1665281",
   "metadata": {},
   "outputs": [
    {
     "data": {
      "text/plain": [
       "Index(['vx_t', 'vy_t', 'vz_t', 'az_t_pred', 'ze_t_pred', 'mae_t',\n",
       "       'mse_squared', 'mse', 'vx_pca', 'vy_pca', 'vz_pca', 'az_pca_pred',\n",
       "       'ze_pca_pred', 'num_clusters', 'dot_product', 'mse_cat', 'cat_1.0',\n",
       "       'cat_2.0', 'cat_3.0', 'cat_4.0', 'cat_5.0', 'cat_6.0', 'cat_7.0',\n",
       "       'cat_8.0', 'cat_9.0', 'cat_10.0', 'cat_11.0'],\n",
       "      dtype='object')"
      ]
     },
     "execution_count": 367,
     "metadata": {},
     "output_type": "execute_result"
    }
   ],
   "source": [
    "X_train.columns"
   ]
  },
  {
   "cell_type": "code",
   "execution_count": 147,
   "id": "402b8ef6",
   "metadata": {},
   "outputs": [
    {
     "data": {
      "text/plain": [
       "array([31755807, 31508861, 30795146, ..., 29735586, 30691628, 30091932],\n",
       "      dtype=int64)"
      ]
     },
     "execution_count": 147,
     "metadata": {},
     "output_type": "execute_result"
    }
   ],
   "source": [
    "y_val.index.values"
   ]
  },
  {
   "cell_type": "code",
   "execution_count": 342,
   "id": "60b6084a",
   "metadata": {},
   "outputs": [
    {
     "data": {
      "text/html": [
       "<div>\n",
       "<style scoped>\n",
       "    .dataframe tbody tr th:only-of-type {\n",
       "        vertical-align: middle;\n",
       "    }\n",
       "\n",
       "    .dataframe tbody tr th {\n",
       "        vertical-align: top;\n",
       "    }\n",
       "\n",
       "    .dataframe thead th {\n",
       "        text-align: right;\n",
       "    }\n",
       "</style>\n",
       "<table border=\"1\" class=\"dataframe\">\n",
       "  <thead>\n",
       "    <tr style=\"text-align: right;\">\n",
       "      <th></th>\n",
       "      <th>vx_t</th>\n",
       "      <th>vy_t</th>\n",
       "      <th>vz_t</th>\n",
       "      <th>az_t_pred</th>\n",
       "      <th>ze_t_pred</th>\n",
       "      <th>mae_t</th>\n",
       "      <th>mse_squared</th>\n",
       "      <th>mse</th>\n",
       "      <th>vx_pca</th>\n",
       "      <th>vy_pca</th>\n",
       "      <th>...</th>\n",
       "      <th>2.0</th>\n",
       "      <th>3.0</th>\n",
       "      <th>4.0</th>\n",
       "      <th>5.0</th>\n",
       "      <th>6.0</th>\n",
       "      <th>7.0</th>\n",
       "      <th>8.0</th>\n",
       "      <th>9.0</th>\n",
       "      <th>10.0</th>\n",
       "      <th>11.0</th>\n",
       "    </tr>\n",
       "    <tr>\n",
       "      <th>event_id</th>\n",
       "      <th></th>\n",
       "      <th></th>\n",
       "      <th></th>\n",
       "      <th></th>\n",
       "      <th></th>\n",
       "      <th></th>\n",
       "      <th></th>\n",
       "      <th></th>\n",
       "      <th></th>\n",
       "      <th></th>\n",
       "      <th></th>\n",
       "      <th></th>\n",
       "      <th></th>\n",
       "      <th></th>\n",
       "      <th></th>\n",
       "      <th></th>\n",
       "      <th></th>\n",
       "      <th></th>\n",
       "      <th></th>\n",
       "      <th></th>\n",
       "      <th></th>\n",
       "    </tr>\n",
       "  </thead>\n",
       "  <tbody>\n",
       "    <tr>\n",
       "      <th>30454050</th>\n",
       "      <td>-4.118736e-01</td>\n",
       "      <td>-7.082578e-01</td>\n",
       "      <td>0.573351</td>\n",
       "      <td>4.185661</td>\n",
       "      <td>0.960207</td>\n",
       "      <td>0.109856</td>\n",
       "      <td>3.643922e+06</td>\n",
       "      <td>1908.905929</td>\n",
       "      <td>-0.423324</td>\n",
       "      <td>-6.828710e-01</td>\n",
       "      <td>...</td>\n",
       "      <td>1</td>\n",
       "      <td>0</td>\n",
       "      <td>0</td>\n",
       "      <td>0</td>\n",
       "      <td>0</td>\n",
       "      <td>0</td>\n",
       "      <td>0</td>\n",
       "      <td>0</td>\n",
       "      <td>0</td>\n",
       "      <td>0</td>\n",
       "    </tr>\n",
       "    <tr>\n",
       "      <th>30748024</th>\n",
       "      <td>-6.782162e-01</td>\n",
       "      <td>4.858384e-01</td>\n",
       "      <td>-0.551347</td>\n",
       "      <td>2.519979</td>\n",
       "      <td>2.154775</td>\n",
       "      <td>2.319469</td>\n",
       "      <td>2.841193e+05</td>\n",
       "      <td>533.028420</td>\n",
       "      <td>-0.378070</td>\n",
       "      <td>6.096823e-01</td>\n",
       "      <td>...</td>\n",
       "      <td>0</td>\n",
       "      <td>0</td>\n",
       "      <td>0</td>\n",
       "      <td>0</td>\n",
       "      <td>0</td>\n",
       "      <td>0</td>\n",
       "      <td>0</td>\n",
       "      <td>0</td>\n",
       "      <td>0</td>\n",
       "      <td>0</td>\n",
       "    </tr>\n",
       "    <tr>\n",
       "      <th>30755317</th>\n",
       "      <td>4.103319e-01</td>\n",
       "      <td>5.239152e-01</td>\n",
       "      <td>0.746419</td>\n",
       "      <td>0.906382</td>\n",
       "      <td>0.728132</td>\n",
       "      <td>2.444023</td>\n",
       "      <td>5.332882e+05</td>\n",
       "      <td>730.265872</td>\n",
       "      <td>0.387760</td>\n",
       "      <td>5.221182e-01</td>\n",
       "      <td>...</td>\n",
       "      <td>0</td>\n",
       "      <td>0</td>\n",
       "      <td>1</td>\n",
       "      <td>0</td>\n",
       "      <td>0</td>\n",
       "      <td>0</td>\n",
       "      <td>0</td>\n",
       "      <td>0</td>\n",
       "      <td>0</td>\n",
       "      <td>0</td>\n",
       "    </tr>\n",
       "    <tr>\n",
       "      <th>29988737</th>\n",
       "      <td>-9.556220e-15</td>\n",
       "      <td>-0.000000e+00</td>\n",
       "      <td>-1.000000</td>\n",
       "      <td>0.000000</td>\n",
       "      <td>3.141593</td>\n",
       "      <td>0.523975</td>\n",
       "      <td>9.692552e+03</td>\n",
       "      <td>98.450761</td>\n",
       "      <td>-0.000000</td>\n",
       "      <td>2.220446e-16</td>\n",
       "      <td>...</td>\n",
       "      <td>0</td>\n",
       "      <td>0</td>\n",
       "      <td>0</td>\n",
       "      <td>0</td>\n",
       "      <td>0</td>\n",
       "      <td>0</td>\n",
       "      <td>0</td>\n",
       "      <td>0</td>\n",
       "      <td>0</td>\n",
       "      <td>0</td>\n",
       "    </tr>\n",
       "    <tr>\n",
       "      <th>30774845</th>\n",
       "      <td>9.200957e-15</td>\n",
       "      <td>1.380144e-14</td>\n",
       "      <td>1.000000</td>\n",
       "      <td>0.000000</td>\n",
       "      <td>0.000000</td>\n",
       "      <td>2.605521</td>\n",
       "      <td>3.232729e+04</td>\n",
       "      <td>179.797920</td>\n",
       "      <td>0.000000</td>\n",
       "      <td>0.000000e+00</td>\n",
       "      <td>...</td>\n",
       "      <td>0</td>\n",
       "      <td>0</td>\n",
       "      <td>0</td>\n",
       "      <td>0</td>\n",
       "      <td>0</td>\n",
       "      <td>0</td>\n",
       "      <td>0</td>\n",
       "      <td>0</td>\n",
       "      <td>0</td>\n",
       "      <td>0</td>\n",
       "    </tr>\n",
       "  </tbody>\n",
       "</table>\n",
       "<p>5 rows × 27 columns</p>\n",
       "</div>"
      ],
      "text/plain": [
       "                  vx_t          vy_t      vz_t  az_t_pred  ze_t_pred  \\\n",
       "event_id                                                               \n",
       "30454050 -4.118736e-01 -7.082578e-01  0.573351   4.185661   0.960207   \n",
       "30748024 -6.782162e-01  4.858384e-01 -0.551347   2.519979   2.154775   \n",
       "30755317  4.103319e-01  5.239152e-01  0.746419   0.906382   0.728132   \n",
       "29988737 -9.556220e-15 -0.000000e+00 -1.000000   0.000000   3.141593   \n",
       "30774845  9.200957e-15  1.380144e-14  1.000000   0.000000   0.000000   \n",
       "\n",
       "             mae_t   mse_squared          mse    vx_pca        vy_pca  ...  \\\n",
       "event_id                                                               ...   \n",
       "30454050  0.109856  3.643922e+06  1908.905929 -0.423324 -6.828710e-01  ...   \n",
       "30748024  2.319469  2.841193e+05   533.028420 -0.378070  6.096823e-01  ...   \n",
       "30755317  2.444023  5.332882e+05   730.265872  0.387760  5.221182e-01  ...   \n",
       "29988737  0.523975  9.692552e+03    98.450761 -0.000000  2.220446e-16  ...   \n",
       "30774845  2.605521  3.232729e+04   179.797920  0.000000  0.000000e+00  ...   \n",
       "\n",
       "          2.0  3.0  4.0  5.0  6.0  7.0  8.0  9.0  10.0  11.0  \n",
       "event_id                                                      \n",
       "30454050    1    0    0    0    0    0    0    0     0     0  \n",
       "30748024    0    0    0    0    0    0    0    0     0     0  \n",
       "30755317    0    0    1    0    0    0    0    0     0     0  \n",
       "29988737    0    0    0    0    0    0    0    0     0     0  \n",
       "30774845    0    0    0    0    0    0    0    0     0     0  \n",
       "\n",
       "[5 rows x 27 columns]"
      ]
     },
     "execution_count": 342,
     "metadata": {},
     "output_type": "execute_result"
    }
   ],
   "source": [
    "X_train.head()"
   ]
  },
  {
   "cell_type": "code",
   "execution_count": 339,
   "id": "f5ddb436",
   "metadata": {},
   "outputs": [],
   "source": [
    "# k-fold cross validation\n",
    "# this cell imitates the erdos lectures notes on kfold cross validation , k = 5\n",
    "# random seed to all splits random_seed = 134\n",
    "kfold = KFold(n_splits = 5,\n",
    "             shuffle = True,\n",
    "             random_state = 134)"
   ]
  },
  {
   "cell_type": "code",
   "execution_count": 340,
   "id": "5d548b2d",
   "metadata": {},
   "outputs": [
    {
     "data": {
      "text/plain": [
       "array([1.21090481, 1.2188864 , 1.21031589, 1.21663612, 1.21222924])"
      ]
     },
     "execution_count": 340,
     "metadata": {},
     "output_type": "execute_result"
    }
   ],
   "source": [
    "# Model 1: No Linear Regression\n",
    "# Just use the time best fit line and average the mae's from the line itself\n",
    "mae_1 = np.zeros(5)\n",
    "i = 0\n",
    "for train_index, test_index in kfold.split(X_train, y_train):\n",
    "    X_holdout = X_train.iloc[test_index,:]\n",
    "    mae = X_holdout.mae_t.values.mean()\n",
    "    mae_1[i] = mae\n",
    "    i += 1\n",
    "    \n",
    "mae_1"
   ]
  },
  {
   "cell_type": "code",
   "execution_count": 209,
   "id": "75b5577c",
   "metadata": {},
   "outputs": [
    {
     "data": {
      "text/plain": [
       "49428.35421677816"
      ]
     },
     "execution_count": 209,
     "metadata": {},
     "output_type": "execute_result"
    }
   ],
   "source": [
    "X_train.mse.values.max()"
   ]
  },
  {
   "cell_type": "code",
   "execution_count": 194,
   "id": "a9555278",
   "metadata": {},
   "outputs": [
    {
     "data": {
      "text/plain": [
       "1.2137944928512905"
      ]
     },
     "execution_count": 194,
     "metadata": {},
     "output_type": "execute_result"
    }
   ],
   "source": [
    "X_train.mae_t.values.mean()"
   ]
  },
  {
   "cell_type": "code",
   "execution_count": 230,
   "id": "1f26a50a",
   "metadata": {},
   "outputs": [],
   "source": [
    "cutoffs = np.arange(720,740, 1)\n",
    "n = len(cutoffs)\n",
    "bad_mse = np.zeros(n)\n",
    "good_mse = np.zeros(n)\n",
    "for i in range(0,n): \n",
    "    cutoff = cutoffs[i]\n",
    "    X_bad_mse = X_train[X_train.mse > cutoff]\n",
    "    X_good_mse = X_train[X_train.mse < cutoff]\n",
    "    bad_mse[i] = X_bad_mse.mae_t.values.mean()\n",
    "    good_mse[i] = X_good_mse.mae_t.values.mean()"
   ]
  },
  {
   "cell_type": "code",
   "execution_count": 231,
   "id": "92fcbba3",
   "metadata": {},
   "outputs": [
    {
     "name": "stdout",
     "output_type": "stream",
     "text": [
      "[1.15743654 1.15730742 1.15738284 1.15734588 1.15736893 1.15738661\n",
      " 1.1575534  1.15747106 1.15770708 1.15787748 1.15783986 1.15777789\n",
      " 1.1579056  1.15777127 1.15794645 1.15790469 1.15787271 1.15779715\n",
      " 1.15765075 1.15776601]\n"
     ]
    }
   ],
   "source": [
    "print(bad_mse)"
   ]
  },
  {
   "cell_type": "code",
   "execution_count": null,
   "id": "bcf33e20",
   "metadata": {},
   "outputs": [],
   "source": [
    "# Best cutoff is 721"
   ]
  },
  {
   "cell_type": "code",
   "execution_count": 223,
   "id": "31921e91",
   "metadata": {},
   "outputs": [
    {
     "data": {
      "image/png": "[encoded data removed]",
      "text/plain": [
       "<Figure size 800x600 with 1 Axes>"
      ]
     },
     "metadata": {},
     "output_type": "display_data"
    }
   ],
   "source": [
    "plt.figure(figsize=(8,6))\n",
    "\n",
    "plt.scatter(cutoffs,\n",
    "               bad_mse, \n",
    "           c = 'orange')\n",
    "plt.scatter(cutoffs,\n",
    "               good_mse, \n",
    "           c = 'blue')\n",
    "\n",
    "plt.xticks(fontsize=10)\n",
    "plt.yticks(fontsize=10)\n",
    "\n",
    "plt.show()"
   ]
  },
  {
   "cell_type": "code",
   "execution_count": 244,
   "id": "5c478c77",
   "metadata": {},
   "outputs": [],
   "source": [
    "cutoffs = np.arange(.85,.99, .01)\n",
    "n = len(cutoffs)\n",
    "bad_dot = np.zeros(n)\n",
    "good_dot = np.zeros(n)\n",
    "for i in range(0,n): \n",
    "    cutoff = cutoffs[i]\n",
    "    X_bad_dot = X_train[X_train.dot_product > cutoff]\n",
    "    X_good_dot = X_train[X_train.dot_product < cutoff]\n",
    "    bad_dot[i] = X_bad_dot.mae_t.values.mean()\n",
    "    good_dot[i] = X_good_dot.mae_t.values.mean()"
   ]
  },
  {
   "cell_type": "code",
   "execution_count": 245,
   "id": "31e62fd7",
   "metadata": {},
   "outputs": [
    {
     "data": {
      "text/plain": [
       "array([1.19177119, 1.19157143, 1.19131122, 1.19092452, 1.19055079,\n",
       "       1.19010524, 1.18949486, 1.18910314, 1.18865289, 1.18817533,\n",
       "       1.18803733, 1.1879714 , 1.1887497 , 1.18946705, 1.194869  ])"
      ]
     },
     "execution_count": 245,
     "metadata": {},
     "output_type": "execute_result"
    }
   ],
   "source": [
    "bad_dot"
   ]
  },
  {
   "cell_type": "code",
   "execution_count": 241,
   "id": "507f1f82",
   "metadata": {},
   "outputs": [
    {
     "data": {
      "image/png": "[encoded data removed]",
      "text/plain": [
       "<Figure size 800x600 with 1 Axes>"
      ]
     },
     "metadata": {},
     "output_type": "display_data"
    }
   ],
   "source": [
    "plt.figure(figsize=(8,6))\n",
    "\n",
    "plt.scatter(cutoffs,\n",
    "               bad_dot, \n",
    "           c = 'orange')\n",
    "plt.scatter(cutoffs,\n",
    "               good_dot, \n",
    "           c = 'blue')\n",
    "\n",
    "plt.xticks(fontsize=10)\n",
    "plt.yticks(fontsize=10)\n",
    "\n",
    "plt.show()"
   ]
  },
  {
   "cell_type": "code",
   "execution_count": 133,
   "id": "ca956d5d",
   "metadata": {},
   "outputs": [
    {
     "name": "stdout",
     "output_type": "stream",
     "text": [
      "[1.51719544 1.5142434  1.50928538 1.51007707 1.50063598]\n"
     ]
    }
   ],
   "source": [
    "# Model 2: Linear regression on the az and ze predicted by the time best fit line\n",
    "lr_2 = LinearRegression(copy_X = True)\n",
    "\n",
    "X_train_2 = X_train[['az_t_pred', 'ze_t_pred']]\n",
    "y_train_2 = y_train\n",
    "\n",
    "mae_2 = np.zeros(5)\n",
    " \n",
    "i = 0\n",
    "for train_index, test_index in kfold.split(X_train_2, y_train_2):\n",
    "    ## get the kfold training data\n",
    "    X_train_train_2 = X_train_2.iloc[train_index,:]\n",
    "    y_train_train_2 = y_train_2.iloc[train_index]\n",
    "    \n",
    "    ## get the holdout data\n",
    "    X_holdout = X_train_2.iloc[test_index,:]\n",
    "    y_holdout = y_train_2.iloc[test_index]\n",
    "    \n",
    "    lr_2.fit(X_train_train_2, y_train_train_2)\n",
    "    y_pred = lr_2.predict(X_holdout)\n",
    "    mae = get_maes(y_pred, y_holdout.values)   \n",
    "    \n",
    "    mae_2[i] = mae\n",
    "    i += 1\n",
    "\n",
    "print(mae_2)"
   ]
  },
  {
   "cell_type": "code",
   "execution_count": 134,
   "id": "766da2ed",
   "metadata": {},
   "outputs": [
    {
     "name": "stdout",
     "output_type": "stream",
     "text": [
      "[1.51512107 1.51193854 1.50707891 1.50790698 1.49857972]\n"
     ]
    }
   ],
   "source": [
    "# Model 3: Linear regression on the az and ze predicted by the time best fit line, in addition to clustering\n",
    "lr_3 = LinearRegression(copy_X = True)\n",
    "X_train_3 = X_train[['az_t_pred', 'ze_t_pred', 'num_clusters']]\n",
    "y_train_3 = y_train\n",
    "\n",
    "mae_3 = np.zeros(5)\n",
    " \n",
    "i = 0\n",
    "for train_index, test_index in kfold.split(X_train_3, y_train_3):\n",
    "    ## get the kfold training data\n",
    "    X_train_train_3 = X_train_3.iloc[train_index,:]\n",
    "    y_train_train_3 = y_train_3.iloc[train_index]\n",
    "    \n",
    "    ## get the holdout data\n",
    "    X_holdout = X_train_3.iloc[test_index,:]\n",
    "    y_holdout = y_train_3.iloc[test_index]\n",
    "    \n",
    "    lr_3.fit(X_train_train_3, y_train_train_3)\n",
    "    y_pred = lr_3.predict(X_holdout)\n",
    "    mae = get_maes(y_pred, y_holdout.values)   \n",
    "    \n",
    "    mae_3[i] = mae\n",
    "    i += 1\n",
    "\n",
    "print(mae_3)"
   ]
  },
  {
   "cell_type": "code",
   "execution_count": 136,
   "id": "f9b368f1",
   "metadata": {},
   "outputs": [
    {
     "name": "stdout",
     "output_type": "stream",
     "text": [
      "[1.51604937 1.51326716 1.507945   1.50884173 1.49960931]\n"
     ]
    }
   ],
   "source": [
    "# Model 4: Linear regression on the az and ze predicted by the time best fit line, in addtion to the mse value\n",
    "lr_4 = LinearRegression(copy_X = True)\n",
    "X_train_4 = X_train[['az_t_pred', 'ze_t_pred', 'mse']]\n",
    "y_train_4 = y_train\n",
    "\n",
    "mae_4 = np.zeros(5)\n",
    " \n",
    "i = 0\n",
    "for train_index, test_index in kfold.split(X_train_2, y_train_2):\n",
    "    ## get the kfold training data\n",
    "    X_train_train_4 = X_train_4.iloc[train_index,:]\n",
    "    y_train_train_4 = y_train_4.iloc[train_index]\n",
    "    \n",
    "    ## get the holdout data\n",
    "    X_holdout = X_train_4.iloc[test_index,:]\n",
    "    y_holdout = y_train_4.iloc[test_index]\n",
    "    \n",
    "    lr_4.fit(X_train_train_4, y_train_train_4)\n",
    "    y_pred = lr_4.predict(X_holdout)\n",
    "    mae = get_maes(y_pred, y_holdout.values)   \n",
    "    \n",
    "    mae_4[i] = mae\n",
    "    i += 1\n",
    "\n",
    "print(mae_4)"
   ]
  },
  {
   "cell_type": "code",
   "execution_count": 138,
   "id": "05f0d5df",
   "metadata": {},
   "outputs": [
    {
     "name": "stdout",
     "output_type": "stream",
     "text": [
      "[1.51574748 1.51241672 1.50761757 1.50851531 1.4990021 ]\n"
     ]
    }
   ],
   "source": [
    "# Model 5: Linear regression on the az and ze predicted by the time best fit line, in addtion to the dot product\n",
    "lr_5 = LinearRegression(copy_X = True)\n",
    "X_train_5 = X_train[['az_t_pred', 'ze_t_pred', 'dot_product']]\n",
    "y_train_5 = y_train\n",
    "\n",
    "mae_5 = np.zeros(5)\n",
    " \n",
    "i = 0\n",
    "for train_index, test_index in kfold.split(X_train_2, y_train_2):\n",
    "    ## get the kfold training data\n",
    "    X_train_train_5 = X_train_5.iloc[train_index,:]\n",
    "    y_train_train_5 = y_train_5.iloc[train_index]\n",
    "    \n",
    "    ## get the holdout data\n",
    "    X_holdout = X_train_5.iloc[test_index,:]\n",
    "    y_holdout = y_train_5.iloc[test_index]\n",
    "    \n",
    "    lr_5.fit(X_train_train_5, y_train_train_5)\n",
    "    y_pred = lr_5.predict(X_holdout)\n",
    "    mae = get_maes(y_pred, y_holdout.values)   \n",
    "    \n",
    "    mae_5[i] = mae\n",
    "    i += 1\n",
    "\n",
    "print(mae_5)"
   ]
  },
  {
   "cell_type": "code",
   "execution_count": 139,
   "id": "de736ee2",
   "metadata": {},
   "outputs": [
    {
     "name": "stdout",
     "output_type": "stream",
     "text": [
      "[1.51637645 1.51318065 1.50831455 1.50938978 1.49994695]\n"
     ]
    }
   ],
   "source": [
    "# Model 6: Linear regression on the az and ze predicted by the time best fit line, in addition to the pca best fit line\n",
    "lr_6 = LinearRegression(copy_X = True)\n",
    "X_train_6 = X_train[['az_t_pred', 'ze_t_pred', 'az_pca_pred', 'ze_pca_pred']]\n",
    "y_train_6 = y_train\n",
    "\n",
    "mae_6 = np.zeros(5)\n",
    " \n",
    "i = 0\n",
    "for train_index, test_index in kfold.split(X_train_2, y_train_2):\n",
    "    ## get the kfold training data\n",
    "    X_train_train_6 = X_train_6.iloc[train_index,:]\n",
    "    y_train_train_6 = y_train_6.iloc[train_index]\n",
    "    \n",
    "    ## get the holdout data\n",
    "    X_holdout = X_train_6.iloc[test_index,:]\n",
    "    y_holdout = y_train_6.iloc[test_index]\n",
    "    \n",
    "    lr_6.fit(X_train_train_6, y_train_train_6)\n",
    "    y_pred = lr_6.predict(X_holdout)\n",
    "    mae = get_maes(y_pred, y_holdout.values)   \n",
    "    \n",
    "    mae_6[i] = mae\n",
    "    i += 1\n",
    "\n",
    "print(mae_6)"
   ]
  },
  {
   "cell_type": "code",
   "execution_count": 297,
   "id": "023f189e",
   "metadata": {},
   "outputs": [
    {
     "name": "stdout",
     "output_type": "stream",
     "text": [
      "[1.50584927 1.50610422 1.51399367 1.50961388 1.51160511]\n"
     ]
    }
   ],
   "source": [
    "# Model 7: Linear regression on the az and ze predicted by the time best fit line, in addtion to treating mse as categorical variable\n",
    "\n",
    "# Get categorical variable\n",
    "lr_7 = LinearRegression(copy_X = True)\n",
    "X_train_7 = X_train[['az_t_pred', 'ze_t_pred', 'mse_cat']]\n",
    "y_train_7 = y_train\n",
    " \n",
    "i = 0\n",
    "for train_index, test_index in kfold.split(X_train_7, y_train_7):\n",
    "    ## get the kfold training data\n",
    "    X_train_train_7 = X_train_7.iloc[train_index,:]\n",
    "    y_train_train_7 = y_train_7.iloc[train_index]\n",
    "    \n",
    "    ## get the holdout data\n",
    "    X_holdout = X_train_7.iloc[test_index,:]\n",
    "    y_holdout = y_train_7.iloc[test_index]\n",
    "    \n",
    "    lr_7.fit(X_train_train_7, y_train_train_7)\n",
    "    y_pred = lr_7.predict(X_holdout)\n",
    "    mae = get_maes(y_pred, y_holdout.values)   \n",
    "    mae_7[i] = mae\n",
    "    i += 1\n",
    "\n",
    "print(mae_7)"
   ]
  },
  {
   "cell_type": "code",
   "execution_count": 300,
   "id": "bd5d95f7",
   "metadata": {},
   "outputs": [
    {
     "name": "stdout",
     "output_type": "stream",
     "text": [
      "[1.52729618 1.52591641 1.51499511 1.52314813 1.52146113]\n"
     ]
    }
   ],
   "source": [
    "# Model 8: Just using linear regression on az and ze predicted by pca best fit line\n",
    "lr_8 = LinearRegression(copy_X = True)\n",
    "\n",
    "X_train_8 = X_train[['az_pca_pred', 'ze_pca_pred']]\n",
    "y_train_8 = y_train\n",
    "\n",
    "mae_8 = np.zeros(5)\n",
    " \n",
    "i = 0\n",
    "for train_index, test_index in kfold.split(X_train_2, y_train_2):\n",
    "    ## get the kfold training data\n",
    "    X_train_train_8 = X_train_8.iloc[train_index,:]\n",
    "    y_train_train_8 = y_train_8.iloc[train_index]\n",
    "    \n",
    "    ## get the holdout data\n",
    "    X_holdout = X_train_8.iloc[test_index,:]\n",
    "    y_holdout = y_train_8.iloc[test_index]\n",
    "    \n",
    "    lr_8.fit(X_train_train_8, y_train_train_8)\n",
    "    y_pred = lr_8.predict(X_holdout)\n",
    "    mae = get_maes(y_pred, y_holdout.values)   \n",
    "    \n",
    "    mae_8[i] = mae\n",
    "    i += 1\n",
    "\n",
    "print(mae_8)"
   ]
  },
  {
   "cell_type": "code",
   "execution_count": 369,
   "id": "534fa509",
   "metadata": {},
   "outputs": [
    {
     "name": "stdout",
     "output_type": "stream",
     "text": [
      "[1.51455969 1.51141769 1.50069706 1.51086064 1.50566327]\n"
     ]
    }
   ],
   "source": [
    "# Model 9: Using clustering as a categorical variable\n",
    "lr_9 = LinearRegression(copy_X = True)\n",
    "\n",
    "X_train_9 = X_train[['az_t_pred', 'ze_t_pred','cat_1.0',\n",
    "       'cat_2.0', 'cat_3.0', 'cat_4.0', 'cat_5.0', 'cat_6.0', 'cat_7.0',\n",
    "       'cat_8.0', 'cat_9.0', 'cat_10.0']]\n",
    "y_train_9 = y_train\n",
    "\n",
    "mae_9 = np.zeros(5)\n",
    " \n",
    "i = 0\n",
    "for train_index, test_index in kfold.split(X_train_2, y_train_2):\n",
    "    ## get the kfold training data\n",
    "    X_train_train_9 = X_train_9.iloc[train_index,:]\n",
    "    y_train_train_9 = y_train_9.iloc[train_index]\n",
    "    \n",
    "    ## get the holdout data\n",
    "    X_holdout = X_train_9.iloc[test_index,:]\n",
    "    y_holdout = y_train_9.iloc[test_index]\n",
    "    \n",
    "    lr_9.fit(X_train_train_9, y_train_train_9)\n",
    "    y_pred = lr_9.predict(X_holdout)\n",
    "    mae = get_maes(y_pred, y_holdout.values)   \n",
    "    \n",
    "    mae_9[i] = mae\n",
    "    i += 1\n",
    "\n",
    "print(mae_9)"
   ]
  },
  {
   "cell_type": "code",
   "execution_count": null,
   "id": "9b660294",
   "metadata": {},
   "outputs": [],
   "source": []
  }
 ],
 "metadata": {
  "kernelspec": {
   "display_name": "Python 3 (ipykernel)",
   "language": "python",
   "name": "python3"
  },
  "language_info": {
   "codemirror_mode": {
    "name": "ipython",
    "version": 3
   },
   "file_extension": ".py",
   "mimetype": "text/x-python",
   "name": "python",
   "nbconvert_exporter": "python",
   "pygments_lexer": "ipython3",
   "version": "3.11.4"
  }
 },
 "nbformat": 4,
 "nbformat_minor": 5
}
