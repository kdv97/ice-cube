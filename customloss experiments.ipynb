{
 "cells": [
  {
   "cell_type": "code",
   "execution_count": 1,
   "id": "ff1a7c8b",
   "metadata": {},
   "outputs": [],
   "source": [
    "import torch\n",
    "import torch.nn as nn\n",
    "import torchvision\n",
    "import torchvision.transforms as transforms\n",
    "import torch.utils.data \n",
    "import numpy as np\n",
    "import torch.nn.functional as F\n",
    "import pandas as pd\n",
    "import numpy as np"
   ]
  },
  {
   "cell_type": "code",
   "execution_count": 2,
   "id": "9773c4d8",
   "metadata": {},
   "outputs": [],
   "source": [
    "x=torch.ones(3,1)"
   ]
  },
  {
   "cell_type": "code",
   "execution_count": 3,
   "id": "a0434b2c",
   "metadata": {},
   "outputs": [
    {
     "name": "stdout",
     "output_type": "stream",
     "text": [
      "tensor([[1.],\n",
      "        [1.],\n",
      "        [1.]])\n"
     ]
    }
   ],
   "source": [
    "print(x)"
   ]
  },
  {
   "cell_type": "code",
   "execution_count": 4,
   "id": "1c453e25",
   "metadata": {},
   "outputs": [
    {
     "data": {
      "text/plain": [
       "tensor([[0.],\n",
       "        [0.],\n",
       "        [0.]])"
      ]
     },
     "execution_count": 4,
     "metadata": {},
     "output_type": "execute_result"
    }
   ],
   "source": [
    "torch.clip(x,min=-1,max=0)"
   ]
  },
  {
   "cell_type": "code",
   "execution_count": null,
   "id": "28493136",
   "metadata": {},
   "outputs": [],
   "source": [
    "#az_true : float (or array thereof)\n",
    "#        true azimuth value(s) in radian\n",
    "#    zen_true : float (or array thereof)\n",
    "#        true zenith value(s) in radian\n",
    "#    az_pred : float (or array thereof)\n",
    "#        predicted azimuth value(s) in radian\n",
    "#    zen_pred : float (or array thereof)\n",
    "#        predicted zenith value(s) in radian"
   ]
  },
  {
   "cell_type": "code",
   "execution_count": 26,
   "id": "279ab184",
   "metadata": {},
   "outputs": [],
   "source": [
    "#Defining MAEloss:\n",
    "\n",
    "def MAEloss(predictions,targets):\n",
    "\n",
    "# pre-compute all sine and cosine values\n",
    "    sa1 = torch.sin(targets[0])\n",
    "    ca1 = torch.cos(targets[0])\n",
    "    sz1 = torch.sin(targets[1])\n",
    "    cz1 = torch.cos(targets[1])\n",
    "    \n",
    "    sa2 = torch.sin(predictions[0])\n",
    "    ca2 = torch.cos(predictions[0])\n",
    "    sz2 = torch.sin(predictions[1])\n",
    "    cz2 = torch.cos(predictions[1])\n",
    "    \n",
    "    # scalar product of the two cartesian vectors (x = sz*ca, y = sz*sa, z = cz)\n",
    "    scalar_prod = sz1*sz2*(ca1*ca2 + sa1*sa2) + (cz1*cz2)\n",
    "    \n",
    "    # scalar product of two unit vectors is always between -1 and 1, this is against nummerical instability\n",
    "    # that might otherwise occure from the finite precision of the sine and cosine functions\n",
    "    scalar_prod =  torch.clip(scalar_prod, -1, 1)\n",
    "    \n",
    "    # convert back to an angle (in radian)\n",
    "    loss=torch.mean(torch.abs(torch.arccos(scalar_prod)))\n",
    "    return loss"
   ]
  },
  {
   "cell_type": "code",
   "execution_count": 28,
   "id": "05d0ab79",
   "metadata": {},
   "outputs": [
    {
     "data": {
      "text/plain": [
       "tensor(0.7861)"
      ]
     },
     "execution_count": 28,
     "metadata": {},
     "output_type": "execute_result"
    }
   ],
   "source": [
    "#Random example to check validity\n",
    "x=torch.rand(2)\n",
    "y=torch.rand(2)\n",
    "\n",
    "MAEloss(x,y)"
   ]
  },
  {
   "cell_type": "code",
   "execution_count": 30,
   "id": "e35f2bc1",
   "metadata": {},
   "outputs": [],
   "source": [
    "class maeloss(torch.nn.Module):\n",
    "    \n",
    "    def __init__(self):\n",
    "        super(maeloss,self).__init__()\n",
    "        \n",
    "    def forward(self, predictions, targets):\n",
    "        return MAEloss(predictions, targets)\n"
   ]
  },
  {
   "cell_type": "code",
   "execution_count": 32,
   "id": "b5d52a4b",
   "metadata": {},
   "outputs": [
    {
     "ename": "TypeError",
     "evalue": "Linear.__init__() missing 2 required positional arguments: 'in_features' and 'out_features'",
     "output_type": "error",
     "traceback": [
      "\u001b[1;31m---------------------------------------------------------------------------\u001b[0m",
      "\u001b[1;31mTypeError\u001b[0m                                 Traceback (most recent call last)",
      "Cell \u001b[1;32mIn[32], line 5\u001b[0m\n\u001b[0;32m      2\u001b[0m lr\u001b[38;5;241m=\u001b[39m\u001b[38;5;241m0.01\u001b[39m\n\u001b[0;32m      3\u001b[0m epoch\u001b[38;5;241m=\u001b[39m\u001b[38;5;241m50\u001b[39m\n\u001b[1;32m----> 5\u001b[0m model\u001b[38;5;241m=\u001b[39mnn\u001b[38;5;241m.\u001b[39mLinear()\n\u001b[0;32m      8\u001b[0m loss\u001b[38;5;241m=\u001b[39mmaeloss()\n\u001b[0;32m      9\u001b[0m optimizer\u001b[38;5;241m=\u001b[39mtorch\u001b[38;5;241m.\u001b[39moptim\u001b[38;5;241m.\u001b[39mSGD(model\u001b[38;5;241m.\u001b[39mparameters(),lr\u001b[38;5;241m=\u001b[39mlr)\n",
      "\u001b[1;31mTypeError\u001b[0m: Linear.__init__() missing 2 required positional arguments: 'in_features' and 'out_features'"
     ]
    }
   ],
   "source": [
    "#toy-model to check functionality\n",
    "lr=0.01\n",
    "epoch=50\n",
    "\n",
    "model=nn.Linear()\n",
    "\n",
    "\n",
    "loss=maeloss()\n",
    "optimizer=torch.optim.SGD(model.parameters(),lr=lr)\n",
    "\n",
    "#training loops\n",
    "\n",
    "for epoch in range(epochs)\n",
    "    predition=model(X)\n",
    "    \n",
    "    l=loss(Y,prediction)\n",
    "    \n",
    "    l.backward()\n",
    "    \n",
    "    optimizer.step()\n",
    "    \n",
    "    optimi\n"
   ]
  },
  {
   "cell_type": "code",
   "execution_count": null,
   "id": "f5381956",
   "metadata": {},
   "outputs": [],
   "source": []
  }
 ],
 "metadata": {
  "kernelspec": {
   "display_name": "Python 3 (ipykernel)",
   "language": "python",
   "name": "python3"
  },
  "language_info": {
   "codemirror_mode": {
    "name": "ipython",
    "version": 3
   },
   "file_extension": ".py",
   "mimetype": "text/x-python",
   "name": "python",
   "nbconvert_exporter": "python",
   "pygments_lexer": "ipython3",
   "version": "3.11.5"
  }
 },
 "nbformat": 4,
 "nbformat_minor": 5
}
