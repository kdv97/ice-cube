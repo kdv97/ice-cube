{
 "cells": [
  {
   "cell_type": "markdown",
   "id": "74b8f117",
   "metadata": {},
   "source": [
    "# Various linear regressions using extracted features\n",
    "\n",
    "In this notebook, we investigate which of our extracted features may be useful in an attempt to find a model. Unfortunately, linear regression did not appear to help. "
   ]
  },
  {
   "cell_type": "code",
   "execution_count": 589,
   "id": "33080558",
   "metadata": {},
   "outputs": [],
   "source": [
    "# import modules\n",
    "import pandas as pd\n",
    "import numpy as np\n",
    "from sklearn.linear_model import LinearRegression\n",
    "from sklearn.model_selection import KFold\n",
    "from sklearn.model_selection import train_test_split\n",
    "import matplotlib.pyplot as plt\n",
    "from sklearn.linear_model import SGDRegressor"
   ]
  },
  {
   "cell_type": "markdown",
   "id": "475d7b60",
   "metadata": {},
   "source": [
    "# Loss Function"
   ]
  },
  {
   "cell_type": "code",
   "execution_count": 590,
   "id": "defcfd89",
   "metadata": {},
   "outputs": [],
   "source": [
    "# Various useful functions\n",
    "\n",
    "def get_mae(az_true, zen_true, az_pred, zen_pred): \n",
    "    \"\"\"\n",
    "    Given a predicted and true azimuth and zenith, compute the mae (mean angular error)\n",
    "    \"\"\"    \n",
    "    if not (np.all(np.isfinite(az_true)) and\n",
    "            np.all(np.isfinite(zen_true)) and\n",
    "            np.all(np.isfinite(az_pred)) and\n",
    "            np.all(np.isfinite(zen_pred))):\n",
    "        raise ValueError(\"All arguments must be finite\")\n",
    "    \n",
    "    # pre-compute all sine and cosine values\n",
    "    sa1 = np.sin(az_true)\n",
    "    ca1 = np.cos(az_true)\n",
    "    sz1 = np.sin(zen_true)\n",
    "    cz1 = np.cos(zen_true)\n",
    "    \n",
    "    sa2 = np.sin(az_pred)\n",
    "    ca2 = np.cos(az_pred)\n",
    "    sz2 = np.sin(zen_pred)\n",
    "    cz2 = np.cos(zen_pred)\n",
    "    \n",
    "    # scalar product of the two cartesian vectors (x = sz*ca, y = sz*sa, z = cz)\n",
    "    scalar_prod = sz1*sz2*(ca1*ca2 + sa1*sa2) + (cz1*cz2)\n",
    "    \n",
    "    # scalar product of two unit vectors is always between -1 and 1, this is against nummerical instability\n",
    "    # that might otherwise occure from the finite precision of the sine and cosine functions\n",
    "    scalar_prod =  np.clip(scalar_prod, -1, 1)\n",
    "    \n",
    "    # convert back to an angle (in radian)\n",
    "    return np.average(np.abs(np.arccos(scalar_prod)))\n",
    "\n",
    "def mae(y_true, y_pred): \n",
    "    return get_mae(y_true[0], y_true[1], y_pred[0], y_pred[1])\n",
    "\n",
    "def get_maes(y_pred, y_true): \n",
    "    \"\"\"\n",
    "    Given a list of predictions and true values of azimuth and zenith, compute mae\n",
    "    \"\"\"\n",
    "    n = len(y_pred)\n",
    "    maes = np.zeros(n)\n",
    "    for i in range (0,n):\n",
    "        az_true = y_true[i][0]\n",
    "        ze_true = y_true[i][1]\n",
    "        az_pred = y_pred[i][0]\n",
    "        ze_pred = y_pred[i][1]\n",
    "        mae = get_mae(az_true, ze_true, az_pred, ze_pred)\n",
    "        maes[i] = mae\n",
    "        \n",
    "    return maes.mean()"
   ]
  },
  {
   "cell_type": "markdown",
   "id": "45415ca0",
   "metadata": {},
   "source": [
    "# Format data"
   ]
  },
  {
   "cell_type": "code",
   "execution_count": 591,
   "id": "8bb9bfae",
   "metadata": {},
   "outputs": [],
   "source": [
    "# Read data\n",
    "event_data = pd.read_csv(\"C:/Users/k_vsl/Documents/Erdos/Boot Camp/ice-cube-katja/features-final.csv\")"
   ]
  },
  {
   "cell_type": "code",
   "execution_count": 592,
   "id": "6444fa42",
   "metadata": {},
   "outputs": [
    {
     "data": {
      "text/plain": [
       "Index(['event_id', 'vx_t', 'vy_t', 'vz_t', 'az_t_pred', 'ze_t_pred', 'mae_t',\n",
       "       'mse_squared', 'mse', 'vx_pca', 'vy_pca', 'vz_pca', 'az_pca_pred',\n",
       "       'ze_pca_pred', 'az_true', 'ze_true', 'num_clusters', 'dot_product',\n",
       "       'mse_cat', 'cat_1.0', 'cat_2.0', 'cat_3.0', 'cat_4.0', 'cat_5.0',\n",
       "       'cat_6.0', 'cat_7.0', 'cat_8.0', 'cat_9.0', 'cat_10.0', 'cat_11.0',\n",
       "       'per_x', 'per_y', 'per_z', 'cat_x', 'cat_y', 'cat_z'],\n",
       "      dtype='object')"
      ]
     },
     "execution_count": 592,
     "metadata": {},
     "output_type": "execute_result"
    }
   ],
   "source": [
    "event_data.columns"
   ]
  },
  {
   "cell_type": "code",
   "execution_count": 593,
   "id": "a9184170",
   "metadata": {},
   "outputs": [],
   "source": [
    "# Separate training parameters into features and output\n",
    "X = event_data\n",
    "X = X.set_index(\"event_id\")\n",
    "y = event_data[['event_id', 'az_true', 'ze_true']]\n",
    "y = y.set_index(\"event_id\")"
   ]
  },
  {
   "cell_type": "code",
   "execution_count": 594,
   "id": "4fe1fb7c",
   "metadata": {},
   "outputs": [],
   "source": [
    "# Separate out a final training set\n",
    "# random seed = 134\n",
    "# test size = 25%\n",
    "X_train, X_val, y_train, y_val = train_test_split(X, y, \n",
    "                                                             shuffle = True,\n",
    "                                                             random_state = 134, \n",
    "                                                             test_size = .25)"
   ]
  },
  {
   "cell_type": "code",
   "execution_count": 595,
   "id": "d6c17c67",
   "metadata": {},
   "outputs": [],
   "source": [
    "# k-fold cross validation\n",
    "# this cell imitates the erdos lectures notes on kfold cross validation , k = 5\n",
    "# random seed to all splits random_seed = 134\n",
    "kfold = KFold(n_splits = 5,\n",
    "             shuffle = True,\n",
    "             random_state = 134)"
   ]
  },
  {
   "cell_type": "markdown",
   "id": "a356a747",
   "metadata": {},
   "source": [
    "# Helper Functions to run multiple regressions"
   ]
  },
  {
   "cell_type": "code",
   "execution_count": 596,
   "id": "4cc67341",
   "metadata": {},
   "outputs": [],
   "source": [
    "# Function to run sklearn Linear Regression\n",
    "def run_lr(V, w, features): \n",
    "    V_train = V[features]\n",
    "    w_train = w\n",
    "    \n",
    "    i = 0\n",
    "    maes = np.zeros(5)\n",
    "    \n",
    "    for train_index, test_index in kfold.split(V_train, w_train):\n",
    "        ## get the kfold training data\n",
    "        V_train_train = V_train.iloc[train_index,:]\n",
    "        w_train_train = w_train.iloc[train_index]\n",
    "    \n",
    "        ## get the holdout data\n",
    "        V_holdout = V_train.iloc[test_index,:]\n",
    "        w_holdout = w_train.iloc[test_index]\n",
    "        \n",
    "        lr = LinearRegression(copy_X = True)\n",
    "        lr.fit(V_train_train, w_train_train)\n",
    "        # Toggle on and off to see coefficients\n",
    "        # print(lr.coef_)\n",
    "        w_pred = lr.predict(V_holdout)\n",
    "        mae = get_maes(w_pred, w_holdout.values)   \n",
    "        maes[i] = mae\n",
    "        i += 1\n",
    "    \n",
    "    return maes.mean()"
   ]
  },
  {
   "cell_type": "code",
   "execution_count": 597,
   "id": "46e66a78",
   "metadata": {},
   "outputs": [],
   "source": [
    "# Function to run sklearn SGDRegression with epsilon_insensitive\n",
    "def run_sgd(V, w, features, loss_fun): \n",
    "    \n",
    "    V_train = V[features]\n",
    "    w_train_az = w['az_true']\n",
    "    w_train_ze = w['ze_true']\n",
    "    \n",
    "    i = 0\n",
    "    maes = np.zeros(5)\n",
    "    \n",
    "    for train_index, test_index in kfold.split(V_train, w_train_az):\n",
    "        ## get the kfold training data\n",
    "        V_train_train = V_train.iloc[train_index,:]\n",
    "        w_train_train_az = w_train_az.iloc[train_index]\n",
    "        w_train_train_ze = w_train_ze.iloc[train_index]\n",
    "    \n",
    "        ## get the holdout data\n",
    "        V_holdout = V_train.iloc[test_index,:]\n",
    "        w_holdout_az = w_train_az.iloc[test_index]\n",
    "        w_holdout_ze = w_train_ze.iloc[test_index]\n",
    "        \n",
    "        model_az = SGDRegressor(loss = loss_fun, max_iter = 50000)\n",
    "        model_ze = SGDRegressor(loss = loss_fun, max_iter = 50000)\n",
    "        model_az.fit(V_train_train, w_train_train_az)\n",
    "        model_ze.fit(V_train_train, w_train_train_ze)\n",
    "        w_pred_az = model_az.predict(V_holdout)\n",
    "        w_pred_ze = model_ze.predict(V_holdout)\n",
    "        w_pred = np.zeros((len(w_holdout_az), 2))\n",
    "        w_true = np.zeros((len(w_holdout_ze), 2))\n",
    "        w_pred[:,0] = w_pred_az\n",
    "        w_pred[:,1] = w_pred_ze\n",
    "        w_true[:,0] = w_holdout_az\n",
    "        w_true[:,1] = w_holdout_ze\n",
    "        mae = get_maes(w_pred, w_true) \n",
    "    \n",
    "        maes[i] = mae\n",
    "        i += 1\n",
    "    \n",
    "    return maes.mean()"
   ]
  },
  {
   "cell_type": "markdown",
   "id": "c7e5c900",
   "metadata": {},
   "source": [
    "# Model 1: Baseline"
   ]
  },
  {
   "cell_type": "code",
   "execution_count": 598,
   "id": "8dbee8ae",
   "metadata": {},
   "outputs": [
    {
     "name": "stdout",
     "output_type": "stream",
     "text": [
      "Model 1: 1.2137944928512907\n"
     ]
    }
   ],
   "source": [
    "# Model 1: No Linear Regression\n",
    "# Just use the time best fit line and average the mae's from the line itself\n",
    "X_mae = X_train['mae_t']\n",
    "y_mae = y_train\n",
    "maes = np.zeros(5)\n",
    "i = 0\n",
    "for train_index, test_index in kfold.split(X_mae, y_mae): \n",
    "    X_holdout = X_mae.iloc[test_index]\n",
    "    maes[i] = X_holdout.mean()\n",
    "    i += 1\n",
    "print(\"Model 1: \" + str(maes.mean()))"
   ]
  },
  {
   "cell_type": "markdown",
   "id": "5333c4ad",
   "metadata": {},
   "source": [
    "Model 1 has k-fold mae: 1.2137944928512907"
   ]
  },
  {
   "cell_type": "markdown",
   "id": "02f73d41",
   "metadata": {},
   "source": [
    "# Base Linear Regression Models"
   ]
  },
  {
   "cell_type": "code",
   "execution_count": 599,
   "id": "01c96613",
   "metadata": {},
   "outputs": [
    {
     "name": "stdout",
     "output_type": "stream",
     "text": [
      "Using features: ['az_t_pred', 'ze_t_pred'], the MAE is 1.5114392346721135\n",
      "Using features: ['az_t_pred', 'ze_t_pred', 'num_clusters'], the MAE is 1.5091467497314988\n",
      "Using features: ['az_t_pred', 'ze_t_pred', 'mse'], the MAE is 1.5100998640596575\n",
      "Using features: ['az_t_pred', 'ze_t_pred', 'dot_product'], the MAE is 1.5096530615494284\n",
      "Using features: ['az_t_pred', 'ze_t_pred', 'az_pca_pred', 'ze_pca_pred'], the MAE is 1.5105590649667482\n",
      "Using features: ['az_t_pred', 'ze_t_pred', 'mse_cat'], the MAE is 1.5094332297633348\n",
      "Using features: ['az_pca_pred', 'ze_pca_pred'], the MAE is 1.5219531894197487\n",
      "Using features: ['az_t_pred', 'ze_t_pred', 'cat_1.0', 'cat_2.0', 'cat_3.0', 'cat_4.0', 'cat_5.0', 'cat_6.0', 'cat_7.0', 'cat_8.0', 'cat_9.0', 'cat_10.0'], the MAE is 1.507800883963829\n",
      "Using features: ['az_t_pred', 'ze_t_pred', 'cat_x', 'cat_y', 'cat_z', 'mse', 'cat_1.0', 'cat_2.0', 'cat_3.0', 'cat_4.0', 'cat_5.0', 'cat_6.0', 'cat_7.0', 'cat_8.0', 'cat_9.0', 'cat_10.0'], the MAE is 1.5067696839319975\n",
      "Using features: ['az_t_pred', 'ze_t_pred', 'cat_x', 'cat_y', 'cat_z', 'mse_cat', 'cat_1.0', 'cat_2.0', 'cat_3.0', 'cat_4.0', 'cat_5.0', 'cat_6.0', 'cat_7.0', 'cat_8.0', 'cat_9.0', 'cat_10.0'], the MAE is 1.5064680472951655\n"
     ]
    }
   ],
   "source": [
    "# Linear Regression models\n",
    "features = [['az_t_pred', 'ze_t_pred'], \n",
    "            ['az_t_pred', 'ze_t_pred', 'num_clusters'], \n",
    "            ['az_t_pred', 'ze_t_pred', 'mse'], \n",
    "            ['az_t_pred', 'ze_t_pred', 'dot_product'], \n",
    "            ['az_t_pred', 'ze_t_pred', 'az_pca_pred', 'ze_pca_pred'], \n",
    "            ['az_t_pred', 'ze_t_pred', 'mse_cat'], \n",
    "            ['az_pca_pred', 'ze_pca_pred'],\n",
    "            ['az_t_pred', 'ze_t_pred','cat_1.0','cat_2.0', 'cat_3.0', 'cat_4.0', 'cat_5.0', 'cat_6.0', 'cat_7.0','cat_8.0', 'cat_9.0', 'cat_10.0'], \n",
    "            ['az_t_pred', 'ze_t_pred', 'cat_x', 'cat_y', 'cat_z', 'mse', 'cat_1.0','cat_2.0', 'cat_3.0', 'cat_4.0', 'cat_5.0', 'cat_6.0', 'cat_7.0','cat_8.0', 'cat_9.0', 'cat_10.0'], \n",
    "            ['az_t_pred', 'ze_t_pred', 'cat_x', 'cat_y', 'cat_z', 'mse_cat', 'cat_1.0','cat_2.0', 'cat_3.0', 'cat_4.0', 'cat_5.0', 'cat_6.0', 'cat_7.0','cat_8.0', 'cat_9.0', 'cat_10.0']\n",
    "        ]\n",
    "\n",
    "\n",
    "n = len(features)\n",
    "maes = np.zeros(n)\n",
    "\n",
    "i = 0\n",
    "for i in range(0,n):\n",
    "    mae = run_lr(X_train, y_train, features[i])\n",
    "    maes[i] = mae\n",
    "    print(\"Using features: \" + str(features[i]) + \", the MAE is \" + str(mae))\n",
    "    i += 1\n"
   ]
  },
  {
   "cell_type": "markdown",
   "id": "d611aab3",
   "metadata": {},
   "source": [
    "Best k-fold mae comes from features: \n",
    "['az_t_pred', 'ze_t_pred', 'cat_x', 'cat_y', 'cat_z', 'mse_cat', 'cat_1.0', 'cat_2.0', 'cat_3.0', 'cat_4.0', 'cat_5.0', 'cat_6.0', 'cat_7.0', 'cat_8.0', 'cat_9.0', 'cat_10.0']\n",
    "Value: 1.5064680472951655"
   ]
  },
  {
   "cell_type": "code",
   "execution_count": 600,
   "id": "09c5702d",
   "metadata": {},
   "outputs": [
    {
     "name": "stdout",
     "output_type": "stream",
     "text": [
      "Using features: ['az_t_pred', 'ze_t_pred'], the MAE is 1.4618878946957579\n",
      "Using features: ['az_t_pred', 'ze_t_pred', 'num_clusters'], the MAE is 1.4557881752583124\n",
      "Using features: ['az_t_pred', 'ze_t_pred', 'mse'], the MAE is 1.5743695565091955\n",
      "Using features: ['az_t_pred', 'ze_t_pred', 'dot_product'], the MAE is 1.4603143893595898\n",
      "Using features: ['az_t_pred', 'ze_t_pred', 'az_pca_pred', 'ze_pca_pred'], the MAE is 1.466331498919548\n",
      "Using features: ['az_t_pred', 'ze_t_pred', 'mse_cat'], the MAE is 1.4567743744906714\n",
      "Using features: ['az_pca_pred', 'ze_pca_pred'], the MAE is 1.4812092394751233\n",
      "Using features: ['az_t_pred', 'ze_t_pred', 'cat_1.0', 'cat_2.0', 'cat_3.0', 'cat_4.0', 'cat_5.0', 'cat_6.0', 'cat_7.0', 'cat_8.0', 'cat_9.0', 'cat_10.0'], the MAE is 1.4577674734067174\n",
      "Using features: ['az_t_pred', 'ze_t_pred', 'cat_x', 'cat_y', 'cat_z', 'mse', 'cat_1.0', 'cat_2.0', 'cat_3.0', 'cat_4.0', 'cat_5.0', 'cat_6.0', 'cat_7.0', 'cat_8.0', 'cat_9.0', 'cat_10.0'], the MAE is 1.5748026707150091\n",
      "Using features: ['az_t_pred', 'ze_t_pred', 'cat_x', 'cat_y', 'cat_z', 'mse_cat', 'cat_1.0', 'cat_2.0', 'cat_3.0', 'cat_4.0', 'cat_5.0', 'cat_6.0', 'cat_7.0', 'cat_8.0', 'cat_9.0', 'cat_10.0'], the MAE is 1.4511509147669819\n"
     ]
    }
   ],
   "source": [
    "# SGDRegression with loss = 'epsilon_insensitive'\n",
    "\n",
    "features = [['az_t_pred', 'ze_t_pred'], \n",
    "            ['az_t_pred', 'ze_t_pred', 'num_clusters'], \n",
    "            ['az_t_pred', 'ze_t_pred', 'mse'], \n",
    "            ['az_t_pred', 'ze_t_pred', 'dot_product'], \n",
    "            ['az_t_pred', 'ze_t_pred', 'az_pca_pred', 'ze_pca_pred'], \n",
    "            ['az_t_pred', 'ze_t_pred', 'mse_cat'], \n",
    "            ['az_pca_pred', 'ze_pca_pred'],\n",
    "            ['az_t_pred', 'ze_t_pred','cat_1.0','cat_2.0', 'cat_3.0', 'cat_4.0', 'cat_5.0', 'cat_6.0', 'cat_7.0','cat_8.0', 'cat_9.0', 'cat_10.0'], \n",
    "            ['az_t_pred', 'ze_t_pred', 'cat_x', 'cat_y', 'cat_z', 'mse', 'cat_1.0','cat_2.0', 'cat_3.0', 'cat_4.0', 'cat_5.0', 'cat_6.0', 'cat_7.0','cat_8.0', 'cat_9.0', 'cat_10.0'], \n",
    "            ['az_t_pred', 'ze_t_pred', 'cat_x', 'cat_y', 'cat_z', 'mse_cat', 'cat_1.0','cat_2.0', 'cat_3.0', 'cat_4.0', 'cat_5.0', 'cat_6.0', 'cat_7.0','cat_8.0', 'cat_9.0', 'cat_10.0']\n",
    "        ]\n",
    "\n",
    "\n",
    "\n",
    "n = len(features)\n",
    "maes_sgd = np.zeros(n)\n",
    "\n",
    "i = 0\n",
    "for i in range(0,n):\n",
    "    mae = run_sgd(X_train, y_train, features[i], 'epsilon_insensitive')\n",
    "    maes_sgd[i] = mae\n",
    "    print(\"Using features: \" + str(features[i]) + \", the MAE is \" + str(mae))\n",
    "    i += 1"
   ]
  },
  {
   "cell_type": "markdown",
   "id": "dba00ecc",
   "metadata": {},
   "source": [
    "Best k-fold mae comes from features: \n",
    "['az_t_pred', 'ze_t_pred', 'cat_x', 'cat_y', 'cat_z', 'mse_cat', 'cat_1.0', 'cat_2.0', 'cat_3.0', 'cat_4.0', 'cat_5.0', 'cat_6.0', 'cat_7.0', 'cat_8.0', 'cat_9.0', 'cat_10.0']\n",
    "Value: 1.4511509147669819"
   ]
  },
  {
   "cell_type": "code",
   "execution_count": 601,
   "id": "2fb009f6",
   "metadata": {},
   "outputs": [
    {
     "name": "stdout",
     "output_type": "stream",
     "text": [
      "Using features: ['az_t_pred', 'ze_t_pred'], the MAE is 1.4566696024827528\n",
      "Using features: ['az_t_pred', 'ze_t_pred', 'num_clusters'], the MAE is 1.4501782143801938\n",
      "Using features: ['az_t_pred', 'ze_t_pred', 'mse'], the MAE is 1.5772359830142508\n",
      "Using features: ['az_t_pred', 'ze_t_pred', 'dot_product'], the MAE is 1.457254319227922\n",
      "Using features: ['az_t_pred', 'ze_t_pred', 'az_pca_pred', 'ze_pca_pred'], the MAE is 1.455977078537934\n",
      "Using features: ['az_t_pred', 'ze_t_pred', 'mse_cat'], the MAE is 1.4529140703749999\n",
      "Using features: ['az_pca_pred', 'ze_pca_pred'], the MAE is 1.478973825824332\n",
      "Using features: ['az_t_pred', 'ze_t_pred', 'cat_1.0', 'cat_2.0', 'cat_3.0', 'cat_4.0', 'cat_5.0', 'cat_6.0', 'cat_7.0', 'cat_8.0', 'cat_9.0', 'cat_10.0'], the MAE is 1.4511278581810632\n",
      "Using features: ['az_t_pred', 'ze_t_pred', 'cat_x', 'cat_y', 'cat_z', 'mse', 'cat_1.0', 'cat_2.0', 'cat_3.0', 'cat_4.0', 'cat_5.0', 'cat_6.0', 'cat_7.0', 'cat_8.0', 'cat_9.0', 'cat_10.0'], the MAE is 1.5600451716052903\n",
      "Using features: ['az_t_pred', 'ze_t_pred', 'cat_x', 'cat_y', 'cat_z', 'mse_cat', 'cat_1.0', 'cat_2.0', 'cat_3.0', 'cat_4.0', 'cat_5.0', 'cat_6.0', 'cat_7.0', 'cat_8.0', 'cat_9.0', 'cat_10.0'], the MAE is 1.4459629108551826\n"
     ]
    }
   ],
   "source": [
    "# SGDRegression with loss = 'huber'\n",
    "\n",
    "features = [['az_t_pred', 'ze_t_pred'], \n",
    "            ['az_t_pred', 'ze_t_pred', 'num_clusters'], \n",
    "            ['az_t_pred', 'ze_t_pred', 'mse'], \n",
    "            ['az_t_pred', 'ze_t_pred', 'dot_product'], \n",
    "            ['az_t_pred', 'ze_t_pred', 'az_pca_pred', 'ze_pca_pred'], \n",
    "            ['az_t_pred', 'ze_t_pred', 'mse_cat'], \n",
    "            ['az_pca_pred', 'ze_pca_pred'],\n",
    "            ['az_t_pred', 'ze_t_pred','cat_1.0','cat_2.0', 'cat_3.0', 'cat_4.0', 'cat_5.0', 'cat_6.0', 'cat_7.0','cat_8.0', 'cat_9.0', 'cat_10.0'], \n",
    "            ['az_t_pred', 'ze_t_pred', 'cat_x', 'cat_y', 'cat_z', 'mse', 'cat_1.0','cat_2.0', 'cat_3.0', 'cat_4.0', 'cat_5.0', 'cat_6.0', 'cat_7.0','cat_8.0', 'cat_9.0', 'cat_10.0'], \n",
    "            ['az_t_pred', 'ze_t_pred', 'cat_x', 'cat_y', 'cat_z', 'mse_cat', 'cat_1.0','cat_2.0', 'cat_3.0', 'cat_4.0', 'cat_5.0', 'cat_6.0', 'cat_7.0','cat_8.0', 'cat_9.0', 'cat_10.0']\n",
    "        ]\n",
    "\n",
    "\n",
    "n = len(features)\n",
    "maes_sgdh = np.zeros(n)\n",
    "\n",
    "i = 0\n",
    "for i in range(0,n):\n",
    "    mae = run_sgd(X_train, y_train, features[i], 'huber')\n",
    "    maes_sgdh[i] = mae\n",
    "    print(\"Using features: \" + str(features[i]) + \", the MAE is \" + str(mae))\n",
    "    i += 1"
   ]
  },
  {
   "cell_type": "code",
   "execution_count": null,
   "id": "1b5af13f",
   "metadata": {},
   "outputs": [],
   "source": [
    "Best k-fold mae comes from features: \n",
    "['az_t_pred', 'ze_t_pred', 'cat_x', 'cat_y', 'cat_z', 'mse_cat', 'cat_1.0', 'cat_2.0', 'cat_3.0', 'cat_4.0', 'cat_5.0', 'cat_6.0', 'cat_7.0', 'cat_8.0', 'cat_9.0', 'cat_10.0']\n",
    "Value: 1.4459629108551826"
   ]
  },
  {
   "cell_type": "markdown",
   "id": "1f2d4251",
   "metadata": {},
   "source": [
    "# Tune features\n",
    "Since the categorical variables were useful, let's tune them slightly for various cutoffs and attempt to reduce the number of categorical variables by classifying clusters as low, medium, high"
   ]
  },
  {
   "cell_type": "code",
   "execution_count": null,
   "id": "1857edda",
   "metadata": {},
   "outputs": [],
   "source": [
    "# Get coefficients for original good models to get an idea of what reasonable cluster cutoffs could be\n",
    "features = ['az_t_pred', 'ze_t_pred', 'cat_x', 'cat_y', 'cat_z', 'mse_cat', 'cat_1.0','cat_2.0', 'cat_3.0', 'cat_4.0', 'cat_5.0', 'cat_6.0', 'cat_7.0','cat_8.0', 'cat_9.0', 'cat_10.0']\n",
    "mae = run_lr(X_train, y_train, features)"
   ]
  },
  {
   "cell_type": "code",
   "execution_count": 602,
   "id": "57154c0f",
   "metadata": {},
   "outputs": [
    {
     "name": "stdout",
     "output_type": "stream",
     "text": [
      "Running\n",
      "The cutoff is 0.5\n"
     ]
    },
    {
     "name": "stderr",
     "output_type": "stream",
     "text": [
      "C:\\Users\\k_vsl\\AppData\\Local\\Temp\\ipykernel_15432\\1176702385.py:11: SettingWithCopyWarning: \n",
      "A value is trying to be set on a copy of a slice from a DataFrame.\n",
      "Try using .loc[row_indexer,col_indexer] = value instead\n",
      "\n",
      "See the caveats in the documentation: https://pandas.pydata.org/pandas-docs/stable/user_guide/indexing.html#returning-a-view-versus-a-copy\n",
      "  V['x_skew'] = [(val > cutoff) for val in V.per_x]\n",
      "C:\\Users\\k_vsl\\AppData\\Local\\Temp\\ipykernel_15432\\1176702385.py:12: SettingWithCopyWarning: \n",
      "A value is trying to be set on a copy of a slice from a DataFrame.\n",
      "Try using .loc[row_indexer,col_indexer] = value instead\n",
      "\n",
      "See the caveats in the documentation: https://pandas.pydata.org/pandas-docs/stable/user_guide/indexing.html#returning-a-view-versus-a-copy\n",
      "  V['y_skew'] = [(val > cutoff) for val in V.per_y]\n",
      "C:\\Users\\k_vsl\\AppData\\Local\\Temp\\ipykernel_15432\\1176702385.py:13: SettingWithCopyWarning: \n",
      "A value is trying to be set on a copy of a slice from a DataFrame.\n",
      "Try using .loc[row_indexer,col_indexer] = value instead\n",
      "\n",
      "See the caveats in the documentation: https://pandas.pydata.org/pandas-docs/stable/user_guide/indexing.html#returning-a-view-versus-a-copy\n",
      "  V['z_skew'] = [(val > cutoff) for val in V.per_z]\n",
      "C:\\Users\\k_vsl\\AppData\\Local\\Temp\\ipykernel_15432\\1176702385.py:14: SettingWithCopyWarning: \n",
      "A value is trying to be set on a copy of a slice from a DataFrame.\n",
      "Try using .loc[row_indexer,col_indexer] = value instead\n",
      "\n",
      "See the caveats in the documentation: https://pandas.pydata.org/pandas-docs/stable/user_guide/indexing.html#returning-a-view-versus-a-copy\n",
      "  V['low_cluster'] = [(c < 4) for c in V.num_clusters]\n",
      "C:\\Users\\k_vsl\\AppData\\Local\\Temp\\ipykernel_15432\\1176702385.py:15: SettingWithCopyWarning: \n",
      "A value is trying to be set on a copy of a slice from a DataFrame.\n",
      "Try using .loc[row_indexer,col_indexer] = value instead\n",
      "\n",
      "See the caveats in the documentation: https://pandas.pydata.org/pandas-docs/stable/user_guide/indexing.html#returning-a-view-versus-a-copy\n",
      "  V['high_cluster'] = [(c >= 8) for c in V.num_clusters]\n",
      "C:\\Users\\k_vsl\\AppData\\Local\\Temp\\ipykernel_15432\\1176702385.py:16: SettingWithCopyWarning: \n",
      "A value is trying to be set on a copy of a slice from a DataFrame\n",
      "\n",
      "See the caveats in the documentation: https://pandas.pydata.org/pandas-docs/stable/user_guide/indexing.html#returning-a-view-versus-a-copy\n",
      "  V.replace({False: 0, True: 1}, inplace=True)\n"
     ]
    },
    {
     "name": "stdout",
     "output_type": "stream",
     "text": [
      "The linear regression mae is 1.508651054534671\n",
      "The huber regression mae is 1.4491486596684073\n",
      "The cutoff is 0.55\n"
     ]
    },
    {
     "name": "stderr",
     "output_type": "stream",
     "text": [
      "C:\\Users\\k_vsl\\AppData\\Local\\Temp\\ipykernel_15432\\1176702385.py:11: SettingWithCopyWarning: \n",
      "A value is trying to be set on a copy of a slice from a DataFrame.\n",
      "Try using .loc[row_indexer,col_indexer] = value instead\n",
      "\n",
      "See the caveats in the documentation: https://pandas.pydata.org/pandas-docs/stable/user_guide/indexing.html#returning-a-view-versus-a-copy\n",
      "  V['x_skew'] = [(val > cutoff) for val in V.per_x]\n",
      "C:\\Users\\k_vsl\\AppData\\Local\\Temp\\ipykernel_15432\\1176702385.py:12: SettingWithCopyWarning: \n",
      "A value is trying to be set on a copy of a slice from a DataFrame.\n",
      "Try using .loc[row_indexer,col_indexer] = value instead\n",
      "\n",
      "See the caveats in the documentation: https://pandas.pydata.org/pandas-docs/stable/user_guide/indexing.html#returning-a-view-versus-a-copy\n",
      "  V['y_skew'] = [(val > cutoff) for val in V.per_y]\n",
      "C:\\Users\\k_vsl\\AppData\\Local\\Temp\\ipykernel_15432\\1176702385.py:13: SettingWithCopyWarning: \n",
      "A value is trying to be set on a copy of a slice from a DataFrame.\n",
      "Try using .loc[row_indexer,col_indexer] = value instead\n",
      "\n",
      "See the caveats in the documentation: https://pandas.pydata.org/pandas-docs/stable/user_guide/indexing.html#returning-a-view-versus-a-copy\n",
      "  V['z_skew'] = [(val > cutoff) for val in V.per_z]\n",
      "C:\\Users\\k_vsl\\AppData\\Local\\Temp\\ipykernel_15432\\1176702385.py:14: SettingWithCopyWarning: \n",
      "A value is trying to be set on a copy of a slice from a DataFrame.\n",
      "Try using .loc[row_indexer,col_indexer] = value instead\n",
      "\n",
      "See the caveats in the documentation: https://pandas.pydata.org/pandas-docs/stable/user_guide/indexing.html#returning-a-view-versus-a-copy\n",
      "  V['low_cluster'] = [(c < 4) for c in V.num_clusters]\n",
      "C:\\Users\\k_vsl\\AppData\\Local\\Temp\\ipykernel_15432\\1176702385.py:15: SettingWithCopyWarning: \n",
      "A value is trying to be set on a copy of a slice from a DataFrame.\n",
      "Try using .loc[row_indexer,col_indexer] = value instead\n",
      "\n",
      "See the caveats in the documentation: https://pandas.pydata.org/pandas-docs/stable/user_guide/indexing.html#returning-a-view-versus-a-copy\n",
      "  V['high_cluster'] = [(c >= 8) for c in V.num_clusters]\n",
      "C:\\Users\\k_vsl\\AppData\\Local\\Temp\\ipykernel_15432\\1176702385.py:16: SettingWithCopyWarning: \n",
      "A value is trying to be set on a copy of a slice from a DataFrame\n",
      "\n",
      "See the caveats in the documentation: https://pandas.pydata.org/pandas-docs/stable/user_guide/indexing.html#returning-a-view-versus-a-copy\n",
      "  V.replace({False: 0, True: 1}, inplace=True)\n"
     ]
    },
    {
     "name": "stdout",
     "output_type": "stream",
     "text": [
      "The linear regression mae is 1.5086545320799822\n",
      "The huber regression mae is 1.4491314797005057\n",
      "The cutoff is 0.6000000000000001\n"
     ]
    },
    {
     "name": "stderr",
     "output_type": "stream",
     "text": [
      "C:\\Users\\k_vsl\\AppData\\Local\\Temp\\ipykernel_15432\\1176702385.py:11: SettingWithCopyWarning: \n",
      "A value is trying to be set on a copy of a slice from a DataFrame.\n",
      "Try using .loc[row_indexer,col_indexer] = value instead\n",
      "\n",
      "See the caveats in the documentation: https://pandas.pydata.org/pandas-docs/stable/user_guide/indexing.html#returning-a-view-versus-a-copy\n",
      "  V['x_skew'] = [(val > cutoff) for val in V.per_x]\n",
      "C:\\Users\\k_vsl\\AppData\\Local\\Temp\\ipykernel_15432\\1176702385.py:12: SettingWithCopyWarning: \n",
      "A value is trying to be set on a copy of a slice from a DataFrame.\n",
      "Try using .loc[row_indexer,col_indexer] = value instead\n",
      "\n",
      "See the caveats in the documentation: https://pandas.pydata.org/pandas-docs/stable/user_guide/indexing.html#returning-a-view-versus-a-copy\n",
      "  V['y_skew'] = [(val > cutoff) for val in V.per_y]\n",
      "C:\\Users\\k_vsl\\AppData\\Local\\Temp\\ipykernel_15432\\1176702385.py:13: SettingWithCopyWarning: \n",
      "A value is trying to be set on a copy of a slice from a DataFrame.\n",
      "Try using .loc[row_indexer,col_indexer] = value instead\n",
      "\n",
      "See the caveats in the documentation: https://pandas.pydata.org/pandas-docs/stable/user_guide/indexing.html#returning-a-view-versus-a-copy\n",
      "  V['z_skew'] = [(val > cutoff) for val in V.per_z]\n",
      "C:\\Users\\k_vsl\\AppData\\Local\\Temp\\ipykernel_15432\\1176702385.py:14: SettingWithCopyWarning: \n",
      "A value is trying to be set on a copy of a slice from a DataFrame.\n",
      "Try using .loc[row_indexer,col_indexer] = value instead\n",
      "\n",
      "See the caveats in the documentation: https://pandas.pydata.org/pandas-docs/stable/user_guide/indexing.html#returning-a-view-versus-a-copy\n",
      "  V['low_cluster'] = [(c < 4) for c in V.num_clusters]\n",
      "C:\\Users\\k_vsl\\AppData\\Local\\Temp\\ipykernel_15432\\1176702385.py:15: SettingWithCopyWarning: \n",
      "A value is trying to be set on a copy of a slice from a DataFrame.\n",
      "Try using .loc[row_indexer,col_indexer] = value instead\n",
      "\n",
      "See the caveats in the documentation: https://pandas.pydata.org/pandas-docs/stable/user_guide/indexing.html#returning-a-view-versus-a-copy\n",
      "  V['high_cluster'] = [(c >= 8) for c in V.num_clusters]\n",
      "C:\\Users\\k_vsl\\AppData\\Local\\Temp\\ipykernel_15432\\1176702385.py:16: SettingWithCopyWarning: \n",
      "A value is trying to be set on a copy of a slice from a DataFrame\n",
      "\n",
      "See the caveats in the documentation: https://pandas.pydata.org/pandas-docs/stable/user_guide/indexing.html#returning-a-view-versus-a-copy\n",
      "  V.replace({False: 0, True: 1}, inplace=True)\n"
     ]
    },
    {
     "name": "stdout",
     "output_type": "stream",
     "text": [
      "The linear regression mae is 1.5086410947642679\n",
      "The huber regression mae is 1.4502039169873284\n",
      "The cutoff is 0.6500000000000001\n"
     ]
    },
    {
     "name": "stderr",
     "output_type": "stream",
     "text": [
      "C:\\Users\\k_vsl\\AppData\\Local\\Temp\\ipykernel_15432\\1176702385.py:11: SettingWithCopyWarning: \n",
      "A value is trying to be set on a copy of a slice from a DataFrame.\n",
      "Try using .loc[row_indexer,col_indexer] = value instead\n",
      "\n",
      "See the caveats in the documentation: https://pandas.pydata.org/pandas-docs/stable/user_guide/indexing.html#returning-a-view-versus-a-copy\n",
      "  V['x_skew'] = [(val > cutoff) for val in V.per_x]\n",
      "C:\\Users\\k_vsl\\AppData\\Local\\Temp\\ipykernel_15432\\1176702385.py:12: SettingWithCopyWarning: \n",
      "A value is trying to be set on a copy of a slice from a DataFrame.\n",
      "Try using .loc[row_indexer,col_indexer] = value instead\n",
      "\n",
      "See the caveats in the documentation: https://pandas.pydata.org/pandas-docs/stable/user_guide/indexing.html#returning-a-view-versus-a-copy\n",
      "  V['y_skew'] = [(val > cutoff) for val in V.per_y]\n",
      "C:\\Users\\k_vsl\\AppData\\Local\\Temp\\ipykernel_15432\\1176702385.py:13: SettingWithCopyWarning: \n",
      "A value is trying to be set on a copy of a slice from a DataFrame.\n",
      "Try using .loc[row_indexer,col_indexer] = value instead\n",
      "\n",
      "See the caveats in the documentation: https://pandas.pydata.org/pandas-docs/stable/user_guide/indexing.html#returning-a-view-versus-a-copy\n",
      "  V['z_skew'] = [(val > cutoff) for val in V.per_z]\n",
      "C:\\Users\\k_vsl\\AppData\\Local\\Temp\\ipykernel_15432\\1176702385.py:14: SettingWithCopyWarning: \n",
      "A value is trying to be set on a copy of a slice from a DataFrame.\n",
      "Try using .loc[row_indexer,col_indexer] = value instead\n",
      "\n",
      "See the caveats in the documentation: https://pandas.pydata.org/pandas-docs/stable/user_guide/indexing.html#returning-a-view-versus-a-copy\n",
      "  V['low_cluster'] = [(c < 4) for c in V.num_clusters]\n",
      "C:\\Users\\k_vsl\\AppData\\Local\\Temp\\ipykernel_15432\\1176702385.py:15: SettingWithCopyWarning: \n",
      "A value is trying to be set on a copy of a slice from a DataFrame.\n",
      "Try using .loc[row_indexer,col_indexer] = value instead\n",
      "\n",
      "See the caveats in the documentation: https://pandas.pydata.org/pandas-docs/stable/user_guide/indexing.html#returning-a-view-versus-a-copy\n",
      "  V['high_cluster'] = [(c >= 8) for c in V.num_clusters]\n",
      "C:\\Users\\k_vsl\\AppData\\Local\\Temp\\ipykernel_15432\\1176702385.py:16: SettingWithCopyWarning: \n",
      "A value is trying to be set on a copy of a slice from a DataFrame\n",
      "\n",
      "See the caveats in the documentation: https://pandas.pydata.org/pandas-docs/stable/user_guide/indexing.html#returning-a-view-versus-a-copy\n",
      "  V.replace({False: 0, True: 1}, inplace=True)\n"
     ]
    },
    {
     "name": "stdout",
     "output_type": "stream",
     "text": [
      "The linear regression mae is 1.5085738058788245\n",
      "The huber regression mae is 1.4489026860837613\n",
      "The cutoff is 0.7000000000000002\n"
     ]
    },
    {
     "name": "stderr",
     "output_type": "stream",
     "text": [
      "C:\\Users\\k_vsl\\AppData\\Local\\Temp\\ipykernel_15432\\1176702385.py:11: SettingWithCopyWarning: \n",
      "A value is trying to be set on a copy of a slice from a DataFrame.\n",
      "Try using .loc[row_indexer,col_indexer] = value instead\n",
      "\n",
      "See the caveats in the documentation: https://pandas.pydata.org/pandas-docs/stable/user_guide/indexing.html#returning-a-view-versus-a-copy\n",
      "  V['x_skew'] = [(val > cutoff) for val in V.per_x]\n",
      "C:\\Users\\k_vsl\\AppData\\Local\\Temp\\ipykernel_15432\\1176702385.py:12: SettingWithCopyWarning: \n",
      "A value is trying to be set on a copy of a slice from a DataFrame.\n",
      "Try using .loc[row_indexer,col_indexer] = value instead\n",
      "\n",
      "See the caveats in the documentation: https://pandas.pydata.org/pandas-docs/stable/user_guide/indexing.html#returning-a-view-versus-a-copy\n",
      "  V['y_skew'] = [(val > cutoff) for val in V.per_y]\n",
      "C:\\Users\\k_vsl\\AppData\\Local\\Temp\\ipykernel_15432\\1176702385.py:13: SettingWithCopyWarning: \n",
      "A value is trying to be set on a copy of a slice from a DataFrame.\n",
      "Try using .loc[row_indexer,col_indexer] = value instead\n",
      "\n",
      "See the caveats in the documentation: https://pandas.pydata.org/pandas-docs/stable/user_guide/indexing.html#returning-a-view-versus-a-copy\n",
      "  V['z_skew'] = [(val > cutoff) for val in V.per_z]\n",
      "C:\\Users\\k_vsl\\AppData\\Local\\Temp\\ipykernel_15432\\1176702385.py:14: SettingWithCopyWarning: \n",
      "A value is trying to be set on a copy of a slice from a DataFrame.\n",
      "Try using .loc[row_indexer,col_indexer] = value instead\n",
      "\n",
      "See the caveats in the documentation: https://pandas.pydata.org/pandas-docs/stable/user_guide/indexing.html#returning-a-view-versus-a-copy\n",
      "  V['low_cluster'] = [(c < 4) for c in V.num_clusters]\n",
      "C:\\Users\\k_vsl\\AppData\\Local\\Temp\\ipykernel_15432\\1176702385.py:15: SettingWithCopyWarning: \n",
      "A value is trying to be set on a copy of a slice from a DataFrame.\n",
      "Try using .loc[row_indexer,col_indexer] = value instead\n",
      "\n",
      "See the caveats in the documentation: https://pandas.pydata.org/pandas-docs/stable/user_guide/indexing.html#returning-a-view-versus-a-copy\n",
      "  V['high_cluster'] = [(c >= 8) for c in V.num_clusters]\n",
      "C:\\Users\\k_vsl\\AppData\\Local\\Temp\\ipykernel_15432\\1176702385.py:16: SettingWithCopyWarning: \n",
      "A value is trying to be set on a copy of a slice from a DataFrame\n",
      "\n",
      "See the caveats in the documentation: https://pandas.pydata.org/pandas-docs/stable/user_guide/indexing.html#returning-a-view-versus-a-copy\n",
      "  V.replace({False: 0, True: 1}, inplace=True)\n"
     ]
    },
    {
     "name": "stdout",
     "output_type": "stream",
     "text": [
      "The linear regression mae is 1.5085254238604633\n",
      "The huber regression mae is 1.4484286511643447\n",
      "The cutoff is 0.7500000000000002\n"
     ]
    },
    {
     "name": "stderr",
     "output_type": "stream",
     "text": [
      "C:\\Users\\k_vsl\\AppData\\Local\\Temp\\ipykernel_15432\\1176702385.py:11: SettingWithCopyWarning: \n",
      "A value is trying to be set on a copy of a slice from a DataFrame.\n",
      "Try using .loc[row_indexer,col_indexer] = value instead\n",
      "\n",
      "See the caveats in the documentation: https://pandas.pydata.org/pandas-docs/stable/user_guide/indexing.html#returning-a-view-versus-a-copy\n",
      "  V['x_skew'] = [(val > cutoff) for val in V.per_x]\n",
      "C:\\Users\\k_vsl\\AppData\\Local\\Temp\\ipykernel_15432\\1176702385.py:12: SettingWithCopyWarning: \n",
      "A value is trying to be set on a copy of a slice from a DataFrame.\n",
      "Try using .loc[row_indexer,col_indexer] = value instead\n",
      "\n",
      "See the caveats in the documentation: https://pandas.pydata.org/pandas-docs/stable/user_guide/indexing.html#returning-a-view-versus-a-copy\n",
      "  V['y_skew'] = [(val > cutoff) for val in V.per_y]\n",
      "C:\\Users\\k_vsl\\AppData\\Local\\Temp\\ipykernel_15432\\1176702385.py:13: SettingWithCopyWarning: \n",
      "A value is trying to be set on a copy of a slice from a DataFrame.\n",
      "Try using .loc[row_indexer,col_indexer] = value instead\n",
      "\n",
      "See the caveats in the documentation: https://pandas.pydata.org/pandas-docs/stable/user_guide/indexing.html#returning-a-view-versus-a-copy\n",
      "  V['z_skew'] = [(val > cutoff) for val in V.per_z]\n",
      "C:\\Users\\k_vsl\\AppData\\Local\\Temp\\ipykernel_15432\\1176702385.py:14: SettingWithCopyWarning: \n",
      "A value is trying to be set on a copy of a slice from a DataFrame.\n",
      "Try using .loc[row_indexer,col_indexer] = value instead\n",
      "\n",
      "See the caveats in the documentation: https://pandas.pydata.org/pandas-docs/stable/user_guide/indexing.html#returning-a-view-versus-a-copy\n",
      "  V['low_cluster'] = [(c < 4) for c in V.num_clusters]\n",
      "C:\\Users\\k_vsl\\AppData\\Local\\Temp\\ipykernel_15432\\1176702385.py:15: SettingWithCopyWarning: \n",
      "A value is trying to be set on a copy of a slice from a DataFrame.\n",
      "Try using .loc[row_indexer,col_indexer] = value instead\n",
      "\n",
      "See the caveats in the documentation: https://pandas.pydata.org/pandas-docs/stable/user_guide/indexing.html#returning-a-view-versus-a-copy\n",
      "  V['high_cluster'] = [(c >= 8) for c in V.num_clusters]\n",
      "C:\\Users\\k_vsl\\AppData\\Local\\Temp\\ipykernel_15432\\1176702385.py:16: SettingWithCopyWarning: \n",
      "A value is trying to be set on a copy of a slice from a DataFrame\n",
      "\n",
      "See the caveats in the documentation: https://pandas.pydata.org/pandas-docs/stable/user_guide/indexing.html#returning-a-view-versus-a-copy\n",
      "  V.replace({False: 0, True: 1}, inplace=True)\n"
     ]
    },
    {
     "name": "stdout",
     "output_type": "stream",
     "text": [
      "The linear regression mae is 1.508378976015092\n",
      "The huber regression mae is 1.449504454859626\n",
      "The cutoff is 0.8000000000000003\n"
     ]
    },
    {
     "name": "stderr",
     "output_type": "stream",
     "text": [
      "C:\\Users\\k_vsl\\AppData\\Local\\Temp\\ipykernel_15432\\1176702385.py:11: SettingWithCopyWarning: \n",
      "A value is trying to be set on a copy of a slice from a DataFrame.\n",
      "Try using .loc[row_indexer,col_indexer] = value instead\n",
      "\n",
      "See the caveats in the documentation: https://pandas.pydata.org/pandas-docs/stable/user_guide/indexing.html#returning-a-view-versus-a-copy\n",
      "  V['x_skew'] = [(val > cutoff) for val in V.per_x]\n",
      "C:\\Users\\k_vsl\\AppData\\Local\\Temp\\ipykernel_15432\\1176702385.py:12: SettingWithCopyWarning: \n",
      "A value is trying to be set on a copy of a slice from a DataFrame.\n",
      "Try using .loc[row_indexer,col_indexer] = value instead\n",
      "\n",
      "See the caveats in the documentation: https://pandas.pydata.org/pandas-docs/stable/user_guide/indexing.html#returning-a-view-versus-a-copy\n",
      "  V['y_skew'] = [(val > cutoff) for val in V.per_y]\n",
      "C:\\Users\\k_vsl\\AppData\\Local\\Temp\\ipykernel_15432\\1176702385.py:13: SettingWithCopyWarning: \n",
      "A value is trying to be set on a copy of a slice from a DataFrame.\n",
      "Try using .loc[row_indexer,col_indexer] = value instead\n",
      "\n",
      "See the caveats in the documentation: https://pandas.pydata.org/pandas-docs/stable/user_guide/indexing.html#returning-a-view-versus-a-copy\n",
      "  V['z_skew'] = [(val > cutoff) for val in V.per_z]\n",
      "C:\\Users\\k_vsl\\AppData\\Local\\Temp\\ipykernel_15432\\1176702385.py:14: SettingWithCopyWarning: \n",
      "A value is trying to be set on a copy of a slice from a DataFrame.\n",
      "Try using .loc[row_indexer,col_indexer] = value instead\n",
      "\n",
      "See the caveats in the documentation: https://pandas.pydata.org/pandas-docs/stable/user_guide/indexing.html#returning-a-view-versus-a-copy\n",
      "  V['low_cluster'] = [(c < 4) for c in V.num_clusters]\n",
      "C:\\Users\\k_vsl\\AppData\\Local\\Temp\\ipykernel_15432\\1176702385.py:15: SettingWithCopyWarning: \n",
      "A value is trying to be set on a copy of a slice from a DataFrame.\n",
      "Try using .loc[row_indexer,col_indexer] = value instead\n",
      "\n",
      "See the caveats in the documentation: https://pandas.pydata.org/pandas-docs/stable/user_guide/indexing.html#returning-a-view-versus-a-copy\n",
      "  V['high_cluster'] = [(c >= 8) for c in V.num_clusters]\n",
      "C:\\Users\\k_vsl\\AppData\\Local\\Temp\\ipykernel_15432\\1176702385.py:16: SettingWithCopyWarning: \n",
      "A value is trying to be set on a copy of a slice from a DataFrame\n",
      "\n",
      "See the caveats in the documentation: https://pandas.pydata.org/pandas-docs/stable/user_guide/indexing.html#returning-a-view-versus-a-copy\n",
      "  V.replace({False: 0, True: 1}, inplace=True)\n"
     ]
    },
    {
     "name": "stdout",
     "output_type": "stream",
     "text": [
      "The linear regression mae is 1.5082524414724656\n",
      "The huber regression mae is 1.4481613231424049\n",
      "The cutoff is 0.8500000000000003\n"
     ]
    },
    {
     "name": "stderr",
     "output_type": "stream",
     "text": [
      "C:\\Users\\k_vsl\\AppData\\Local\\Temp\\ipykernel_15432\\1176702385.py:11: SettingWithCopyWarning: \n",
      "A value is trying to be set on a copy of a slice from a DataFrame.\n",
      "Try using .loc[row_indexer,col_indexer] = value instead\n",
      "\n",
      "See the caveats in the documentation: https://pandas.pydata.org/pandas-docs/stable/user_guide/indexing.html#returning-a-view-versus-a-copy\n",
      "  V['x_skew'] = [(val > cutoff) for val in V.per_x]\n",
      "C:\\Users\\k_vsl\\AppData\\Local\\Temp\\ipykernel_15432\\1176702385.py:12: SettingWithCopyWarning: \n",
      "A value is trying to be set on a copy of a slice from a DataFrame.\n",
      "Try using .loc[row_indexer,col_indexer] = value instead\n",
      "\n",
      "See the caveats in the documentation: https://pandas.pydata.org/pandas-docs/stable/user_guide/indexing.html#returning-a-view-versus-a-copy\n",
      "  V['y_skew'] = [(val > cutoff) for val in V.per_y]\n",
      "C:\\Users\\k_vsl\\AppData\\Local\\Temp\\ipykernel_15432\\1176702385.py:13: SettingWithCopyWarning: \n",
      "A value is trying to be set on a copy of a slice from a DataFrame.\n",
      "Try using .loc[row_indexer,col_indexer] = value instead\n",
      "\n",
      "See the caveats in the documentation: https://pandas.pydata.org/pandas-docs/stable/user_guide/indexing.html#returning-a-view-versus-a-copy\n",
      "  V['z_skew'] = [(val > cutoff) for val in V.per_z]\n",
      "C:\\Users\\k_vsl\\AppData\\Local\\Temp\\ipykernel_15432\\1176702385.py:14: SettingWithCopyWarning: \n",
      "A value is trying to be set on a copy of a slice from a DataFrame.\n",
      "Try using .loc[row_indexer,col_indexer] = value instead\n",
      "\n",
      "See the caveats in the documentation: https://pandas.pydata.org/pandas-docs/stable/user_guide/indexing.html#returning-a-view-versus-a-copy\n",
      "  V['low_cluster'] = [(c < 4) for c in V.num_clusters]\n",
      "C:\\Users\\k_vsl\\AppData\\Local\\Temp\\ipykernel_15432\\1176702385.py:15: SettingWithCopyWarning: \n",
      "A value is trying to be set on a copy of a slice from a DataFrame.\n",
      "Try using .loc[row_indexer,col_indexer] = value instead\n",
      "\n",
      "See the caveats in the documentation: https://pandas.pydata.org/pandas-docs/stable/user_guide/indexing.html#returning-a-view-versus-a-copy\n",
      "  V['high_cluster'] = [(c >= 8) for c in V.num_clusters]\n",
      "C:\\Users\\k_vsl\\AppData\\Local\\Temp\\ipykernel_15432\\1176702385.py:16: SettingWithCopyWarning: \n",
      "A value is trying to be set on a copy of a slice from a DataFrame\n",
      "\n",
      "See the caveats in the documentation: https://pandas.pydata.org/pandas-docs/stable/user_guide/indexing.html#returning-a-view-versus-a-copy\n",
      "  V.replace({False: 0, True: 1}, inplace=True)\n"
     ]
    },
    {
     "name": "stdout",
     "output_type": "stream",
     "text": [
      "The linear regression mae is 1.5080094872742822\n",
      "The huber regression mae is 1.448532162388818\n",
      "The cutoff is 0.9000000000000004\n"
     ]
    },
    {
     "name": "stderr",
     "output_type": "stream",
     "text": [
      "C:\\Users\\k_vsl\\AppData\\Local\\Temp\\ipykernel_15432\\1176702385.py:11: SettingWithCopyWarning: \n",
      "A value is trying to be set on a copy of a slice from a DataFrame.\n",
      "Try using .loc[row_indexer,col_indexer] = value instead\n",
      "\n",
      "See the caveats in the documentation: https://pandas.pydata.org/pandas-docs/stable/user_guide/indexing.html#returning-a-view-versus-a-copy\n",
      "  V['x_skew'] = [(val > cutoff) for val in V.per_x]\n",
      "C:\\Users\\k_vsl\\AppData\\Local\\Temp\\ipykernel_15432\\1176702385.py:12: SettingWithCopyWarning: \n",
      "A value is trying to be set on a copy of a slice from a DataFrame.\n",
      "Try using .loc[row_indexer,col_indexer] = value instead\n",
      "\n",
      "See the caveats in the documentation: https://pandas.pydata.org/pandas-docs/stable/user_guide/indexing.html#returning-a-view-versus-a-copy\n",
      "  V['y_skew'] = [(val > cutoff) for val in V.per_y]\n",
      "C:\\Users\\k_vsl\\AppData\\Local\\Temp\\ipykernel_15432\\1176702385.py:13: SettingWithCopyWarning: \n",
      "A value is trying to be set on a copy of a slice from a DataFrame.\n",
      "Try using .loc[row_indexer,col_indexer] = value instead\n",
      "\n",
      "See the caveats in the documentation: https://pandas.pydata.org/pandas-docs/stable/user_guide/indexing.html#returning-a-view-versus-a-copy\n",
      "  V['z_skew'] = [(val > cutoff) for val in V.per_z]\n",
      "C:\\Users\\k_vsl\\AppData\\Local\\Temp\\ipykernel_15432\\1176702385.py:14: SettingWithCopyWarning: \n",
      "A value is trying to be set on a copy of a slice from a DataFrame.\n",
      "Try using .loc[row_indexer,col_indexer] = value instead\n",
      "\n",
      "See the caveats in the documentation: https://pandas.pydata.org/pandas-docs/stable/user_guide/indexing.html#returning-a-view-versus-a-copy\n",
      "  V['low_cluster'] = [(c < 4) for c in V.num_clusters]\n",
      "C:\\Users\\k_vsl\\AppData\\Local\\Temp\\ipykernel_15432\\1176702385.py:15: SettingWithCopyWarning: \n",
      "A value is trying to be set on a copy of a slice from a DataFrame.\n",
      "Try using .loc[row_indexer,col_indexer] = value instead\n",
      "\n",
      "See the caveats in the documentation: https://pandas.pydata.org/pandas-docs/stable/user_guide/indexing.html#returning-a-view-versus-a-copy\n",
      "  V['high_cluster'] = [(c >= 8) for c in V.num_clusters]\n",
      "C:\\Users\\k_vsl\\AppData\\Local\\Temp\\ipykernel_15432\\1176702385.py:16: SettingWithCopyWarning: \n",
      "A value is trying to be set on a copy of a slice from a DataFrame\n",
      "\n",
      "See the caveats in the documentation: https://pandas.pydata.org/pandas-docs/stable/user_guide/indexing.html#returning-a-view-versus-a-copy\n",
      "  V.replace({False: 0, True: 1}, inplace=True)\n"
     ]
    },
    {
     "name": "stdout",
     "output_type": "stream",
     "text": [
      "The linear regression mae is 1.5077816036883729\n",
      "The huber regression mae is 1.448053028077291\n",
      "The cutoff is 0.9500000000000004\n"
     ]
    },
    {
     "name": "stderr",
     "output_type": "stream",
     "text": [
      "C:\\Users\\k_vsl\\AppData\\Local\\Temp\\ipykernel_15432\\1176702385.py:11: SettingWithCopyWarning: \n",
      "A value is trying to be set on a copy of a slice from a DataFrame.\n",
      "Try using .loc[row_indexer,col_indexer] = value instead\n",
      "\n",
      "See the caveats in the documentation: https://pandas.pydata.org/pandas-docs/stable/user_guide/indexing.html#returning-a-view-versus-a-copy\n",
      "  V['x_skew'] = [(val > cutoff) for val in V.per_x]\n",
      "C:\\Users\\k_vsl\\AppData\\Local\\Temp\\ipykernel_15432\\1176702385.py:12: SettingWithCopyWarning: \n",
      "A value is trying to be set on a copy of a slice from a DataFrame.\n",
      "Try using .loc[row_indexer,col_indexer] = value instead\n",
      "\n",
      "See the caveats in the documentation: https://pandas.pydata.org/pandas-docs/stable/user_guide/indexing.html#returning-a-view-versus-a-copy\n",
      "  V['y_skew'] = [(val > cutoff) for val in V.per_y]\n",
      "C:\\Users\\k_vsl\\AppData\\Local\\Temp\\ipykernel_15432\\1176702385.py:13: SettingWithCopyWarning: \n",
      "A value is trying to be set on a copy of a slice from a DataFrame.\n",
      "Try using .loc[row_indexer,col_indexer] = value instead\n",
      "\n",
      "See the caveats in the documentation: https://pandas.pydata.org/pandas-docs/stable/user_guide/indexing.html#returning-a-view-versus-a-copy\n",
      "  V['z_skew'] = [(val > cutoff) for val in V.per_z]\n",
      "C:\\Users\\k_vsl\\AppData\\Local\\Temp\\ipykernel_15432\\1176702385.py:14: SettingWithCopyWarning: \n",
      "A value is trying to be set on a copy of a slice from a DataFrame.\n",
      "Try using .loc[row_indexer,col_indexer] = value instead\n",
      "\n",
      "See the caveats in the documentation: https://pandas.pydata.org/pandas-docs/stable/user_guide/indexing.html#returning-a-view-versus-a-copy\n",
      "  V['low_cluster'] = [(c < 4) for c in V.num_clusters]\n",
      "C:\\Users\\k_vsl\\AppData\\Local\\Temp\\ipykernel_15432\\1176702385.py:15: SettingWithCopyWarning: \n",
      "A value is trying to be set on a copy of a slice from a DataFrame.\n",
      "Try using .loc[row_indexer,col_indexer] = value instead\n",
      "\n",
      "See the caveats in the documentation: https://pandas.pydata.org/pandas-docs/stable/user_guide/indexing.html#returning-a-view-versus-a-copy\n",
      "  V['high_cluster'] = [(c >= 8) for c in V.num_clusters]\n",
      "C:\\Users\\k_vsl\\AppData\\Local\\Temp\\ipykernel_15432\\1176702385.py:16: SettingWithCopyWarning: \n",
      "A value is trying to be set on a copy of a slice from a DataFrame\n",
      "\n",
      "See the caveats in the documentation: https://pandas.pydata.org/pandas-docs/stable/user_guide/indexing.html#returning-a-view-versus-a-copy\n",
      "  V.replace({False: 0, True: 1}, inplace=True)\n"
     ]
    },
    {
     "name": "stdout",
     "output_type": "stream",
     "text": [
      "The linear regression mae is 1.50744727457383\n",
      "The huber regression mae is 1.447934764357909\n"
     ]
    }
   ],
   "source": [
    "# Tune cutoffs for skews with cluster cutoffs 4 and 7\n",
    "print(\"Running\")\n",
    "cutoffs = np.arange(.5, 1, .05)\n",
    "n = len(cutoffs)\n",
    "maes_lr = np.zeros(n)\n",
    "maes_h = np.zeros(n)\n",
    "i = 0\n",
    "for i in range(0,n): \n",
    "    cutoff = cutoffs[i]\n",
    "    print(\"The cutoff is \" + str(cutoff))\n",
    "    V = X[['az_t_pred', 'ze_t_pred', 'num_clusters','mse_cat','per_x', 'per_y', 'per_z']]\n",
    "    V['x_skew'] = [(val > cutoff) for val in V.per_x]\n",
    "    V['y_skew'] = [(val > cutoff) for val in V.per_y]\n",
    "    V['z_skew'] = [(val > cutoff) for val in V.per_z]\n",
    "    V['low_cluster'] = [(c < 4) for c in V.num_clusters]\n",
    "    V['high_cluster'] = [(c >= 8) for c in V.num_clusters]\n",
    "    V.replace({False: 0, True: 1}, inplace=True)\n",
    "    \n",
    "    V_train, V_val, y_train, y_val = train_test_split(V, y, \n",
    "                                                             shuffle = True,\n",
    "                                                             random_state = 134, \n",
    "                                                             test_size = .25)\n",
    "    feature = ['az_t_pred', 'ze_t_pred', 'x_skew', 'y_skew', 'z_skew', 'mse_cat', 'low_cluster', 'high_cluster']\n",
    "    mae_lr = run_lr(V_train, y_train, feature)\n",
    "    mae_h = run_sgd(V_train, y_train, feature, 'huber')\n",
    "    maes_lr[i] = mae_lr\n",
    "    maes_h[i] = mae_h\n",
    "    print(\"The linear regression mae is \" + str(mae_lr))\n",
    "    print(\"The huber regression mae is \" + str(mae_h))\n",
    "    i += 1"
   ]
  },
  {
   "cell_type": "code",
   "execution_count": 603,
   "id": "ff708f8d",
   "metadata": {},
   "outputs": [
    {
     "name": "stdout",
     "output_type": "stream",
     "text": [
      "[1.50865105 1.50865453 1.50864109 1.50857381 1.50852542 1.50837898\n",
      " 1.50825244 1.50800949 1.5077816  1.50744727]\n",
      "[1.44914866 1.44913148 1.45020392 1.44890269 1.44842865 1.44950445\n",
      " 1.44816132 1.44853216 1.44805303 1.44793476]\n",
      "[0.5  0.55 0.6  0.65 0.7  0.75 0.8  0.85 0.9  0.95]\n"
     ]
    }
   ],
   "source": [
    "print(maes_lr)\n",
    "print(maes_h)\n",
    "print(cutoffs)"
   ]
  },
  {
   "cell_type": "code",
   "execution_count": 613,
   "id": "76d1b16b",
   "metadata": {},
   "outputs": [
    {
     "data": {
      "image/png": "[encoded data removed]",
      "text/plain": [
       "<Figure size 800x600 with 1 Axes>"
      ]
     },
     "metadata": {},
     "output_type": "display_data"
    }
   ],
   "source": [
    "# Graph for different cutoffs\n",
    "plt.figure(figsize=(8,6))\n",
    "\n",
    "#plt.plot(cutoffs, maes_lr, label= 'Epsilon Insensitive', c = 'orange')\n",
    "plt.plot(cutoffs, maes_h, label = 'huber', c = 'blue')\n",
    "#plt.plot(maes_h, label='huber', c = 'blue')\n",
    "plt.legend(frameon=False)\n",
    "\n",
    "plt.xticks(fontsize=10)\n",
    "plt.yticks(fontsize=10)\n",
    "\n",
    "plt.xlabel(\"Cutoff\")\n",
    "plt.ylabel(\"MAE\")\n",
    "plt.title(\"Cutoffs for skewed data\")\n",
    "\n",
    "plt.show()"
   ]
  },
  {
   "cell_type": "markdown",
   "id": "652c0ca9",
   "metadata": {},
   "source": [
    "Takeaway: The ideal cutoff appears to be around .95 however, in the spirit of not overfitting, perhaps .9 is better"
   ]
  },
  {
   "cell_type": "code",
   "execution_count": 615,
   "id": "92fe0dbe",
   "metadata": {},
   "outputs": [
    {
     "name": "stdout",
     "output_type": "stream",
     "text": [
      "Running\n",
      "The cutoff is 0.5\n"
     ]
    },
    {
     "name": "stderr",
     "output_type": "stream",
     "text": [
      "C:\\Users\\k_vsl\\AppData\\Local\\Temp\\ipykernel_15432\\494964417.py:13: SettingWithCopyWarning: \n",
      "A value is trying to be set on a copy of a slice from a DataFrame.\n",
      "Try using .loc[row_indexer,col_indexer] = value instead\n",
      "\n",
      "See the caveats in the documentation: https://pandas.pydata.org/pandas-docs/stable/user_guide/indexing.html#returning-a-view-versus-a-copy\n",
      "  V['x_skew'] = [(val > cutoff) for val in V.per_x]\n",
      "C:\\Users\\k_vsl\\AppData\\Local\\Temp\\ipykernel_15432\\494964417.py:14: SettingWithCopyWarning: \n",
      "A value is trying to be set on a copy of a slice from a DataFrame.\n",
      "Try using .loc[row_indexer,col_indexer] = value instead\n",
      "\n",
      "See the caveats in the documentation: https://pandas.pydata.org/pandas-docs/stable/user_guide/indexing.html#returning-a-view-versus-a-copy\n",
      "  V['y_skew'] = [(val > cutoff) for val in V.per_y]\n",
      "C:\\Users\\k_vsl\\AppData\\Local\\Temp\\ipykernel_15432\\494964417.py:15: SettingWithCopyWarning: \n",
      "A value is trying to be set on a copy of a slice from a DataFrame.\n",
      "Try using .loc[row_indexer,col_indexer] = value instead\n",
      "\n",
      "See the caveats in the documentation: https://pandas.pydata.org/pandas-docs/stable/user_guide/indexing.html#returning-a-view-versus-a-copy\n",
      "  V['z_skew'] = [(val > cutoff) for val in V.per_z]\n",
      "C:\\Users\\k_vsl\\AppData\\Local\\Temp\\ipykernel_15432\\494964417.py:16: SettingWithCopyWarning: \n",
      "A value is trying to be set on a copy of a slice from a DataFrame.\n",
      "Try using .loc[row_indexer,col_indexer] = value instead\n",
      "\n",
      "See the caveats in the documentation: https://pandas.pydata.org/pandas-docs/stable/user_guide/indexing.html#returning-a-view-versus-a-copy\n",
      "  V['low_cluster'] = [(c < 3) for c in V.num_clusters]\n",
      "C:\\Users\\k_vsl\\AppData\\Local\\Temp\\ipykernel_15432\\494964417.py:17: SettingWithCopyWarning: \n",
      "A value is trying to be set on a copy of a slice from a DataFrame.\n",
      "Try using .loc[row_indexer,col_indexer] = value instead\n",
      "\n",
      "See the caveats in the documentation: https://pandas.pydata.org/pandas-docs/stable/user_guide/indexing.html#returning-a-view-versus-a-copy\n",
      "  V['high_cluster'] = [(c >= 8) for c in V.num_clusters]\n",
      "C:\\Users\\k_vsl\\AppData\\Local\\Temp\\ipykernel_15432\\494964417.py:18: SettingWithCopyWarning: \n",
      "A value is trying to be set on a copy of a slice from a DataFrame\n",
      "\n",
      "See the caveats in the documentation: https://pandas.pydata.org/pandas-docs/stable/user_guide/indexing.html#returning-a-view-versus-a-copy\n",
      "  V.replace({False: 0, True: 1}, inplace=True)\n"
     ]
    },
    {
     "name": "stdout",
     "output_type": "stream",
     "text": [
      "The linear regression mae is 1.5082585118844432\n",
      "The huber regression mae is 1.4477790166708489\n",
      "The cutoff is 0.55\n"
     ]
    },
    {
     "name": "stderr",
     "output_type": "stream",
     "text": [
      "C:\\Users\\k_vsl\\AppData\\Local\\Temp\\ipykernel_15432\\494964417.py:13: SettingWithCopyWarning: \n",
      "A value is trying to be set on a copy of a slice from a DataFrame.\n",
      "Try using .loc[row_indexer,col_indexer] = value instead\n",
      "\n",
      "See the caveats in the documentation: https://pandas.pydata.org/pandas-docs/stable/user_guide/indexing.html#returning-a-view-versus-a-copy\n",
      "  V['x_skew'] = [(val > cutoff) for val in V.per_x]\n",
      "C:\\Users\\k_vsl\\AppData\\Local\\Temp\\ipykernel_15432\\494964417.py:14: SettingWithCopyWarning: \n",
      "A value is trying to be set on a copy of a slice from a DataFrame.\n",
      "Try using .loc[row_indexer,col_indexer] = value instead\n",
      "\n",
      "See the caveats in the documentation: https://pandas.pydata.org/pandas-docs/stable/user_guide/indexing.html#returning-a-view-versus-a-copy\n",
      "  V['y_skew'] = [(val > cutoff) for val in V.per_y]\n",
      "C:\\Users\\k_vsl\\AppData\\Local\\Temp\\ipykernel_15432\\494964417.py:15: SettingWithCopyWarning: \n",
      "A value is trying to be set on a copy of a slice from a DataFrame.\n",
      "Try using .loc[row_indexer,col_indexer] = value instead\n",
      "\n",
      "See the caveats in the documentation: https://pandas.pydata.org/pandas-docs/stable/user_guide/indexing.html#returning-a-view-versus-a-copy\n",
      "  V['z_skew'] = [(val > cutoff) for val in V.per_z]\n",
      "C:\\Users\\k_vsl\\AppData\\Local\\Temp\\ipykernel_15432\\494964417.py:16: SettingWithCopyWarning: \n",
      "A value is trying to be set on a copy of a slice from a DataFrame.\n",
      "Try using .loc[row_indexer,col_indexer] = value instead\n",
      "\n",
      "See the caveats in the documentation: https://pandas.pydata.org/pandas-docs/stable/user_guide/indexing.html#returning-a-view-versus-a-copy\n",
      "  V['low_cluster'] = [(c < 3) for c in V.num_clusters]\n",
      "C:\\Users\\k_vsl\\AppData\\Local\\Temp\\ipykernel_15432\\494964417.py:17: SettingWithCopyWarning: \n",
      "A value is trying to be set on a copy of a slice from a DataFrame.\n",
      "Try using .loc[row_indexer,col_indexer] = value instead\n",
      "\n",
      "See the caveats in the documentation: https://pandas.pydata.org/pandas-docs/stable/user_guide/indexing.html#returning-a-view-versus-a-copy\n",
      "  V['high_cluster'] = [(c >= 8) for c in V.num_clusters]\n",
      "C:\\Users\\k_vsl\\AppData\\Local\\Temp\\ipykernel_15432\\494964417.py:18: SettingWithCopyWarning: \n",
      "A value is trying to be set on a copy of a slice from a DataFrame\n",
      "\n",
      "See the caveats in the documentation: https://pandas.pydata.org/pandas-docs/stable/user_guide/indexing.html#returning-a-view-versus-a-copy\n",
      "  V.replace({False: 0, True: 1}, inplace=True)\n"
     ]
    },
    {
     "name": "stdout",
     "output_type": "stream",
     "text": [
      "The linear regression mae is 1.5082585118844432\n",
      "The huber regression mae is 1.4491102540207905\n",
      "The cutoff is 0.6000000000000001\n"
     ]
    },
    {
     "name": "stderr",
     "output_type": "stream",
     "text": [
      "C:\\Users\\k_vsl\\AppData\\Local\\Temp\\ipykernel_15432\\494964417.py:13: SettingWithCopyWarning: \n",
      "A value is trying to be set on a copy of a slice from a DataFrame.\n",
      "Try using .loc[row_indexer,col_indexer] = value instead\n",
      "\n",
      "See the caveats in the documentation: https://pandas.pydata.org/pandas-docs/stable/user_guide/indexing.html#returning-a-view-versus-a-copy\n",
      "  V['x_skew'] = [(val > cutoff) for val in V.per_x]\n",
      "C:\\Users\\k_vsl\\AppData\\Local\\Temp\\ipykernel_15432\\494964417.py:14: SettingWithCopyWarning: \n",
      "A value is trying to be set on a copy of a slice from a DataFrame.\n",
      "Try using .loc[row_indexer,col_indexer] = value instead\n",
      "\n",
      "See the caveats in the documentation: https://pandas.pydata.org/pandas-docs/stable/user_guide/indexing.html#returning-a-view-versus-a-copy\n",
      "  V['y_skew'] = [(val > cutoff) for val in V.per_y]\n",
      "C:\\Users\\k_vsl\\AppData\\Local\\Temp\\ipykernel_15432\\494964417.py:15: SettingWithCopyWarning: \n",
      "A value is trying to be set on a copy of a slice from a DataFrame.\n",
      "Try using .loc[row_indexer,col_indexer] = value instead\n",
      "\n",
      "See the caveats in the documentation: https://pandas.pydata.org/pandas-docs/stable/user_guide/indexing.html#returning-a-view-versus-a-copy\n",
      "  V['z_skew'] = [(val > cutoff) for val in V.per_z]\n",
      "C:\\Users\\k_vsl\\AppData\\Local\\Temp\\ipykernel_15432\\494964417.py:16: SettingWithCopyWarning: \n",
      "A value is trying to be set on a copy of a slice from a DataFrame.\n",
      "Try using .loc[row_indexer,col_indexer] = value instead\n",
      "\n",
      "See the caveats in the documentation: https://pandas.pydata.org/pandas-docs/stable/user_guide/indexing.html#returning-a-view-versus-a-copy\n",
      "  V['low_cluster'] = [(c < 3) for c in V.num_clusters]\n",
      "C:\\Users\\k_vsl\\AppData\\Local\\Temp\\ipykernel_15432\\494964417.py:17: SettingWithCopyWarning: \n",
      "A value is trying to be set on a copy of a slice from a DataFrame.\n",
      "Try using .loc[row_indexer,col_indexer] = value instead\n",
      "\n",
      "See the caveats in the documentation: https://pandas.pydata.org/pandas-docs/stable/user_guide/indexing.html#returning-a-view-versus-a-copy\n",
      "  V['high_cluster'] = [(c >= 8) for c in V.num_clusters]\n",
      "C:\\Users\\k_vsl\\AppData\\Local\\Temp\\ipykernel_15432\\494964417.py:18: SettingWithCopyWarning: \n",
      "A value is trying to be set on a copy of a slice from a DataFrame\n",
      "\n",
      "See the caveats in the documentation: https://pandas.pydata.org/pandas-docs/stable/user_guide/indexing.html#returning-a-view-versus-a-copy\n",
      "  V.replace({False: 0, True: 1}, inplace=True)\n"
     ]
    },
    {
     "name": "stdout",
     "output_type": "stream",
     "text": [
      "The linear regression mae is 1.5082585118844432\n",
      "The huber regression mae is 1.4470535642648972\n",
      "The cutoff is 0.6500000000000001\n"
     ]
    },
    {
     "name": "stderr",
     "output_type": "stream",
     "text": [
      "C:\\Users\\k_vsl\\AppData\\Local\\Temp\\ipykernel_15432\\494964417.py:13: SettingWithCopyWarning: \n",
      "A value is trying to be set on a copy of a slice from a DataFrame.\n",
      "Try using .loc[row_indexer,col_indexer] = value instead\n",
      "\n",
      "See the caveats in the documentation: https://pandas.pydata.org/pandas-docs/stable/user_guide/indexing.html#returning-a-view-versus-a-copy\n",
      "  V['x_skew'] = [(val > cutoff) for val in V.per_x]\n",
      "C:\\Users\\k_vsl\\AppData\\Local\\Temp\\ipykernel_15432\\494964417.py:14: SettingWithCopyWarning: \n",
      "A value is trying to be set on a copy of a slice from a DataFrame.\n",
      "Try using .loc[row_indexer,col_indexer] = value instead\n",
      "\n",
      "See the caveats in the documentation: https://pandas.pydata.org/pandas-docs/stable/user_guide/indexing.html#returning-a-view-versus-a-copy\n",
      "  V['y_skew'] = [(val > cutoff) for val in V.per_y]\n",
      "C:\\Users\\k_vsl\\AppData\\Local\\Temp\\ipykernel_15432\\494964417.py:15: SettingWithCopyWarning: \n",
      "A value is trying to be set on a copy of a slice from a DataFrame.\n",
      "Try using .loc[row_indexer,col_indexer] = value instead\n",
      "\n",
      "See the caveats in the documentation: https://pandas.pydata.org/pandas-docs/stable/user_guide/indexing.html#returning-a-view-versus-a-copy\n",
      "  V['z_skew'] = [(val > cutoff) for val in V.per_z]\n",
      "C:\\Users\\k_vsl\\AppData\\Local\\Temp\\ipykernel_15432\\494964417.py:16: SettingWithCopyWarning: \n",
      "A value is trying to be set on a copy of a slice from a DataFrame.\n",
      "Try using .loc[row_indexer,col_indexer] = value instead\n",
      "\n",
      "See the caveats in the documentation: https://pandas.pydata.org/pandas-docs/stable/user_guide/indexing.html#returning-a-view-versus-a-copy\n",
      "  V['low_cluster'] = [(c < 3) for c in V.num_clusters]\n",
      "C:\\Users\\k_vsl\\AppData\\Local\\Temp\\ipykernel_15432\\494964417.py:17: SettingWithCopyWarning: \n",
      "A value is trying to be set on a copy of a slice from a DataFrame.\n",
      "Try using .loc[row_indexer,col_indexer] = value instead\n",
      "\n",
      "See the caveats in the documentation: https://pandas.pydata.org/pandas-docs/stable/user_guide/indexing.html#returning-a-view-versus-a-copy\n",
      "  V['high_cluster'] = [(c >= 8) for c in V.num_clusters]\n",
      "C:\\Users\\k_vsl\\AppData\\Local\\Temp\\ipykernel_15432\\494964417.py:18: SettingWithCopyWarning: \n",
      "A value is trying to be set on a copy of a slice from a DataFrame\n",
      "\n",
      "See the caveats in the documentation: https://pandas.pydata.org/pandas-docs/stable/user_guide/indexing.html#returning-a-view-versus-a-copy\n",
      "  V.replace({False: 0, True: 1}, inplace=True)\n"
     ]
    },
    {
     "name": "stdout",
     "output_type": "stream",
     "text": [
      "The linear regression mae is 1.5082585118844432\n",
      "The huber regression mae is 1.4472297440920574\n",
      "The cutoff is 0.7000000000000002\n"
     ]
    },
    {
     "name": "stderr",
     "output_type": "stream",
     "text": [
      "C:\\Users\\k_vsl\\AppData\\Local\\Temp\\ipykernel_15432\\494964417.py:13: SettingWithCopyWarning: \n",
      "A value is trying to be set on a copy of a slice from a DataFrame.\n",
      "Try using .loc[row_indexer,col_indexer] = value instead\n",
      "\n",
      "See the caveats in the documentation: https://pandas.pydata.org/pandas-docs/stable/user_guide/indexing.html#returning-a-view-versus-a-copy\n",
      "  V['x_skew'] = [(val > cutoff) for val in V.per_x]\n",
      "C:\\Users\\k_vsl\\AppData\\Local\\Temp\\ipykernel_15432\\494964417.py:14: SettingWithCopyWarning: \n",
      "A value is trying to be set on a copy of a slice from a DataFrame.\n",
      "Try using .loc[row_indexer,col_indexer] = value instead\n",
      "\n",
      "See the caveats in the documentation: https://pandas.pydata.org/pandas-docs/stable/user_guide/indexing.html#returning-a-view-versus-a-copy\n",
      "  V['y_skew'] = [(val > cutoff) for val in V.per_y]\n",
      "C:\\Users\\k_vsl\\AppData\\Local\\Temp\\ipykernel_15432\\494964417.py:15: SettingWithCopyWarning: \n",
      "A value is trying to be set on a copy of a slice from a DataFrame.\n",
      "Try using .loc[row_indexer,col_indexer] = value instead\n",
      "\n",
      "See the caveats in the documentation: https://pandas.pydata.org/pandas-docs/stable/user_guide/indexing.html#returning-a-view-versus-a-copy\n",
      "  V['z_skew'] = [(val > cutoff) for val in V.per_z]\n",
      "C:\\Users\\k_vsl\\AppData\\Local\\Temp\\ipykernel_15432\\494964417.py:16: SettingWithCopyWarning: \n",
      "A value is trying to be set on a copy of a slice from a DataFrame.\n",
      "Try using .loc[row_indexer,col_indexer] = value instead\n",
      "\n",
      "See the caveats in the documentation: https://pandas.pydata.org/pandas-docs/stable/user_guide/indexing.html#returning-a-view-versus-a-copy\n",
      "  V['low_cluster'] = [(c < 3) for c in V.num_clusters]\n",
      "C:\\Users\\k_vsl\\AppData\\Local\\Temp\\ipykernel_15432\\494964417.py:17: SettingWithCopyWarning: \n",
      "A value is trying to be set on a copy of a slice from a DataFrame.\n",
      "Try using .loc[row_indexer,col_indexer] = value instead\n",
      "\n",
      "See the caveats in the documentation: https://pandas.pydata.org/pandas-docs/stable/user_guide/indexing.html#returning-a-view-versus-a-copy\n",
      "  V['high_cluster'] = [(c >= 8) for c in V.num_clusters]\n",
      "C:\\Users\\k_vsl\\AppData\\Local\\Temp\\ipykernel_15432\\494964417.py:18: SettingWithCopyWarning: \n",
      "A value is trying to be set on a copy of a slice from a DataFrame\n",
      "\n",
      "See the caveats in the documentation: https://pandas.pydata.org/pandas-docs/stable/user_guide/indexing.html#returning-a-view-versus-a-copy\n",
      "  V.replace({False: 0, True: 1}, inplace=True)\n"
     ]
    },
    {
     "name": "stdout",
     "output_type": "stream",
     "text": [
      "The linear regression mae is 1.5082585118844432\n",
      "The huber regression mae is 1.447457289649631\n",
      "The cutoff is 0.7500000000000002\n"
     ]
    },
    {
     "name": "stderr",
     "output_type": "stream",
     "text": [
      "C:\\Users\\k_vsl\\AppData\\Local\\Temp\\ipykernel_15432\\494964417.py:13: SettingWithCopyWarning: \n",
      "A value is trying to be set on a copy of a slice from a DataFrame.\n",
      "Try using .loc[row_indexer,col_indexer] = value instead\n",
      "\n",
      "See the caveats in the documentation: https://pandas.pydata.org/pandas-docs/stable/user_guide/indexing.html#returning-a-view-versus-a-copy\n",
      "  V['x_skew'] = [(val > cutoff) for val in V.per_x]\n",
      "C:\\Users\\k_vsl\\AppData\\Local\\Temp\\ipykernel_15432\\494964417.py:14: SettingWithCopyWarning: \n",
      "A value is trying to be set on a copy of a slice from a DataFrame.\n",
      "Try using .loc[row_indexer,col_indexer] = value instead\n",
      "\n",
      "See the caveats in the documentation: https://pandas.pydata.org/pandas-docs/stable/user_guide/indexing.html#returning-a-view-versus-a-copy\n",
      "  V['y_skew'] = [(val > cutoff) for val in V.per_y]\n",
      "C:\\Users\\k_vsl\\AppData\\Local\\Temp\\ipykernel_15432\\494964417.py:15: SettingWithCopyWarning: \n",
      "A value is trying to be set on a copy of a slice from a DataFrame.\n",
      "Try using .loc[row_indexer,col_indexer] = value instead\n",
      "\n",
      "See the caveats in the documentation: https://pandas.pydata.org/pandas-docs/stable/user_guide/indexing.html#returning-a-view-versus-a-copy\n",
      "  V['z_skew'] = [(val > cutoff) for val in V.per_z]\n",
      "C:\\Users\\k_vsl\\AppData\\Local\\Temp\\ipykernel_15432\\494964417.py:16: SettingWithCopyWarning: \n",
      "A value is trying to be set on a copy of a slice from a DataFrame.\n",
      "Try using .loc[row_indexer,col_indexer] = value instead\n",
      "\n",
      "See the caveats in the documentation: https://pandas.pydata.org/pandas-docs/stable/user_guide/indexing.html#returning-a-view-versus-a-copy\n",
      "  V['low_cluster'] = [(c < 3) for c in V.num_clusters]\n",
      "C:\\Users\\k_vsl\\AppData\\Local\\Temp\\ipykernel_15432\\494964417.py:17: SettingWithCopyWarning: \n",
      "A value is trying to be set on a copy of a slice from a DataFrame.\n",
      "Try using .loc[row_indexer,col_indexer] = value instead\n",
      "\n",
      "See the caveats in the documentation: https://pandas.pydata.org/pandas-docs/stable/user_guide/indexing.html#returning-a-view-versus-a-copy\n",
      "  V['high_cluster'] = [(c >= 8) for c in V.num_clusters]\n",
      "C:\\Users\\k_vsl\\AppData\\Local\\Temp\\ipykernel_15432\\494964417.py:18: SettingWithCopyWarning: \n",
      "A value is trying to be set on a copy of a slice from a DataFrame\n",
      "\n",
      "See the caveats in the documentation: https://pandas.pydata.org/pandas-docs/stable/user_guide/indexing.html#returning-a-view-versus-a-copy\n",
      "  V.replace({False: 0, True: 1}, inplace=True)\n"
     ]
    },
    {
     "name": "stdout",
     "output_type": "stream",
     "text": [
      "The linear regression mae is 1.5082585118844432\n",
      "The huber regression mae is 1.446968044606178\n",
      "The cutoff is 0.8000000000000003\n"
     ]
    },
    {
     "name": "stderr",
     "output_type": "stream",
     "text": [
      "C:\\Users\\k_vsl\\AppData\\Local\\Temp\\ipykernel_15432\\494964417.py:13: SettingWithCopyWarning: \n",
      "A value is trying to be set on a copy of a slice from a DataFrame.\n",
      "Try using .loc[row_indexer,col_indexer] = value instead\n",
      "\n",
      "See the caveats in the documentation: https://pandas.pydata.org/pandas-docs/stable/user_guide/indexing.html#returning-a-view-versus-a-copy\n",
      "  V['x_skew'] = [(val > cutoff) for val in V.per_x]\n",
      "C:\\Users\\k_vsl\\AppData\\Local\\Temp\\ipykernel_15432\\494964417.py:14: SettingWithCopyWarning: \n",
      "A value is trying to be set on a copy of a slice from a DataFrame.\n",
      "Try using .loc[row_indexer,col_indexer] = value instead\n",
      "\n",
      "See the caveats in the documentation: https://pandas.pydata.org/pandas-docs/stable/user_guide/indexing.html#returning-a-view-versus-a-copy\n",
      "  V['y_skew'] = [(val > cutoff) for val in V.per_y]\n",
      "C:\\Users\\k_vsl\\AppData\\Local\\Temp\\ipykernel_15432\\494964417.py:15: SettingWithCopyWarning: \n",
      "A value is trying to be set on a copy of a slice from a DataFrame.\n",
      "Try using .loc[row_indexer,col_indexer] = value instead\n",
      "\n",
      "See the caveats in the documentation: https://pandas.pydata.org/pandas-docs/stable/user_guide/indexing.html#returning-a-view-versus-a-copy\n",
      "  V['z_skew'] = [(val > cutoff) for val in V.per_z]\n",
      "C:\\Users\\k_vsl\\AppData\\Local\\Temp\\ipykernel_15432\\494964417.py:16: SettingWithCopyWarning: \n",
      "A value is trying to be set on a copy of a slice from a DataFrame.\n",
      "Try using .loc[row_indexer,col_indexer] = value instead\n",
      "\n",
      "See the caveats in the documentation: https://pandas.pydata.org/pandas-docs/stable/user_guide/indexing.html#returning-a-view-versus-a-copy\n",
      "  V['low_cluster'] = [(c < 3) for c in V.num_clusters]\n",
      "C:\\Users\\k_vsl\\AppData\\Local\\Temp\\ipykernel_15432\\494964417.py:17: SettingWithCopyWarning: \n",
      "A value is trying to be set on a copy of a slice from a DataFrame.\n",
      "Try using .loc[row_indexer,col_indexer] = value instead\n",
      "\n",
      "See the caveats in the documentation: https://pandas.pydata.org/pandas-docs/stable/user_guide/indexing.html#returning-a-view-versus-a-copy\n",
      "  V['high_cluster'] = [(c >= 8) for c in V.num_clusters]\n",
      "C:\\Users\\k_vsl\\AppData\\Local\\Temp\\ipykernel_15432\\494964417.py:18: SettingWithCopyWarning: \n",
      "A value is trying to be set on a copy of a slice from a DataFrame\n",
      "\n",
      "See the caveats in the documentation: https://pandas.pydata.org/pandas-docs/stable/user_guide/indexing.html#returning-a-view-versus-a-copy\n",
      "  V.replace({False: 0, True: 1}, inplace=True)\n"
     ]
    },
    {
     "name": "stdout",
     "output_type": "stream",
     "text": [
      "The linear regression mae is 1.5082585118844432\n",
      "The huber regression mae is 1.4466636950060718\n",
      "The cutoff is 0.8500000000000003\n"
     ]
    },
    {
     "name": "stderr",
     "output_type": "stream",
     "text": [
      "C:\\Users\\k_vsl\\AppData\\Local\\Temp\\ipykernel_15432\\494964417.py:13: SettingWithCopyWarning: \n",
      "A value is trying to be set on a copy of a slice from a DataFrame.\n",
      "Try using .loc[row_indexer,col_indexer] = value instead\n",
      "\n",
      "See the caveats in the documentation: https://pandas.pydata.org/pandas-docs/stable/user_guide/indexing.html#returning-a-view-versus-a-copy\n",
      "  V['x_skew'] = [(val > cutoff) for val in V.per_x]\n",
      "C:\\Users\\k_vsl\\AppData\\Local\\Temp\\ipykernel_15432\\494964417.py:14: SettingWithCopyWarning: \n",
      "A value is trying to be set on a copy of a slice from a DataFrame.\n",
      "Try using .loc[row_indexer,col_indexer] = value instead\n",
      "\n",
      "See the caveats in the documentation: https://pandas.pydata.org/pandas-docs/stable/user_guide/indexing.html#returning-a-view-versus-a-copy\n",
      "  V['y_skew'] = [(val > cutoff) for val in V.per_y]\n",
      "C:\\Users\\k_vsl\\AppData\\Local\\Temp\\ipykernel_15432\\494964417.py:15: SettingWithCopyWarning: \n",
      "A value is trying to be set on a copy of a slice from a DataFrame.\n",
      "Try using .loc[row_indexer,col_indexer] = value instead\n",
      "\n",
      "See the caveats in the documentation: https://pandas.pydata.org/pandas-docs/stable/user_guide/indexing.html#returning-a-view-versus-a-copy\n",
      "  V['z_skew'] = [(val > cutoff) for val in V.per_z]\n",
      "C:\\Users\\k_vsl\\AppData\\Local\\Temp\\ipykernel_15432\\494964417.py:16: SettingWithCopyWarning: \n",
      "A value is trying to be set on a copy of a slice from a DataFrame.\n",
      "Try using .loc[row_indexer,col_indexer] = value instead\n",
      "\n",
      "See the caveats in the documentation: https://pandas.pydata.org/pandas-docs/stable/user_guide/indexing.html#returning-a-view-versus-a-copy\n",
      "  V['low_cluster'] = [(c < 3) for c in V.num_clusters]\n",
      "C:\\Users\\k_vsl\\AppData\\Local\\Temp\\ipykernel_15432\\494964417.py:17: SettingWithCopyWarning: \n",
      "A value is trying to be set on a copy of a slice from a DataFrame.\n",
      "Try using .loc[row_indexer,col_indexer] = value instead\n",
      "\n",
      "See the caveats in the documentation: https://pandas.pydata.org/pandas-docs/stable/user_guide/indexing.html#returning-a-view-versus-a-copy\n",
      "  V['high_cluster'] = [(c >= 8) for c in V.num_clusters]\n",
      "C:\\Users\\k_vsl\\AppData\\Local\\Temp\\ipykernel_15432\\494964417.py:18: SettingWithCopyWarning: \n",
      "A value is trying to be set on a copy of a slice from a DataFrame\n",
      "\n",
      "See the caveats in the documentation: https://pandas.pydata.org/pandas-docs/stable/user_guide/indexing.html#returning-a-view-versus-a-copy\n",
      "  V.replace({False: 0, True: 1}, inplace=True)\n"
     ]
    },
    {
     "name": "stdout",
     "output_type": "stream",
     "text": [
      "The linear regression mae is 1.5082585118844432\n",
      "The huber regression mae is 1.4466271198296172\n",
      "The cutoff is 0.9000000000000004\n"
     ]
    },
    {
     "name": "stderr",
     "output_type": "stream",
     "text": [
      "C:\\Users\\k_vsl\\AppData\\Local\\Temp\\ipykernel_15432\\494964417.py:13: SettingWithCopyWarning: \n",
      "A value is trying to be set on a copy of a slice from a DataFrame.\n",
      "Try using .loc[row_indexer,col_indexer] = value instead\n",
      "\n",
      "See the caveats in the documentation: https://pandas.pydata.org/pandas-docs/stable/user_guide/indexing.html#returning-a-view-versus-a-copy\n",
      "  V['x_skew'] = [(val > cutoff) for val in V.per_x]\n",
      "C:\\Users\\k_vsl\\AppData\\Local\\Temp\\ipykernel_15432\\494964417.py:14: SettingWithCopyWarning: \n",
      "A value is trying to be set on a copy of a slice from a DataFrame.\n",
      "Try using .loc[row_indexer,col_indexer] = value instead\n",
      "\n",
      "See the caveats in the documentation: https://pandas.pydata.org/pandas-docs/stable/user_guide/indexing.html#returning-a-view-versus-a-copy\n",
      "  V['y_skew'] = [(val > cutoff) for val in V.per_y]\n",
      "C:\\Users\\k_vsl\\AppData\\Local\\Temp\\ipykernel_15432\\494964417.py:15: SettingWithCopyWarning: \n",
      "A value is trying to be set on a copy of a slice from a DataFrame.\n",
      "Try using .loc[row_indexer,col_indexer] = value instead\n",
      "\n",
      "See the caveats in the documentation: https://pandas.pydata.org/pandas-docs/stable/user_guide/indexing.html#returning-a-view-versus-a-copy\n",
      "  V['z_skew'] = [(val > cutoff) for val in V.per_z]\n",
      "C:\\Users\\k_vsl\\AppData\\Local\\Temp\\ipykernel_15432\\494964417.py:16: SettingWithCopyWarning: \n",
      "A value is trying to be set on a copy of a slice from a DataFrame.\n",
      "Try using .loc[row_indexer,col_indexer] = value instead\n",
      "\n",
      "See the caveats in the documentation: https://pandas.pydata.org/pandas-docs/stable/user_guide/indexing.html#returning-a-view-versus-a-copy\n",
      "  V['low_cluster'] = [(c < 3) for c in V.num_clusters]\n",
      "C:\\Users\\k_vsl\\AppData\\Local\\Temp\\ipykernel_15432\\494964417.py:17: SettingWithCopyWarning: \n",
      "A value is trying to be set on a copy of a slice from a DataFrame.\n",
      "Try using .loc[row_indexer,col_indexer] = value instead\n",
      "\n",
      "See the caveats in the documentation: https://pandas.pydata.org/pandas-docs/stable/user_guide/indexing.html#returning-a-view-versus-a-copy\n",
      "  V['high_cluster'] = [(c >= 8) for c in V.num_clusters]\n",
      "C:\\Users\\k_vsl\\AppData\\Local\\Temp\\ipykernel_15432\\494964417.py:18: SettingWithCopyWarning: \n",
      "A value is trying to be set on a copy of a slice from a DataFrame\n",
      "\n",
      "See the caveats in the documentation: https://pandas.pydata.org/pandas-docs/stable/user_guide/indexing.html#returning-a-view-versus-a-copy\n",
      "  V.replace({False: 0, True: 1}, inplace=True)\n"
     ]
    },
    {
     "name": "stdout",
     "output_type": "stream",
     "text": [
      "The linear regression mae is 1.5082585118844432\n",
      "The huber regression mae is 1.4467195064155483\n",
      "The cutoff is 0.9500000000000004\n"
     ]
    },
    {
     "name": "stderr",
     "output_type": "stream",
     "text": [
      "C:\\Users\\k_vsl\\AppData\\Local\\Temp\\ipykernel_15432\\494964417.py:13: SettingWithCopyWarning: \n",
      "A value is trying to be set on a copy of a slice from a DataFrame.\n",
      "Try using .loc[row_indexer,col_indexer] = value instead\n",
      "\n",
      "See the caveats in the documentation: https://pandas.pydata.org/pandas-docs/stable/user_guide/indexing.html#returning-a-view-versus-a-copy\n",
      "  V['x_skew'] = [(val > cutoff) for val in V.per_x]\n",
      "C:\\Users\\k_vsl\\AppData\\Local\\Temp\\ipykernel_15432\\494964417.py:14: SettingWithCopyWarning: \n",
      "A value is trying to be set on a copy of a slice from a DataFrame.\n",
      "Try using .loc[row_indexer,col_indexer] = value instead\n",
      "\n",
      "See the caveats in the documentation: https://pandas.pydata.org/pandas-docs/stable/user_guide/indexing.html#returning-a-view-versus-a-copy\n",
      "  V['y_skew'] = [(val > cutoff) for val in V.per_y]\n",
      "C:\\Users\\k_vsl\\AppData\\Local\\Temp\\ipykernel_15432\\494964417.py:15: SettingWithCopyWarning: \n",
      "A value is trying to be set on a copy of a slice from a DataFrame.\n",
      "Try using .loc[row_indexer,col_indexer] = value instead\n",
      "\n",
      "See the caveats in the documentation: https://pandas.pydata.org/pandas-docs/stable/user_guide/indexing.html#returning-a-view-versus-a-copy\n",
      "  V['z_skew'] = [(val > cutoff) for val in V.per_z]\n",
      "C:\\Users\\k_vsl\\AppData\\Local\\Temp\\ipykernel_15432\\494964417.py:16: SettingWithCopyWarning: \n",
      "A value is trying to be set on a copy of a slice from a DataFrame.\n",
      "Try using .loc[row_indexer,col_indexer] = value instead\n",
      "\n",
      "See the caveats in the documentation: https://pandas.pydata.org/pandas-docs/stable/user_guide/indexing.html#returning-a-view-versus-a-copy\n",
      "  V['low_cluster'] = [(c < 3) for c in V.num_clusters]\n",
      "C:\\Users\\k_vsl\\AppData\\Local\\Temp\\ipykernel_15432\\494964417.py:17: SettingWithCopyWarning: \n",
      "A value is trying to be set on a copy of a slice from a DataFrame.\n",
      "Try using .loc[row_indexer,col_indexer] = value instead\n",
      "\n",
      "See the caveats in the documentation: https://pandas.pydata.org/pandas-docs/stable/user_guide/indexing.html#returning-a-view-versus-a-copy\n",
      "  V['high_cluster'] = [(c >= 8) for c in V.num_clusters]\n",
      "C:\\Users\\k_vsl\\AppData\\Local\\Temp\\ipykernel_15432\\494964417.py:18: SettingWithCopyWarning: \n",
      "A value is trying to be set on a copy of a slice from a DataFrame\n",
      "\n",
      "See the caveats in the documentation: https://pandas.pydata.org/pandas-docs/stable/user_guide/indexing.html#returning-a-view-versus-a-copy\n",
      "  V.replace({False: 0, True: 1}, inplace=True)\n"
     ]
    },
    {
     "name": "stdout",
     "output_type": "stream",
     "text": [
      "The linear regression mae is 1.5082585118844432\n",
      "The huber regression mae is 1.4458851646983752\n"
     ]
    }
   ],
   "source": [
    "# Tune cutoffs for skews with cluster cutoffs 3 and 7\n",
    "\n",
    "print(\"Running\")\n",
    "cutoffs = np.arange(.5, 1, .05)\n",
    "n = len(cutoffs)\n",
    "maes_lr = np.zeros(n)\n",
    "maes_h = np.zeros(n)\n",
    "i = 0\n",
    "for i in range(0,n): \n",
    "    cutoff = cutoffs[i]\n",
    "    print(\"The cutoff is \" + str(cutoff))\n",
    "    V = X[['az_t_pred', 'ze_t_pred', 'num_clusters','mse_cat','per_x', 'per_y', 'per_z']]\n",
    "    V['x_skew'] = [(val > cutoff) for val in V.per_x]\n",
    "    V['y_skew'] = [(val > cutoff) for val in V.per_y]\n",
    "    V['z_skew'] = [(val > cutoff) for val in V.per_z]\n",
    "    V['low_cluster'] = [(c < 3) for c in V.num_clusters]\n",
    "    V['high_cluster'] = [(c >= 8) for c in V.num_clusters]\n",
    "    V.replace({False: 0, True: 1}, inplace=True)\n",
    "    \n",
    "    V_train, V_val, y_train, y_val = train_test_split(V, y, \n",
    "                                                             shuffle = True,\n",
    "                                                             random_state = 134, \n",
    "                                                             test_size = .25)\n",
    "    feature = ['az_t_pred', 'ze_t_pred', 'x_skew', 'y_skew', 'z_skew', 'mse_cat', 'low_cluster', 'high_cluster']\n",
    "    #mae_lr = run_lr(V_train, y_train, feature)\n",
    "    mae_h = run_sgd(V_train, y_train, feature, 'huber')\n",
    "    #maes_lr[i] = mae_lr\n",
    "    maes_h[i] = mae_h\n",
    "    print(\"The linear regression mae is \" + str(mae_lr))\n",
    "    print(\"The huber regression mae is \" + str(mae_h))\n",
    "    i += 1"
   ]
  },
  {
   "cell_type": "code",
   "execution_count": 616,
   "id": "d359af18",
   "metadata": {},
   "outputs": [
    {
     "name": "stdout",
     "output_type": "stream",
     "text": [
      "[1.44777902 1.44911025 1.44705356 1.44722974 1.44745729 1.44696804\n",
      " 1.4466637  1.44662712 1.44671951 1.44588516]\n",
      "[0.5  0.55 0.6  0.65 0.7  0.75 0.8  0.85 0.9  0.95]\n"
     ]
    }
   ],
   "source": [
    "print(maes_h)\n",
    "print(cutoffs)"
   ]
  },
  {
   "cell_type": "code",
   "execution_count": 617,
   "id": "94668e78",
   "metadata": {},
   "outputs": [
    {
     "data": {
      "image/png": "[encoded data removed]",
      "text/plain": [
       "<Figure size 800x600 with 1 Axes>"
      ]
     },
     "metadata": {},
     "output_type": "display_data"
    }
   ],
   "source": [
    "# Graph for different cutoffs\n",
    "plt.figure(figsize=(8,6))\n",
    "\n",
    "#plt.plot(cutoffs, maes_lr, label= 'Epsilon Insensitive', c = 'orange')\n",
    "plt.plot(cutoffs, maes_h, label = 'huber', c = 'blue')\n",
    "#plt.plot(maes_h, label='huber', c = 'blue')\n",
    "plt.legend(frameon=False)\n",
    "\n",
    "plt.xticks(fontsize=10)\n",
    "plt.yticks(fontsize=10)\n",
    "\n",
    "plt.xlabel(\"Cutoff\")\n",
    "plt.ylabel(\"MAE\")\n",
    "plt.title(\"Cutoffs for skewed data\")\n",
    "\n",
    "plt.show()"
   ]
  },
  {
   "cell_type": "markdown",
   "id": "431ced36",
   "metadata": {},
   "source": [
    "Takeaway: .9 is still a reasonable cutoff, slightly better cluster cutoff"
   ]
  },
  {
   "cell_type": "code",
   "execution_count": 621,
   "id": "1441e971",
   "metadata": {},
   "outputs": [
    {
     "name": "stdout",
     "output_type": "stream",
     "text": [
      "Running\n",
      "The cutoff is 0.5\n"
     ]
    },
    {
     "name": "stderr",
     "output_type": "stream",
     "text": [
      "C:\\Users\\k_vsl\\AppData\\Local\\Temp\\ipykernel_15432\\1002823402.py:12: SettingWithCopyWarning: \n",
      "A value is trying to be set on a copy of a slice from a DataFrame.\n",
      "Try using .loc[row_indexer,col_indexer] = value instead\n",
      "\n",
      "See the caveats in the documentation: https://pandas.pydata.org/pandas-docs/stable/user_guide/indexing.html#returning-a-view-versus-a-copy\n",
      "  V['x_skew'] = [(val > cutoff) for val in V.per_x]\n",
      "C:\\Users\\k_vsl\\AppData\\Local\\Temp\\ipykernel_15432\\1002823402.py:13: SettingWithCopyWarning: \n",
      "A value is trying to be set on a copy of a slice from a DataFrame.\n",
      "Try using .loc[row_indexer,col_indexer] = value instead\n",
      "\n",
      "See the caveats in the documentation: https://pandas.pydata.org/pandas-docs/stable/user_guide/indexing.html#returning-a-view-versus-a-copy\n",
      "  V['y_skew'] = [(val > cutoff) for val in V.per_y]\n",
      "C:\\Users\\k_vsl\\AppData\\Local\\Temp\\ipykernel_15432\\1002823402.py:14: SettingWithCopyWarning: \n",
      "A value is trying to be set on a copy of a slice from a DataFrame.\n",
      "Try using .loc[row_indexer,col_indexer] = value instead\n",
      "\n",
      "See the caveats in the documentation: https://pandas.pydata.org/pandas-docs/stable/user_guide/indexing.html#returning-a-view-versus-a-copy\n",
      "  V['z_skew'] = [(val > cutoff) for val in V.per_z]\n",
      "C:\\Users\\k_vsl\\AppData\\Local\\Temp\\ipykernel_15432\\1002823402.py:15: SettingWithCopyWarning: \n",
      "A value is trying to be set on a copy of a slice from a DataFrame.\n",
      "Try using .loc[row_indexer,col_indexer] = value instead\n",
      "\n",
      "See the caveats in the documentation: https://pandas.pydata.org/pandas-docs/stable/user_guide/indexing.html#returning-a-view-versus-a-copy\n",
      "  V['low_cluster'] = [(c < 2) for c in V.num_clusters]\n",
      "C:\\Users\\k_vsl\\AppData\\Local\\Temp\\ipykernel_15432\\1002823402.py:16: SettingWithCopyWarning: \n",
      "A value is trying to be set on a copy of a slice from a DataFrame.\n",
      "Try using .loc[row_indexer,col_indexer] = value instead\n",
      "\n",
      "See the caveats in the documentation: https://pandas.pydata.org/pandas-docs/stable/user_guide/indexing.html#returning-a-view-versus-a-copy\n",
      "  V['high_cluster'] = [(c > 9) for c in V.num_clusters]\n",
      "C:\\Users\\k_vsl\\AppData\\Local\\Temp\\ipykernel_15432\\1002823402.py:17: SettingWithCopyWarning: \n",
      "A value is trying to be set on a copy of a slice from a DataFrame\n",
      "\n",
      "See the caveats in the documentation: https://pandas.pydata.org/pandas-docs/stable/user_guide/indexing.html#returning-a-view-versus-a-copy\n",
      "  V.replace({False: 0, True: 1}, inplace=True)\n"
     ]
    },
    {
     "name": "stdout",
     "output_type": "stream",
     "text": [
      "The linear regression mae is 1.5064444804623804\n",
      "The huber regression mae is 1.443672912528535\n",
      "The cutoff is 0.55\n"
     ]
    },
    {
     "name": "stderr",
     "output_type": "stream",
     "text": [
      "C:\\Users\\k_vsl\\AppData\\Local\\Temp\\ipykernel_15432\\1002823402.py:12: SettingWithCopyWarning: \n",
      "A value is trying to be set on a copy of a slice from a DataFrame.\n",
      "Try using .loc[row_indexer,col_indexer] = value instead\n",
      "\n",
      "See the caveats in the documentation: https://pandas.pydata.org/pandas-docs/stable/user_guide/indexing.html#returning-a-view-versus-a-copy\n",
      "  V['x_skew'] = [(val > cutoff) for val in V.per_x]\n",
      "C:\\Users\\k_vsl\\AppData\\Local\\Temp\\ipykernel_15432\\1002823402.py:13: SettingWithCopyWarning: \n",
      "A value is trying to be set on a copy of a slice from a DataFrame.\n",
      "Try using .loc[row_indexer,col_indexer] = value instead\n",
      "\n",
      "See the caveats in the documentation: https://pandas.pydata.org/pandas-docs/stable/user_guide/indexing.html#returning-a-view-versus-a-copy\n",
      "  V['y_skew'] = [(val > cutoff) for val in V.per_y]\n",
      "C:\\Users\\k_vsl\\AppData\\Local\\Temp\\ipykernel_15432\\1002823402.py:14: SettingWithCopyWarning: \n",
      "A value is trying to be set on a copy of a slice from a DataFrame.\n",
      "Try using .loc[row_indexer,col_indexer] = value instead\n",
      "\n",
      "See the caveats in the documentation: https://pandas.pydata.org/pandas-docs/stable/user_guide/indexing.html#returning-a-view-versus-a-copy\n",
      "  V['z_skew'] = [(val > cutoff) for val in V.per_z]\n",
      "C:\\Users\\k_vsl\\AppData\\Local\\Temp\\ipykernel_15432\\1002823402.py:15: SettingWithCopyWarning: \n",
      "A value is trying to be set on a copy of a slice from a DataFrame.\n",
      "Try using .loc[row_indexer,col_indexer] = value instead\n",
      "\n",
      "See the caveats in the documentation: https://pandas.pydata.org/pandas-docs/stable/user_guide/indexing.html#returning-a-view-versus-a-copy\n",
      "  V['low_cluster'] = [(c < 2) for c in V.num_clusters]\n",
      "C:\\Users\\k_vsl\\AppData\\Local\\Temp\\ipykernel_15432\\1002823402.py:16: SettingWithCopyWarning: \n",
      "A value is trying to be set on a copy of a slice from a DataFrame.\n",
      "Try using .loc[row_indexer,col_indexer] = value instead\n",
      "\n",
      "See the caveats in the documentation: https://pandas.pydata.org/pandas-docs/stable/user_guide/indexing.html#returning-a-view-versus-a-copy\n",
      "  V['high_cluster'] = [(c > 9) for c in V.num_clusters]\n",
      "C:\\Users\\k_vsl\\AppData\\Local\\Temp\\ipykernel_15432\\1002823402.py:17: SettingWithCopyWarning: \n",
      "A value is trying to be set on a copy of a slice from a DataFrame\n",
      "\n",
      "See the caveats in the documentation: https://pandas.pydata.org/pandas-docs/stable/user_guide/indexing.html#returning-a-view-versus-a-copy\n",
      "  V.replace({False: 0, True: 1}, inplace=True)\n"
     ]
    },
    {
     "name": "stdout",
     "output_type": "stream",
     "text": [
      "The linear regression mae is 1.5064549194582273\n",
      "The huber regression mae is 1.4431908771985047\n",
      "The cutoff is 0.6000000000000001\n"
     ]
    },
    {
     "name": "stderr",
     "output_type": "stream",
     "text": [
      "C:\\Users\\k_vsl\\AppData\\Local\\Temp\\ipykernel_15432\\1002823402.py:12: SettingWithCopyWarning: \n",
      "A value is trying to be set on a copy of a slice from a DataFrame.\n",
      "Try using .loc[row_indexer,col_indexer] = value instead\n",
      "\n",
      "See the caveats in the documentation: https://pandas.pydata.org/pandas-docs/stable/user_guide/indexing.html#returning-a-view-versus-a-copy\n",
      "  V['x_skew'] = [(val > cutoff) for val in V.per_x]\n",
      "C:\\Users\\k_vsl\\AppData\\Local\\Temp\\ipykernel_15432\\1002823402.py:13: SettingWithCopyWarning: \n",
      "A value is trying to be set on a copy of a slice from a DataFrame.\n",
      "Try using .loc[row_indexer,col_indexer] = value instead\n",
      "\n",
      "See the caveats in the documentation: https://pandas.pydata.org/pandas-docs/stable/user_guide/indexing.html#returning-a-view-versus-a-copy\n",
      "  V['y_skew'] = [(val > cutoff) for val in V.per_y]\n",
      "C:\\Users\\k_vsl\\AppData\\Local\\Temp\\ipykernel_15432\\1002823402.py:14: SettingWithCopyWarning: \n",
      "A value is trying to be set on a copy of a slice from a DataFrame.\n",
      "Try using .loc[row_indexer,col_indexer] = value instead\n",
      "\n",
      "See the caveats in the documentation: https://pandas.pydata.org/pandas-docs/stable/user_guide/indexing.html#returning-a-view-versus-a-copy\n",
      "  V['z_skew'] = [(val > cutoff) for val in V.per_z]\n",
      "C:\\Users\\k_vsl\\AppData\\Local\\Temp\\ipykernel_15432\\1002823402.py:15: SettingWithCopyWarning: \n",
      "A value is trying to be set on a copy of a slice from a DataFrame.\n",
      "Try using .loc[row_indexer,col_indexer] = value instead\n",
      "\n",
      "See the caveats in the documentation: https://pandas.pydata.org/pandas-docs/stable/user_guide/indexing.html#returning-a-view-versus-a-copy\n",
      "  V['low_cluster'] = [(c < 2) for c in V.num_clusters]\n",
      "C:\\Users\\k_vsl\\AppData\\Local\\Temp\\ipykernel_15432\\1002823402.py:16: SettingWithCopyWarning: \n",
      "A value is trying to be set on a copy of a slice from a DataFrame.\n",
      "Try using .loc[row_indexer,col_indexer] = value instead\n",
      "\n",
      "See the caveats in the documentation: https://pandas.pydata.org/pandas-docs/stable/user_guide/indexing.html#returning-a-view-versus-a-copy\n",
      "  V['high_cluster'] = [(c > 9) for c in V.num_clusters]\n",
      "C:\\Users\\k_vsl\\AppData\\Local\\Temp\\ipykernel_15432\\1002823402.py:17: SettingWithCopyWarning: \n",
      "A value is trying to be set on a copy of a slice from a DataFrame\n",
      "\n",
      "See the caveats in the documentation: https://pandas.pydata.org/pandas-docs/stable/user_guide/indexing.html#returning-a-view-versus-a-copy\n",
      "  V.replace({False: 0, True: 1}, inplace=True)\n"
     ]
    },
    {
     "name": "stdout",
     "output_type": "stream",
     "text": [
      "The linear regression mae is 1.5064538181876614\n",
      "The huber regression mae is 1.445323508488442\n",
      "The cutoff is 0.6500000000000001\n"
     ]
    },
    {
     "name": "stderr",
     "output_type": "stream",
     "text": [
      "C:\\Users\\k_vsl\\AppData\\Local\\Temp\\ipykernel_15432\\1002823402.py:12: SettingWithCopyWarning: \n",
      "A value is trying to be set on a copy of a slice from a DataFrame.\n",
      "Try using .loc[row_indexer,col_indexer] = value instead\n",
      "\n",
      "See the caveats in the documentation: https://pandas.pydata.org/pandas-docs/stable/user_guide/indexing.html#returning-a-view-versus-a-copy\n",
      "  V['x_skew'] = [(val > cutoff) for val in V.per_x]\n",
      "C:\\Users\\k_vsl\\AppData\\Local\\Temp\\ipykernel_15432\\1002823402.py:13: SettingWithCopyWarning: \n",
      "A value is trying to be set on a copy of a slice from a DataFrame.\n",
      "Try using .loc[row_indexer,col_indexer] = value instead\n",
      "\n",
      "See the caveats in the documentation: https://pandas.pydata.org/pandas-docs/stable/user_guide/indexing.html#returning-a-view-versus-a-copy\n",
      "  V['y_skew'] = [(val > cutoff) for val in V.per_y]\n",
      "C:\\Users\\k_vsl\\AppData\\Local\\Temp\\ipykernel_15432\\1002823402.py:14: SettingWithCopyWarning: \n",
      "A value is trying to be set on a copy of a slice from a DataFrame.\n",
      "Try using .loc[row_indexer,col_indexer] = value instead\n",
      "\n",
      "See the caveats in the documentation: https://pandas.pydata.org/pandas-docs/stable/user_guide/indexing.html#returning-a-view-versus-a-copy\n",
      "  V['z_skew'] = [(val > cutoff) for val in V.per_z]\n",
      "C:\\Users\\k_vsl\\AppData\\Local\\Temp\\ipykernel_15432\\1002823402.py:15: SettingWithCopyWarning: \n",
      "A value is trying to be set on a copy of a slice from a DataFrame.\n",
      "Try using .loc[row_indexer,col_indexer] = value instead\n",
      "\n",
      "See the caveats in the documentation: https://pandas.pydata.org/pandas-docs/stable/user_guide/indexing.html#returning-a-view-versus-a-copy\n",
      "  V['low_cluster'] = [(c < 2) for c in V.num_clusters]\n",
      "C:\\Users\\k_vsl\\AppData\\Local\\Temp\\ipykernel_15432\\1002823402.py:16: SettingWithCopyWarning: \n",
      "A value is trying to be set on a copy of a slice from a DataFrame.\n",
      "Try using .loc[row_indexer,col_indexer] = value instead\n",
      "\n",
      "See the caveats in the documentation: https://pandas.pydata.org/pandas-docs/stable/user_guide/indexing.html#returning-a-view-versus-a-copy\n",
      "  V['high_cluster'] = [(c > 9) for c in V.num_clusters]\n",
      "C:\\Users\\k_vsl\\AppData\\Local\\Temp\\ipykernel_15432\\1002823402.py:17: SettingWithCopyWarning: \n",
      "A value is trying to be set on a copy of a slice from a DataFrame\n",
      "\n",
      "See the caveats in the documentation: https://pandas.pydata.org/pandas-docs/stable/user_guide/indexing.html#returning-a-view-versus-a-copy\n",
      "  V.replace({False: 0, True: 1}, inplace=True)\n"
     ]
    },
    {
     "name": "stdout",
     "output_type": "stream",
     "text": [
      "The linear regression mae is 1.5064037187118196\n",
      "The huber regression mae is 1.4434100486545325\n",
      "The cutoff is 0.7000000000000002\n"
     ]
    },
    {
     "name": "stderr",
     "output_type": "stream",
     "text": [
      "C:\\Users\\k_vsl\\AppData\\Local\\Temp\\ipykernel_15432\\1002823402.py:12: SettingWithCopyWarning: \n",
      "A value is trying to be set on a copy of a slice from a DataFrame.\n",
      "Try using .loc[row_indexer,col_indexer] = value instead\n",
      "\n",
      "See the caveats in the documentation: https://pandas.pydata.org/pandas-docs/stable/user_guide/indexing.html#returning-a-view-versus-a-copy\n",
      "  V['x_skew'] = [(val > cutoff) for val in V.per_x]\n",
      "C:\\Users\\k_vsl\\AppData\\Local\\Temp\\ipykernel_15432\\1002823402.py:13: SettingWithCopyWarning: \n",
      "A value is trying to be set on a copy of a slice from a DataFrame.\n",
      "Try using .loc[row_indexer,col_indexer] = value instead\n",
      "\n",
      "See the caveats in the documentation: https://pandas.pydata.org/pandas-docs/stable/user_guide/indexing.html#returning-a-view-versus-a-copy\n",
      "  V['y_skew'] = [(val > cutoff) for val in V.per_y]\n",
      "C:\\Users\\k_vsl\\AppData\\Local\\Temp\\ipykernel_15432\\1002823402.py:14: SettingWithCopyWarning: \n",
      "A value is trying to be set on a copy of a slice from a DataFrame.\n",
      "Try using .loc[row_indexer,col_indexer] = value instead\n",
      "\n",
      "See the caveats in the documentation: https://pandas.pydata.org/pandas-docs/stable/user_guide/indexing.html#returning-a-view-versus-a-copy\n",
      "  V['z_skew'] = [(val > cutoff) for val in V.per_z]\n",
      "C:\\Users\\k_vsl\\AppData\\Local\\Temp\\ipykernel_15432\\1002823402.py:15: SettingWithCopyWarning: \n",
      "A value is trying to be set on a copy of a slice from a DataFrame.\n",
      "Try using .loc[row_indexer,col_indexer] = value instead\n",
      "\n",
      "See the caveats in the documentation: https://pandas.pydata.org/pandas-docs/stable/user_guide/indexing.html#returning-a-view-versus-a-copy\n",
      "  V['low_cluster'] = [(c < 2) for c in V.num_clusters]\n",
      "C:\\Users\\k_vsl\\AppData\\Local\\Temp\\ipykernel_15432\\1002823402.py:16: SettingWithCopyWarning: \n",
      "A value is trying to be set on a copy of a slice from a DataFrame.\n",
      "Try using .loc[row_indexer,col_indexer] = value instead\n",
      "\n",
      "See the caveats in the documentation: https://pandas.pydata.org/pandas-docs/stable/user_guide/indexing.html#returning-a-view-versus-a-copy\n",
      "  V['high_cluster'] = [(c > 9) for c in V.num_clusters]\n",
      "C:\\Users\\k_vsl\\AppData\\Local\\Temp\\ipykernel_15432\\1002823402.py:17: SettingWithCopyWarning: \n",
      "A value is trying to be set on a copy of a slice from a DataFrame\n",
      "\n",
      "See the caveats in the documentation: https://pandas.pydata.org/pandas-docs/stable/user_guide/indexing.html#returning-a-view-versus-a-copy\n",
      "  V.replace({False: 0, True: 1}, inplace=True)\n"
     ]
    },
    {
     "name": "stdout",
     "output_type": "stream",
     "text": [
      "The linear regression mae is 1.5063801383074373\n",
      "The huber regression mae is 1.4436713786417057\n",
      "The cutoff is 0.7500000000000002\n"
     ]
    },
    {
     "name": "stderr",
     "output_type": "stream",
     "text": [
      "C:\\Users\\k_vsl\\AppData\\Local\\Temp\\ipykernel_15432\\1002823402.py:12: SettingWithCopyWarning: \n",
      "A value is trying to be set on a copy of a slice from a DataFrame.\n",
      "Try using .loc[row_indexer,col_indexer] = value instead\n",
      "\n",
      "See the caveats in the documentation: https://pandas.pydata.org/pandas-docs/stable/user_guide/indexing.html#returning-a-view-versus-a-copy\n",
      "  V['x_skew'] = [(val > cutoff) for val in V.per_x]\n",
      "C:\\Users\\k_vsl\\AppData\\Local\\Temp\\ipykernel_15432\\1002823402.py:13: SettingWithCopyWarning: \n",
      "A value is trying to be set on a copy of a slice from a DataFrame.\n",
      "Try using .loc[row_indexer,col_indexer] = value instead\n",
      "\n",
      "See the caveats in the documentation: https://pandas.pydata.org/pandas-docs/stable/user_guide/indexing.html#returning-a-view-versus-a-copy\n",
      "  V['y_skew'] = [(val > cutoff) for val in V.per_y]\n",
      "C:\\Users\\k_vsl\\AppData\\Local\\Temp\\ipykernel_15432\\1002823402.py:14: SettingWithCopyWarning: \n",
      "A value is trying to be set on a copy of a slice from a DataFrame.\n",
      "Try using .loc[row_indexer,col_indexer] = value instead\n",
      "\n",
      "See the caveats in the documentation: https://pandas.pydata.org/pandas-docs/stable/user_guide/indexing.html#returning-a-view-versus-a-copy\n",
      "  V['z_skew'] = [(val > cutoff) for val in V.per_z]\n",
      "C:\\Users\\k_vsl\\AppData\\Local\\Temp\\ipykernel_15432\\1002823402.py:15: SettingWithCopyWarning: \n",
      "A value is trying to be set on a copy of a slice from a DataFrame.\n",
      "Try using .loc[row_indexer,col_indexer] = value instead\n",
      "\n",
      "See the caveats in the documentation: https://pandas.pydata.org/pandas-docs/stable/user_guide/indexing.html#returning-a-view-versus-a-copy\n",
      "  V['low_cluster'] = [(c < 2) for c in V.num_clusters]\n",
      "C:\\Users\\k_vsl\\AppData\\Local\\Temp\\ipykernel_15432\\1002823402.py:16: SettingWithCopyWarning: \n",
      "A value is trying to be set on a copy of a slice from a DataFrame.\n",
      "Try using .loc[row_indexer,col_indexer] = value instead\n",
      "\n",
      "See the caveats in the documentation: https://pandas.pydata.org/pandas-docs/stable/user_guide/indexing.html#returning-a-view-versus-a-copy\n",
      "  V['high_cluster'] = [(c > 9) for c in V.num_clusters]\n",
      "C:\\Users\\k_vsl\\AppData\\Local\\Temp\\ipykernel_15432\\1002823402.py:17: SettingWithCopyWarning: \n",
      "A value is trying to be set on a copy of a slice from a DataFrame\n",
      "\n",
      "See the caveats in the documentation: https://pandas.pydata.org/pandas-docs/stable/user_guide/indexing.html#returning-a-view-versus-a-copy\n",
      "  V.replace({False: 0, True: 1}, inplace=True)\n"
     ]
    },
    {
     "name": "stdout",
     "output_type": "stream",
     "text": [
      "The linear regression mae is 1.5062736254945601\n",
      "The huber regression mae is 1.4452473465604458\n",
      "The cutoff is 0.8000000000000003\n"
     ]
    },
    {
     "name": "stderr",
     "output_type": "stream",
     "text": [
      "C:\\Users\\k_vsl\\AppData\\Local\\Temp\\ipykernel_15432\\1002823402.py:12: SettingWithCopyWarning: \n",
      "A value is trying to be set on a copy of a slice from a DataFrame.\n",
      "Try using .loc[row_indexer,col_indexer] = value instead\n",
      "\n",
      "See the caveats in the documentation: https://pandas.pydata.org/pandas-docs/stable/user_guide/indexing.html#returning-a-view-versus-a-copy\n",
      "  V['x_skew'] = [(val > cutoff) for val in V.per_x]\n",
      "C:\\Users\\k_vsl\\AppData\\Local\\Temp\\ipykernel_15432\\1002823402.py:13: SettingWithCopyWarning: \n",
      "A value is trying to be set on a copy of a slice from a DataFrame.\n",
      "Try using .loc[row_indexer,col_indexer] = value instead\n",
      "\n",
      "See the caveats in the documentation: https://pandas.pydata.org/pandas-docs/stable/user_guide/indexing.html#returning-a-view-versus-a-copy\n",
      "  V['y_skew'] = [(val > cutoff) for val in V.per_y]\n",
      "C:\\Users\\k_vsl\\AppData\\Local\\Temp\\ipykernel_15432\\1002823402.py:14: SettingWithCopyWarning: \n",
      "A value is trying to be set on a copy of a slice from a DataFrame.\n",
      "Try using .loc[row_indexer,col_indexer] = value instead\n",
      "\n",
      "See the caveats in the documentation: https://pandas.pydata.org/pandas-docs/stable/user_guide/indexing.html#returning-a-view-versus-a-copy\n",
      "  V['z_skew'] = [(val > cutoff) for val in V.per_z]\n",
      "C:\\Users\\k_vsl\\AppData\\Local\\Temp\\ipykernel_15432\\1002823402.py:15: SettingWithCopyWarning: \n",
      "A value is trying to be set on a copy of a slice from a DataFrame.\n",
      "Try using .loc[row_indexer,col_indexer] = value instead\n",
      "\n",
      "See the caveats in the documentation: https://pandas.pydata.org/pandas-docs/stable/user_guide/indexing.html#returning-a-view-versus-a-copy\n",
      "  V['low_cluster'] = [(c < 2) for c in V.num_clusters]\n",
      "C:\\Users\\k_vsl\\AppData\\Local\\Temp\\ipykernel_15432\\1002823402.py:16: SettingWithCopyWarning: \n",
      "A value is trying to be set on a copy of a slice from a DataFrame.\n",
      "Try using .loc[row_indexer,col_indexer] = value instead\n",
      "\n",
      "See the caveats in the documentation: https://pandas.pydata.org/pandas-docs/stable/user_guide/indexing.html#returning-a-view-versus-a-copy\n",
      "  V['high_cluster'] = [(c > 9) for c in V.num_clusters]\n",
      "C:\\Users\\k_vsl\\AppData\\Local\\Temp\\ipykernel_15432\\1002823402.py:17: SettingWithCopyWarning: \n",
      "A value is trying to be set on a copy of a slice from a DataFrame\n",
      "\n",
      "See the caveats in the documentation: https://pandas.pydata.org/pandas-docs/stable/user_guide/indexing.html#returning-a-view-versus-a-copy\n",
      "  V.replace({False: 0, True: 1}, inplace=True)\n"
     ]
    },
    {
     "name": "stdout",
     "output_type": "stream",
     "text": [
      "The linear regression mae is 1.5061952250713946\n",
      "The huber regression mae is 1.4442437591213655\n",
      "The cutoff is 0.8500000000000003\n"
     ]
    },
    {
     "name": "stderr",
     "output_type": "stream",
     "text": [
      "C:\\Users\\k_vsl\\AppData\\Local\\Temp\\ipykernel_15432\\1002823402.py:12: SettingWithCopyWarning: \n",
      "A value is trying to be set on a copy of a slice from a DataFrame.\n",
      "Try using .loc[row_indexer,col_indexer] = value instead\n",
      "\n",
      "See the caveats in the documentation: https://pandas.pydata.org/pandas-docs/stable/user_guide/indexing.html#returning-a-view-versus-a-copy\n",
      "  V['x_skew'] = [(val > cutoff) for val in V.per_x]\n",
      "C:\\Users\\k_vsl\\AppData\\Local\\Temp\\ipykernel_15432\\1002823402.py:13: SettingWithCopyWarning: \n",
      "A value is trying to be set on a copy of a slice from a DataFrame.\n",
      "Try using .loc[row_indexer,col_indexer] = value instead\n",
      "\n",
      "See the caveats in the documentation: https://pandas.pydata.org/pandas-docs/stable/user_guide/indexing.html#returning-a-view-versus-a-copy\n",
      "  V['y_skew'] = [(val > cutoff) for val in V.per_y]\n",
      "C:\\Users\\k_vsl\\AppData\\Local\\Temp\\ipykernel_15432\\1002823402.py:14: SettingWithCopyWarning: \n",
      "A value is trying to be set on a copy of a slice from a DataFrame.\n",
      "Try using .loc[row_indexer,col_indexer] = value instead\n",
      "\n",
      "See the caveats in the documentation: https://pandas.pydata.org/pandas-docs/stable/user_guide/indexing.html#returning-a-view-versus-a-copy\n",
      "  V['z_skew'] = [(val > cutoff) for val in V.per_z]\n",
      "C:\\Users\\k_vsl\\AppData\\Local\\Temp\\ipykernel_15432\\1002823402.py:15: SettingWithCopyWarning: \n",
      "A value is trying to be set on a copy of a slice from a DataFrame.\n",
      "Try using .loc[row_indexer,col_indexer] = value instead\n",
      "\n",
      "See the caveats in the documentation: https://pandas.pydata.org/pandas-docs/stable/user_guide/indexing.html#returning-a-view-versus-a-copy\n",
      "  V['low_cluster'] = [(c < 2) for c in V.num_clusters]\n",
      "C:\\Users\\k_vsl\\AppData\\Local\\Temp\\ipykernel_15432\\1002823402.py:16: SettingWithCopyWarning: \n",
      "A value is trying to be set on a copy of a slice from a DataFrame.\n",
      "Try using .loc[row_indexer,col_indexer] = value instead\n",
      "\n",
      "See the caveats in the documentation: https://pandas.pydata.org/pandas-docs/stable/user_guide/indexing.html#returning-a-view-versus-a-copy\n",
      "  V['high_cluster'] = [(c > 9) for c in V.num_clusters]\n",
      "C:\\Users\\k_vsl\\AppData\\Local\\Temp\\ipykernel_15432\\1002823402.py:17: SettingWithCopyWarning: \n",
      "A value is trying to be set on a copy of a slice from a DataFrame\n",
      "\n",
      "See the caveats in the documentation: https://pandas.pydata.org/pandas-docs/stable/user_guide/indexing.html#returning-a-view-versus-a-copy\n",
      "  V.replace({False: 0, True: 1}, inplace=True)\n"
     ]
    },
    {
     "name": "stdout",
     "output_type": "stream",
     "text": [
      "The linear regression mae is 1.50602607511926\n",
      "The huber regression mae is 1.442422822749288\n",
      "The cutoff is 0.9000000000000004\n"
     ]
    },
    {
     "name": "stderr",
     "output_type": "stream",
     "text": [
      "C:\\Users\\k_vsl\\AppData\\Local\\Temp\\ipykernel_15432\\1002823402.py:12: SettingWithCopyWarning: \n",
      "A value is trying to be set on a copy of a slice from a DataFrame.\n",
      "Try using .loc[row_indexer,col_indexer] = value instead\n",
      "\n",
      "See the caveats in the documentation: https://pandas.pydata.org/pandas-docs/stable/user_guide/indexing.html#returning-a-view-versus-a-copy\n",
      "  V['x_skew'] = [(val > cutoff) for val in V.per_x]\n",
      "C:\\Users\\k_vsl\\AppData\\Local\\Temp\\ipykernel_15432\\1002823402.py:13: SettingWithCopyWarning: \n",
      "A value is trying to be set on a copy of a slice from a DataFrame.\n",
      "Try using .loc[row_indexer,col_indexer] = value instead\n",
      "\n",
      "See the caveats in the documentation: https://pandas.pydata.org/pandas-docs/stable/user_guide/indexing.html#returning-a-view-versus-a-copy\n",
      "  V['y_skew'] = [(val > cutoff) for val in V.per_y]\n",
      "C:\\Users\\k_vsl\\AppData\\Local\\Temp\\ipykernel_15432\\1002823402.py:14: SettingWithCopyWarning: \n",
      "A value is trying to be set on a copy of a slice from a DataFrame.\n",
      "Try using .loc[row_indexer,col_indexer] = value instead\n",
      "\n",
      "See the caveats in the documentation: https://pandas.pydata.org/pandas-docs/stable/user_guide/indexing.html#returning-a-view-versus-a-copy\n",
      "  V['z_skew'] = [(val > cutoff) for val in V.per_z]\n",
      "C:\\Users\\k_vsl\\AppData\\Local\\Temp\\ipykernel_15432\\1002823402.py:15: SettingWithCopyWarning: \n",
      "A value is trying to be set on a copy of a slice from a DataFrame.\n",
      "Try using .loc[row_indexer,col_indexer] = value instead\n",
      "\n",
      "See the caveats in the documentation: https://pandas.pydata.org/pandas-docs/stable/user_guide/indexing.html#returning-a-view-versus-a-copy\n",
      "  V['low_cluster'] = [(c < 2) for c in V.num_clusters]\n",
      "C:\\Users\\k_vsl\\AppData\\Local\\Temp\\ipykernel_15432\\1002823402.py:16: SettingWithCopyWarning: \n",
      "A value is trying to be set on a copy of a slice from a DataFrame.\n",
      "Try using .loc[row_indexer,col_indexer] = value instead\n",
      "\n",
      "See the caveats in the documentation: https://pandas.pydata.org/pandas-docs/stable/user_guide/indexing.html#returning-a-view-versus-a-copy\n",
      "  V['high_cluster'] = [(c > 9) for c in V.num_clusters]\n",
      "C:\\Users\\k_vsl\\AppData\\Local\\Temp\\ipykernel_15432\\1002823402.py:17: SettingWithCopyWarning: \n",
      "A value is trying to be set on a copy of a slice from a DataFrame\n",
      "\n",
      "See the caveats in the documentation: https://pandas.pydata.org/pandas-docs/stable/user_guide/indexing.html#returning-a-view-versus-a-copy\n",
      "  V.replace({False: 0, True: 1}, inplace=True)\n"
     ]
    },
    {
     "name": "stdout",
     "output_type": "stream",
     "text": [
      "The linear regression mae is 1.5058828983605168\n",
      "The huber regression mae is 1.4424577170728277\n",
      "The cutoff is 0.9500000000000004\n"
     ]
    },
    {
     "name": "stderr",
     "output_type": "stream",
     "text": [
      "C:\\Users\\k_vsl\\AppData\\Local\\Temp\\ipykernel_15432\\1002823402.py:12: SettingWithCopyWarning: \n",
      "A value is trying to be set on a copy of a slice from a DataFrame.\n",
      "Try using .loc[row_indexer,col_indexer] = value instead\n",
      "\n",
      "See the caveats in the documentation: https://pandas.pydata.org/pandas-docs/stable/user_guide/indexing.html#returning-a-view-versus-a-copy\n",
      "  V['x_skew'] = [(val > cutoff) for val in V.per_x]\n",
      "C:\\Users\\k_vsl\\AppData\\Local\\Temp\\ipykernel_15432\\1002823402.py:13: SettingWithCopyWarning: \n",
      "A value is trying to be set on a copy of a slice from a DataFrame.\n",
      "Try using .loc[row_indexer,col_indexer] = value instead\n",
      "\n",
      "See the caveats in the documentation: https://pandas.pydata.org/pandas-docs/stable/user_guide/indexing.html#returning-a-view-versus-a-copy\n",
      "  V['y_skew'] = [(val > cutoff) for val in V.per_y]\n",
      "C:\\Users\\k_vsl\\AppData\\Local\\Temp\\ipykernel_15432\\1002823402.py:14: SettingWithCopyWarning: \n",
      "A value is trying to be set on a copy of a slice from a DataFrame.\n",
      "Try using .loc[row_indexer,col_indexer] = value instead\n",
      "\n",
      "See the caveats in the documentation: https://pandas.pydata.org/pandas-docs/stable/user_guide/indexing.html#returning-a-view-versus-a-copy\n",
      "  V['z_skew'] = [(val > cutoff) for val in V.per_z]\n",
      "C:\\Users\\k_vsl\\AppData\\Local\\Temp\\ipykernel_15432\\1002823402.py:15: SettingWithCopyWarning: \n",
      "A value is trying to be set on a copy of a slice from a DataFrame.\n",
      "Try using .loc[row_indexer,col_indexer] = value instead\n",
      "\n",
      "See the caveats in the documentation: https://pandas.pydata.org/pandas-docs/stable/user_guide/indexing.html#returning-a-view-versus-a-copy\n",
      "  V['low_cluster'] = [(c < 2) for c in V.num_clusters]\n",
      "C:\\Users\\k_vsl\\AppData\\Local\\Temp\\ipykernel_15432\\1002823402.py:16: SettingWithCopyWarning: \n",
      "A value is trying to be set on a copy of a slice from a DataFrame.\n",
      "Try using .loc[row_indexer,col_indexer] = value instead\n",
      "\n",
      "See the caveats in the documentation: https://pandas.pydata.org/pandas-docs/stable/user_guide/indexing.html#returning-a-view-versus-a-copy\n",
      "  V['high_cluster'] = [(c > 9) for c in V.num_clusters]\n",
      "C:\\Users\\k_vsl\\AppData\\Local\\Temp\\ipykernel_15432\\1002823402.py:17: SettingWithCopyWarning: \n",
      "A value is trying to be set on a copy of a slice from a DataFrame\n",
      "\n",
      "See the caveats in the documentation: https://pandas.pydata.org/pandas-docs/stable/user_guide/indexing.html#returning-a-view-versus-a-copy\n",
      "  V.replace({False: 0, True: 1}, inplace=True)\n"
     ]
    },
    {
     "name": "stdout",
     "output_type": "stream",
     "text": [
      "The linear regression mae is 1.5056621633751173\n",
      "The huber regression mae is 1.4433106858983018\n"
     ]
    }
   ],
   "source": [
    "# Tune cutoffs for skews with cluster cutoffs 2 and 9\n",
    "print(\"Running\")\n",
    "cutoffs = np.arange(.5, 1, .05)\n",
    "n = len(cutoffs)\n",
    "maes_lr = np.zeros(n)\n",
    "maes_h = np.zeros(n)\n",
    "i = 0\n",
    "for i in range(0,n): \n",
    "    cutoff = cutoffs[i]\n",
    "    print(\"The cutoff is \" + str(cutoff))\n",
    "    V = X[['az_t_pred', 'ze_t_pred', 'num_clusters','mse_cat','per_x', 'per_y', 'per_z']]\n",
    "    V['x_skew'] = [(val > cutoff) for val in V.per_x]\n",
    "    V['y_skew'] = [(val > cutoff) for val in V.per_y]\n",
    "    V['z_skew'] = [(val > cutoff) for val in V.per_z]\n",
    "    V['low_cluster'] = [(c < 2) for c in V.num_clusters]\n",
    "    V['high_cluster'] = [(c > 9) for c in V.num_clusters]\n",
    "    V.replace({False: 0, True: 1}, inplace=True)\n",
    "    \n",
    "    V_train, V_val, y_train, y_val = train_test_split(V, y, \n",
    "                                                             shuffle = True,\n",
    "                                                             random_state = 134, \n",
    "                                                             test_size = .25)\n",
    "    feature = ['az_t_pred', 'ze_t_pred', 'x_skew', 'y_skew', 'z_skew', 'mse_cat', 'low_cluster', 'high_cluster']\n",
    "    mae_lr = run_lr(V_train, y_train, feature)\n",
    "    mae_h = run_sgd(V_train, y_train, feature, 'huber')\n",
    "    maes_lr[i] = mae_lr\n",
    "    maes_h[i] = mae_h\n",
    "    print(\"The linear regression mae is \" + str(mae_lr))\n",
    "    print(\"The huber regression mae is \" + str(mae_h))\n",
    "    i += 1"
   ]
  },
  {
   "cell_type": "code",
   "execution_count": 622,
   "id": "3808519c",
   "metadata": {},
   "outputs": [
    {
     "name": "stdout",
     "output_type": "stream",
     "text": [
      "[1.44367291 1.44319088 1.44532351 1.44341005 1.44367138 1.44524735\n",
      " 1.44424376 1.44242282 1.44245772 1.44331069]\n"
     ]
    }
   ],
   "source": [
    "#print(maes_lr)\n",
    "print(maes_h)"
   ]
  },
  {
   "cell_type": "code",
   "execution_count": 623,
   "id": "8070247b",
   "metadata": {},
   "outputs": [
    {
     "data": {
      "image/png": "[encoded data removed]",
      "text/plain": [
       "<Figure size 800x600 with 1 Axes>"
      ]
     },
     "metadata": {},
     "output_type": "display_data"
    }
   ],
   "source": [
    "# Graph for different cutoffs\n",
    "plt.figure(figsize=(8,6))\n",
    "\n",
    "#plt.plot(cutoffs, maes_lr, label= 'Epsilon Insensitive', c = 'orange')\n",
    "plt.plot(cutoffs, maes_h, label = 'huber', c = 'blue')\n",
    "#plt.plot(maes_h, label='huber', c = 'blue')\n",
    "plt.legend(frameon=False)\n",
    "\n",
    "plt.xticks(fontsize=10)\n",
    "plt.yticks(fontsize=10)\n",
    "\n",
    "plt.xlabel(\"Cutoff\")\n",
    "plt.ylabel(\"MAE\")\n",
    "plt.title(\"Cutoffs for skewed data\")\n",
    "\n",
    "plt.show()"
   ]
  },
  {
   "cell_type": "code",
   "execution_count": null,
   "id": "b64da2b8",
   "metadata": {},
   "outputs": [],
   "source": [
    "Takeaways: .9 is still a reasonable cutoff, this is a better clustering cutoff"
   ]
  },
  {
   "cell_type": "markdown",
   "id": "2224e44e",
   "metadata": {},
   "source": [
    "# Takeaways and Conclusion\n",
    "Let us use a skew cutoff of .9, cluster cutoffs of 1 and 9, and 'huber' loss"
   ]
  },
  {
   "cell_type": "code",
   "execution_count": 628,
   "id": "dc1ff621",
   "metadata": {},
   "outputs": [
    {
     "name": "stdout",
     "output_type": "stream",
     "text": [
      "1.2134628158840939\n"
     ]
    },
    {
     "name": "stderr",
     "output_type": "stream",
     "text": [
      "C:\\Users\\k_vsl\\AppData\\Local\\Temp\\ipykernel_15432\\701930753.py:7: SettingWithCopyWarning: \n",
      "A value is trying to be set on a copy of a slice from a DataFrame.\n",
      "Try using .loc[row_indexer,col_indexer] = value instead\n",
      "\n",
      "See the caveats in the documentation: https://pandas.pydata.org/pandas-docs/stable/user_guide/indexing.html#returning-a-view-versus-a-copy\n",
      "  V['x_skew'] = [(val > cutoff) for val in V.per_x]\n",
      "C:\\Users\\k_vsl\\AppData\\Local\\Temp\\ipykernel_15432\\701930753.py:8: SettingWithCopyWarning: \n",
      "A value is trying to be set on a copy of a slice from a DataFrame.\n",
      "Try using .loc[row_indexer,col_indexer] = value instead\n",
      "\n",
      "See the caveats in the documentation: https://pandas.pydata.org/pandas-docs/stable/user_guide/indexing.html#returning-a-view-versus-a-copy\n",
      "  V['y_skew'] = [(val > cutoff) for val in V.per_y]\n",
      "C:\\Users\\k_vsl\\AppData\\Local\\Temp\\ipykernel_15432\\701930753.py:9: SettingWithCopyWarning: \n",
      "A value is trying to be set on a copy of a slice from a DataFrame.\n",
      "Try using .loc[row_indexer,col_indexer] = value instead\n",
      "\n",
      "See the caveats in the documentation: https://pandas.pydata.org/pandas-docs/stable/user_guide/indexing.html#returning-a-view-versus-a-copy\n",
      "  V['z_skew'] = [(val > cutoff) for val in V.per_z]\n",
      "C:\\Users\\k_vsl\\AppData\\Local\\Temp\\ipykernel_15432\\701930753.py:10: SettingWithCopyWarning: \n",
      "A value is trying to be set on a copy of a slice from a DataFrame.\n",
      "Try using .loc[row_indexer,col_indexer] = value instead\n",
      "\n",
      "See the caveats in the documentation: https://pandas.pydata.org/pandas-docs/stable/user_guide/indexing.html#returning-a-view-versus-a-copy\n",
      "  V['low_cluster'] = [(c < 2) for c in V.num_clusters]\n",
      "C:\\Users\\k_vsl\\AppData\\Local\\Temp\\ipykernel_15432\\701930753.py:11: SettingWithCopyWarning: \n",
      "A value is trying to be set on a copy of a slice from a DataFrame.\n",
      "Try using .loc[row_indexer,col_indexer] = value instead\n",
      "\n",
      "See the caveats in the documentation: https://pandas.pydata.org/pandas-docs/stable/user_guide/indexing.html#returning-a-view-versus-a-copy\n",
      "  V['high_cluster'] = [(c > 9) for c in V.num_clusters]\n",
      "C:\\Users\\k_vsl\\AppData\\Local\\Temp\\ipykernel_15432\\701930753.py:12: SettingWithCopyWarning: \n",
      "A value is trying to be set on a copy of a slice from a DataFrame\n",
      "\n",
      "See the caveats in the documentation: https://pandas.pydata.org/pandas-docs/stable/user_guide/indexing.html#returning-a-view-versus-a-copy\n",
      "  V.replace({False: 0, True: 1}, inplace=True)\n"
     ]
    },
    {
     "name": "stdout",
     "output_type": "stream",
     "text": [
      "1.4433933677776931\n"
     ]
    }
   ],
   "source": [
    "# Get stas for best models (baseline and huber with .9 and 1,9)\n",
    "mae_1 = X_val.mae_t.mean()\n",
    "print(mae_1)\n",
    "\n",
    "\n",
    "V = X[['az_t_pred', 'ze_t_pred', 'num_clusters','mse_cat','per_x', 'per_y', 'per_z']]\n",
    "V['x_skew'] = [(val > cutoff) for val in V.per_x]\n",
    "V['y_skew'] = [(val > cutoff) for val in V.per_y]\n",
    "V['z_skew'] = [(val > cutoff) for val in V.per_z]\n",
    "V['low_cluster'] = [(c < 2) for c in V.num_clusters]\n",
    "V['high_cluster'] = [(c > 9) for c in V.num_clusters]\n",
    "V.replace({False: 0, True: 1}, inplace=True)\n",
    "\n",
    "V_train, V_val, y_train, y_val = train_test_split(V, y, \n",
    "                                                             shuffle = True,\n",
    "                                                             random_state = 134, \n",
    "                                                             test_size = .25)\n",
    "feature = ['az_t_pred', 'ze_t_pred', 'x_skew', 'y_skew', 'z_skew', 'mse_cat', 'low_cluster', 'high_cluster']\n",
    "mae_h = run_sgd(V_train, y_train, feature, 'huber')\n",
    "print(mae_h)"
   ]
  },
  {
   "cell_type": "markdown",
   "id": "eabfb137",
   "metadata": {},
   "source": []
  }
 ],
 "metadata": {
  "kernelspec": {
   "display_name": "Python 3 (ipykernel)",
   "language": "python",
   "name": "python3"
  },
  "language_info": {
   "codemirror_mode": {
    "name": "ipython",
    "version": 3
   },
   "file_extension": ".py",
   "mimetype": "text/x-python",
   "name": "python",
   "nbconvert_exporter": "python",
   "pygments_lexer": "ipython3",
   "version": "3.11.4"
  }
 },
 "nbformat": 4,
 "nbformat_minor": 5
}
