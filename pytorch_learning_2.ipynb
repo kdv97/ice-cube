{
 "cells": [
  {
   "cell_type": "code",
   "execution_count": 1,
   "id": "e5d29f1a",
   "metadata": {},
   "outputs": [],
   "source": [
    "import torch"
   ]
  },
  {
   "cell_type": "code",
   "execution_count": 2,
   "id": "5ea32921",
   "metadata": {},
   "outputs": [],
   "source": [
    "x = torch.randn(3, requires_grad=True)"
   ]
  },
  {
   "cell_type": "code",
   "execution_count": 3,
   "id": "70aa9ebb",
   "metadata": {},
   "outputs": [
    {
     "data": {
      "text/plain": [
       "tensor([-0.0956,  0.3544, -0.0021], requires_grad=True)"
      ]
     },
     "execution_count": 3,
     "metadata": {},
     "output_type": "execute_result"
    }
   ],
   "source": [
    "x"
   ]
  },
  {
   "cell_type": "code",
   "execution_count": 4,
   "id": "801433f7",
   "metadata": {},
   "outputs": [
    {
     "data": {
      "text/plain": [
       "tensor([1.9044, 2.3544, 1.9979], grad_fn=<AddBackward0>)"
      ]
     },
     "execution_count": 4,
     "metadata": {},
     "output_type": "execute_result"
    }
   ],
   "source": [
    "y = x + 2\n",
    "y"
   ]
  },
  {
   "cell_type": "code",
   "execution_count": 5,
   "id": "fc4006f8",
   "metadata": {},
   "outputs": [
    {
     "name": "stdout",
     "output_type": "stream",
     "text": [
      "tensor([-0.0956,  0.3544, -0.0021], requires_grad=True)\n",
      "tensor([1.9044, 2.3544, 1.9979], grad_fn=<AddBackward0>)\n",
      "<AddBackward0 object at 0x000002AFED6EFA00>\n"
     ]
    }
   ],
   "source": [
    "print(x)\n",
    "print(y)\n",
    "print(y.grad_fn)"
   ]
  },
  {
   "cell_type": "code",
   "execution_count": 6,
   "id": "1609260f",
   "metadata": {},
   "outputs": [],
   "source": [
    "z = y * y * 3"
   ]
  },
  {
   "cell_type": "code",
   "execution_count": 7,
   "id": "9ea996e8",
   "metadata": {},
   "outputs": [
    {
     "data": {
      "text/plain": [
       "tensor([10.8806, 16.6299, 11.9750], grad_fn=<MulBackward0>)"
      ]
     },
     "execution_count": 7,
     "metadata": {},
     "output_type": "execute_result"
    }
   ],
   "source": [
    "y * y * 3"
   ]
  },
  {
   "cell_type": "code",
   "execution_count": 8,
   "id": "1055e11a",
   "metadata": {},
   "outputs": [
    {
     "data": {
      "text/plain": [
       "tensor([3.6269, 5.5433, 3.9917], grad_fn=<MulBackward0>)"
      ]
     },
     "execution_count": 8,
     "metadata": {},
     "output_type": "execute_result"
    }
   ],
   "source": [
    "y * y"
   ]
  },
  {
   "cell_type": "code",
   "execution_count": 9,
   "id": "3eecb522",
   "metadata": {},
   "outputs": [],
   "source": [
    "z = z.mean()"
   ]
  },
  {
   "cell_type": "code",
   "execution_count": 10,
   "id": "8a0e46b7",
   "metadata": {},
   "outputs": [
    {
     "name": "stdout",
     "output_type": "stream",
     "text": [
      "None\n",
      "tensor([3.8089, 4.7088, 3.9958])\n"
     ]
    }
   ],
   "source": [
    "print(x.grad)\n",
    "z.backward()\n",
    "print(x.grad)\n",
    "# This z.backward() just computes the chain rule\n",
    "# and then x.grad is just the gradient \\nabla_x z"
   ]
  },
  {
   "cell_type": "code",
   "execution_count": 11,
   "id": "02d15464",
   "metadata": {},
   "outputs": [
    {
     "data": {
      "text/plain": [
       "tensor([-0.0956,  0.3544, -0.0021], requires_grad=True)"
      ]
     },
     "execution_count": 11,
     "metadata": {},
     "output_type": "execute_result"
    }
   ],
   "source": [
    "x"
   ]
  },
  {
   "cell_type": "markdown",
   "id": "d2515e4e",
   "metadata": {},
   "source": [
    "This last line is dz/dx, where z(x) = mean(3 * ((x + 2)^2)). We can check this gave us the right answer: dz/dx is just \n",
    "\\begin{align*}\n",
    "    \\nabla_x z &= \\nabla_x \\frac{3 * [(x_1 + 2)^2 + (x_2 + 2)^2 + (x_3 + 2)^2]}{3} \\\\ \n",
    "    &= \\nabla_x  [(x_1 + 2)^2 + (x_2 + 2)^2 + (x_3 + 2)^2] \\\\ \n",
    "    &= 2*(x_1 + 2, x_2 + 2, x_3 + 2) \\\\ \n",
    "    &= 2x + (4, 4, 4).\n",
    "\\end{align*}\n",
    "One can plug in whatever random values were initialized for $x$ above and see the answers agree."
   ]
  },
  {
   "cell_type": "code",
   "execution_count": 12,
   "id": "927846b6",
   "metadata": {},
   "outputs": [],
   "source": [
    "# We want to train a neural network to approximate a linear function\n",
    "# f(x) = 2*x\n",
    "\n",
    "X = torch.tensor([1,2,3,4,5,6,7,8], dtype=torch.float32)\n",
    "y = torch.tensor([2,4,6,8,10,12,14,16], dtype=torch.float32)"
   ]
  },
  {
   "cell_type": "code",
   "execution_count": 13,
   "id": "4e9c787b",
   "metadata": {},
   "outputs": [],
   "source": [
    "w = torch.tensor(0.0, dtype=torch.float32, requires_grad=True)"
   ]
  },
  {
   "cell_type": "code",
   "execution_count": 14,
   "id": "3f8d9915",
   "metadata": {},
   "outputs": [],
   "source": [
    "def forward(x):\n",
    "    return w*x\n",
    "\n",
    "def loss(y, y_pred):\n",
    "    return ((y - y_pred)**2).mean()"
   ]
  },
  {
   "cell_type": "code",
   "execution_count": 15,
   "id": "1adccb6d",
   "metadata": {},
   "outputs": [],
   "source": [
    "X_test = 5.0"
   ]
  },
  {
   "cell_type": "code",
   "execution_count": 16,
   "id": "49af7f4a",
   "metadata": {},
   "outputs": [
    {
     "name": "stdout",
     "output_type": "stream",
     "text": [
      "Prediction before training: f(5.0) = 0.000\n"
     ]
    }
   ],
   "source": [
    "print(f'Prediction before training: f({X_test}) = {forward(X_test):.3f}')"
   ]
  },
  {
   "cell_type": "code",
   "execution_count": 17,
   "id": "d98569aa",
   "metadata": {},
   "outputs": [
    {
     "name": "stdout",
     "output_type": "stream",
     "text": [
      "Epoch 0, weight: 1.020 and loss: 102.000\n",
      "Epoch 10, weight: 1.999 and loss: 0.000\n",
      "Epoch 20, weight: 2.000 and loss: 0.000\n",
      "Epoch 30, weight: 2.000 and loss: 0.000\n",
      "Epoch 40, weight: 2.000 and loss: 0.000\n",
      "Epoch 50, weight: 2.000 and loss: 0.000\n",
      "Epoch 60, weight: 2.000 and loss: 0.000\n",
      "Epoch 70, weight: 2.000 and loss: 0.000\n",
      "Epoch 80, weight: 2.000 and loss: 0.000\n",
      "Epoch 90, weight: 2.000 and loss: 0.000\n",
      "Result after training: f(5.0) = 10.0\n"
     ]
    }
   ],
   "source": [
    "# Training\n",
    "learning_rate = 0.01 # how far we step along the -gradient\n",
    "n_epochs = 100\n",
    "\n",
    "for epoch in range(n_epochs):\n",
    "    # predict - do the forward pass with the current weights\n",
    "    y_pred = forward(X)\n",
    "    \n",
    "    # calculate the loss\n",
    "    l = loss(y, y_pred)\n",
    "    \n",
    "    # calculate the gradient d loss / d weights\n",
    "    l.backward() # this automatically calculates and updates the gradient of loss w.r.t w\n",
    "    \n",
    "    # update the weights based on this\n",
    "    # gradient descent: reset w_new to be w_old - w.grad()*learning_rate\n",
    "    with torch.no_grad():\n",
    "        w = w - learning_rate*w.grad\n",
    "        \n",
    "    # empty the gradients after updating\n",
    "    w = w.clone().detach().requires_grad_(True)\n",
    "    \n",
    "    if epoch % 10 == 0:\n",
    "        print(f'Epoch {epoch}, weight: {w:.3f} and loss: {l:.3f}')\n",
    "        \n",
    "print(f'Result after training: f({X_test}) = {forward(X_test)}')"
   ]
  },
  {
   "cell_type": "code",
   "execution_count": 18,
   "id": "c9db8db1",
   "metadata": {},
   "outputs": [
    {
     "name": "stdout",
     "output_type": "stream",
     "text": [
      "None\n"
     ]
    }
   ],
   "source": [
    "print(w.grad)"
   ]
  },
  {
   "cell_type": "code",
   "execution_count": 19,
   "id": "1ff61bec",
   "metadata": {},
   "outputs": [],
   "source": [
    "w1 = w.data.clone().detach().requires_grad_(True)"
   ]
  },
  {
   "cell_type": "code",
   "execution_count": 20,
   "id": "6968aa50",
   "metadata": {},
   "outputs": [
    {
     "data": {
      "text/plain": [
       "tensor(2., requires_grad=True)"
      ]
     },
     "execution_count": 20,
     "metadata": {},
     "output_type": "execute_result"
    }
   ],
   "source": [
    "w1"
   ]
  },
  {
   "cell_type": "code",
   "execution_count": 21,
   "id": "070db83e",
   "metadata": {},
   "outputs": [],
   "source": [
    "import torch\n",
    "import torch.nn as nn"
   ]
  },
  {
   "cell_type": "code",
   "execution_count": 22,
   "id": "bb6ee7f9",
   "metadata": {},
   "outputs": [],
   "source": [
    "# Training samples\n",
    "X = torch.tensor([[1], [2], [3], [4], [5], [6], [7], [8]], dtype=torch.float32)\n",
    "y = torch.tensor([[2], [4], [6], [8], [10], [12], [14], [16]], dtype=torch.float32)\n"
   ]
  },
  {
   "cell_type": "code",
   "execution_count": 23,
   "id": "0268a3be",
   "metadata": {},
   "outputs": [],
   "source": [
    "n_samples, n_features = X.shape"
   ]
  },
  {
   "cell_type": "code",
   "execution_count": 24,
   "id": "cd330386",
   "metadata": {},
   "outputs": [
    {
     "name": "stdout",
     "output_type": "stream",
     "text": [
      "Number of samples: 8\n",
      "Number of features: 1\n"
     ]
    }
   ],
   "source": [
    "print(\"Number of samples:\", n_samples)\n",
    "print(\"Number of features:\", n_features)"
   ]
  },
  {
   "cell_type": "code",
   "execution_count": 25,
   "id": "a222baf9",
   "metadata": {},
   "outputs": [],
   "source": [
    "# Test sample\n",
    "X_test = torch.tensor([5], dtype=torch.float32)"
   ]
  },
  {
   "cell_type": "code",
   "execution_count": 26,
   "id": "7b8ad4ea",
   "metadata": {},
   "outputs": [],
   "source": [
    "class LinearRegression(nn.Module):\n",
    "    def __init__(self, input_dim, output_dim):\n",
    "        super().__init__()\n",
    "        # Define different layers (1 for linear regression)\n",
    "        self.lin = nn.Linear(input_dim, output_dim)\n",
    "        \n",
    "    def forward(self, x):\n",
    "        return self.lin(x) # run x through the layers\n",
    "    \n",
    "    def dummy_function(self):\n",
    "        return None"
   ]
  },
  {
   "cell_type": "code",
   "execution_count": 27,
   "id": "99153d1c",
   "metadata": {},
   "outputs": [],
   "source": [
    "input_size, output_size = n_features, n_features\n",
    "    \n",
    "model = LinearRegression(input_size, output_size)"
   ]
  },
  {
   "cell_type": "code",
   "execution_count": 28,
   "id": "f2ea5439",
   "metadata": {},
   "outputs": [
    {
     "name": "stdout",
     "output_type": "stream",
     "text": [
      "Prediction before training: f(5.0) = 0.791\n"
     ]
    }
   ],
   "source": [
    "print(f'Prediction before training: f({X_test.item()}) = {model(X_test).item():.3f}')"
   ]
  },
  {
   "cell_type": "code",
   "execution_count": 29,
   "id": "f3f192a6",
   "metadata": {},
   "outputs": [
    {
     "name": "stdout",
     "output_type": "stream",
     "text": [
      "Epoch: 0, weight: 1.206202745437622, loss = 85.30561828613281\n",
      "Epoch: 10, weight: 2.0442826747894287, loss = 0.013176499865949154\n",
      "Epoch: 20, weight: 2.0430080890655518, loss = 0.01213756762444973\n",
      "Epoch: 30, weight: 2.0413217544555664, loss = 0.011204290203750134\n",
      "Epoch: 40, weight: 2.039701461791992, loss = 0.01034282986074686\n",
      "Epoch: 50, weight: 2.038144588470459, loss = 0.009547552093863487\n",
      "Epoch: 60, weight: 2.036648750305176, loss = 0.00881342962384224\n",
      "Epoch: 70, weight: 2.0352115631103516, loss = 0.008135775104165077\n",
      "Epoch: 80, weight: 2.0338308811187744, loss = 0.007510251831263304\n",
      "Epoch: 90, weight: 2.0325043201446533, loss = 0.006932767108082771\n"
     ]
    }
   ],
   "source": [
    "learning_rate = 0.01\n",
    "n_epochs = 100\n",
    "\n",
    "loss = nn.MSELoss()\n",
    "optimizer = torch.optim.SGD(model.parameters(), lr = learning_rate)\n",
    "\n",
    "# Training loop \n",
    "for epoch in range(n_epochs):\n",
    "    # predict: forward pass\n",
    "    y_pred = model(X)\n",
    "    \n",
    "    # calculate loss\n",
    "    l = loss(y, y_pred)\n",
    "    \n",
    "    # calculate gradients\n",
    "    l.backward()\n",
    "    \n",
    "    # update weights\n",
    "    optimizer.step()\n",
    "    \n",
    "    # empty gradients\n",
    "    optimizer.zero_grad()\n",
    "    \n",
    "    if epoch % 10 == 0:\n",
    "        w, b = model.parameters() # unpack parameters\n",
    "        print(f'Epoch: {epoch}, weight: {w[0][0].item()}, loss = {l.item()}')"
   ]
  },
  {
   "cell_type": "code",
   "execution_count": 30,
   "id": "013e7077",
   "metadata": {},
   "outputs": [
    {
     "name": "stdout",
     "output_type": "stream",
     "text": [
      "Prediction after training: f(5.0) = 9.980487823486328\n"
     ]
    }
   ],
   "source": [
    "print(f'Prediction after training: f({X_test.item()}) = {model(X_test).item()}')"
   ]
  },
  {
   "cell_type": "code",
   "execution_count": 31,
   "id": "c347f682",
   "metadata": {},
   "outputs": [],
   "source": [
    "import torch\n",
    "import torch.nn as nn\n",
    "import torchvision\n",
    "import torchvision.transforms as transforms\n",
    "import matplotlib.pyplot as plt"
   ]
  },
  {
   "cell_type": "code",
   "execution_count": 32,
   "id": "1c0f6583",
   "metadata": {},
   "outputs": [],
   "source": [
    "device = torch.device('cuda' if torch.cuda.is_available() else 'cpu')"
   ]
  },
  {
   "cell_type": "code",
   "execution_count": 33,
   "id": "a62cd368",
   "metadata": {},
   "outputs": [
    {
     "data": {
      "text/plain": [
       "device(type='cpu')"
      ]
     },
     "execution_count": 33,
     "metadata": {},
     "output_type": "execute_result"
    }
   ],
   "source": [
    "device"
   ]
  },
  {
   "cell_type": "code",
   "execution_count": 34,
   "id": "c1ead9f1",
   "metadata": {},
   "outputs": [],
   "source": [
    "# Hyper-parameters\n",
    "input_size = 784 # 28x28\n",
    "hidden_size = 500\n",
    "num_classes = 10 \n",
    "num_epochs = 2\n",
    "batch_size = 100\n",
    "learning_rate = 0.001"
   ]
  },
  {
   "cell_type": "code",
   "execution_count": 35,
   "id": "e6c50d15",
   "metadata": {},
   "outputs": [],
   "source": [
    "train_dataset = torchvision.datasets.MNIST(root='./data', \n",
    "                                           train=True,\n",
    "                                           transform=transforms.ToTensor(),\n",
    "                                           download=True)"
   ]
  },
  {
   "cell_type": "code",
   "execution_count": 36,
   "id": "5f7d6078",
   "metadata": {},
   "outputs": [],
   "source": [
    "test_dataset = torchvision.datasets.MNIST(root='./data',\n",
    "                                          train=False,\n",
    "                                          transform=transforms.ToTensor())"
   ]
  },
  {
   "cell_type": "code",
   "execution_count": 37,
   "id": "c2b89998",
   "metadata": {},
   "outputs": [],
   "source": [
    "train_loader = torch.utils.data.DataLoader(dataset=train_dataset,\n",
    "                                      batch_size=batch_size,\n",
    "                                      shuffle=True)\n",
    "\n",
    "test_loader = torch.utils.data.DataLoader(dataset=test_dataset,\n",
    "                                     batch_size=batch_size,\n",
    "                                     shuffle=True)"
   ]
  },
  {
   "cell_type": "code",
   "execution_count": 38,
   "id": "85d9605c",
   "metadata": {},
   "outputs": [],
   "source": [
    "examples = iter(train_loader)\n",
    "\n",
    "example_data, example_targets = next(examples)"
   ]
  },
  {
   "cell_type": "code",
   "execution_count": 39,
   "id": "c00b1a2c",
   "metadata": {},
   "outputs": [
    {
     "data": {
      "image/png": "[encoded data removed]",
      "text/plain": [
       "<Figure size 640x480 with 6 Axes>"
      ]
     },
     "metadata": {},
     "output_type": "display_data"
    }
   ],
   "source": [
    "for i in range(0,6):\n",
    "    plt.subplot(2, 3, i+1)\n",
    "    plt.imshow(example_data[i][0], cmap='gray_r')\n",
    "\n",
    "plt.show()"
   ]
  },
  {
   "cell_type": "code",
   "execution_count": 40,
   "id": "5aaeb43a",
   "metadata": {},
   "outputs": [],
   "source": [
    "class NeuralNet(nn.Module):\n",
    "    def __init__(self, input_size, hidden_size, num_classes):\n",
    "        super().__init__()\n",
    "        self.l1 = nn.Linear(input_size, hidden_size)\n",
    "        self.relu = nn.ReLU()\n",
    "        self.l2 = nn.Linear(hidden_size, num_classes)\n",
    "        \n",
    "    def forward(self, x):\n",
    "        out = self.l1(x)\n",
    "        out = self.relu(out)\n",
    "        out = self.l2(out)\n",
    "        \n",
    "        return out"
   ]
  },
  {
   "cell_type": "code",
   "execution_count": 41,
   "id": "7b96e52e",
   "metadata": {},
   "outputs": [],
   "source": [
    "model = NeuralNet(input_size, hidden_size, num_classes).to(device)"
   ]
  },
  {
   "cell_type": "code",
   "execution_count": 42,
   "id": "02f9be32",
   "metadata": {},
   "outputs": [],
   "source": [
    "# Loss and optimizer\n",
    "criterion = nn.CrossEntropyLoss()\n",
    "optimizer = torch.optim.Adam(model.parameters(), lr=learning_rate)"
   ]
  },
  {
   "cell_type": "code",
   "execution_count": 43,
   "id": "7be07563",
   "metadata": {},
   "outputs": [],
   "source": [
    "n_total_steps = len(train_loader)"
   ]
  },
  {
   "cell_type": "code",
   "execution_count": 44,
   "id": "bd749724",
   "metadata": {},
   "outputs": [
    {
     "name": "stdout",
     "output_type": "stream",
     "text": [
      "Epoch 0/2, Step 0/600, Loss 2.3068\n",
      "Epoch 0/2, Step 100/600, Loss 0.2874\n",
      "Epoch 0/2, Step 200/600, Loss 0.1771\n",
      "Epoch 0/2, Step 300/600, Loss 0.1106\n",
      "Epoch 0/2, Step 400/600, Loss 0.1572\n",
      "Epoch 0/2, Step 500/600, Loss 0.0952\n",
      "Epoch 1/2, Step 0/600, Loss 0.2483\n",
      "Epoch 1/2, Step 100/600, Loss 0.1133\n",
      "Epoch 1/2, Step 200/600, Loss 0.0914\n",
      "Epoch 1/2, Step 300/600, Loss 0.0789\n",
      "Epoch 1/2, Step 400/600, Loss 0.0605\n",
      "Epoch 1/2, Step 500/600, Loss 0.0662\n"
     ]
    }
   ],
   "source": [
    "for epoch in range(num_epochs):\n",
    "    for i, (images, labels) in enumerate(train_loader):\n",
    "        # origin shape = [100, 1, 28, 28]\n",
    "        # resized = [100, 784]\n",
    "        images = images.reshape(-1, 28*28).to(device)\n",
    "        labels = labels.to(device)\n",
    "        \n",
    "        # forward pass, loss calculation\n",
    "        outputs = model(images)\n",
    "        loss = criterion(outputs, labels)\n",
    "        \n",
    "        # backwards and optimize\n",
    "        loss.backward()\n",
    "        optimizer.step()\n",
    "        optimizer.zero_grad()\n",
    "        \n",
    "        if i % 100 == 0:\n",
    "            print(f'Epoch {epoch}/{num_epochs}, Step {i}/{n_total_steps}, Loss {loss.item():.4f}')"
   ]
  },
  {
   "cell_type": "code",
   "execution_count": 45,
   "id": "701fe019",
   "metadata": {},
   "outputs": [
    {
     "name": "stdout",
     "output_type": "stream",
     "text": [
      "Accuracy of trained model: 0.9695\n"
     ]
    }
   ],
   "source": [
    "# Don't need gradients for prediction\n",
    "with torch.no_grad():\n",
    "    n_correct = 0\n",
    "    n_samples = len(test_loader.dataset)\n",
    "    \n",
    "    for images, labels in test_loader:\n",
    "        images = images.reshape(-1, 28*28).to(device)\n",
    "        labels = labels.to(device)\n",
    "        \n",
    "        outputs = model(images)\n",
    "        \n",
    "        # max returns max value, index\n",
    "        _, predicted = torch.max(outputs,1)\n",
    "        n_correct += (predicted==labels).sum().item()\n",
    "    \n",
    "    acc = n_correct/n_samples\n",
    "\n",
    "print(f'Accuracy of trained model: {acc}')"
   ]
  }
 ],
 "metadata": {
  "kernelspec": {
   "display_name": "Python 3 (ipykernel)",
   "language": "python",
   "name": "python3"
  },
  "language_info": {
   "codemirror_mode": {
    "name": "ipython",
    "version": 3
   },
   "file_extension": ".py",
   "mimetype": "text/x-python",
   "name": "python",
   "nbconvert_exporter": "python",
   "pygments_lexer": "ipython3",
   "version": "3.11.4"
  }
 },
 "nbformat": 4,
 "nbformat_minor": 5
}
