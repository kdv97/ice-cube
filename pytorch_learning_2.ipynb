{
 "cells": [
  {
   "cell_type": "code",
   "execution_count": 1,
   "id": "e5d29f1a",
   "metadata": {},
   "outputs": [],
   "source": [
    "import torch"
   ]
  },
  {
   "cell_type": "code",
   "execution_count": 40,
   "id": "5ea32921",
   "metadata": {},
   "outputs": [],
   "source": [
    "x = torch.randn(3, requires_grad=True)"
   ]
  },
  {
   "cell_type": "code",
   "execution_count": 61,
   "id": "70aa9ebb",
   "metadata": {},
   "outputs": [
    {
     "data": {
      "text/plain": [
       "tensor([-1.3212,  0.5888, -0.8007], requires_grad=True)"
      ]
     },
     "execution_count": 61,
     "metadata": {},
     "output_type": "execute_result"
    }
   ],
   "source": [
    "x"
   ]
  },
  {
   "cell_type": "code",
   "execution_count": 62,
   "id": "801433f7",
   "metadata": {},
   "outputs": [
    {
     "data": {
      "text/plain": [
       "tensor([0.6788, 2.5888, 1.1993], grad_fn=<AddBackward0>)"
      ]
     },
     "execution_count": 62,
     "metadata": {},
     "output_type": "execute_result"
    }
   ],
   "source": [
    "y = x + 2\n",
    "y"
   ]
  },
  {
   "cell_type": "code",
   "execution_count": 42,
   "id": "fc4006f8",
   "metadata": {},
   "outputs": [
    {
     "name": "stdout",
     "output_type": "stream",
     "text": [
      "tensor([-1.3212,  0.5888, -0.8007], requires_grad=True)\n",
      "tensor([0.6788, 2.5888, 1.1993], grad_fn=<AddBackward0>)\n",
      "<AddBackward0 object at 0x00000249725D5C90>\n"
     ]
    }
   ],
   "source": [
    "print(x)\n",
    "print(y)\n",
    "print(y.grad_fn)"
   ]
  },
  {
   "cell_type": "code",
   "execution_count": 43,
   "id": "1609260f",
   "metadata": {},
   "outputs": [],
   "source": [
    "z = y * y * 3"
   ]
  },
  {
   "cell_type": "code",
   "execution_count": 64,
   "id": "9ea996e8",
   "metadata": {},
   "outputs": [
    {
     "data": {
      "text/plain": [
       "tensor([ 1.3825, 20.1060,  4.3151], grad_fn=<MulBackward0>)"
      ]
     },
     "execution_count": 64,
     "metadata": {},
     "output_type": "execute_result"
    }
   ],
   "source": [
    "y * y * 3"
   ]
  },
  {
   "cell_type": "code",
   "execution_count": 59,
   "id": "1055e11a",
   "metadata": {},
   "outputs": [
    {
     "data": {
      "text/plain": [
       "tensor([0.4608, 6.7020, 1.4384], grad_fn=<MulBackward0>)"
      ]
     },
     "execution_count": 59,
     "metadata": {},
     "output_type": "execute_result"
    }
   ],
   "source": [
    "y * y"
   ]
  },
  {
   "cell_type": "code",
   "execution_count": 44,
   "id": "b72e1975",
   "metadata": {},
   "outputs": [],
   "source": [
    "z2 = z.mean()"
   ]
  },
  {
   "cell_type": "code",
   "execution_count": 45,
   "id": "3eecb522",
   "metadata": {},
   "outputs": [],
   "source": [
    "z = z.mean()"
   ]
  },
  {
   "cell_type": "code",
   "execution_count": 47,
   "id": "8a0e46b7",
   "metadata": {},
   "outputs": [
    {
     "name": "stdout",
     "output_type": "stream",
     "text": [
      "None\n",
      "tensor([1.3577, 5.1776, 2.3986])\n"
     ]
    }
   ],
   "source": [
    "print(x.grad)\n",
    "z.backward()\n",
    "print(x.grad)"
   ]
  },
  {
   "cell_type": "code",
   "execution_count": 58,
   "id": "02d15464",
   "metadata": {},
   "outputs": [
    {
     "data": {
      "text/plain": [
       "tensor([-1.3212,  0.5888, -0.8007], requires_grad=True)"
      ]
     },
     "execution_count": 58,
     "metadata": {},
     "output_type": "execute_result"
    }
   ],
   "source": [
    "x"
   ]
  },
  {
   "cell_type": "markdown",
   "id": "d2515e4e",
   "metadata": {},
   "source": [
    "This last line is dz/dx, where z(x) = mean(3 * ((x + 2)^2)). We can check this gave us the right answer: dz/dx is just \n",
    "\\begin{align*}\n",
    "    \\nabla_x z &= \\nabla_x \\frac{3 * [(x_1 + 2)^2 + (x_2 + 2)^2 + (x_3 + 2)^2]}{3} \\\\ \n",
    "    &= \\nabla_x  [(x_1 + 2)^2 + (x_2 + 2)^2 + (x_3 + 2)^2] \\\\ \n",
    "    &= (x_1 + 2, x_2 + 2, x_3 + 2) \\\\ \n",
    "    &= x + (2, 2, 2).\n",
    "\\end{align*}\n",
    "Now, with the values of $x$ initialized above, this is\n",
    "$$\n",
    "\\nabla_x z = (-1.3 + 2, 0.6 + 2, -0.8 + 2) = (0.7, 0.8, -0.6).\n",
    "$$"
   ]
  },
  {
   "cell_type": "code",
   "execution_count": 56,
   "id": "5ed63825",
   "metadata": {},
   "outputs": [],
   "source": [
    "a = torch.ones(3)\n",
    "b = torch.tensor([1, 4, 10])"
   ]
  },
  {
   "cell_type": "code",
   "execution_count": 57,
   "id": "037a6133",
   "metadata": {},
   "outputs": [
    {
     "data": {
      "text/plain": [
       "tensor([ 1.,  4., 10.])"
      ]
     },
     "execution_count": 57,
     "metadata": {},
     "output_type": "execute_result"
    }
   ],
   "source": [
    "a * b"
   ]
  },
  {
   "cell_type": "code",
   "execution_count": null,
   "id": "927846b6",
   "metadata": {},
   "outputs": [],
   "source": []
  }
 ],
 "metadata": {
  "kernelspec": {
   "display_name": "Python 3 (ipykernel)",
   "language": "python",
   "name": "python3"
  },
  "language_info": {
   "codemirror_mode": {
    "name": "ipython",
    "version": 3
   },
   "file_extension": ".py",
   "mimetype": "text/x-python",
   "name": "python",
   "nbconvert_exporter": "python",
   "pygments_lexer": "ipython3",
   "version": "3.11.4"
  }
 },
 "nbformat": 4,
 "nbformat_minor": 5
}
