{
 "cells": [
  {
   "cell_type": "code",
   "execution_count": 1,
   "id": "2231cfc4",
   "metadata": {},
   "outputs": [],
   "source": [
    "import pandas as pd\n",
    "import numpy as np\n",
    "import torch\n",
    "torch.set_default_dtype(torch.float64)"
   ]
  },
  {
   "cell_type": "code",
   "execution_count": 2,
   "id": "7bd97c10",
   "metadata": {},
   "outputs": [],
   "source": [
    "# Without considerations for the auxiliary label and no explicit features consisting of sensor geometry\n",
    "from torch.utils.data import Dataset, DataLoader\n",
    "\n",
    "# Class for a dataset generated from a dataframe and data from the sensor geometry file\n",
    "class NeutrinoDataset(Dataset):\n",
    "    def __init__(self, filename):\n",
    "        self.sensor_geom = pd.read_csv('sensor_geometry.csv')\n",
    "        self.vals_df = pd.read_parquet('batch_104_directions.parquet')\n",
    "        self.dataframe = pd.read_parquet(filename)\n",
    "        sensor_loc = np.array(sg.iloc[:])[:, 1:]\n",
    "        self.num_features = 5160*3\n",
    "        self.num_events = self.dataframe.index.nunique()\n",
    "        self.unique_indices = np.unique(self.dataframe.index)\n",
    "        \n",
    "    def __len__(self):\n",
    "        return self.num_events\n",
    "    \n",
    "    # Replaces sensor ID with sensor coordinates \n",
    "    def __getitem__(self, i):\n",
    "        df = self.dataframe\n",
    "        sg = self.sensor_geom\n",
    "        meta_vals = np.array(\n",
    "            self.vals_df.loc[self.vals_df['event_id'] == df.index[i]])[0].astype(float)\n",
    "        \n",
    "        pulse_array = np.array(df.loc[df.index[i]])\n",
    "        pulse_array_sensors = np.concatenate((np.expand_dims(np.arange(5160), axis=1), np.zeros([5160, 3])), 1)\n",
    "\n",
    "        for pulse in pulse_array:\n",
    "            if(pulse_array_sensors[pulse[0]][1] == 0):\n",
    "                pulse_array_sensors[pulse[0]][1] = pulse[1] - meta_vals[2] # first time\n",
    "            else:\n",
    "                # possible last time, will be the last time for the actual last one\n",
    "                pulse_array_sensors[pulse[0]][2] = pulse[1] - meta_vals[2]\n",
    "            # Add charge\n",
    "            pulse_array_sensors[pulse[0]][3] += pulse[2]\n",
    "        \n",
    "        flattened_pulse = (pulse_array_sensors[:, 1:]).flatten()\n",
    "        # print(flattened_pulse.shape)\n",
    "                \n",
    "        return (torch.from_numpy(flattened_pulse), \n",
    "                                 torch.from_numpy(meta_vals[-2:]))\n",
    "    \n",
    "    # Finds the first event with multiple pulses at the same sensors\n",
    "    # here we ask for at least num_min_total_repeats repetitions\n",
    "    def get_multi_pulse_event(self, num_min_total_repeats):\n",
    "        for i in range(self.num_events):\n",
    "            pulses = np.array(df.loc[unique_indices[i]])\n",
    "            if(pulses[:,0].shape[0] - np.unique(pulses[:,0]).shape[0] >= num_min_total_repeats):\n",
    "                return self.unique_indices[i]\n",
    "            \n",
    "    # Finds all events in a range with multiple pulses at the same sensors\n",
    "    # here we ask for at least num_min_total_repeats repetitions\n",
    "    def get_multi_pulse_events(self, num_min_total_repeats, start_index, end_index):\n",
    "        list_multi_pulse = []\n",
    "        for i in range(start_index, min(self.num_events, end_index)):\n",
    "            pulses = np.array(df.loc[unique_indices[i]])\n",
    "            if(pulses[:,0].shape[0] - np.unique(pulses[:,0]).shape[0] >= num_min_total_repeats):\n",
    "                list_multi_pulse.append(self.unique_indices[i])\n",
    "        return list_multi_pulse\n"
   ]
  },
  {
   "cell_type": "code",
   "execution_count": 3,
   "id": "95e6ec88",
   "metadata": {},
   "outputs": [
    {
     "name": "stdout",
     "output_type": "stream",
     "text": [
      "Using cpu device\n"
     ]
    }
   ],
   "source": [
    "# Checking torch device\n",
    "device = (\n",
    "    \"cuda\"\n",
    "    if torch.cuda.is_available()\n",
    "    else \"mps\"\n",
    "    if torch.backends.mps.is_available()\n",
    "    else \"cpu\"\n",
    ")\n",
    "print(f\"Using {device} device\")"
   ]
  },
  {
   "cell_type": "code",
   "execution_count": 4,
   "id": "864253e6",
   "metadata": {},
   "outputs": [
    {
     "name": "stdout",
     "output_type": "stream",
     "text": [
      "2.0.1+cpu\n",
      "NNPredictor(\n",
      "  (layers): ModuleList(\n",
      "    (0): Linear(in_features=15480, out_features=100, bias=True)\n",
      "    (1): Linear(in_features=100, out_features=50, bias=True)\n",
      "    (2): Linear(in_features=50, out_features=10, bias=True)\n",
      "  )\n",
      "  (layer_norms): ModuleList()\n",
      "  (classifier): Linear(in_features=10, out_features=2, bias=True)\n",
      ")\n"
     ]
    }
   ],
   "source": [
    "# Set up Dataset and DataLoader, build NN\n",
    "\n",
    "import os\n",
    "import torch\n",
    "os.environ['TORCH'] = torch.__version__\n",
    "print(torch.__version__)\n",
    "import torch\n",
    "import torch.nn as nn\n",
    "from torch.nn import Linear\n",
    "from torch.utils.data import Dataset, DataLoader\n",
    "\n",
    "sg = pd.read_csv('sensor_geometry.csv')\n",
    "\n",
    "dataset = NeutrinoDataset('batch_104.parquet')\n",
    "\n",
    "dataloader = DataLoader(dataset, batch_size=4, shuffle=True, num_workers=0)\n",
    "\n",
    "class NNPredictor(torch.nn.Module):\n",
    "    def __init__(self, use_activation = True):\n",
    "        super().__init__()\n",
    "        torch.manual_seed(1234)\n",
    "        self.layers = nn.ModuleList()\n",
    "        self.layer_norms = nn.ModuleList()\n",
    "        self.use_activation = use_activation\n",
    "        \n",
    "        self.layers.append(nn.Linear(dataset.num_features, 100))\n",
    "        self.layers.append(nn.Linear(100, 50))\n",
    "        self.layers.append(nn.Linear(50, 10))\n",
    "        self.classifier = (nn.Linear(10,2))\n",
    "\n",
    "    def forward(self, x):\n",
    "        new_x = x\n",
    "        if(self.use_activation):\n",
    "            for layer in self.layers:\n",
    "                # print(layer, new_x.shape)\n",
    "                new_x = layer(new_x)\n",
    "                new_x = nn.ReLU()(new_x)\n",
    "        else:\n",
    "            for layer in self.layers:\n",
    "                new_x = layer(new_x)\n",
    "        \n",
    "        # Apply a final (linear) classifier.\n",
    "\n",
    "        return self.classifier(new_x)\n",
    "\n",
    "model = NNPredictor()\n",
    "print(model)\n"
   ]
  },
  {
   "cell_type": "code",
   "execution_count": 5,
   "id": "b4461540",
   "metadata": {},
   "outputs": [],
   "source": [
    "learning_rate = 1e-3\n",
    "batch_size = 64\n",
    "epochs = 5"
   ]
  },
  {
   "cell_type": "code",
   "execution_count": 6,
   "id": "bf0e8f30",
   "metadata": {},
   "outputs": [],
   "source": [
    "batch_104_vals_df = pd.read_parquet('batch_104_directions.parquet')"
   ]
  },
  {
   "cell_type": "code",
   "execution_count": 7,
   "id": "0f3f5b0c",
   "metadata": {},
   "outputs": [],
   "source": [
    "\n",
    "loss_fn = nn.MSELoss()\n",
    "\n",
    "optimizer = torch.optim.SGD(model.parameters(), lr=learning_rate)\n",
    "\n",
    "def train_loop(dataloader, model, loss_fn, optimizer):\n",
    "    size = len(dataloader.dataset)\n",
    "    # Set the model to training mode - important for batch normalization and dropout layers\n",
    "    # Unnecessary in this situation but added for best practices\n",
    "    model.train()\n",
    "    for batch, (X, y) in enumerate(dataloader):\n",
    "        # print(X)\n",
    "        # Compute prediction and loss\n",
    "        pred = model(X)\n",
    "        loss = loss_fn(pred, y)\n",
    "\n",
    "        # Backpropagation\n",
    "        loss.backward()\n",
    "        optimizer.step()\n",
    "        optimizer.zero_grad()\n",
    "\n",
    "        if batch % 100 == 0:\n",
    "            loss, current = loss.item(), (batch + 1) * len(X)\n",
    "            print(f\"loss: {loss:>7f}  [{current:>5d}/{size:>5d}]\")\n",
    "            \n"
   ]
  },
  {
   "cell_type": "code",
   "execution_count": null,
   "id": "af4974f3",
   "metadata": {},
   "outputs": [
    {
     "name": "stdout",
     "output_type": "stream",
     "text": [
      "loss: 496818.836474  [    4/200000]\n",
      "loss: 2441206878135286540055189913600.000000  [  404/200000]\n",
      "loss: 1998491153300646868079484076032.000000  [  804/200000]\n"
     ]
    }
   ],
   "source": [
    "train_loop(dataloader, model, loss_fn, optimizer)"
   ]
  },
  {
   "cell_type": "code",
   "execution_count": null,
   "id": "6fcff095",
   "metadata": {},
   "outputs": [],
   "source": [
    "# i=0\n",
    "# meta_vals = np.array(batch_104_vals_df.loc[batch_104_vals_df['event_id'] \n",
    "#                                            == df.index[0]])[0].astype(float)\n",
    "        \n",
    "# pulse_array = np.array(df.loc[df.index[i]])\n",
    "# pulse_array_sensors = np.concatenate((np.expand_dims(np.arange(5160), axis=1), np.zeros([5160, 3])), 1)\n",
    "\n",
    "# for pulse in pulse_array:\n",
    "#     if(pulse_array_sensors[pulse[0]][1] == 0):\n",
    "#         pulse_array_sensors[pulse[0]][1] = pulse[1] - meta_vals[2] # first time\n",
    "#     else:\n",
    "#         # possible last time, will be the last time for the actual last one\n",
    "#         pulse_array_sensors[pulse[0]][2] = pulse[1] - meta_vals[2]\n",
    "#     # Add charge\n",
    "#     pulse_array_sensors[pulse[0]][3] += pulse[2]\n",
    "\n",
    "# print(torch.from_numpy(np.concatenate(\n",
    "#     (np.ndarray.flatten(pulse_array_sensors[:, 1:]), meta_vals[-2:]))))"
   ]
  },
  {
   "cell_type": "code",
   "execution_count": null,
   "id": "b410b27b",
   "metadata": {},
   "outputs": [],
   "source": []
  },
  {
   "cell_type": "code",
   "execution_count": null,
   "id": "ed10c949",
   "metadata": {},
   "outputs": [],
   "source": []
  }
 ],
 "metadata": {
  "kernelspec": {
   "display_name": "Python 3 (ipykernel)",
   "language": "python",
   "name": "python3"
  },
  "language_info": {
   "codemirror_mode": {
    "name": "ipython",
    "version": 3
   },
   "file_extension": ".py",
   "mimetype": "text/x-python",
   "name": "python",
   "nbconvert_exporter": "python",
   "pygments_lexer": "ipython3",
   "version": "3.10.2"
  }
 },
 "nbformat": 4,
 "nbformat_minor": 5
}
