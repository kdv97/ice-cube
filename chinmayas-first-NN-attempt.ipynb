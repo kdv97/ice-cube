{
 "cells": [
  {
   "cell_type": "code",
   "execution_count": 1,
   "id": "2231cfc4",
   "metadata": {},
   "outputs": [],
   "source": [
    "import pandas as pd\n",
    "import numpy as np\n",
    "import torch\n",
    "torch.set_default_dtype(torch.float64)"
   ]
  },
  {
   "cell_type": "code",
   "execution_count": 2,
   "id": "7bd97c10",
   "metadata": {},
   "outputs": [],
   "source": [
    "# Without considerations for the auxiliary label and no explicit features consisting of sensor geometry\n",
    "from torch.utils.data import Dataset, DataLoader\n",
    "\n",
    "# Class for a dataset generated from a dataframe and data from the sensor geometry file\n",
    "class NeutrinoDataset(Dataset):\n",
    "    def __init__(self, filename):\n",
    "        self.sensor_geom = pd.read_csv('sensor_geometry.csv')\n",
    "        self.vals_df = pd.read_parquet('batch_104_directions.parquet')\n",
    "        self.dataframe = pd.read_parquet(filename)\n",
    "        sensor_loc = np.array(sg.iloc[:])[:, 1:]\n",
    "        self.num_features = 5160*3\n",
    "        self.num_events = self.dataframe.index.nunique()\n",
    "        self.unique_indices = np.unique(self.dataframe.index)\n",
    "        \n",
    "    def __len__(self):\n",
    "        return self.num_events\n",
    "    \n",
    "    # Replaces sensor ID with sensor coordinates \n",
    "    def __getitem__(self, i):\n",
    "        df = self.dataframe\n",
    "        sg = self.sensor_geom\n",
    "        meta_vals = np.array(\n",
    "            self.vals_df.loc[self.vals_df['event_id'] == df.index[i]])[0].astype(float)\n",
    "        \n",
    "        pulse_array = np.array(df.loc[df.index[i]])\n",
    "        pulse_array_sensors = np.concatenate((np.expand_dims(np.arange(5160), axis=1), np.zeros([5160, 3])), 1)\n",
    "\n",
    "        for pulse in pulse_array:\n",
    "            if(pulse_array_sensors[pulse[0]][1] == 0):\n",
    "                pulse_array_sensors[pulse[0]][1] = pulse[1] - meta_vals[2] # first time\n",
    "            else:\n",
    "                # possible last time, will be the last time for the actual last one\n",
    "                pulse_array_sensors[pulse[0]][2] = pulse[1] - meta_vals[2]\n",
    "            # Add charge\n",
    "            pulse_array_sensors[pulse[0]][3] += pulse[2]\n",
    "        \n",
    "        flattened_pulse = (pulse_array_sensors[:, 1:]).flatten()\n",
    "        # print(flattened_pulse.shape)\n",
    "                \n",
    "        return (torch.from_numpy(flattened_pulse), \n",
    "                                 torch.from_numpy(meta_vals[-2:]))\n",
    "    \n",
    "    # Finds the first event with multiple pulses at the same sensors\n",
    "    # here we ask for at least num_min_total_repeats repetitions\n",
    "    def get_multi_pulse_event(self, num_min_total_repeats):\n",
    "        for i in range(self.num_events):\n",
    "            pulses = np.array(df.loc[unique_indices[i]])\n",
    "            if(pulses[:,0].shape[0] - np.unique(pulses[:,0]).shape[0] >= num_min_total_repeats):\n",
    "                return self.unique_indices[i]\n",
    "            \n",
    "    # Finds all events in a range with multiple pulses at the same sensors\n",
    "    # here we ask for at least num_min_total_repeats repetitions\n",
    "    def get_multi_pulse_events(self, num_min_total_repeats, start_index, end_index):\n",
    "        list_multi_pulse = []\n",
    "        for i in range(start_index, min(self.num_events, end_index)):\n",
    "            pulses = np.array(df.loc[unique_indices[i]])\n",
    "            if(pulses[:,0].shape[0] - np.unique(pulses[:,0]).shape[0] >= num_min_total_repeats):\n",
    "                list_multi_pulse.append(self.unique_indices[i])\n",
    "        return list_multi_pulse\n"
   ]
  },
  {
   "cell_type": "code",
   "execution_count": 3,
   "id": "95e6ec88",
   "metadata": {},
   "outputs": [
    {
     "name": "stdout",
     "output_type": "stream",
     "text": [
      "Using cpu device\n"
     ]
    }
   ],
   "source": [
    "# Checking torch device\n",
    "device = (\n",
    "    \"cuda\"\n",
    "    if torch.cuda.is_available()\n",
    "    else \"mps\"\n",
    "    if torch.backends.mps.is_available()\n",
    "    else \"cpu\"\n",
    ")\n",
    "print(f\"Using {device} device\")"
   ]
  },
  {
   "cell_type": "code",
   "execution_count": 4,
   "id": "864253e6",
   "metadata": {},
   "outputs": [
    {
     "name": "stdout",
     "output_type": "stream",
     "text": [
      "2.0.1+cpu\n",
      "NNPredictor(\n",
      "  (layers): ModuleList(\n",
      "    (0): Linear(in_features=15480, out_features=100, bias=True)\n",
      "    (1): Linear(in_features=100, out_features=50, bias=True)\n",
      "    (2): Linear(in_features=50, out_features=10, bias=True)\n",
      "  )\n",
      "  (layer_norms): ModuleList()\n",
      "  (classifier): Linear(in_features=10, out_features=2, bias=True)\n",
      ")\n"
     ]
    }
   ],
   "source": [
    "# Set up Dataset and DataLoader, build NN\n",
    "\n",
    "import os\n",
    "import torch\n",
    "os.environ['TORCH'] = torch.__version__\n",
    "print(torch.__version__)\n",
    "import torch\n",
    "import torch.nn as nn\n",
    "from torch.nn import Linear\n",
    "from torch.utils.data import Dataset, DataLoader\n",
    "\n",
    "sg = pd.read_csv('sensor_geometry.csv')\n",
    "\n",
    "dataset = NeutrinoDataset('batch_104.parquet')\n",
    "\n",
    "dataloader = DataLoader(dataset, batch_size=4, shuffle=True, num_workers=0)\n",
    "\n",
    "class NNPredictor(torch.nn.Module):\n",
    "    def __init__(self, use_activation = True):\n",
    "        super().__init__()\n",
    "        torch.manual_seed(1234)\n",
    "        self.layers = nn.ModuleList()\n",
    "        self.layer_norms = nn.ModuleList()\n",
    "        self.use_activation = use_activation\n",
    "        \n",
    "        self.layers.append(nn.Linear(dataset.num_features, 100))\n",
    "        self.layers.append(nn.Linear(100, 50))\n",
    "        self.layers.append(nn.Linear(50, 10))\n",
    "        self.classifier = (nn.Linear(10,2))\n",
    "\n",
    "    def forward(self, x):\n",
    "        new_x = x\n",
    "        if(self.use_activation):\n",
    "            for layer in self.layers:\n",
    "                # print(layer, new_x.shape)\n",
    "                new_x = layer(new_x)\n",
    "                new_x = nn.ReLU()(new_x)\n",
    "        else:\n",
    "            for layer in self.layers:\n",
    "                new_x = layer(new_x)\n",
    "        \n",
    "        # Apply a final (linear) classifier.\n",
    "\n",
    "        return self.classifier(new_x)\n",
    "\n",
    "model = NNPredictor()\n",
    "print(model)\n"
   ]
  },
  {
   "cell_type": "code",
   "execution_count": 5,
   "id": "b4461540",
   "metadata": {},
   "outputs": [],
   "source": [
    "learning_rate = 1e-3\n",
    "batch_size = 64\n",
    "epochs = 5"
   ]
  },
  {
   "cell_type": "code",
   "execution_count": 6,
   "id": "bf0e8f30",
   "metadata": {},
   "outputs": [],
   "source": [
    "batch_104_vals_df = pd.read_parquet('batch_104_directions.parquet')"
   ]
  },
  {
   "cell_type": "code",
   "execution_count": 7,
   "id": "e339ed29",
   "metadata": {},
   "outputs": [],
   "source": [
    "\n",
    "loss_fn = nn.MSELoss()\n",
    "\n",
    "optimizer = torch.optim.SGD(model.parameters(), lr=learning_rate)\n",
    "\n",
    "def train_loop(dataloader, model, loss_fn, optimizer):\n",
    "    size = len(dataloader.dataset)\n",
    "    # Set the model to training mode - important for batch normalization and dropout layers\n",
    "    # Unnecessary in this situation but added for best practices\n",
    "    model.train()\n",
    "    for batch, (X, y) in enumerate(dataloader):\n",
    "        # print(X)\n",
    "        # Compute prediction and loss\n",
    "        pred = model(X)\n",
    "        loss = loss_fn(pred, y)\n",
    "\n",
    "        # Backpropagation\n",
    "        loss.backward()\n",
    "        optimizer.step()\n",
    "        optimizer.zero_grad()\n",
    "\n",
    "        if batch % 100 == 0:\n",
    "            loss, current = loss.item(), (batch + 1) * len(X)\n",
    "            print(f\"loss: {loss:>7f}  [{current:>5d}/{size:>5d}]\")\n",
    "            \n"
   ]
  },
  {
   "cell_type": "code",
   "execution_count": 8,
   "id": "e4798a88",
   "metadata": {},
   "outputs": [
    {
     "name": "stdout",
     "output_type": "stream",
     "text": [
      "loss: 496818.836474  [    4/200000]\n",
      "loss: 2441206878135286540055189913600.000000  [  404/200000]\n",
      "loss: 1998491153300646868079484076032.000000  [  804/200000]\n",
      "loss: 1636062443372981686591209603072.000000  [ 1204/200000]\n",
      "loss: 1339360604221250613142876061696.000000  [ 1604/200000]\n",
      "loss: 1096465990895526215631413182464.000000  [ 2004/200000]\n",
      "loss: 897620600009754536566805495808.000000  [ 2404/200000]\n",
      "loss: 734836053513895091952892772352.000000  [ 2804/200000]\n"
     ]
    },
    {
     "ename": "KeyboardInterrupt",
     "evalue": "",
     "output_type": "error",
     "traceback": [
      "\u001b[1;31m---------------------------------------------------------------------------\u001b[0m",
      "\u001b[1;31mKeyboardInterrupt\u001b[0m                         Traceback (most recent call last)",
      "Cell \u001b[1;32mIn [8], line 1\u001b[0m\n\u001b[1;32m----> 1\u001b[0m \u001b[43mtrain_loop\u001b[49m\u001b[43m(\u001b[49m\u001b[43mdataloader\u001b[49m\u001b[43m,\u001b[49m\u001b[43m \u001b[49m\u001b[43mmodel\u001b[49m\u001b[43m,\u001b[49m\u001b[43m \u001b[49m\u001b[43mloss_fn\u001b[49m\u001b[43m,\u001b[49m\u001b[43m \u001b[49m\u001b[43moptimizer\u001b[49m\u001b[43m)\u001b[49m\n",
      "Cell \u001b[1;32mIn [7], line 10\u001b[0m, in \u001b[0;36mtrain_loop\u001b[1;34m(dataloader, model, loss_fn, optimizer)\u001b[0m\n\u001b[0;32m      7\u001b[0m \u001b[38;5;66;03m# Set the model to training mode - important for batch normalization and dropout layers\u001b[39;00m\n\u001b[0;32m      8\u001b[0m \u001b[38;5;66;03m# Unnecessary in this situation but added for best practices\u001b[39;00m\n\u001b[0;32m      9\u001b[0m model\u001b[38;5;241m.\u001b[39mtrain()\n\u001b[1;32m---> 10\u001b[0m \u001b[38;5;28;01mfor\u001b[39;00m batch, (X, y) \u001b[38;5;129;01min\u001b[39;00m \u001b[38;5;28menumerate\u001b[39m(dataloader):\n\u001b[0;32m     11\u001b[0m     \u001b[38;5;66;03m# print(X)\u001b[39;00m\n\u001b[0;32m     12\u001b[0m     \u001b[38;5;66;03m# Compute prediction and loss\u001b[39;00m\n\u001b[0;32m     13\u001b[0m     pred \u001b[38;5;241m=\u001b[39m model(X)\n\u001b[0;32m     14\u001b[0m     loss \u001b[38;5;241m=\u001b[39m loss_fn(pred, y)\n",
      "File \u001b[1;32m~\\AppData\\Local\\Programs\\Python\\Python310\\lib\\site-packages\\torch\\utils\\data\\dataloader.py:633\u001b[0m, in \u001b[0;36m_BaseDataLoaderIter.__next__\u001b[1;34m(self)\u001b[0m\n\u001b[0;32m    630\u001b[0m \u001b[38;5;28;01mif\u001b[39;00m \u001b[38;5;28mself\u001b[39m\u001b[38;5;241m.\u001b[39m_sampler_iter \u001b[38;5;129;01mis\u001b[39;00m \u001b[38;5;28;01mNone\u001b[39;00m:\n\u001b[0;32m    631\u001b[0m     \u001b[38;5;66;03m# TODO(https://github.com/pytorch/pytorch/issues/76750)\u001b[39;00m\n\u001b[0;32m    632\u001b[0m     \u001b[38;5;28mself\u001b[39m\u001b[38;5;241m.\u001b[39m_reset()  \u001b[38;5;66;03m# type: ignore[call-arg]\u001b[39;00m\n\u001b[1;32m--> 633\u001b[0m data \u001b[38;5;241m=\u001b[39m \u001b[38;5;28;43mself\u001b[39;49m\u001b[38;5;241;43m.\u001b[39;49m\u001b[43m_next_data\u001b[49m\u001b[43m(\u001b[49m\u001b[43m)\u001b[49m\n\u001b[0;32m    634\u001b[0m \u001b[38;5;28mself\u001b[39m\u001b[38;5;241m.\u001b[39m_num_yielded \u001b[38;5;241m+\u001b[39m\u001b[38;5;241m=\u001b[39m \u001b[38;5;241m1\u001b[39m\n\u001b[0;32m    635\u001b[0m \u001b[38;5;28;01mif\u001b[39;00m \u001b[38;5;28mself\u001b[39m\u001b[38;5;241m.\u001b[39m_dataset_kind \u001b[38;5;241m==\u001b[39m _DatasetKind\u001b[38;5;241m.\u001b[39mIterable \u001b[38;5;129;01mand\u001b[39;00m \\\n\u001b[0;32m    636\u001b[0m         \u001b[38;5;28mself\u001b[39m\u001b[38;5;241m.\u001b[39m_IterableDataset_len_called \u001b[38;5;129;01mis\u001b[39;00m \u001b[38;5;129;01mnot\u001b[39;00m \u001b[38;5;28;01mNone\u001b[39;00m \u001b[38;5;129;01mand\u001b[39;00m \\\n\u001b[0;32m    637\u001b[0m         \u001b[38;5;28mself\u001b[39m\u001b[38;5;241m.\u001b[39m_num_yielded \u001b[38;5;241m>\u001b[39m \u001b[38;5;28mself\u001b[39m\u001b[38;5;241m.\u001b[39m_IterableDataset_len_called:\n",
      "File \u001b[1;32m~\\AppData\\Local\\Programs\\Python\\Python310\\lib\\site-packages\\torch\\utils\\data\\dataloader.py:677\u001b[0m, in \u001b[0;36m_SingleProcessDataLoaderIter._next_data\u001b[1;34m(self)\u001b[0m\n\u001b[0;32m    675\u001b[0m \u001b[38;5;28;01mdef\u001b[39;00m \u001b[38;5;21m_next_data\u001b[39m(\u001b[38;5;28mself\u001b[39m):\n\u001b[0;32m    676\u001b[0m     index \u001b[38;5;241m=\u001b[39m \u001b[38;5;28mself\u001b[39m\u001b[38;5;241m.\u001b[39m_next_index()  \u001b[38;5;66;03m# may raise StopIteration\u001b[39;00m\n\u001b[1;32m--> 677\u001b[0m     data \u001b[38;5;241m=\u001b[39m \u001b[38;5;28;43mself\u001b[39;49m\u001b[38;5;241;43m.\u001b[39;49m\u001b[43m_dataset_fetcher\u001b[49m\u001b[38;5;241;43m.\u001b[39;49m\u001b[43mfetch\u001b[49m\u001b[43m(\u001b[49m\u001b[43mindex\u001b[49m\u001b[43m)\u001b[49m  \u001b[38;5;66;03m# may raise StopIteration\u001b[39;00m\n\u001b[0;32m    678\u001b[0m     \u001b[38;5;28;01mif\u001b[39;00m \u001b[38;5;28mself\u001b[39m\u001b[38;5;241m.\u001b[39m_pin_memory:\n\u001b[0;32m    679\u001b[0m         data \u001b[38;5;241m=\u001b[39m _utils\u001b[38;5;241m.\u001b[39mpin_memory\u001b[38;5;241m.\u001b[39mpin_memory(data, \u001b[38;5;28mself\u001b[39m\u001b[38;5;241m.\u001b[39m_pin_memory_device)\n",
      "File \u001b[1;32m~\\AppData\\Local\\Programs\\Python\\Python310\\lib\\site-packages\\torch\\utils\\data\\_utils\\fetch.py:51\u001b[0m, in \u001b[0;36m_MapDatasetFetcher.fetch\u001b[1;34m(self, possibly_batched_index)\u001b[0m\n\u001b[0;32m     49\u001b[0m         data \u001b[38;5;241m=\u001b[39m \u001b[38;5;28mself\u001b[39m\u001b[38;5;241m.\u001b[39mdataset\u001b[38;5;241m.\u001b[39m__getitems__(possibly_batched_index)\n\u001b[0;32m     50\u001b[0m     \u001b[38;5;28;01melse\u001b[39;00m:\n\u001b[1;32m---> 51\u001b[0m         data \u001b[38;5;241m=\u001b[39m [\u001b[38;5;28mself\u001b[39m\u001b[38;5;241m.\u001b[39mdataset[idx] \u001b[38;5;28;01mfor\u001b[39;00m idx \u001b[38;5;129;01min\u001b[39;00m possibly_batched_index]\n\u001b[0;32m     52\u001b[0m \u001b[38;5;28;01melse\u001b[39;00m:\n\u001b[0;32m     53\u001b[0m     data \u001b[38;5;241m=\u001b[39m \u001b[38;5;28mself\u001b[39m\u001b[38;5;241m.\u001b[39mdataset[possibly_batched_index]\n",
      "File \u001b[1;32m~\\AppData\\Local\\Programs\\Python\\Python310\\lib\\site-packages\\torch\\utils\\data\\_utils\\fetch.py:51\u001b[0m, in \u001b[0;36m<listcomp>\u001b[1;34m(.0)\u001b[0m\n\u001b[0;32m     49\u001b[0m         data \u001b[38;5;241m=\u001b[39m \u001b[38;5;28mself\u001b[39m\u001b[38;5;241m.\u001b[39mdataset\u001b[38;5;241m.\u001b[39m__getitems__(possibly_batched_index)\n\u001b[0;32m     50\u001b[0m     \u001b[38;5;28;01melse\u001b[39;00m:\n\u001b[1;32m---> 51\u001b[0m         data \u001b[38;5;241m=\u001b[39m [\u001b[38;5;28;43mself\u001b[39;49m\u001b[38;5;241;43m.\u001b[39;49m\u001b[43mdataset\u001b[49m\u001b[43m[\u001b[49m\u001b[43midx\u001b[49m\u001b[43m]\u001b[49m \u001b[38;5;28;01mfor\u001b[39;00m idx \u001b[38;5;129;01min\u001b[39;00m possibly_batched_index]\n\u001b[0;32m     52\u001b[0m \u001b[38;5;28;01melse\u001b[39;00m:\n\u001b[0;32m     53\u001b[0m     data \u001b[38;5;241m=\u001b[39m \u001b[38;5;28mself\u001b[39m\u001b[38;5;241m.\u001b[39mdataset[possibly_batched_index]\n",
      "Cell \u001b[1;32mIn [2], line 37\u001b[0m, in \u001b[0;36mNeutrinoDataset.__getitem__\u001b[1;34m(self, i)\u001b[0m\n\u001b[0;32m     34\u001b[0m     \u001b[38;5;66;03m# Add charge\u001b[39;00m\n\u001b[0;32m     35\u001b[0m     pulse_array_sensors[pulse[\u001b[38;5;241m0\u001b[39m]][\u001b[38;5;241m3\u001b[39m] \u001b[38;5;241m+\u001b[39m\u001b[38;5;241m=\u001b[39m pulse[\u001b[38;5;241m2\u001b[39m]\n\u001b[1;32m---> 37\u001b[0m flattened_pulse \u001b[38;5;241m=\u001b[39m \u001b[43m(\u001b[49m\u001b[43mpulse_array_sensors\u001b[49m\u001b[43m[\u001b[49m\u001b[43m:\u001b[49m\u001b[43m,\u001b[49m\u001b[43m \u001b[49m\u001b[38;5;241;43m1\u001b[39;49m\u001b[43m:\u001b[49m\u001b[43m]\u001b[49m\u001b[43m)\u001b[49m\u001b[38;5;241;43m.\u001b[39;49m\u001b[43mflatten\u001b[49m\u001b[43m(\u001b[49m\u001b[43m)\u001b[49m\n\u001b[0;32m     38\u001b[0m \u001b[38;5;66;03m# print(flattened_pulse.shape)\u001b[39;00m\n\u001b[0;32m     40\u001b[0m \u001b[38;5;28;01mreturn\u001b[39;00m (torch\u001b[38;5;241m.\u001b[39mfrom_numpy(flattened_pulse), \n\u001b[0;32m     41\u001b[0m                          torch\u001b[38;5;241m.\u001b[39mfrom_numpy(meta_vals[\u001b[38;5;241m-\u001b[39m\u001b[38;5;241m2\u001b[39m:]))\n",
      "\u001b[1;31mKeyboardInterrupt\u001b[0m: "
     ]
    }
   ],
   "source": [
    "train_loop(dataloader, model, loss_fn, optimizer)"
   ]
  },
  {
   "cell_type": "code",
   "execution_count": null,
   "id": "6fcff095",
   "metadata": {},
   "outputs": [],
   "source": [
    "# i=0\n",
    "# meta_vals = np.array(batch_104_vals_df.loc[batch_104_vals_df['event_id'] \n",
    "#                                            == df.index[0]])[0].astype(float)\n",
    "        \n",
    "# pulse_array = np.array(df.loc[df.index[i]])\n",
    "# pulse_array_sensors = np.concatenate((np.expand_dims(np.arange(5160), axis=1), np.zeros([5160, 3])), 1)\n",
    "\n",
    "# for pulse in pulse_array:\n",
    "#     if(pulse_array_sensors[pulse[0]][1] == 0):\n",
    "#         pulse_array_sensors[pulse[0]][1] = pulse[1] - meta_vals[2] # first time\n",
    "#     else:\n",
    "#         # possible last time, will be the last time for the actual last one\n",
    "#         pulse_array_sensors[pulse[0]][2] = pulse[1] - meta_vals[2]\n",
    "#     # Add charge\n",
    "#     pulse_array_sensors[pulse[0]][3] += pulse[2]\n",
    "\n",
    "# print(torch.from_numpy(np.concatenate(\n",
    "#     (np.ndarray.flatten(pulse_array_sensors[:, 1:]), meta_vals[-2:]))))"
   ]
  },
  {
   "cell_type": "code",
   "execution_count": null,
   "id": "b410b27b",
   "metadata": {},
   "outputs": [],
   "source": []
  },
  {
   "cell_type": "code",
   "execution_count": null,
   "id": "0cded261",
   "metadata": {},
   "outputs": [],
   "source": []
  }
 ],
 "metadata": {
  "kernelspec": {
   "display_name": "Python 3 (ipykernel)",
   "language": "python",
   "name": "python3"
  },
  "language_info": {
   "codemirror_mode": {
    "name": "ipython",
    "version": 3
   },
   "file_extension": ".py",
   "mimetype": "text/x-python",
   "name": "python",
   "nbconvert_exporter": "python",
   "pygments_lexer": "ipython3",
   "version": "3.10.2"
  }
 },
 "nbformat": 4,
 "nbformat_minor": 5
}
