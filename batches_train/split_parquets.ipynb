{
 "cells": [
  {
   "cell_type": "markdown",
   "id": "8e380841",
   "metadata": {},
   "source": [
    "Since these parquet files are >100 MB, I can't commit them. This notebook splits them into separate parquet files so that I can commit each one. "
   ]
  },
  {
   "cell_type": "code",
   "execution_count": 5,
   "id": "e9556baf",
   "metadata": {},
   "outputs": [],
   "source": [
    "import dask.dataframe as dd\n",
    "import pandas as pd\n",
    "import numpy as np"
   ]
  },
  {
   "cell_type": "code",
   "execution_count": 80,
   "id": "34280a76",
   "metadata": {},
   "outputs": [],
   "source": [
    "# Load the big parquet\n",
    "ddf = dd.read_parquet('batch_1.parquet')"
   ]
  },
  {
   "cell_type": "code",
   "execution_count": 81,
   "id": "1858c960",
   "metadata": {},
   "outputs": [],
   "source": [
    "# This line runs the repartitioning code. \n",
    "# Uncomment and run to repartition\n",
    "# ddf.repartition(npartitions=3).to_parquet('batch_1_repartitions/')"
   ]
  },
  {
   "cell_type": "markdown",
   "id": "95ad9fc7",
   "metadata": {},
   "source": [
    "Let's check to make sure this really worked"
   ]
  },
  {
   "cell_type": "code",
   "execution_count": 82,
   "id": "e9e545e2",
   "metadata": {},
   "outputs": [],
   "source": [
    "batch_1 = pd.read_parquet('batch_1.parquet')\n",
    "batch_1_0 = pd.read_parquet('batch_1_repartitions/part.0.parquet')\n",
    "batch_1_1 = pd.read_parquet('batch_1_repartitions/part.1.parquet')\n",
    "batch_1_2 = pd.read_parquet('batch_1_repartitions/part.2.parquet')"
   ]
  },
  {
   "cell_type": "code",
   "execution_count": 83,
   "id": "56f5a757",
   "metadata": {},
   "outputs": [
    {
     "data": {
      "text/html": [
       "<div>\n",
       "<style scoped>\n",
       "    .dataframe tbody tr th:only-of-type {\n",
       "        vertical-align: middle;\n",
       "    }\n",
       "\n",
       "    .dataframe tbody tr th {\n",
       "        vertical-align: top;\n",
       "    }\n",
       "\n",
       "    .dataframe thead th {\n",
       "        text-align: right;\n",
       "    }\n",
       "</style>\n",
       "<table border=\"1\" class=\"dataframe\">\n",
       "  <thead>\n",
       "    <tr style=\"text-align: right;\">\n",
       "      <th></th>\n",
       "      <th>sensor_id</th>\n",
       "      <th>time</th>\n",
       "      <th>charge</th>\n",
       "      <th>auxiliary</th>\n",
       "    </tr>\n",
       "    <tr>\n",
       "      <th>event_id</th>\n",
       "      <th></th>\n",
       "      <th></th>\n",
       "      <th></th>\n",
       "      <th></th>\n",
       "    </tr>\n",
       "  </thead>\n",
       "  <tbody>\n",
       "    <tr>\n",
       "      <th>24</th>\n",
       "      <td>True</td>\n",
       "      <td>True</td>\n",
       "      <td>True</td>\n",
       "      <td>True</td>\n",
       "    </tr>\n",
       "    <tr>\n",
       "      <th>24</th>\n",
       "      <td>True</td>\n",
       "      <td>True</td>\n",
       "      <td>True</td>\n",
       "      <td>True</td>\n",
       "    </tr>\n",
       "    <tr>\n",
       "      <th>24</th>\n",
       "      <td>True</td>\n",
       "      <td>True</td>\n",
       "      <td>True</td>\n",
       "      <td>True</td>\n",
       "    </tr>\n",
       "    <tr>\n",
       "      <th>24</th>\n",
       "      <td>True</td>\n",
       "      <td>True</td>\n",
       "      <td>True</td>\n",
       "      <td>True</td>\n",
       "    </tr>\n",
       "    <tr>\n",
       "      <th>24</th>\n",
       "      <td>True</td>\n",
       "      <td>True</td>\n",
       "      <td>True</td>\n",
       "      <td>True</td>\n",
       "    </tr>\n",
       "    <tr>\n",
       "      <th>...</th>\n",
       "      <td>...</td>\n",
       "      <td>...</td>\n",
       "      <td>...</td>\n",
       "      <td>...</td>\n",
       "    </tr>\n",
       "    <tr>\n",
       "      <th>1129174</th>\n",
       "      <td>True</td>\n",
       "      <td>True</td>\n",
       "      <td>True</td>\n",
       "      <td>True</td>\n",
       "    </tr>\n",
       "    <tr>\n",
       "      <th>1129174</th>\n",
       "      <td>True</td>\n",
       "      <td>True</td>\n",
       "      <td>True</td>\n",
       "      <td>True</td>\n",
       "    </tr>\n",
       "    <tr>\n",
       "      <th>1129174</th>\n",
       "      <td>True</td>\n",
       "      <td>True</td>\n",
       "      <td>True</td>\n",
       "      <td>True</td>\n",
       "    </tr>\n",
       "    <tr>\n",
       "      <th>1129174</th>\n",
       "      <td>True</td>\n",
       "      <td>True</td>\n",
       "      <td>True</td>\n",
       "      <td>True</td>\n",
       "    </tr>\n",
       "    <tr>\n",
       "      <th>1129174</th>\n",
       "      <td>True</td>\n",
       "      <td>True</td>\n",
       "      <td>True</td>\n",
       "      <td>True</td>\n",
       "    </tr>\n",
       "  </tbody>\n",
       "</table>\n",
       "<p>10930805 rows × 4 columns</p>\n",
       "</div>"
      ],
      "text/plain": [
       "          sensor_id  time  charge  auxiliary\n",
       "event_id                                    \n",
       "24             True  True    True       True\n",
       "24             True  True    True       True\n",
       "24             True  True    True       True\n",
       "24             True  True    True       True\n",
       "24             True  True    True       True\n",
       "...             ...   ...     ...        ...\n",
       "1129174        True  True    True       True\n",
       "1129174        True  True    True       True\n",
       "1129174        True  True    True       True\n",
       "1129174        True  True    True       True\n",
       "1129174        True  True    True       True\n",
       "\n",
       "[10930805 rows x 4 columns]"
      ]
     },
     "execution_count": 83,
     "metadata": {},
     "output_type": "execute_result"
    }
   ],
   "source": [
    "batch_1_0 == batch_1[0:batch_1_0.shape[0]]"
   ]
  },
  {
   "cell_type": "markdown",
   "id": "f75909f7",
   "metadata": {},
   "source": [
    "Note: this doesn't split along events; so batch_1_0 might end cutting off the last event, and batch_1_1 might start with half of that event."
   ]
  }
 ],
 "metadata": {
  "kernelspec": {
   "display_name": "Python 3 (ipykernel)",
   "language": "python",
   "name": "python3"
  },
  "language_info": {
   "codemirror_mode": {
    "name": "ipython",
    "version": 3
   },
   "file_extension": ".py",
   "mimetype": "text/x-python",
   "name": "python",
   "nbconvert_exporter": "python",
   "pygments_lexer": "ipython3",
   "version": "3.11.4"
  }
 },
 "nbformat": 4,
 "nbformat_minor": 5
}
