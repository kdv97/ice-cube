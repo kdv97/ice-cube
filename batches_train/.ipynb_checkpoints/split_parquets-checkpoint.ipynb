{
 "cells": [
  {
   "cell_type": "markdown",
   "id": "975d6924",
   "metadata": {},
   "source": [
    "Since these parquet files are >100 MB, I can't commit them. This notebook splits them into separate parquet files so that I can commit each one. "
   ]
  },
  {
   "cell_type": "code",
   "execution_count": 5,
   "id": "ecc0380f",
   "metadata": {},
   "outputs": [],
   "source": [
    "import dask.dataframe as dd\n",
    "import pandas as pd\n",
    "import numpy as np"
   ]
  },
  {
   "cell_type": "code",
   "execution_count": 3,
   "id": "846f18db",
   "metadata": {},
   "outputs": [],
   "source": [
    "# Load the big parquet\n",
    "ddf = dd.read_parquet('batch_1.parquet')"
   ]
  },
  {
   "cell_type": "code",
   "execution_count": 4,
   "id": "51e3e0e9",
   "metadata": {},
   "outputs": [],
   "source": [
    "# This line runs the repartitioning code. \n",
    "# Uncomment and run to repartition\n",
    "# ddf.repartition(npartitions=3).to_parquet('batch_1_repartitions/')"
   ]
  },
  {
   "cell_type": "markdown",
   "id": "9398cd3e",
   "metadata": {},
   "source": [
    "Let's check to make sure this really worked"
   ]
  },
  {
   "cell_type": "code",
   "execution_count": 11,
   "id": "9d66c75c",
   "metadata": {},
   "outputs": [],
   "source": [
    "batch_1 = pd.read_parquet('batch_1.parquet')\n",
    "batch_1_0 = pd.read_parquet('batch_1_repartitions/part.0.parquet')\n",
    "batch_1_1 = pd.read_parquet('batch_1_repartitions/part.1.parquet')\n",
    "batch_1_2 = pd.read_parquet('batch_1_repartitions/part.2.parquet')"
   ]
  },
  {
   "cell_type": "code",
   "execution_count": 28,
   "id": "581baccb",
   "metadata": {},
   "outputs": [
    {
     "data": {
      "text/plain": [
       "(10930805, 4)"
      ]
     },
     "execution_count": 28,
     "metadata": {},
     "output_type": "execute_result"
    }
   ],
   "source": [
    "batch_1_0"
   ]
  },
  {
   "cell_type": "code",
   "execution_count": 27,
   "id": "d5fea02a",
   "metadata": {},
   "outputs": [
    {
     "data": {
      "text/plain": [
       "Index(['sensor_id', 'time', 'charge', 'auxiliary'], dtype='object')"
      ]
     },
     "execution_count": 27,
     "metadata": {},
     "output_type": "execute_result"
    }
   ],
   "source": [
    "batch_1_0.columns"
   ]
  },
  {
   "cell_type": "code",
   "execution_count": null,
   "id": "bcb1bb2f",
   "metadata": {},
   "outputs": [],
   "source": []
  }
 ],
 "metadata": {
  "kernelspec": {
   "display_name": "Python 3 (ipykernel)",
   "language": "python",
   "name": "python3"
  },
  "language_info": {
   "codemirror_mode": {
    "name": "ipython",
    "version": 3
   },
   "file_extension": ".py",
   "mimetype": "text/x-python",
   "name": "python",
   "nbconvert_exporter": "python",
   "pygments_lexer": "ipython3",
   "version": "3.11.4"
  }
 },
 "nbformat": 4,
 "nbformat_minor": 5
}
