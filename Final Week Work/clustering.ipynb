{
 "cells": [
  {
   "cell_type": "code",
   "execution_count": 1,
   "id": "dec2fef8",
   "metadata": {},
   "outputs": [],
   "source": [
    "import pandas as pd\n",
    "import numpy as np\n",
    "import scipy.cluster.hierarchy as hcluster"
   ]
  },
  {
   "cell_type": "code",
   "execution_count": 5,
   "id": "fa866ef9",
   "metadata": {},
   "outputs": [],
   "source": [
    "# Import data\n",
    "sensor_geom = pd.read_csv('../sensor_geometry.csv')"
   ]
  },
  {
   "cell_type": "code",
   "execution_count": 8,
   "id": "6283a629",
   "metadata": {},
   "outputs": [],
   "source": [
    "batch1 = pd.read_parquet('../batches_train/batch_1_repartitions/part.0.parquet')"
   ]
  },
  {
   "cell_type": "code",
   "execution_count": 16,
   "id": "e7ff32d1",
   "metadata": {},
   "outputs": [
    {
     "data": {
      "text/plain": [
       "array([  48,  104,  300,  553,  554,  557,  558,  560,  613,  860,  972,\n",
       "        973,  975, 1241, 1397, 1405, 1583, 1743, 1940, 1970, 2261, 2421,\n",
       "       2440, 2448, 2948, 2959, 2977, 3050, 3115, 3161, 3267, 3276, 3289,\n",
       "       3387, 3438, 3452, 3496, 3520, 3609, 3699, 3918, 4157, 4528, 4571,\n",
       "       4831, 4904, 5041, 5057, 5059], dtype=int16)"
      ]
     },
     "execution_count": 16,
     "metadata": {},
     "output_type": "execute_result"
    }
   ],
   "source": [
    "np.unique(b['sensor_id'].values)"
   ]
  },
  {
   "cell_type": "code",
   "execution_count": 6,
   "id": "bb2ccc32",
   "metadata": {},
   "outputs": [],
   "source": [
    "# Make a function that outputs (x,y,z) for a sensor_id input\n",
    "def id_to_xyz(sen):\n",
    "    row = tuple(sensor_geom.loc[sen][1:4])\n",
    "    return row"
   ]
  },
  {
   "cell_type": "code",
   "execution_count": 34,
   "id": "c2497483",
   "metadata": {},
   "outputs": [],
   "source": [
    "# Given an event, find out how many clusters it has\n",
    "def how_many_clusters(event, aux_incl=False, threshold=150, criterion='distance'):\n",
    "    if aux_incl == False:\n",
    "        event = event[event.auxiliary==False]\n",
    "    raw_data = [id_to_xyz(sen) for sen in np.unique(event['sensor_id'].values)]\n",
    "    clusters = hcluster.fclusterdata(raw_data,threshold,criterion=criterion)\n",
    "    return np.unique(clusters).size"
   ]
  },
  {
   "cell_type": "code",
   "execution_count": 37,
   "id": "e4e8d60e",
   "metadata": {},
   "outputs": [
    {
     "data": {
      "text/plain": [
       "2"
      ]
     },
     "execution_count": 37,
     "metadata": {},
     "output_type": "execute_result"
    }
   ],
   "source": [
    "how_many_clusters(batch1.loc[24],False)"
   ]
  },
  {
   "cell_type": "markdown",
   "id": "fa101aa2",
   "metadata": {},
   "source": [
    "Now let's run it on batch 10"
   ]
  },
  {
   "cell_type": "code",
   "execution_count": 38,
   "id": "4159e0f4",
   "metadata": {},
   "outputs": [],
   "source": [
    "batch10 = pd.read_parquet('../batches_train/batch_10.parquet')"
   ]
  },
  {
   "cell_type": "code",
   "execution_count": 52,
   "id": "cb2c32ff",
   "metadata": {},
   "outputs": [],
   "source": [
    "b = np.unique(batch10.index)"
   ]
  },
  {
   "cell_type": "code",
   "execution_count": 54,
   "id": "1aad458b",
   "metadata": {},
   "outputs": [
    {
     "data": {
      "text/plain": [
       "array([29296372, 29296374, 29296414, 29296416, 29296437], dtype=int64)"
      ]
     },
     "execution_count": 54,
     "metadata": {},
     "output_type": "execute_result"
    }
   ],
   "source": [
    "b[0:5]"
   ]
  },
  {
   "cell_type": "code",
   "execution_count": 55,
   "id": "0cc99ab1",
   "metadata": {},
   "outputs": [
    {
     "data": {
      "text/plain": [
       "231"
      ]
     },
     "execution_count": 55,
     "metadata": {},
     "output_type": "execute_result"
    }
   ],
   "source": [
    "int(231.0)"
   ]
  },
  {
   "cell_type": "code",
   "execution_count": null,
   "id": "7bcd5c8a",
   "metadata": {},
   "outputs": [],
   "source": []
  }
 ],
 "metadata": {
  "kernelspec": {
   "display_name": "Python 3 (ipykernel)",
   "language": "python",
   "name": "python3"
  },
  "language_info": {
   "codemirror_mode": {
    "name": "ipython",
    "version": 3
   },
   "file_extension": ".py",
   "mimetype": "text/x-python",
   "name": "python",
   "nbconvert_exporter": "python",
   "pygments_lexer": "ipython3",
   "version": "3.11.4"
  }
 },
 "nbformat": 4,
 "nbformat_minor": 5
}
