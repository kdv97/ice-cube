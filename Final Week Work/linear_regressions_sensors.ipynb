{
 "cells": [
  {
   "cell_type": "code",
   "execution_count": 1,
   "id": "982bccb1",
   "metadata": {},
   "outputs": [],
   "source": [
    "# import modules\n",
    "import pandas as pd\n",
    "import numpy as np\n",
    "import sklearn.linear_model as LinearRegression"
   ]
  },
  {
   "cell_type": "code",
   "execution_count": 37,
   "id": "63225b06",
   "metadata": {},
   "outputs": [],
   "source": [
    "def raw_event_to_proc_binary(event, aux_incl=False):\n",
    "    \"\"\"\n",
    "    Given an event, this function returns a processed\n",
    "    5160-tuple with the ith entry being 0 if that sensor_id\n",
    "    was not pinged during this event, and a 1 otherwise\n",
    "    \"\"\"\n",
    "    if aux_incl == False:\n",
    "        event = event[event.auxiliary==False]\n",
    "    \n",
    "    # array to be returned\n",
    "    proc = np.zeros((5160,))\n",
    "    \n",
    "    # find the sensors that got pinged, modify proc accordingly\n",
    "    sensors = np.unique(event.sensor_id.values)\n",
    "    for sensor in sensors:\n",
    "        proc[sensor] = 1\n",
    "    \n",
    "    return proc"
   ]
  },
  {
   "cell_type": "code",
   "execution_count": 67,
   "id": "d1e52fcb",
   "metadata": {},
   "outputs": [],
   "source": [
    "def raw_batch_to_proc_binary(batch, aux_incl=False):\n",
    "    \"\"\"\n",
    "    Given a (sub)batch, this function returns a processed\n",
    "    pandas DataFrame whose rows are the processed events\n",
    "    according to raw_event_to_proc_binary\n",
    "    \"\"\"\n",
    "    # DataFrame to be returned\n",
    "    event_ids = np.unique(batch.index)\n",
    "    df = pd.DataFrame(0, index=event_ids, columns=[i for i in range(5160)])\n",
    "\n",
    "    # run the raw_event_to_proc_binary function on each event\n",
    "    for event_id in event_ids:\n",
    "        df.loc[event_id] = raw_event_to_proc_binary(batch.loc[event_id], aux_incl=aux_incl)\n",
    "        \n",
    "    return df"
   ]
  },
  {
   "cell_type": "code",
   "execution_count": null,
   "id": "b259cc1e",
   "metadata": {},
   "outputs": [],
   "source": [
    "### MODEL TRAINING AND TESTING ### \n",
    "\n",
    "# Now we load our data and create various linear models "
   ]
  },
  {
   "cell_type": "code",
   "execution_count": null,
   "id": "3ad69162",
   "metadata": {},
   "outputs": [],
   "source": []
  },
  {
   "cell_type": "code",
   "execution_count": null,
   "id": "eb79f436",
   "metadata": {},
   "outputs": [],
   "source": []
  },
  {
   "cell_type": "code",
   "execution_count": null,
   "id": "efe8741b",
   "metadata": {},
   "outputs": [],
   "source": []
  },
  {
   "cell_type": "code",
   "execution_count": null,
   "id": "b4227537",
   "metadata": {},
   "outputs": [],
   "source": []
  },
  {
   "cell_type": "code",
   "execution_count": null,
   "id": "b9ee394c",
   "metadata": {},
   "outputs": [],
   "source": []
  },
  {
   "cell_type": "code",
   "execution_count": 5,
   "id": "2d8ad569",
   "metadata": {},
   "outputs": [],
   "source": [
    "sensor_geom = pd.read_csv('../sensor_geometry.csv')\n",
    "batch10 = pd.read_parquet('../batches_train/batch_10.parquet') # CHANGE THIS TO BATCH 10 "
   ]
  },
  {
   "cell_type": "code",
   "execution_count": 38,
   "id": "e87cb735",
   "metadata": {},
   "outputs": [],
   "source": [
    "event_ids = np.unique(batch10.index)"
   ]
  },
  {
   "cell_type": "code",
   "execution_count": 39,
   "id": "5591fc91",
   "metadata": {},
   "outputs": [
    {
     "data": {
      "text/plain": [
       "array([29296372, 29296374, 29296414, ..., 32567659, 32567680, 32567683],\n",
       "      dtype=int64)"
      ]
     },
     "execution_count": 39,
     "metadata": {},
     "output_type": "execute_result"
    }
   ],
   "source": [
    "event_ids"
   ]
  },
  {
   "cell_type": "code",
   "execution_count": 6,
   "id": "3000d4e1",
   "metadata": {},
   "outputs": [],
   "source": [
    "# Train test split batch10, k-fold cross validation\n",
    "# this cell imitates the erdos lectures notes on kfold cross validation , k = 5\n",
    "# random seed to all splits random_seed = 134"
   ]
  },
  {
   "cell_type": "code",
   "execution_count": null,
   "id": "7167b0ac",
   "metadata": {},
   "outputs": [],
   "source": []
  },
  {
   "cell_type": "code",
   "execution_count": null,
   "id": "90732fb8",
   "metadata": {},
   "outputs": [],
   "source": []
  },
  {
   "cell_type": "code",
   "execution_count": null,
   "id": "8e3b29d3",
   "metadata": {},
   "outputs": [],
   "source": []
  },
  {
   "cell_type": "code",
   "execution_count": null,
   "id": "70be1887",
   "metadata": {},
   "outputs": [],
   "source": []
  }
 ],
 "metadata": {
  "kernelspec": {
   "display_name": "Python 3 (ipykernel)",
   "language": "python",
   "name": "python3"
  },
  "language_info": {
   "codemirror_mode": {
    "name": "ipython",
    "version": 3
   },
   "file_extension": ".py",
   "mimetype": "text/x-python",
   "name": "python",
   "nbconvert_exporter": "python",
   "pygments_lexer": "ipython3",
   "version": "3.11.4"
  }
 },
 "nbformat": 4,
 "nbformat_minor": 5
}
