{
 "cells": [
  {
   "cell_type": "code",
   "execution_count": null,
   "id": "ea746753",
   "metadata": {
    "tags": []
   },
   "outputs": [],
   "source": [
    "#Take Care of the Imports\n",
    "import pandas as pd\n",
    "import numpy as np\n",
    "import torch\n",
    "import os\n",
    "import torch\n",
    "os.environ['TORCH'] = torch.__version__\n",
    "print(torch.__version__)\n",
    "import torch\n",
    "import torch.nn as nn\n",
    "from torch.nn import Linear\n",
    "from torch.utils.data import Dataset, DataLoader"
   ]
  },
  {
   "cell_type": "code",
   "execution_count": null,
   "id": "9fc72875",
   "metadata": {
    "tags": []
   },
   "outputs": [],
   "source": [
    "'''\n",
    "Set Parent Directories For:\n",
    "\n",
    "sensor_geometry.csv\n",
    "batch_##.parquet\n",
    "train_meta.parquet\n",
    "\n",
    "respectively\n",
    "\n",
    "'''\n",
    "\n",
    "#Ben\n",
    "sensor_geom_dir = '/opt/app/data/erdos-data/'\n",
    "batch_dir = '/opt/app/data/erdos-data/train/'\n",
    "meta_dir = '/opt/app/data/erdos-data/'\n",
    "# sensor_geom_dir = \"D:/jupyter/erdos-data/\"\n",
    "# batch_dir = \"D:/jupyter/erdos-data/train/\"\n",
    "# meta_dir = \"D:/jupyter/erdos-data/\"\n",
    "\n",
    "#Chinmaya\n",
    "#sensor_geom_dir =\n",
    "#batch_dir =\n",
    "#meta_dir =\n",
    "\n",
    "##Katja\n",
    "#sensor_geom_dir =\n",
    "#batch_dir =\n",
    "#meta_dir =\n",
    "\n",
    "##Chris\n",
    "#sensor_geom_dir =\n",
    "#batch_dir =\n",
    "#meta_dir =\n",
    "\n",
    "##Lukas\n",
    "#sensor_geom_dir =\n",
    "#batch_dir =\n",
    "#meta_dir ="
   ]
  },
  {
   "cell_type": "code",
   "execution_count": null,
   "id": "2231cfc4",
   "metadata": {
    "tags": []
   },
   "outputs": [],
   "source": [
    "#Load training metadata if not already loaded\n",
    "meta_path=meta_dir+\"train_meta.parquet\"\n",
    "\n",
    "try: meta\n",
    "except NameError: meta=pd.read_parquet(meta_path)"
   ]
  },
  {
   "cell_type": "code",
   "execution_count": null,
   "id": "95e6ec88",
   "metadata": {
    "tags": []
   },
   "outputs": [],
   "source": [
    "# Set Default Device to CUDA or CPU\n",
    "#to be called in .to(device) to ensure all pytorch Tensors are on the same device\n",
    "device = (\n",
    "    \"cuda:0\"\n",
    "    if torch.cuda.is_available()\n",
    "    else \"mps\"\n",
    "    if torch.backends.mps.is_available()\n",
    "    else \"cpu\"\n",
    ")\n",
    "torch.set_default_device(device)\n",
    "print(f\"Using {device} device\")"
   ]
  },
  {
   "cell_type": "code",
   "execution_count": null,
   "id": "7bd97c10",
   "metadata": {
    "tags": []
   },
   "outputs": [],
   "source": [
    "# Class for a dataset generated from a dataframe and data from the sensor geometry file\n",
    "class NeutrinoDataset(Dataset):\n",
    "    def __init__(self, batch_filename, sensor_file_name, batch_id, aux):\n",
    "        self.sensor_geom = pd.read_csv(sensor_file_name)\n",
    "        self.vals_df = meta[meta.batch_id==batch_id] \n",
    "        temp= pd.read_parquet(batch_filename)\n",
    "        self.dataframe = temp[temp.auxiliary==aux]\n",
    "        sensor_loc = np.array(self.sensor_geom.iloc[:])[:, 1:]\n",
    "        self.num_features = 5160*3\n",
    "        self.num_events = self.dataframe.index.nunique()\n",
    "        self.unique_indices = np.unique(self.dataframe.index)\n",
    "        \n",
    "    def __len__(self):\n",
    "        return self.num_events\n",
    "    \n",
    "    # Replaces sensor ID with sensor coordinates \n",
    "    def __getitem__(self, i):\n",
    "        df = self.dataframe\n",
    "        sg = self.sensor_geom\n",
    "        meta_vals = np.array(\n",
    "            self.vals_df.loc[self.vals_df['event_id'] == df.index[i]])[0].astype(float)\n",
    "        \n",
    "        pulse_array = np.array(df.loc[df.index[i]])\n",
    "        pulse_array_sensors = np.concatenate((np.expand_dims(np.arange(5160), axis=1), np.zeros([5160, 3])), 1)\n",
    "\n",
    "        for pulse in pulse_array:\n",
    "            if(pulse_array_sensors[pulse[0]][1] == 0):\n",
    "                pulse_array_sensors[pulse[0]][1] = pulse[1] - meta_vals[2] # first time\n",
    "            else:\n",
    "                # possible last time, will be the last time for the actual last one\n",
    "                pulse_array_sensors[pulse[0]][2] = pulse[1] - meta_vals[2]\n",
    "            # Add charge\n",
    "            pulse_array_sensors[pulse[0]][3] += pulse[2]\n",
    "        \n",
    "        flattened_pulse = (pulse_array_sensors[:, 1:]).flatten()\n",
    "        # print(flattened_pulse.shape)\n",
    "                \n",
    "        return (torch.from_numpy(flattened_pulse), \n",
    "                                 torch.from_numpy(meta_vals[-2:]))\n",
    "    \n",
    "    # Finds the first event with multiple pulses at the same sensors\n",
    "    # here we ask for at least num_min_total_repeats repetitions\n",
    "    def get_multi_pulse_event(self, num_min_total_repeats):\n",
    "        for i in range(self.num_events):\n",
    "            pulses = np.array(df.loc[unique_indices[i]])\n",
    "            if(pulses[:,0].shape[0] - np.unique(pulses[:,0]).shape[0] >= num_min_total_repeats):\n",
    "                return self.unique_indices[i]\n",
    "            \n",
    "    # Finds all events in a range with multiple pulses at the same sensors\n",
    "    # here we ask for at least num_min_total_repeats repetitions\n",
    "    def get_multi_pulse_events(self, num_min_total_repeats, start_index, end_index):\n",
    "        list_multi_pulse = []\n",
    "        for i in range(start_index, min(self.num_events, end_index)):\n",
    "            pulses = np.array(df.loc[unique_indices[i]])\n",
    "            if(pulses[:,0].shape[0] - np.unique(pulses[:,0]).shape[0] >= num_min_total_repeats):\n",
    "                list_multi_pulse.append(self.unique_indices[i])\n",
    "        return list_multi_pulse\n"
   ]
  },
  {
   "cell_type": "code",
   "execution_count": null,
   "id": "864253e6",
   "metadata": {
    "tags": []
   },
   "outputs": [],
   "source": [
    "# Define the Neural Net Class\n",
    "class NNPredictor(torch.nn.Module):\n",
    "    def __init__(self, use_activation = True):\n",
    "        super().__init__()\n",
    "        # torch.manual_seed(1234)\n",
    "        self.layers = nn.ModuleList()\n",
    "        self.layer_norms = nn.ModuleList()\n",
    "        self.use_activation = use_activation\n",
    "        \n",
    "        self.layers.append(nn.Linear(dataset.num_features, 1000, dtype=float))\n",
    "        self.layers.append(nn.Linear(1000, 100, dtype=float))\n",
    "        self.layers.append(nn.Linear(100, 50, dtype=float))\n",
    "        self.layers.append(nn.Linear(50, 10, dtype=float))\n",
    "        self.classifier = (nn.Linear(10,2, dtype=float))\n",
    "\n",
    "    def forward(self, x):\n",
    "        new_x = x.to(device)\n",
    "        if(self.use_activation):\n",
    "            for layer in self.layers:\n",
    "                #print(layer, new_x.dtype)\n",
    "                new_x = layer(new_x)\n",
    "                new_x = nn.ReLU()(new_x)\n",
    "        else:\n",
    "            for layer in self.layers:\n",
    "                new_x = layer(new_x)\n",
    "        \n",
    "        # Apply a final (linear) classifier.\n",
    "\n",
    "        return self.classifier(new_x)"
   ]
  },
  {
   "cell_type": "code",
   "execution_count": null,
   "id": "59d951c1-8b73-4614-bddd-bb98112c2209",
   "metadata": {
    "tags": []
   },
   "outputs": [],
   "source": [
    "#define our custom loss class\n",
    "class custom_MAE(nn.Module):\n",
    "    def __init__(self):\n",
    "        super(custom_MAE, self).__init__();\n",
    "\n",
    "    def forward(self, predictions, target):\n",
    "        loss_value = self.angular_dist_score(predictions, target).to(device)\n",
    "        return loss_value\n",
    "    \n",
    "    def angular_dist_score(self, predictions, true):\n",
    "#     '''\n",
    "#     calculate the MAE of the angular distance between two directions.\n",
    "#     The two vectors are first converted to cartesian unit vectors,\n",
    "#     and then their scalar product is computed, which is equal to\n",
    "#     the cosine of the angle between the two vectors. The inverse \n",
    "#     cosine (arccos) thereof is then the angle between the two input vectors\n",
    "    \n",
    "#     Parameters:\n",
    "#     -----------\n",
    "    \n",
    "#     az_true : float (or array thereof)\n",
    "#         true azimuth value(s) in radian\n",
    "#     zen_true : float (or array thereof)\n",
    "#         true zenith value(s) in radian\n",
    "#     az_pred : float (or array thereof)\n",
    "#         predicted azimuth value(s) in radian\n",
    "#     zen_pred : float (or array thereof)\n",
    "#         predicted zenith value(s) in radian\n",
    "    \n",
    "#     Returns:\n",
    "#     --------\n",
    "    \n",
    "#     dist : float\n",
    "#         mean over the angular distance(s) in radian\n",
    "#     '''\n",
    "        az_true=true[:,0].to(device)\n",
    "        zen_true=true[:,1].to(device)\n",
    "        az_pred=predictions[:,0].to(device)\n",
    "        zen_pred=predictions[:,1].to(device)\n",
    "    \n",
    "        if not (torch.all(torch.isfinite(az_true)) and\n",
    "                torch.all(torch.isfinite(zen_true)) and\n",
    "                torch.all(torch.isfinite(az_pred)) and\n",
    "                torch.all(torch.isfinite(zen_pred))):\n",
    "            raise ValueError(\"All arguments must be finite\")\n",
    "    \n",
    "        # pre-compute all sine and cosine values\n",
    "        sa1 = torch.sin(az_true).to(device)\n",
    "        ca1 = torch.cos(az_true).to(device)\n",
    "        sz1 = torch.sin(zen_true).to(device)\n",
    "        cz1 = torch.cos(zen_true).to(device)\n",
    "    \n",
    "        sa2 = torch.sin(az_pred).to(device)\n",
    "        ca2 = torch.cos(az_pred).to(device)\n",
    "        sz2 = torch.sin(zen_pred).to(device)\n",
    "        cz2 = torch.cos(zen_pred).to(device)\n",
    "    \n",
    "        # scalar product of the two cartesian vectors (x = sz*ca, y = sz*sa, z = cz)\n",
    "        scalar_prod = sz1*sz2*(ca1*ca2 + sa1*sa2) + (cz1*cz2)\n",
    "    \n",
    "        # scalar product of two unit vectors is always between -1 and 1, this is against nummerical instability\n",
    "        # that might otherwise occure from the finite precision of the sine and cosine functions\n",
    "        scalar_prod =  torch.clip(scalar_prod, -1, 1)\n",
    "    \n",
    "        # convert back to an angle (in radian)\n",
    "        return torch.mean(torch.abs(torch.arccos(scalar_prod))).to(device)"
   ]
  },
  {
   "cell_type": "code",
   "execution_count": null,
   "id": "cfb8ef4a",
   "metadata": {
    "tags": []
   },
   "outputs": [],
   "source": [
    "#Define the Training Loop\n",
    "def train_loop(dataloader, model, loss_fn, optimizer,epoch):\n",
    "    size = len(dataloader.dataset)\n",
    "    # Set the model to training mode - important for batch normalization and dropout layers\n",
    "    # Unnecessary in this situation but added for best practices\n",
    "    model.train()\n",
    "    for batch, (X, y) in enumerate(dataloader):\n",
    "        # print(X)\n",
    "        # Compute prediction and loss\n",
    "        pred = model(X)\n",
    "        loss = loss_fn(pred, y)\n",
    "\n",
    "        # Backpropagation\n",
    "        loss.backward()\n",
    "        optimizer.step()\n",
    "        optimizer.zero_grad()\n",
    "\n",
    "        if batch % 100 == 0:\n",
    "            loss, current = loss.item(), (batch + 1) * len(X)\n",
    "            print(f\"epoch: {epoch:>1d}, loss: {loss:>7f}  [{current:>5d}/{size:>5d}]\")\n",
    "            \n"
   ]
  },
  {
   "cell_type": "code",
   "execution_count": null,
   "id": "14d4c93f-a7b9-4ae4-bb79-46930fab8b2b",
   "metadata": {
    "tags": []
   },
   "outputs": [],
   "source": [
    "#Initialize NN\n",
    "\n",
    "#Pick training batch\n",
    "batch_id=104\n",
    "\n",
    "#Set NN Parameters\n",
    "batch_size=16\n",
    "epochs=3\n",
    "learning_rate = 5e-3\n",
    "loss_fn = custom_MAE()\n",
    "\n",
    "\n",
    "#Generate Full Paths\n",
    "sensor_geom_path=sensor_geom_dir+\"sensor_geometry.csv\"\n",
    "batch_path=batch_dir+\"batch_\"+str(batch_id)+\".parquet\"\n",
    "\n",
    "#initialize Model, Data, DataLoader, and Optimizer for the training loop\n",
    "dataset = NeutrinoDataset(batch_path, sensor_geom_path, batch_id, aux= True)\n",
    "dataloader = DataLoader(dataset, batch_size=batch_size, shuffle=True, num_workers=0, generator=torch.Generator(device=device))"
   ]
  },
  {
   "cell_type": "code",
   "execution_count": null,
   "id": "d70c97b5-7dfa-4cf4-b34e-af21edeb9878",
   "metadata": {
    "tags": []
   },
   "outputs": [],
   "source": [
    "model = NNPredictor()\n",
    "optimizer = torch.optim.Adam(model.parameters(), lr=learing_rate)"
   ]
  },
  {
   "cell_type": "code",
   "execution_count": null,
   "id": "0ff187c1",
   "metadata": {
    "tags": []
   },
   "outputs": [],
   "source": [
    "for i in range(epochs):   \n",
    "    dataloader = DataLoader(dataset, batch_size=batch_size, shuffle=True, num_workers=0, generator=torch.Generator(device=device))\n",
    "    train_loop(dataloader, model, loss_fn, optimizer, i+1)"
   ]
  },
  {
   "cell_type": "code",
   "execution_count": null,
   "id": "b055ad73-6640-4c4c-92e8-752063d20bf9",
   "metadata": {
    "tags": []
   },
   "outputs": [],
   "source": [
    "train_loop(dataloader, model, loss_fn, optimizer)"
   ]
  },
  {
   "cell_type": "code",
   "execution_count": null,
   "id": "eda256d6",
   "metadata": {},
   "outputs": [],
   "source": [
    "torch.save(model.state_dict(), 'batch_size2_defLR_train1')"
   ]
  },
  {
   "cell_type": "code",
   "execution_count": null,
   "id": "e3546a0a",
   "metadata": {
    "tags": []
   },
   "outputs": [],
   "source": [
    "for i in range(50):\n",
    "    test_batch_id=i+1\n",
    "    test_batch_path=batch_dir+\"batch_\"+str(test_batch_id)+\".parquet\"\n",
    "    test_data=NeutrinoDataset(test_batch_path, sensor_geom_path, test_batch_id, aux=False)\n",
    "    test_dataloader=DataLoader(test_data, batch_size=batch_size, shuffle=True, num_workers=0, generator=torch.Generator(device=device))\n",
    "\n",
    "    loss_total = 0\n",
    "    num = 0\n",
    "    with torch.no_grad():\n",
    "        for batch, (X, y) in enumerate(test_dataloader):\n",
    "        # print(X)\n",
    "        # Compute prediction and loss\n",
    "            pred = model(X)\n",
    "            loss_total += loss_fn.angular_dist_score(pred,y)\n",
    "            num +=1\n",
    "        print('MAE Batch '+str(i+1)+': '+str(loss_total/num))\n"
   ]
  },
  {
   "cell_type": "code",
   "execution_count": null,
   "id": "fc5f4191-bc80-480f-b35f-49b4b444d852",
   "metadata": {},
   "outputs": [],
   "source": []
  }
 ],
 "metadata": {
  "kernelspec": {
   "display_name": "Python 3 (ipykernel)",
   "language": "python",
   "name": "python3"
  },
  "language_info": {
   "codemirror_mode": {
    "name": "ipython",
    "version": 3
   },
   "file_extension": ".py",
   "mimetype": "text/x-python",
   "name": "python",
   "nbconvert_exporter": "python",
   "pygments_lexer": "ipython3",
   "version": "3.10.9"
  }
 },
 "nbformat": 4,
 "nbformat_minor": 5
}
