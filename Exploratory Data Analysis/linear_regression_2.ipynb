{
 "cells": [
  {
   "cell_type": "code",
   "execution_count": 1,
   "id": "ea4bc4f8",
   "metadata": {},
   "outputs": [],
   "source": [
    "from sklearn.linear_model import LinearRegression\n",
    "import numpy as np\n",
    "import pandas as pd"
   ]
  },
  {
   "cell_type": "code",
   "execution_count": 2,
   "id": "58c4505e",
   "metadata": {},
   "outputs": [],
   "source": [
    "def angular_dist_score(az_true, zen_true, az_pred, zen_pred):\n",
    "    '''\n",
    "    calculate the MAE of the angular distance between two directions.\n",
    "    The two vectors are first converted to cartesian unit vectors,\n",
    "    and then their scalar product is computed, which is equal to\n",
    "    the cosine of the angle between the two vectors. The inverse \n",
    "    cosine (arccos) thereof is then the angle between the two input vectors\n",
    "    \n",
    "    Parameters:\n",
    "    -----------\n",
    "    \n",
    "    az_true : float (or array thereof)\n",
    "        true azimuth value(s) in radian\n",
    "    zen_true : float (or array thereof)\n",
    "        true zenith value(s) in radian\n",
    "    az_pred : float (or array thereof)\n",
    "        predicted azimuth value(s) in radian\n",
    "    zen_pred : float (or array thereof)\n",
    "        predicted zenith value(s) in radian\n",
    "    \n",
    "    Returns:\n",
    "    --------\n",
    "    \n",
    "    dist : float\n",
    "        mean over the angular distance(s) in radian\n",
    "    '''\n",
    "    \n",
    "    if not (np.all(np.isfinite(az_true)) and\n",
    "            np.all(np.isfinite(zen_true)) and\n",
    "            np.all(np.isfinite(az_pred)) and\n",
    "            np.all(np.isfinite(zen_pred))):\n",
    "        raise ValueError(\"All arguments must be finite\")\n",
    "    \n",
    "    # pre-compute all sine and cosine values\n",
    "    sa1 = np.sin(az_true)\n",
    "    ca1 = np.cos(az_true)\n",
    "    sz1 = np.sin(zen_true)\n",
    "    cz1 = np.cos(zen_true)\n",
    "    \n",
    "    sa2 = np.sin(az_pred)\n",
    "    ca2 = np.cos(az_pred)\n",
    "    sz2 = np.sin(zen_pred)\n",
    "    cz2 = np.cos(zen_pred)\n",
    "    \n",
    "    # scalar product of the two cartesian vectors (x = sz*ca, y = sz*sa, z = cz)\n",
    "    scalar_prod = sz1*sz2*(ca1*ca2 + sa1*sa2) + (cz1*cz2)\n",
    "    \n",
    "    # scalar product of two unit vectors is always between -1 and 1, this is against nummerical instability\n",
    "    # that might otherwise occure from the finite precision of the sine and cosine functions\n",
    "    scalar_prod =  np.clip(scalar_prod, -1, 1)\n",
    "    \n",
    "    # convert back to an angle (in radian)\n",
    "    return np.average(np.abs(np.arccos(scalar_prod)))"
   ]
  },
  {
   "cell_type": "code",
   "execution_count": 3,
   "id": "7eb93da2",
   "metadata": {},
   "outputs": [],
   "source": [
    "# Importing data\n",
    "batch1 = pd.read_parquet('../batches_train/batch_1_repartitions/part.0.parquet')\n",
    "sensor_geom = pd.read_csv('../sensor_geometry.csv')"
   ]
  },
  {
   "cell_type": "code",
   "execution_count": 4,
   "id": "4e0d7fa3",
   "metadata": {},
   "outputs": [],
   "source": [
    "meta = pd.read_parquet('../batches_train/meta_1_0.parquet')"
   ]
  },
  {
   "cell_type": "code",
   "execution_count": 5,
   "id": "af11cae4",
   "metadata": {},
   "outputs": [],
   "source": [
    "event_ids = list(set(batch1.index))"
   ]
  },
  {
   "cell_type": "code",
   "execution_count": 6,
   "id": "c83fc54c",
   "metadata": {},
   "outputs": [],
   "source": [
    "# Part of meta that we need\n",
    "meta.set_index('event_id',\n",
    "                      inplace=True)\n",
    "meta.drop(['batch_id', 'first_pulse_index', 'last_pulse_index'], \n",
    "                 axis=1,\n",
    "                 inplace=True)"
   ]
  },
  {
   "cell_type": "code",
   "execution_count": 7,
   "id": "6083c418",
   "metadata": {},
   "outputs": [
    {
     "data": {
      "text/html": [
       "<div>\n",
       "<style scoped>\n",
       "    .dataframe tbody tr th:only-of-type {\n",
       "        vertical-align: middle;\n",
       "    }\n",
       "\n",
       "    .dataframe tbody tr th {\n",
       "        vertical-align: top;\n",
       "    }\n",
       "\n",
       "    .dataframe thead th {\n",
       "        text-align: right;\n",
       "    }\n",
       "</style>\n",
       "<table border=\"1\" class=\"dataframe\">\n",
       "  <thead>\n",
       "    <tr style=\"text-align: right;\">\n",
       "      <th></th>\n",
       "      <th>azimuth</th>\n",
       "      <th>zenith</th>\n",
       "    </tr>\n",
       "    <tr>\n",
       "      <th>event_id</th>\n",
       "      <th></th>\n",
       "      <th></th>\n",
       "    </tr>\n",
       "  </thead>\n",
       "  <tbody>\n",
       "    <tr>\n",
       "      <th>24</th>\n",
       "      <td>5.029555</td>\n",
       "      <td>2.087498</td>\n",
       "    </tr>\n",
       "    <tr>\n",
       "      <th>41</th>\n",
       "      <td>0.417742</td>\n",
       "      <td>1.549686</td>\n",
       "    </tr>\n",
       "    <tr>\n",
       "      <th>59</th>\n",
       "      <td>1.160466</td>\n",
       "      <td>2.401942</td>\n",
       "    </tr>\n",
       "    <tr>\n",
       "      <th>67</th>\n",
       "      <td>5.845952</td>\n",
       "      <td>0.759054</td>\n",
       "    </tr>\n",
       "    <tr>\n",
       "      <th>72</th>\n",
       "      <td>0.653719</td>\n",
       "      <td>0.939117</td>\n",
       "    </tr>\n",
       "  </tbody>\n",
       "</table>\n",
       "</div>"
      ],
      "text/plain": [
       "           azimuth    zenith\n",
       "event_id                    \n",
       "24        5.029555  2.087498\n",
       "41        0.417742  1.549686\n",
       "59        1.160466  2.401942\n",
       "67        5.845952  0.759054\n",
       "72        0.653719  0.939117"
      ]
     },
     "execution_count": 7,
     "metadata": {},
     "output_type": "execute_result"
    }
   ],
   "source": [
    "meta.head()"
   ]
  },
  {
   "cell_type": "code",
   "execution_count": 8,
   "id": "acde3230",
   "metadata": {},
   "outputs": [],
   "source": [
    "from sklearn.model_selection import train_test_split"
   ]
  },
  {
   "cell_type": "code",
   "execution_count": 9,
   "id": "a8d676ed",
   "metadata": {},
   "outputs": [],
   "source": [
    "train_indices, test_indices = train_test_split(event_ids,\n",
    "                                               shuffle=True,\n",
    "                                               random_state=123,\n",
    "                                               test_size=0.25)"
   ]
  },
  {
   "cell_type": "code",
   "execution_count": 10,
   "id": "ddc59c64",
   "metadata": {},
   "outputs": [],
   "source": [
    "num_sensors = 5160"
   ]
  },
  {
   "cell_type": "markdown",
   "id": "aed30ee2",
   "metadata": {},
   "source": [
    "### Training set"
   ]
  },
  {
   "cell_type": "code",
   "execution_count": 13,
   "id": "b5513547",
   "metadata": {},
   "outputs": [],
   "source": [
    "df1_train = pd.DataFrame(columns=[i for i in range(0, num_sensors)]+['az','ze'])"
   ]
  },
  {
   "cell_type": "code",
   "execution_count": 14,
   "id": "0bbdd1d9",
   "metadata": {
    "scrolled": false
   },
   "outputs": [
    {
     "name": "stdout",
     "output_type": "stream",
     "text": [
      "Working on event 100\n",
      "Working on event 200\n",
      "Working on event 300\n",
      "Working on event 400\n",
      "Working on event 500\n",
      "Working on event 600\n",
      "Working on event 700\n",
      "Working on event 800\n",
      "Working on event 900\n",
      "Working on event 1000\n",
      "CPU times: total: 30.2 s\n",
      "Wall time: 35.3 s\n"
     ]
    }
   ],
   "source": [
    "%%time\n",
    "\n",
    "# Now we generate feature data from the raw data\n",
    "# We use aux = False only here\n",
    "count = 0\n",
    "\n",
    "batch1_no_aux = batch1[batch1.auxiliary==False]\n",
    "\n",
    "for index in train_indices[:1000]:\n",
    "    event = batch1_no_aux.loc[index]\n",
    "\n",
    "    sensors = event.sensor_id.values\n",
    "\n",
    "    for sensor in sensors:\n",
    "        df1_train.loc[index,sensor] = 1\n",
    "    \n",
    "    az, ze = meta.loc[index,['azimuth','zenith']].values\n",
    "    df1_train.loc[index,'az'] = az\n",
    "    df1_train.loc[index,'ze'] = ze\n",
    "\n",
    "    count = count + 1\n",
    "    if count % 100 == 0:\n",
    "        print(\"Working on event\", count)\n",
    "        \n",
    "df1_train.fillna(0, inplace=True)"
   ]
  },
  {
   "cell_type": "code",
   "execution_count": null,
   "id": "98631f28",
   "metadata": {
    "scrolled": true
   },
   "outputs": [],
   "source": [
    "# This is the DataFrame that represents our training data\n",
    "df1_train.head()"
   ]
  },
  {
   "cell_type": "markdown",
   "id": "f3156ded",
   "metadata": {},
   "source": [
    "### Testing set"
   ]
  },
  {
   "cell_type": "code",
   "execution_count": null,
   "id": "4630f04c",
   "metadata": {},
   "outputs": [],
   "source": [
    "# Now we set up the testing data\n",
    "df1_test = pd.DataFrame(columns=[i for i in range(0, num_sensors)]+['az','ze'])\n",
    "\n",
    "count = 0\n",
    "\n",
    "batch1_no_aux = batch1[batch1.auxiliary==False]\n",
    "\n",
    "for index in test_indices[:300]:\n",
    "    event = batch1_no_aux.loc[index]\n",
    "\n",
    "    sensors = event.sensor_id.values\n",
    "\n",
    "    for sensor in sensors:\n",
    "        df1_test.loc[index,sensor] = 1\n",
    "    \n",
    "    az, ze = meta.loc[index,['azimuth','zenith']].values\n",
    "    df1_test.loc[index,'az'] = az\n",
    "    df1_test.loc[index,'ze'] = ze\n",
    "\n",
    "    count = count + 1\n",
    "    if count % 100 == 0:\n",
    "        print(\"Working on event\", count)\n",
    "\n",
    "df1_test.fillna(0, inplace=True)"
   ]
  },
  {
   "cell_type": "markdown",
   "id": "a6952bb6",
   "metadata": {},
   "source": [
    "### Fitting"
   ]
  },
  {
   "cell_type": "code",
   "execution_count": null,
   "id": "989252a3",
   "metadata": {},
   "outputs": [],
   "source": [
    "X1_train = df1_train[range(0,num_sensors)]\n",
    "y1_train = df1_train[['az','ze']]"
   ]
  },
  {
   "cell_type": "code",
   "execution_count": null,
   "id": "1a24f18d",
   "metadata": {},
   "outputs": [],
   "source": [
    "X1_test = df1_test[range(0,num_sensors)]\n",
    "y1_test = df1_test[['az','ze']]"
   ]
  },
  {
   "cell_type": "code",
   "execution_count": null,
   "id": "8312ad41",
   "metadata": {},
   "outputs": [],
   "source": [
    "slr1 = LinearRegression(copy_X=True)"
   ]
  },
  {
   "cell_type": "code",
   "execution_count": null,
   "id": "60fb39b4",
   "metadata": {},
   "outputs": [],
   "source": [
    "slr1.fit(X1_train.values, y1_train.values)"
   ]
  },
  {
   "cell_type": "markdown",
   "id": "827c07cf",
   "metadata": {},
   "source": [
    "### Baseline model\n",
    "\n",
    "This model just \"trains\" by computing the mean of the output azimuth and zenith and predicts these numbers always"
   ]
  },
  {
   "cell_type": "code",
   "execution_count": null,
   "id": "7ea27db1",
   "metadata": {},
   "outputs": [],
   "source": [
    "train_mean = np.mean(ys_train.values, axis=0)"
   ]
  },
  {
   "cell_type": "code",
   "execution_count": null,
   "id": "b2246874",
   "metadata": {},
   "outputs": [],
   "source": [
    "train_mean"
   ]
  },
  {
   "cell_type": "code",
   "execution_count": null,
   "id": "a359206a",
   "metadata": {},
   "outputs": [],
   "source": [
    "baseline_pred_az = train_mean[0]*np.ones(len(ys_test))\n",
    "baseline_pred_ze = train_mean[1]*np.ones(len(ys_test))"
   ]
  },
  {
   "cell_type": "code",
   "execution_count": null,
   "id": "42d02bd6",
   "metadata": {},
   "outputs": [],
   "source": [
    "baseline_error = angular_dist_score(ys_test['az'].values,\n",
    "                                    ys_test['ze'].values,\n",
    "                                    baseline_pred_az,\n",
    "                                    baseline_pred_ze)\n",
    "\n",
    "print(\"The angular distance score for the baseline model is\", baseline_error)"
   ]
  },
  {
   "cell_type": "markdown",
   "id": "5b05732b",
   "metadata": {},
   "source": [
    "So the baseline model is accurate up to basically $\\pi/2$ radians, i.e. statistically speaking the true direction will be in the same hemisphere that the baseline model guesses."
   ]
  },
  {
   "cell_type": "markdown",
   "id": "5533b2fa",
   "metadata": {},
   "source": [
    "### Model 1\n",
    "\n",
    "This model just puts a 1 in a sensor where it went off for that event, and a 0 in the sensors that didn't go off"
   ]
  },
  {
   "cell_type": "code",
   "execution_count": null,
   "id": "bd23533a",
   "metadata": {},
   "outputs": [],
   "source": [
    "az_pred_1 = slr1.predict(X1_test.values)[:,0]\n",
    "ze_pred_1 = slr1.predict(X1_test.values)[:,1]\n",
    "\n",
    "model_1_error = angular_dist_score(y1_test['az'].values,\n",
    "                                   y1_test['ze'].values,\n",
    "                                   az_pred_1,\n",
    "                                   ze_pred_1)\n",
    "\n",
    "print(\"The angular distance score for model 1 is\", model_1_error)"
   ]
  },
  {
   "cell_type": "markdown",
   "id": "15da8a02",
   "metadata": {},
   "source": [
    "### Model 2\n",
    "\n",
    "This model includes aux = True"
   ]
  },
  {
   "cell_type": "code",
   "execution_count": null,
   "id": "41cfaa05",
   "metadata": {},
   "outputs": [],
   "source": [
    "df2_train = pd.DataFrame(columns=[i for i in range(0, num_sensors)]+['az','ze'])"
   ]
  },
  {
   "cell_type": "code",
   "execution_count": null,
   "id": "4c2300d4",
   "metadata": {},
   "outputs": [],
   "source": [
    "# Now we generate feature data from the raw data\n",
    "# We use aux = True as well here\n",
    "count = 0\n",
    "\n",
    "for index in train_indices[:1000]:\n",
    "    event = batch1.loc[index]\n",
    "\n",
    "    sensors = event.sensor_id.values\n",
    "\n",
    "    for sensor in sensors:\n",
    "        df2_train.loc[index,sensor] = 1\n",
    "    \n",
    "    az, ze = meta.loc[index,['azimuth','zenith']].values\n",
    "    df2_train.loc[index,'az'] = az\n",
    "    df2_train.loc[index,'ze'] = ze\n",
    "\n",
    "    count = count + 1\n",
    "    if count % 100 == 0:\n",
    "        print(\"Working on event\", count)\n",
    "        \n",
    "df2_train.fillna(0, inplace=True)"
   ]
  },
  {
   "cell_type": "code",
   "execution_count": null,
   "id": "7c82e6d3",
   "metadata": {},
   "outputs": [],
   "source": [
    "X2_train = df2_train[range(0,num_sensors)]\n",
    "y2_train = df2_train[['az','ze']]"
   ]
  },
  {
   "cell_type": "code",
   "execution_count": null,
   "id": "ff95598d",
   "metadata": {},
   "outputs": [],
   "source": [
    "slr2 = LinearRegression(copy_X=True)\n",
    "slr2.fit(Xs_train, ys_train)"
   ]
  },
  {
   "cell_type": "code",
   "execution_count": null,
   "id": "60dbce4e",
   "metadata": {},
   "outputs": [],
   "source": [
    "# Now we set up the testing data\n",
    "df2_test = pd.DataFrame(columns=[i for i in range(0, num_sensors)]+['az','ze'])\n",
    "\n",
    "count = 0\n",
    "\n",
    "for index in test_indices[:300]:\n",
    "    event = batch1.loc[index]\n",
    "\n",
    "    sensors = event.sensor_id.values\n",
    "\n",
    "    for sensor in sensors:\n",
    "        df2_test.loc[index,sensor] = 1\n",
    "    \n",
    "    az, ze = meta.loc[index,['azimuth','zenith']].values\n",
    "    df2_test.loc[index,'az'] = az\n",
    "    df2_test.loc[index,'ze'] = ze\n",
    "\n",
    "    count = count + 1\n",
    "    if count % 100 == 0:\n",
    "        print(\"Working on event\", count)\n",
    "\n",
    "df2_test.fillna(0, inplace=True)\n",
    "\n",
    "X2_test = df2_test[range(0,num_sensors)]\n",
    "y2_test = df2_test[['az','ze']]"
   ]
  },
  {
   "cell_type": "code",
   "execution_count": null,
   "id": "e8809bd1",
   "metadata": {},
   "outputs": [],
   "source": [
    "az_pred_2 = slr2.predict(X2_test.values)[:,0]\n",
    "ze_pred_2 = slr2.predict(X2_test.values)[:,1]\n",
    "\n",
    "model_2_error = angular_dist_score(y2_test['az'].values,\n",
    "                                   y2_test['ze'].values,\n",
    "                                   az_pred_2,\n",
    "                                   ze_pred_2)\n",
    "\n",
    "print(\"The angular distance score for model 2 is\", model_2_error)"
   ]
  },
  {
   "cell_type": "markdown",
   "id": "ea9d725b",
   "metadata": {},
   "source": [
    "This improves very slightly over model 1"
   ]
  },
  {
   "cell_type": "markdown",
   "id": "30d2ce7b",
   "metadata": {},
   "source": [
    "### Model 3: charge and aux = False only"
   ]
  },
  {
   "cell_type": "code",
   "execution_count": null,
   "id": "7736302b",
   "metadata": {
    "scrolled": true
   },
   "outputs": [],
   "source": [
    "df3_train = pd.DataFrame(columns=[i for i in range(0, num_sensors)]+['az','ze'])\n",
    "\n",
    "# Now we generate feature data from the raw data\n",
    "# We use aux = False only here\n",
    "count = 0\n",
    "\n",
    "batch1_model_3 = batch1[batch1.auxiliary==False]\n",
    "\n",
    "for index in train_indices[:1000]:\n",
    "    event = batch1_model_3.loc[index]\n",
    "    event.set_index('sensor_id',\n",
    "                    inplace=True)\n",
    "    event = event.groupby('sensor_id').sum()\n",
    "\n",
    "    for sensor in event.index:\n",
    "        df3_train.loc[index,sensor] = event.loc[sensor,'charge']\n",
    "    \n",
    "    az, ze = meta.loc[index,['azimuth','zenith']].values\n",
    "    df3_train.loc[index,'az'] = az\n",
    "    df3_train.loc[index,'ze'] = ze\n",
    "\n",
    "    count = count + 1\n",
    "    if count % 10 == 0:\n",
    "        print(\"Working on event\", count)\n",
    "        \n",
    "df3_train.fillna(0, inplace=True)"
   ]
  },
  {
   "cell_type": "code",
   "execution_count": null,
   "id": "505d8002",
   "metadata": {
    "scrolled": true
   },
   "outputs": [],
   "source": [
    "df3_test = pd.DataFrame(columns=[i for i in range(0, num_sensors)]+['az','ze'])\n",
    "\n",
    "# Now we generate feature data from the raw data\n",
    "# We use aux = False only here\n",
    "count = 0\n",
    "\n",
    "for index in test_indices[:300]:\n",
    "    event = batch1_model_3.loc[index]\n",
    "    event.set_index('sensor_id',\n",
    "                    inplace=True)\n",
    "    event = event.groupby('sensor_id').sum()\n",
    "\n",
    "    for sensor in event.index:\n",
    "        df3_test.loc[index,sensor] = event.loc[sensor,'charge']\n",
    "    \n",
    "    az, ze = meta.loc[index,['azimuth','zenith']].values\n",
    "    df3_test.loc[index,'az'] = az\n",
    "    df3_test.loc[index,'ze'] = ze\n",
    "\n",
    "    count = count + 1\n",
    "    if count % 10 == 0:\n",
    "        print(\"Working on event\", count)\n",
    "        \n",
    "df3_test.fillna(0, inplace=True)"
   ]
  },
  {
   "cell_type": "code",
   "execution_count": null,
   "id": "8bd235f7",
   "metadata": {},
   "outputs": [],
   "source": [
    "X3_train = df3_train[range(0,num_sensors)]\n",
    "y3_train = df3_train[['az','ze']]\n",
    "\n",
    "X3_test = df3_test[range(0,num_sensors)]\n",
    "y3_test =df3_test[['az','ze']]"
   ]
  },
  {
   "cell_type": "code",
   "execution_count": null,
   "id": "e1629ee1",
   "metadata": {},
   "outputs": [],
   "source": [
    "# Fit the regression\n",
    "slr3 = LinearRegression(copy_X=True)\n",
    "slr3.fit(X3_train, y3_train)"
   ]
  },
  {
   "cell_type": "code",
   "execution_count": null,
   "id": "4d273024",
   "metadata": {
    "scrolled": true
   },
   "outputs": [],
   "source": [
    "az_pred_3 = slr3.predict(X3_test.values)[:,0]\n",
    "ze_pred_3 = slr3.predict(X3_test.values)[:,1]\n",
    "\n",
    "model_3_error = angular_dist_score(y3_test['az'].values,\n",
    "                                   y3_test['ze'].values,\n",
    "                                   az_pred_3,\n",
    "                                   ze_pred_3)\n",
    "\n",
    "print(\"The angular distance score for model 3 is\", model_3_error)"
   ]
  },
  {
   "cell_type": "markdown",
   "id": "d6e8d562",
   "metadata": {},
   "source": [
    "### Model 4: charge and aux = True"
   ]
  },
  {
   "cell_type": "code",
   "execution_count": null,
   "id": "673add79",
   "metadata": {
    "scrolled": true
   },
   "outputs": [],
   "source": [
    "df4_train = pd.DataFrame(columns=[i for i in range(0, num_sensors)]+['az','ze'])\n",
    "\n",
    "# Now we generate feature data from the raw data\n",
    "# We use aux = True as well here\n",
    "count = 0\n",
    "\n",
    "for index in train_indices[:1000]:\n",
    "    event = batch1.loc[index]\n",
    "    event.set_index('sensor_id',\n",
    "                    inplace=True)\n",
    "    event = event.groupby('sensor_id').sum()\n",
    "\n",
    "    for sensor in event.index:\n",
    "        df4_train.loc[index,sensor] = event.loc[sensor,'charge']\n",
    "    \n",
    "    az, ze = meta.loc[index,['azimuth','zenith']].values\n",
    "    df4_train.loc[index,'az'] = az\n",
    "    df4_train.loc[index,'ze'] = ze\n",
    "\n",
    "    count = count + 1\n",
    "    if count % 10 == 0:\n",
    "        print(\"Working on event\", count)\n",
    "        \n",
    "df4_train.fillna(0, inplace=True)"
   ]
  },
  {
   "cell_type": "code",
   "execution_count": null,
   "id": "bc3f0460",
   "metadata": {
    "scrolled": true
   },
   "outputs": [],
   "source": [
    "df4_test = pd.DataFrame(columns=[i for i in range(0, num_sensors)]+['az','ze'])\n",
    "\n",
    "# Now we generate feature data from the raw data\n",
    "# We use aux = False only here\n",
    "count = 0\n",
    "\n",
    "for index in test_indices[:300]:\n",
    "    event = batch1.loc[index]\n",
    "    event.set_index('sensor_id',\n",
    "                    inplace=True)\n",
    "    event = event.groupby('sensor_id').sum()\n",
    "\n",
    "    for sensor in event.index:\n",
    "        df4_test.loc[index,sensor] = event.loc[sensor,'charge']\n",
    "    \n",
    "    az, ze = meta.loc[index,['azimuth','zenith']].values\n",
    "    df4_test.loc[index,'az'] = az\n",
    "    df4_test.loc[index,'ze'] = ze\n",
    "\n",
    "    count = count + 1\n",
    "    if count % 10 == 0:\n",
    "        print(\"Working on event\", count)\n",
    "        \n",
    "df4_test.fillna(0, inplace=True)"
   ]
  },
  {
   "cell_type": "code",
   "execution_count": null,
   "id": "18ce77d4",
   "metadata": {},
   "outputs": [],
   "source": [
    "X4_train = df4_train[range(0,num_sensors)]\n",
    "y4_train = df4_train[['az','ze']]\n",
    "\n",
    "X4_test = df4_test[range(0,num_sensors)]\n",
    "y4_test =df4_test[['az','ze']]"
   ]
  },
  {
   "cell_type": "code",
   "execution_count": null,
   "id": "cc85a765",
   "metadata": {},
   "outputs": [],
   "source": [
    "# Fitting the regression\n",
    "slr4 = LinearRegression(copy_X=True)\n",
    "slr4.fit(X4_train, y4_train)"
   ]
  },
  {
   "cell_type": "code",
   "execution_count": null,
   "id": "a5c73b5f",
   "metadata": {},
   "outputs": [],
   "source": [
    "az_pred_4 = slr4.predict(X4_test.values)[:,0]\n",
    "ze_pred_4 = slr4.predict(X4_test.values)[:,1]\n",
    "\n",
    "model_4_error = angular_dist_score(y4_test['az'].values,\n",
    "                                   y4_test['ze'].values,\n",
    "                                   az_pred_4,\n",
    "                                   ze_pred_4)\n",
    "\n",
    "print(\"The angular distance score for model 4 is\", model_4_error)"
   ]
  },
  {
   "cell_type": "markdown",
   "id": "532f5cba",
   "metadata": {},
   "source": [
    "### Model 5 - a CNN before I know what they actually are, so this might go badly"
   ]
  },
  {
   "cell_type": "code",
   "execution_count": null,
   "id": "f528b166",
   "metadata": {},
   "outputs": [],
   "source": [
    "from keras import models\n",
    "from keras import layers\n",
    "from keras import optimizers\n",
    "from keras import losses\n",
    "from keras import metrics\n",
    "from keras.utils.np_utils import to_categorical\n"
   ]
  },
  {
   "cell_type": "code",
   "execution_count": null,
   "id": "9a07b6f9",
   "metadata": {},
   "outputs": [],
   "source": []
  }
 ],
 "metadata": {
  "kernelspec": {
   "display_name": "Python 3 (ipykernel)",
   "language": "python",
   "name": "python3"
  },
  "language_info": {
   "codemirror_mode": {
    "name": "ipython",
    "version": 3
   },
   "file_extension": ".py",
   "mimetype": "text/x-python",
   "name": "python",
   "nbconvert_exporter": "python",
   "pygments_lexer": "ipython3",
   "version": "3.11.4"
  }
 },
 "nbformat": 4,
 "nbformat_minor": 5
}
