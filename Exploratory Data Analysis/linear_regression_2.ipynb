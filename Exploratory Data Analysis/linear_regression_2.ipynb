{
 "cells": [
  {
   "cell_type": "code",
   "execution_count": 1,
   "id": "ea4bc4f8",
   "metadata": {},
   "outputs": [],
   "source": [
    "from sklearn.linear_model import LinearRegression\n",
    "import numpy as np\n",
    "import pandas as pd"
   ]
  },
  {
   "cell_type": "code",
   "execution_count": 2,
   "id": "58c4505e",
   "metadata": {},
   "outputs": [],
   "source": [
    "def angular_dist_score(az_true, zen_true, az_pred, zen_pred):\n",
    "    '''\n",
    "    calculate the MAE of the angular distance between two directions.\n",
    "    The two vectors are first converted to cartesian unit vectors,\n",
    "    and then their scalar product is computed, which is equal to\n",
    "    the cosine of the angle between the two vectors. The inverse \n",
    "    cosine (arccos) thereof is then the angle between the two input vectors\n",
    "    \n",
    "    Parameters:\n",
    "    -----------\n",
    "    \n",
    "    az_true : float (or array thereof)\n",
    "        true azimuth value(s) in radian\n",
    "    zen_true : float (or array thereof)\n",
    "        true zenith value(s) in radian\n",
    "    az_pred : float (or array thereof)\n",
    "        predicted azimuth value(s) in radian\n",
    "    zen_pred : float (or array thereof)\n",
    "        predicted zenith value(s) in radian\n",
    "    \n",
    "    Returns:\n",
    "    --------\n",
    "    \n",
    "    dist : float\n",
    "        mean over the angular distance(s) in radian\n",
    "    '''\n",
    "    \n",
    "    if not (np.all(np.isfinite(az_true)) and\n",
    "            np.all(np.isfinite(zen_true)) and\n",
    "            np.all(np.isfinite(az_pred)) and\n",
    "            np.all(np.isfinite(zen_pred))):\n",
    "        raise ValueError(\"All arguments must be finite\")\n",
    "    \n",
    "    # pre-compute all sine and cosine values\n",
    "    sa1 = np.sin(az_true)\n",
    "    ca1 = np.cos(az_true)\n",
    "    sz1 = np.sin(zen_true)\n",
    "    cz1 = np.cos(zen_true)\n",
    "    \n",
    "    sa2 = np.sin(az_pred)\n",
    "    ca2 = np.cos(az_pred)\n",
    "    sz2 = np.sin(zen_pred)\n",
    "    cz2 = np.cos(zen_pred)\n",
    "    \n",
    "    # scalar product of the two cartesian vectors (x = sz*ca, y = sz*sa, z = cz)\n",
    "    scalar_prod = sz1*sz2*(ca1*ca2 + sa1*sa2) + (cz1*cz2)\n",
    "    \n",
    "    # scalar product of two unit vectors is always between -1 and 1, this is against nummerical instability\n",
    "    # that might otherwise occure from the finite precision of the sine and cosine functions\n",
    "    scalar_prod =  np.clip(scalar_prod, -1, 1)\n",
    "    \n",
    "    # convert back to an angle (in radian)\n",
    "    return np.average(np.abs(np.arccos(scalar_prod)))"
   ]
  },
  {
   "cell_type": "code",
   "execution_count": 3,
   "id": "7eb93da2",
   "metadata": {},
   "outputs": [],
   "source": [
    "# Importing data\n",
    "batch1 = pd.read_parquet('../batches_train/batch_1_repartitions/part.0.parquet')\n",
    "sensor_geom = pd.read_csv('../sensor_geometry.csv')"
   ]
  },
  {
   "cell_type": "code",
   "execution_count": 10,
   "id": "55817648",
   "metadata": {},
   "outputs": [],
   "source": [
    "meta = pd.read_parquet('../batches_train/meta_1_0.parquet')"
   ]
  },
  {
   "cell_type": "code",
   "execution_count": 11,
   "id": "af11cae4",
   "metadata": {},
   "outputs": [],
   "source": [
    "event_ids = list(set(batch1.index))"
   ]
  },
  {
   "cell_type": "code",
   "execution_count": 13,
   "id": "c83fc54c",
   "metadata": {},
   "outputs": [],
   "source": [
    "# Part of meta that we need\n",
    "meta.set_index('event_id',\n",
    "                      inplace=True)\n",
    "meta.drop(['batch_id', 'first_pulse_index', 'last_pulse_index'], \n",
    "                 axis=1,\n",
    "                 inplace=True)"
   ]
  },
  {
   "cell_type": "code",
   "execution_count": 15,
   "id": "6083c418",
   "metadata": {},
   "outputs": [
    {
     "data": {
      "text/html": [
       "<div>\n",
       "<style scoped>\n",
       "    .dataframe tbody tr th:only-of-type {\n",
       "        vertical-align: middle;\n",
       "    }\n",
       "\n",
       "    .dataframe tbody tr th {\n",
       "        vertical-align: top;\n",
       "    }\n",
       "\n",
       "    .dataframe thead th {\n",
       "        text-align: right;\n",
       "    }\n",
       "</style>\n",
       "<table border=\"1\" class=\"dataframe\">\n",
       "  <thead>\n",
       "    <tr style=\"text-align: right;\">\n",
       "      <th></th>\n",
       "      <th>azimuth</th>\n",
       "      <th>zenith</th>\n",
       "    </tr>\n",
       "    <tr>\n",
       "      <th>event_id</th>\n",
       "      <th></th>\n",
       "      <th></th>\n",
       "    </tr>\n",
       "  </thead>\n",
       "  <tbody>\n",
       "    <tr>\n",
       "      <th>24</th>\n",
       "      <td>5.029555</td>\n",
       "      <td>2.087498</td>\n",
       "    </tr>\n",
       "    <tr>\n",
       "      <th>41</th>\n",
       "      <td>0.417742</td>\n",
       "      <td>1.549686</td>\n",
       "    </tr>\n",
       "    <tr>\n",
       "      <th>59</th>\n",
       "      <td>1.160466</td>\n",
       "      <td>2.401942</td>\n",
       "    </tr>\n",
       "    <tr>\n",
       "      <th>67</th>\n",
       "      <td>5.845952</td>\n",
       "      <td>0.759054</td>\n",
       "    </tr>\n",
       "    <tr>\n",
       "      <th>72</th>\n",
       "      <td>0.653719</td>\n",
       "      <td>0.939117</td>\n",
       "    </tr>\n",
       "  </tbody>\n",
       "</table>\n",
       "</div>"
      ],
      "text/plain": [
       "           azimuth    zenith\n",
       "event_id                    \n",
       "24        5.029555  2.087498\n",
       "41        0.417742  1.549686\n",
       "59        1.160466  2.401942\n",
       "67        5.845952  0.759054\n",
       "72        0.653719  0.939117"
      ]
     },
     "execution_count": 15,
     "metadata": {},
     "output_type": "execute_result"
    }
   ],
   "source": [
    "meta.head()"
   ]
  },
  {
   "cell_type": "code",
   "execution_count": 16,
   "id": "acde3230",
   "metadata": {},
   "outputs": [],
   "source": [
    "from sklearn.model_selection import train_test_split"
   ]
  },
  {
   "cell_type": "code",
   "execution_count": 17,
   "id": "a8d676ed",
   "metadata": {},
   "outputs": [],
   "source": [
    "train_indices, test_indices = train_test_split(event_ids,\n",
    "                                               shuffle=True,\n",
    "                                               random_state=123,\n",
    "                                               test_size=0.25)"
   ]
  },
  {
   "cell_type": "code",
   "execution_count": 18,
   "id": "ddc59c64",
   "metadata": {},
   "outputs": [],
   "source": [
    "num_sensors = 5160"
   ]
  },
  {
   "cell_type": "markdown",
   "id": "f2348f98",
   "metadata": {},
   "source": [
    "### Training set"
   ]
  },
  {
   "cell_type": "code",
   "execution_count": 27,
   "id": "b5513547",
   "metadata": {},
   "outputs": [],
   "source": [
    "df1_train = pd.DataFrame(columns=[i for i in range(0, num_sensors)]+['az','ze'])"
   ]
  },
  {
   "cell_type": "code",
   "execution_count": 28,
   "id": "0bbdd1d9",
   "metadata": {
    "scrolled": true
   },
   "outputs": [
    {
     "name": "stdout",
     "output_type": "stream",
     "text": [
      "Working on event 100\n",
      "Working on event 200\n",
      "Working on event 300\n",
      "Working on event 400\n",
      "Working on event 500\n",
      "Working on event 600\n",
      "Working on event 700\n",
      "Working on event 800\n",
      "Working on event 900\n",
      "Working on event 1000\n"
     ]
    }
   ],
   "source": [
    "# Now we generate feature data from the raw data\n",
    "# We use aux = False only here\n",
    "count = 0\n",
    "\n",
    "batch1_no_aux = batch1[batch1.auxiliary==False]\n",
    "\n",
    "for index in train_indices[:1000]:\n",
    "    event = batch1_no_aux.loc[index]\n",
    "\n",
    "    sensors = event.sensor_id.values\n",
    "\n",
    "    for sensor in sensors:\n",
    "        df1_train.loc[index,sensor] = 1\n",
    "    \n",
    "    az, ze = meta.loc[index,['azimuth','zenith']].values\n",
    "    df1_train.loc[index,'az'] = az\n",
    "    df1_train.loc[index,'ze'] = ze\n",
    "\n",
    "    count = count + 1\n",
    "    if count % 100 == 0:\n",
    "        print(\"Working on event\", count)\n",
    "        \n",
    "df1_train.fillna(0, inplace=True)"
   ]
  },
  {
   "cell_type": "code",
   "execution_count": 31,
   "id": "98631f28",
   "metadata": {
    "scrolled": true
   },
   "outputs": [
    {
     "data": {
      "text/html": [
       "<div>\n",
       "<style scoped>\n",
       "    .dataframe tbody tr th:only-of-type {\n",
       "        vertical-align: middle;\n",
       "    }\n",
       "\n",
       "    .dataframe tbody tr th {\n",
       "        vertical-align: top;\n",
       "    }\n",
       "\n",
       "    .dataframe thead th {\n",
       "        text-align: right;\n",
       "    }\n",
       "</style>\n",
       "<table border=\"1\" class=\"dataframe\">\n",
       "  <thead>\n",
       "    <tr style=\"text-align: right;\">\n",
       "      <th></th>\n",
       "      <th>0</th>\n",
       "      <th>1</th>\n",
       "      <th>2</th>\n",
       "      <th>3</th>\n",
       "      <th>4</th>\n",
       "      <th>5</th>\n",
       "      <th>6</th>\n",
       "      <th>7</th>\n",
       "      <th>8</th>\n",
       "      <th>9</th>\n",
       "      <th>...</th>\n",
       "      <th>5152</th>\n",
       "      <th>5153</th>\n",
       "      <th>5154</th>\n",
       "      <th>5155</th>\n",
       "      <th>5156</th>\n",
       "      <th>5157</th>\n",
       "      <th>5158</th>\n",
       "      <th>5159</th>\n",
       "      <th>az</th>\n",
       "      <th>ze</th>\n",
       "    </tr>\n",
       "  </thead>\n",
       "  <tbody>\n",
       "    <tr>\n",
       "      <th>1023496</th>\n",
       "      <td>0</td>\n",
       "      <td>0</td>\n",
       "      <td>0</td>\n",
       "      <td>0</td>\n",
       "      <td>0</td>\n",
       "      <td>0</td>\n",
       "      <td>0</td>\n",
       "      <td>0</td>\n",
       "      <td>0</td>\n",
       "      <td>0</td>\n",
       "      <td>...</td>\n",
       "      <td>0</td>\n",
       "      <td>0</td>\n",
       "      <td>0</td>\n",
       "      <td>0</td>\n",
       "      <td>0</td>\n",
       "      <td>0</td>\n",
       "      <td>0</td>\n",
       "      <td>0</td>\n",
       "      <td>2.248502</td>\n",
       "      <td>0.432784</td>\n",
       "    </tr>\n",
       "    <tr>\n",
       "      <th>681492</th>\n",
       "      <td>0</td>\n",
       "      <td>0</td>\n",
       "      <td>0</td>\n",
       "      <td>0</td>\n",
       "      <td>0</td>\n",
       "      <td>0</td>\n",
       "      <td>0</td>\n",
       "      <td>0</td>\n",
       "      <td>0</td>\n",
       "      <td>0</td>\n",
       "      <td>...</td>\n",
       "      <td>0</td>\n",
       "      <td>0</td>\n",
       "      <td>0</td>\n",
       "      <td>0</td>\n",
       "      <td>0</td>\n",
       "      <td>0</td>\n",
       "      <td>0</td>\n",
       "      <td>0</td>\n",
       "      <td>3.299984</td>\n",
       "      <td>2.809545</td>\n",
       "    </tr>\n",
       "    <tr>\n",
       "      <th>38448</th>\n",
       "      <td>0</td>\n",
       "      <td>0</td>\n",
       "      <td>0</td>\n",
       "      <td>0</td>\n",
       "      <td>0</td>\n",
       "      <td>0</td>\n",
       "      <td>0</td>\n",
       "      <td>0</td>\n",
       "      <td>0</td>\n",
       "      <td>0</td>\n",
       "      <td>...</td>\n",
       "      <td>0</td>\n",
       "      <td>0</td>\n",
       "      <td>0</td>\n",
       "      <td>0</td>\n",
       "      <td>0</td>\n",
       "      <td>0</td>\n",
       "      <td>0</td>\n",
       "      <td>0</td>\n",
       "      <td>5.291643</td>\n",
       "      <td>0.989836</td>\n",
       "    </tr>\n",
       "    <tr>\n",
       "      <th>892244</th>\n",
       "      <td>0</td>\n",
       "      <td>0</td>\n",
       "      <td>0</td>\n",
       "      <td>0</td>\n",
       "      <td>0</td>\n",
       "      <td>0</td>\n",
       "      <td>0</td>\n",
       "      <td>0</td>\n",
       "      <td>0</td>\n",
       "      <td>0</td>\n",
       "      <td>...</td>\n",
       "      <td>0</td>\n",
       "      <td>0</td>\n",
       "      <td>0</td>\n",
       "      <td>0</td>\n",
       "      <td>0</td>\n",
       "      <td>0</td>\n",
       "      <td>0</td>\n",
       "      <td>0</td>\n",
       "      <td>0.758019</td>\n",
       "      <td>2.730688</td>\n",
       "    </tr>\n",
       "    <tr>\n",
       "      <th>717306</th>\n",
       "      <td>0</td>\n",
       "      <td>0</td>\n",
       "      <td>0</td>\n",
       "      <td>0</td>\n",
       "      <td>0</td>\n",
       "      <td>0</td>\n",
       "      <td>0</td>\n",
       "      <td>0</td>\n",
       "      <td>0</td>\n",
       "      <td>0</td>\n",
       "      <td>...</td>\n",
       "      <td>0</td>\n",
       "      <td>0</td>\n",
       "      <td>0</td>\n",
       "      <td>0</td>\n",
       "      <td>0</td>\n",
       "      <td>0</td>\n",
       "      <td>0</td>\n",
       "      <td>0</td>\n",
       "      <td>3.283212</td>\n",
       "      <td>0.080609</td>\n",
       "    </tr>\n",
       "  </tbody>\n",
       "</table>\n",
       "<p>5 rows × 5162 columns</p>\n",
       "</div>"
      ],
      "text/plain": [
       "         0  1  2  3  4  5  6  7  8  9  ...  5152  5153  5154  5155  5156  \\\n",
       "1023496  0  0  0  0  0  0  0  0  0  0  ...     0     0     0     0     0   \n",
       "681492   0  0  0  0  0  0  0  0  0  0  ...     0     0     0     0     0   \n",
       "38448    0  0  0  0  0  0  0  0  0  0  ...     0     0     0     0     0   \n",
       "892244   0  0  0  0  0  0  0  0  0  0  ...     0     0     0     0     0   \n",
       "717306   0  0  0  0  0  0  0  0  0  0  ...     0     0     0     0     0   \n",
       "\n",
       "         5157  5158  5159        az        ze  \n",
       "1023496     0     0     0  2.248502  0.432784  \n",
       "681492      0     0     0  3.299984  2.809545  \n",
       "38448       0     0     0  5.291643  0.989836  \n",
       "892244      0     0     0  0.758019  2.730688  \n",
       "717306      0     0     0  3.283212  0.080609  \n",
       "\n",
       "[5 rows x 5162 columns]"
      ]
     },
     "execution_count": 31,
     "metadata": {},
     "output_type": "execute_result"
    }
   ],
   "source": [
    "# This is the DataFrame that represents our training data\n",
    "df1_train.head()"
   ]
  },
  {
   "cell_type": "markdown",
   "id": "0f60286b",
   "metadata": {},
   "source": [
    "### Testing set"
   ]
  },
  {
   "cell_type": "code",
   "execution_count": 38,
   "id": "4630f04c",
   "metadata": {},
   "outputs": [
    {
     "name": "stdout",
     "output_type": "stream",
     "text": [
      "Working on event 100\n",
      "Working on event 200\n",
      "Working on event 300\n"
     ]
    }
   ],
   "source": [
    "# Now we set up the testing data\n",
    "df1_test = pd.DataFrame(columns=[i for i in range(0, num_sensors)]+['az','ze'])\n",
    "\n",
    "count = 0\n",
    "\n",
    "batch1_no_aux = batch1[batch1.auxiliary==False]\n",
    "\n",
    "for index in test_indices[:300]:\n",
    "    event = batch1_no_aux.loc[index]\n",
    "\n",
    "    sensors = event.sensor_id.values\n",
    "\n",
    "    for sensor in sensors:\n",
    "        df1_test.loc[index,sensor] = 1\n",
    "    \n",
    "    az, ze = meta.loc[index,['azimuth','zenith']].values\n",
    "    df1_test.loc[index,'az'] = az\n",
    "    df1_test.loc[index,'ze'] = ze\n",
    "\n",
    "    count = count + 1\n",
    "    if count % 100 == 0:\n",
    "        print(\"Working on event\", count)\n",
    "\n",
    "df1_test.fillna(0, inplace=True)"
   ]
  },
  {
   "cell_type": "markdown",
   "id": "f0178eff",
   "metadata": {},
   "source": [
    "### Fitting"
   ]
  },
  {
   "cell_type": "code",
   "execution_count": 41,
   "id": "989252a3",
   "metadata": {},
   "outputs": [],
   "source": [
    "X1_train = df1_train[range(0,num_sensors)]\n",
    "y1_train = df1_train[['az','ze']]"
   ]
  },
  {
   "cell_type": "code",
   "execution_count": 42,
   "id": "1a24f18d",
   "metadata": {},
   "outputs": [],
   "source": [
    "X1_test = df1_test[range(0,num_sensors)]\n",
    "y1_test = df1_test[['az','ze']]"
   ]
  },
  {
   "cell_type": "code",
   "execution_count": 43,
   "id": "8312ad41",
   "metadata": {},
   "outputs": [],
   "source": [
    "slr1 = LinearRegression(copy_X=True)"
   ]
  },
  {
   "cell_type": "code",
   "execution_count": 44,
   "id": "60fb39b4",
   "metadata": {},
   "outputs": [
    {
     "data": {
      "text/html": [
       "<style>#sk-container-id-2 {color: black;}#sk-container-id-2 pre{padding: 0;}#sk-container-id-2 div.sk-toggleable {background-color: white;}#sk-container-id-2 label.sk-toggleable__label {cursor: pointer;display: block;width: 100%;margin-bottom: 0;padding: 0.3em;box-sizing: border-box;text-align: center;}#sk-container-id-2 label.sk-toggleable__label-arrow:before {content: \"▸\";float: left;margin-right: 0.25em;color: #696969;}#sk-container-id-2 label.sk-toggleable__label-arrow:hover:before {color: black;}#sk-container-id-2 div.sk-estimator:hover label.sk-toggleable__label-arrow:before {color: black;}#sk-container-id-2 div.sk-toggleable__content {max-height: 0;max-width: 0;overflow: hidden;text-align: left;background-color: #f0f8ff;}#sk-container-id-2 div.sk-toggleable__content pre {margin: 0.2em;color: black;border-radius: 0.25em;background-color: #f0f8ff;}#sk-container-id-2 input.sk-toggleable__control:checked~div.sk-toggleable__content {max-height: 200px;max-width: 100%;overflow: auto;}#sk-container-id-2 input.sk-toggleable__control:checked~label.sk-toggleable__label-arrow:before {content: \"▾\";}#sk-container-id-2 div.sk-estimator input.sk-toggleable__control:checked~label.sk-toggleable__label {background-color: #d4ebff;}#sk-container-id-2 div.sk-label input.sk-toggleable__control:checked~label.sk-toggleable__label {background-color: #d4ebff;}#sk-container-id-2 input.sk-hidden--visually {border: 0;clip: rect(1px 1px 1px 1px);clip: rect(1px, 1px, 1px, 1px);height: 1px;margin: -1px;overflow: hidden;padding: 0;position: absolute;width: 1px;}#sk-container-id-2 div.sk-estimator {font-family: monospace;background-color: #f0f8ff;border: 1px dotted black;border-radius: 0.25em;box-sizing: border-box;margin-bottom: 0.5em;}#sk-container-id-2 div.sk-estimator:hover {background-color: #d4ebff;}#sk-container-id-2 div.sk-parallel-item::after {content: \"\";width: 100%;border-bottom: 1px solid gray;flex-grow: 1;}#sk-container-id-2 div.sk-label:hover label.sk-toggleable__label {background-color: #d4ebff;}#sk-container-id-2 div.sk-serial::before {content: \"\";position: absolute;border-left: 1px solid gray;box-sizing: border-box;top: 0;bottom: 0;left: 50%;z-index: 0;}#sk-container-id-2 div.sk-serial {display: flex;flex-direction: column;align-items: center;background-color: white;padding-right: 0.2em;padding-left: 0.2em;position: relative;}#sk-container-id-2 div.sk-item {position: relative;z-index: 1;}#sk-container-id-2 div.sk-parallel {display: flex;align-items: stretch;justify-content: center;background-color: white;position: relative;}#sk-container-id-2 div.sk-item::before, #sk-container-id-2 div.sk-parallel-item::before {content: \"\";position: absolute;border-left: 1px solid gray;box-sizing: border-box;top: 0;bottom: 0;left: 50%;z-index: -1;}#sk-container-id-2 div.sk-parallel-item {display: flex;flex-direction: column;z-index: 1;position: relative;background-color: white;}#sk-container-id-2 div.sk-parallel-item:first-child::after {align-self: flex-end;width: 50%;}#sk-container-id-2 div.sk-parallel-item:last-child::after {align-self: flex-start;width: 50%;}#sk-container-id-2 div.sk-parallel-item:only-child::after {width: 0;}#sk-container-id-2 div.sk-dashed-wrapped {border: 1px dashed gray;margin: 0 0.4em 0.5em 0.4em;box-sizing: border-box;padding-bottom: 0.4em;background-color: white;}#sk-container-id-2 div.sk-label label {font-family: monospace;font-weight: bold;display: inline-block;line-height: 1.2em;}#sk-container-id-2 div.sk-label-container {text-align: center;}#sk-container-id-2 div.sk-container {/* jupyter's `normalize.less` sets `[hidden] { display: none; }` but bootstrap.min.css set `[hidden] { display: none !important; }` so we also need the `!important` here to be able to override the default hidden behavior on the sphinx rendered scikit-learn.org. See: https://github.com/scikit-learn/scikit-learn/issues/21755 */display: inline-block !important;position: relative;}#sk-container-id-2 div.sk-text-repr-fallback {display: none;}</style><div id=\"sk-container-id-2\" class=\"sk-top-container\"><div class=\"sk-text-repr-fallback\"><pre>LinearRegression()</pre><b>In a Jupyter environment, please rerun this cell to show the HTML representation or trust the notebook. <br />On GitHub, the HTML representation is unable to render, please try loading this page with nbviewer.org.</b></div><div class=\"sk-container\" hidden><div class=\"sk-item\"><div class=\"sk-estimator sk-toggleable\"><input class=\"sk-toggleable__control sk-hidden--visually\" id=\"sk-estimator-id-2\" type=\"checkbox\" checked><label for=\"sk-estimator-id-2\" class=\"sk-toggleable__label sk-toggleable__label-arrow\">LinearRegression</label><div class=\"sk-toggleable__content\"><pre>LinearRegression()</pre></div></div></div></div></div>"
      ],
      "text/plain": [
       "LinearRegression()"
      ]
     },
     "execution_count": 44,
     "metadata": {},
     "output_type": "execute_result"
    }
   ],
   "source": [
    "slr1.fit(X1_train.values, y1_train.values)"
   ]
  },
  {
   "cell_type": "markdown",
   "id": "827c07cf",
   "metadata": {},
   "source": [
    "### Baseline model\n",
    "\n",
    "This model just \"trains\" by computing the mean of the output azimuth and zenith and predicts these numbers always"
   ]
  },
  {
   "cell_type": "code",
   "execution_count": 89,
   "id": "7ea27db1",
   "metadata": {},
   "outputs": [],
   "source": [
    "train_mean = np.mean(ys_train.values, axis=0)"
   ]
  },
  {
   "cell_type": "code",
   "execution_count": 90,
   "id": "b2246874",
   "metadata": {},
   "outputs": [
    {
     "data": {
      "text/plain": [
       "array([3.33623343, 1.52299244])"
      ]
     },
     "execution_count": 90,
     "metadata": {},
     "output_type": "execute_result"
    }
   ],
   "source": [
    "train_mean"
   ]
  },
  {
   "cell_type": "code",
   "execution_count": 95,
   "id": "a359206a",
   "metadata": {},
   "outputs": [],
   "source": [
    "baseline_pred_az = train_mean[0]*np.ones(len(ys_test))\n",
    "baseline_pred_ze = train_mean[1]*np.ones(len(ys_test))"
   ]
  },
  {
   "cell_type": "code",
   "execution_count": 100,
   "id": "42d02bd6",
   "metadata": {},
   "outputs": [
    {
     "name": "stdout",
     "output_type": "stream",
     "text": [
      "The angular distance score for the baseline model is 1.5288671288320204\n"
     ]
    }
   ],
   "source": [
    "baseline_error = angular_dist_score(ys_test['az'].values,\n",
    "                                    ys_test['ze'].values,\n",
    "                                    baseline_pred_az,\n",
    "                                    baseline_pred_ze)\n",
    "\n",
    "print(\"The angular distance score for the baseline model is\", baseline_error)"
   ]
  },
  {
   "cell_type": "markdown",
   "id": "5b05732b",
   "metadata": {},
   "source": [
    "So the baseline model is accurate up to basically $\\pi/2$ radians, i.e. statistically speaking the true direction will be in the same hemisphere that the baseline model guesses."
   ]
  },
  {
   "cell_type": "markdown",
   "id": "5533b2fa",
   "metadata": {},
   "source": [
    "### Model 1\n",
    "\n",
    "This model just puts a 1 in a sensor where it went off for that event, and a 0 in the sensors that didn't go off"
   ]
  },
  {
   "cell_type": "code",
   "execution_count": 61,
   "id": "bd23533a",
   "metadata": {},
   "outputs": [
    {
     "name": "stdout",
     "output_type": "stream",
     "text": [
      "The angular distance score for model 1 is 1.5847234132004213\n"
     ]
    }
   ],
   "source": [
    "az_pred_1 = slr1.predict(X1_test.values)[:,0]\n",
    "ze_pred_1 = slr1.predict(X1_test.values)[:,1]\n",
    "\n",
    "model_1_error = angular_dist_score(y1_test['az'].values,\n",
    "                                   y1_test['ze'].values,\n",
    "                                   az_pred_1,\n",
    "                                   ze_pred_1)\n",
    "\n",
    "print(\"The angular distance score for model 1 is\", model_1_error)"
   ]
  },
  {
   "cell_type": "markdown",
   "id": "15da8a02",
   "metadata": {},
   "source": [
    "### Model 2\n",
    "\n",
    "This model includes aux = True"
   ]
  },
  {
   "cell_type": "code",
   "execution_count": 49,
   "id": "41cfaa05",
   "metadata": {},
   "outputs": [],
   "source": [
    "df2_train = pd.DataFrame(columns=[i for i in range(0, num_sensors)]+['az','ze'])"
   ]
  },
  {
   "cell_type": "code",
   "execution_count": 51,
   "id": "4c2300d4",
   "metadata": {},
   "outputs": [
    {
     "name": "stdout",
     "output_type": "stream",
     "text": [
      "Working on event 100\n",
      "Working on event 200\n",
      "Working on event 300\n",
      "Working on event 400\n",
      "Working on event 500\n",
      "Working on event 600\n",
      "Working on event 700\n",
      "Working on event 800\n",
      "Working on event 900\n",
      "Working on event 1000\n"
     ]
    }
   ],
   "source": [
    "# Now we generate feature data from the raw data\n",
    "# We use aux = True as well here\n",
    "count = 0\n",
    "\n",
    "for index in train_indices[:1000]:\n",
    "    event = batch1.loc[index]\n",
    "\n",
    "    sensors = event.sensor_id.values\n",
    "\n",
    "    for sensor in sensors:\n",
    "        df2_train.loc[index,sensor] = 1\n",
    "    \n",
    "    az, ze = meta.loc[index,['azimuth','zenith']].values\n",
    "    df2_train.loc[index,'az'] = az\n",
    "    df2_train.loc[index,'ze'] = ze\n",
    "\n",
    "    count = count + 1\n",
    "    if count % 100 == 0:\n",
    "        print(\"Working on event\", count)\n",
    "        \n",
    "df2_train.fillna(0, inplace=True)"
   ]
  },
  {
   "cell_type": "code",
   "execution_count": 54,
   "id": "7c82e6d3",
   "metadata": {},
   "outputs": [],
   "source": [
    "X2_train = df2_train[range(0,num_sensors)]\n",
    "y2_train = df2_train[['az','ze']]"
   ]
  },
  {
   "cell_type": "code",
   "execution_count": 55,
   "id": "ff95598d",
   "metadata": {},
   "outputs": [
    {
     "data": {
      "text/html": [
       "<style>#sk-container-id-3 {color: black;}#sk-container-id-3 pre{padding: 0;}#sk-container-id-3 div.sk-toggleable {background-color: white;}#sk-container-id-3 label.sk-toggleable__label {cursor: pointer;display: block;width: 100%;margin-bottom: 0;padding: 0.3em;box-sizing: border-box;text-align: center;}#sk-container-id-3 label.sk-toggleable__label-arrow:before {content: \"▸\";float: left;margin-right: 0.25em;color: #696969;}#sk-container-id-3 label.sk-toggleable__label-arrow:hover:before {color: black;}#sk-container-id-3 div.sk-estimator:hover label.sk-toggleable__label-arrow:before {color: black;}#sk-container-id-3 div.sk-toggleable__content {max-height: 0;max-width: 0;overflow: hidden;text-align: left;background-color: #f0f8ff;}#sk-container-id-3 div.sk-toggleable__content pre {margin: 0.2em;color: black;border-radius: 0.25em;background-color: #f0f8ff;}#sk-container-id-3 input.sk-toggleable__control:checked~div.sk-toggleable__content {max-height: 200px;max-width: 100%;overflow: auto;}#sk-container-id-3 input.sk-toggleable__control:checked~label.sk-toggleable__label-arrow:before {content: \"▾\";}#sk-container-id-3 div.sk-estimator input.sk-toggleable__control:checked~label.sk-toggleable__label {background-color: #d4ebff;}#sk-container-id-3 div.sk-label input.sk-toggleable__control:checked~label.sk-toggleable__label {background-color: #d4ebff;}#sk-container-id-3 input.sk-hidden--visually {border: 0;clip: rect(1px 1px 1px 1px);clip: rect(1px, 1px, 1px, 1px);height: 1px;margin: -1px;overflow: hidden;padding: 0;position: absolute;width: 1px;}#sk-container-id-3 div.sk-estimator {font-family: monospace;background-color: #f0f8ff;border: 1px dotted black;border-radius: 0.25em;box-sizing: border-box;margin-bottom: 0.5em;}#sk-container-id-3 div.sk-estimator:hover {background-color: #d4ebff;}#sk-container-id-3 div.sk-parallel-item::after {content: \"\";width: 100%;border-bottom: 1px solid gray;flex-grow: 1;}#sk-container-id-3 div.sk-label:hover label.sk-toggleable__label {background-color: #d4ebff;}#sk-container-id-3 div.sk-serial::before {content: \"\";position: absolute;border-left: 1px solid gray;box-sizing: border-box;top: 0;bottom: 0;left: 50%;z-index: 0;}#sk-container-id-3 div.sk-serial {display: flex;flex-direction: column;align-items: center;background-color: white;padding-right: 0.2em;padding-left: 0.2em;position: relative;}#sk-container-id-3 div.sk-item {position: relative;z-index: 1;}#sk-container-id-3 div.sk-parallel {display: flex;align-items: stretch;justify-content: center;background-color: white;position: relative;}#sk-container-id-3 div.sk-item::before, #sk-container-id-3 div.sk-parallel-item::before {content: \"\";position: absolute;border-left: 1px solid gray;box-sizing: border-box;top: 0;bottom: 0;left: 50%;z-index: -1;}#sk-container-id-3 div.sk-parallel-item {display: flex;flex-direction: column;z-index: 1;position: relative;background-color: white;}#sk-container-id-3 div.sk-parallel-item:first-child::after {align-self: flex-end;width: 50%;}#sk-container-id-3 div.sk-parallel-item:last-child::after {align-self: flex-start;width: 50%;}#sk-container-id-3 div.sk-parallel-item:only-child::after {width: 0;}#sk-container-id-3 div.sk-dashed-wrapped {border: 1px dashed gray;margin: 0 0.4em 0.5em 0.4em;box-sizing: border-box;padding-bottom: 0.4em;background-color: white;}#sk-container-id-3 div.sk-label label {font-family: monospace;font-weight: bold;display: inline-block;line-height: 1.2em;}#sk-container-id-3 div.sk-label-container {text-align: center;}#sk-container-id-3 div.sk-container {/* jupyter's `normalize.less` sets `[hidden] { display: none; }` but bootstrap.min.css set `[hidden] { display: none !important; }` so we also need the `!important` here to be able to override the default hidden behavior on the sphinx rendered scikit-learn.org. See: https://github.com/scikit-learn/scikit-learn/issues/21755 */display: inline-block !important;position: relative;}#sk-container-id-3 div.sk-text-repr-fallback {display: none;}</style><div id=\"sk-container-id-3\" class=\"sk-top-container\"><div class=\"sk-text-repr-fallback\"><pre>LinearRegression()</pre><b>In a Jupyter environment, please rerun this cell to show the HTML representation or trust the notebook. <br />On GitHub, the HTML representation is unable to render, please try loading this page with nbviewer.org.</b></div><div class=\"sk-container\" hidden><div class=\"sk-item\"><div class=\"sk-estimator sk-toggleable\"><input class=\"sk-toggleable__control sk-hidden--visually\" id=\"sk-estimator-id-3\" type=\"checkbox\" checked><label for=\"sk-estimator-id-3\" class=\"sk-toggleable__label sk-toggleable__label-arrow\">LinearRegression</label><div class=\"sk-toggleable__content\"><pre>LinearRegression()</pre></div></div></div></div></div>"
      ],
      "text/plain": [
       "LinearRegression()"
      ]
     },
     "execution_count": 55,
     "metadata": {},
     "output_type": "execute_result"
    }
   ],
   "source": [
    "slr2 = LinearRegression(copy_X=True)\n",
    "slr2.fit(Xs_train, ys_train)"
   ]
  },
  {
   "cell_type": "code",
   "execution_count": 58,
   "id": "60dbce4e",
   "metadata": {},
   "outputs": [
    {
     "name": "stdout",
     "output_type": "stream",
     "text": [
      "Working on event 100\n",
      "Working on event 200\n",
      "Working on event 300\n"
     ]
    }
   ],
   "source": [
    "# Now we set up the testing data\n",
    "df2_test = pd.DataFrame(columns=[i for i in range(0, num_sensors)]+['az','ze'])\n",
    "\n",
    "count = 0\n",
    "\n",
    "for index in test_indices[:300]:\n",
    "    event = batch1.loc[index]\n",
    "\n",
    "    sensors = event.sensor_id.values\n",
    "\n",
    "    for sensor in sensors:\n",
    "        df2_test.loc[index,sensor] = 1\n",
    "    \n",
    "    az, ze = meta.loc[index,['azimuth','zenith']].values\n",
    "    df2_test.loc[index,'az'] = az\n",
    "    df2_test.loc[index,'ze'] = ze\n",
    "\n",
    "    count = count + 1\n",
    "    if count % 100 == 0:\n",
    "        print(\"Working on event\", count)\n",
    "\n",
    "df2_test.fillna(0, inplace=True)\n",
    "\n",
    "X2_test = df2_test[range(0,num_sensors)]\n",
    "y2_test = df2_test[['az','ze']]"
   ]
  },
  {
   "cell_type": "code",
   "execution_count": 62,
   "id": "e8809bd1",
   "metadata": {},
   "outputs": [
    {
     "name": "stdout",
     "output_type": "stream",
     "text": [
      "The angular distance score for model 2 is 1.5616322012589319\n"
     ]
    }
   ],
   "source": [
    "az_pred_2 = slr2.predict(X2_test.values)[:,0]\n",
    "ze_pred_2 = slr2.predict(X2_test.values)[:,1]\n",
    "\n",
    "model_2_error = angular_dist_score(y2_test['az'].values,\n",
    "                                   y2_test['ze'].values,\n",
    "                                   az_pred_2,\n",
    "                                   ze_pred_2)\n",
    "\n",
    "print(\"The angular distance score for model 2 is\", model_2_error)"
   ]
  },
  {
   "cell_type": "markdown",
   "id": "f2d1d09d",
   "metadata": {},
   "source": [
    "This improves very slightly over model 1"
   ]
  },
  {
   "cell_type": "markdown",
   "id": "8654121c",
   "metadata": {},
   "source": [
    "### Model 3: charge and aux = False only"
   ]
  },
  {
   "cell_type": "code",
   "execution_count": 126,
   "id": "4458a589",
   "metadata": {
    "scrolled": true
   },
   "outputs": [
    {
     "name": "stdout",
     "output_type": "stream",
     "text": [
      "Working on event 10\n",
      "Working on event 20\n",
      "Working on event 30\n",
      "Working on event 40\n",
      "Working on event 50\n",
      "Working on event 60\n",
      "Working on event 70\n",
      "Working on event 80\n",
      "Working on event 90\n",
      "Working on event 100\n",
      "Working on event 110\n",
      "Working on event 120\n",
      "Working on event 130\n",
      "Working on event 140\n",
      "Working on event 150\n",
      "Working on event 160\n",
      "Working on event 170\n",
      "Working on event 180\n",
      "Working on event 190\n",
      "Working on event 200\n",
      "Working on event 210\n",
      "Working on event 220\n",
      "Working on event 230\n",
      "Working on event 240\n",
      "Working on event 250\n",
      "Working on event 260\n",
      "Working on event 270\n",
      "Working on event 280\n",
      "Working on event 290\n",
      "Working on event 300\n",
      "Working on event 310\n",
      "Working on event 320\n",
      "Working on event 330\n",
      "Working on event 340\n",
      "Working on event 350\n",
      "Working on event 360\n",
      "Working on event 370\n",
      "Working on event 380\n",
      "Working on event 390\n",
      "Working on event 400\n",
      "Working on event 410\n",
      "Working on event 420\n",
      "Working on event 430\n",
      "Working on event 440\n",
      "Working on event 450\n",
      "Working on event 460\n",
      "Working on event 470\n",
      "Working on event 480\n",
      "Working on event 490\n",
      "Working on event 500\n",
      "Working on event 510\n",
      "Working on event 520\n",
      "Working on event 530\n",
      "Working on event 540\n",
      "Working on event 550\n",
      "Working on event 560\n",
      "Working on event 570\n",
      "Working on event 580\n",
      "Working on event 590\n",
      "Working on event 600\n",
      "Working on event 610\n",
      "Working on event 620\n",
      "Working on event 630\n",
      "Working on event 640\n",
      "Working on event 650\n",
      "Working on event 660\n",
      "Working on event 670\n",
      "Working on event 680\n",
      "Working on event 690\n",
      "Working on event 700\n",
      "Working on event 710\n",
      "Working on event 720\n",
      "Working on event 730\n",
      "Working on event 740\n",
      "Working on event 750\n",
      "Working on event 760\n",
      "Working on event 770\n",
      "Working on event 780\n",
      "Working on event 790\n",
      "Working on event 800\n",
      "Working on event 810\n",
      "Working on event 820\n",
      "Working on event 830\n",
      "Working on event 840\n",
      "Working on event 850\n",
      "Working on event 860\n",
      "Working on event 870\n",
      "Working on event 880\n",
      "Working on event 890\n",
      "Working on event 900\n",
      "Working on event 910\n",
      "Working on event 920\n",
      "Working on event 930\n",
      "Working on event 940\n",
      "Working on event 950\n",
      "Working on event 960\n",
      "Working on event 970\n",
      "Working on event 980\n",
      "Working on event 990\n",
      "Working on event 1000\n"
     ]
    }
   ],
   "source": [
    "df3_train = pd.DataFrame(columns=[i for i in range(0, num_sensors)]+['az','ze'])\n",
    "\n",
    "# Now we generate feature data from the raw data\n",
    "# We use aux = False only here\n",
    "count = 0\n",
    "\n",
    "batch1_model_3 = batch1[batch1.auxiliary==False]\n",
    "\n",
    "for index in train_indices[:1000]:\n",
    "    event = batch1_model_3.loc[index]\n",
    "    event.set_index('sensor_id',\n",
    "                    inplace=True)\n",
    "    event = event.groupby('sensor_id').sum()\n",
    "\n",
    "    for sensor in event.index:\n",
    "        df3_train.loc[index,sensor] = event.loc[sensor,'charge']\n",
    "    \n",
    "    az, ze = meta.loc[index,['azimuth','zenith']].values\n",
    "    df3_train.loc[index,'az'] = az\n",
    "    df3_train.loc[index,'ze'] = ze\n",
    "\n",
    "    count = count + 1\n",
    "    if count % 10 == 0:\n",
    "        print(\"Working on event\", count)\n",
    "        \n",
    "df3_train.fillna(0, inplace=True)"
   ]
  },
  {
   "cell_type": "code",
   "execution_count": 127,
   "id": "6242f092",
   "metadata": {
    "scrolled": true
   },
   "outputs": [
    {
     "name": "stdout",
     "output_type": "stream",
     "text": [
      "Working on event 10\n",
      "Working on event 20\n",
      "Working on event 30\n",
      "Working on event 40\n",
      "Working on event 50\n",
      "Working on event 60\n",
      "Working on event 70\n",
      "Working on event 80\n",
      "Working on event 90\n",
      "Working on event 100\n",
      "Working on event 110\n",
      "Working on event 120\n",
      "Working on event 130\n",
      "Working on event 140\n",
      "Working on event 150\n",
      "Working on event 160\n",
      "Working on event 170\n",
      "Working on event 180\n",
      "Working on event 190\n",
      "Working on event 200\n",
      "Working on event 210\n",
      "Working on event 220\n",
      "Working on event 230\n",
      "Working on event 240\n",
      "Working on event 250\n",
      "Working on event 260\n",
      "Working on event 270\n",
      "Working on event 280\n",
      "Working on event 290\n",
      "Working on event 300\n"
     ]
    }
   ],
   "source": [
    "df3_test = pd.DataFrame(columns=[i for i in range(0, num_sensors)]+['az','ze'])\n",
    "\n",
    "# Now we generate feature data from the raw data\n",
    "# We use aux = False only here\n",
    "count = 0\n",
    "\n",
    "for index in test_indices[:300]:\n",
    "    event = batch1_model_3.loc[index]\n",
    "    event.set_index('sensor_id',\n",
    "                    inplace=True)\n",
    "    event = event.groupby('sensor_id').sum()\n",
    "\n",
    "    for sensor in event.index:\n",
    "        df3_test.loc[index,sensor] = event.loc[sensor,'charge']\n",
    "    \n",
    "    az, ze = meta.loc[index,['azimuth','zenith']].values\n",
    "    df3_test.loc[index,'az'] = az\n",
    "    df3_test.loc[index,'ze'] = ze\n",
    "\n",
    "    count = count + 1\n",
    "    if count % 10 == 0:\n",
    "        print(\"Working on event\", count)\n",
    "        \n",
    "df3_test.fillna(0, inplace=True)"
   ]
  },
  {
   "cell_type": "code",
   "execution_count": 128,
   "id": "447eaab5",
   "metadata": {},
   "outputs": [],
   "source": [
    "X3_train = df3_train[range(0,num_sensors)]\n",
    "y3_train = df3_train[['az','ze']]\n",
    "\n",
    "X3_test = df3_test[range(0,num_sensors)]\n",
    "y3_test =df3_test[['az','ze']]"
   ]
  },
  {
   "cell_type": "code",
   "execution_count": 129,
   "id": "3fc0de68",
   "metadata": {},
   "outputs": [
    {
     "data": {
      "text/html": [
       "<style>#sk-container-id-7 {color: black;}#sk-container-id-7 pre{padding: 0;}#sk-container-id-7 div.sk-toggleable {background-color: white;}#sk-container-id-7 label.sk-toggleable__label {cursor: pointer;display: block;width: 100%;margin-bottom: 0;padding: 0.3em;box-sizing: border-box;text-align: center;}#sk-container-id-7 label.sk-toggleable__label-arrow:before {content: \"▸\";float: left;margin-right: 0.25em;color: #696969;}#sk-container-id-7 label.sk-toggleable__label-arrow:hover:before {color: black;}#sk-container-id-7 div.sk-estimator:hover label.sk-toggleable__label-arrow:before {color: black;}#sk-container-id-7 div.sk-toggleable__content {max-height: 0;max-width: 0;overflow: hidden;text-align: left;background-color: #f0f8ff;}#sk-container-id-7 div.sk-toggleable__content pre {margin: 0.2em;color: black;border-radius: 0.25em;background-color: #f0f8ff;}#sk-container-id-7 input.sk-toggleable__control:checked~div.sk-toggleable__content {max-height: 200px;max-width: 100%;overflow: auto;}#sk-container-id-7 input.sk-toggleable__control:checked~label.sk-toggleable__label-arrow:before {content: \"▾\";}#sk-container-id-7 div.sk-estimator input.sk-toggleable__control:checked~label.sk-toggleable__label {background-color: #d4ebff;}#sk-container-id-7 div.sk-label input.sk-toggleable__control:checked~label.sk-toggleable__label {background-color: #d4ebff;}#sk-container-id-7 input.sk-hidden--visually {border: 0;clip: rect(1px 1px 1px 1px);clip: rect(1px, 1px, 1px, 1px);height: 1px;margin: -1px;overflow: hidden;padding: 0;position: absolute;width: 1px;}#sk-container-id-7 div.sk-estimator {font-family: monospace;background-color: #f0f8ff;border: 1px dotted black;border-radius: 0.25em;box-sizing: border-box;margin-bottom: 0.5em;}#sk-container-id-7 div.sk-estimator:hover {background-color: #d4ebff;}#sk-container-id-7 div.sk-parallel-item::after {content: \"\";width: 100%;border-bottom: 1px solid gray;flex-grow: 1;}#sk-container-id-7 div.sk-label:hover label.sk-toggleable__label {background-color: #d4ebff;}#sk-container-id-7 div.sk-serial::before {content: \"\";position: absolute;border-left: 1px solid gray;box-sizing: border-box;top: 0;bottom: 0;left: 50%;z-index: 0;}#sk-container-id-7 div.sk-serial {display: flex;flex-direction: column;align-items: center;background-color: white;padding-right: 0.2em;padding-left: 0.2em;position: relative;}#sk-container-id-7 div.sk-item {position: relative;z-index: 1;}#sk-container-id-7 div.sk-parallel {display: flex;align-items: stretch;justify-content: center;background-color: white;position: relative;}#sk-container-id-7 div.sk-item::before, #sk-container-id-7 div.sk-parallel-item::before {content: \"\";position: absolute;border-left: 1px solid gray;box-sizing: border-box;top: 0;bottom: 0;left: 50%;z-index: -1;}#sk-container-id-7 div.sk-parallel-item {display: flex;flex-direction: column;z-index: 1;position: relative;background-color: white;}#sk-container-id-7 div.sk-parallel-item:first-child::after {align-self: flex-end;width: 50%;}#sk-container-id-7 div.sk-parallel-item:last-child::after {align-self: flex-start;width: 50%;}#sk-container-id-7 div.sk-parallel-item:only-child::after {width: 0;}#sk-container-id-7 div.sk-dashed-wrapped {border: 1px dashed gray;margin: 0 0.4em 0.5em 0.4em;box-sizing: border-box;padding-bottom: 0.4em;background-color: white;}#sk-container-id-7 div.sk-label label {font-family: monospace;font-weight: bold;display: inline-block;line-height: 1.2em;}#sk-container-id-7 div.sk-label-container {text-align: center;}#sk-container-id-7 div.sk-container {/* jupyter's `normalize.less` sets `[hidden] { display: none; }` but bootstrap.min.css set `[hidden] { display: none !important; }` so we also need the `!important` here to be able to override the default hidden behavior on the sphinx rendered scikit-learn.org. See: https://github.com/scikit-learn/scikit-learn/issues/21755 */display: inline-block !important;position: relative;}#sk-container-id-7 div.sk-text-repr-fallback {display: none;}</style><div id=\"sk-container-id-7\" class=\"sk-top-container\"><div class=\"sk-text-repr-fallback\"><pre>LinearRegression()</pre><b>In a Jupyter environment, please rerun this cell to show the HTML representation or trust the notebook. <br />On GitHub, the HTML representation is unable to render, please try loading this page with nbviewer.org.</b></div><div class=\"sk-container\" hidden><div class=\"sk-item\"><div class=\"sk-estimator sk-toggleable\"><input class=\"sk-toggleable__control sk-hidden--visually\" id=\"sk-estimator-id-7\" type=\"checkbox\" checked><label for=\"sk-estimator-id-7\" class=\"sk-toggleable__label sk-toggleable__label-arrow\">LinearRegression</label><div class=\"sk-toggleable__content\"><pre>LinearRegression()</pre></div></div></div></div></div>"
      ],
      "text/plain": [
       "LinearRegression()"
      ]
     },
     "execution_count": 129,
     "metadata": {},
     "output_type": "execute_result"
    }
   ],
   "source": [
    "# Fit the regression\n",
    "slr3 = LinearRegression(copy_X=True)\n",
    "slr3.fit(X3_train, y3_train)"
   ]
  },
  {
   "cell_type": "code",
   "execution_count": 130,
   "id": "c7181ef8",
   "metadata": {
    "scrolled": true
   },
   "outputs": [
    {
     "name": "stdout",
     "output_type": "stream",
     "text": [
      "The angular distance score for model 3 is 1.5453663141818437\n"
     ]
    }
   ],
   "source": [
    "az_pred_3 = slr3.predict(X3_test.values)[:,0]\n",
    "ze_pred_3 = slr3.predict(X3_test.values)[:,1]\n",
    "\n",
    "model_3_error = angular_dist_score(y3_test['az'].values,\n",
    "                                   y3_test['ze'].values,\n",
    "                                   az_pred_3,\n",
    "                                   ze_pred_3)\n",
    "\n",
    "print(\"The angular distance score for model 3 is\", model_3_error)"
   ]
  },
  {
   "cell_type": "markdown",
   "id": "651d1554",
   "metadata": {},
   "source": [
    "### Model 4: charge and aux = True"
   ]
  },
  {
   "cell_type": "code",
   "execution_count": 121,
   "id": "1206a87c",
   "metadata": {},
   "outputs": [
    {
     "name": "stdout",
     "output_type": "stream",
     "text": [
      "Working on event 10\n",
      "Working on event 20\n",
      "Working on event 30\n",
      "Working on event 40\n",
      "Working on event 50\n",
      "Working on event 60\n",
      "Working on event 70\n",
      "Working on event 80\n",
      "Working on event 90\n",
      "Working on event 100\n"
     ]
    }
   ],
   "source": [
    "df4_train = pd.DataFrame(columns=[i for i in range(0, num_sensors)]+['az','ze'])\n",
    "\n",
    "# Now we generate feature data from the raw data\n",
    "# We use aux = True as well here\n",
    "count = 0\n",
    "\n",
    "for index in train_indices[:100]:\n",
    "    event = batch1.loc[index]\n",
    "    event.set_index('sensor_id',\n",
    "                    inplace=True)\n",
    "    event = event.groupby('sensor_id').sum()\n",
    "\n",
    "    for sensor in event.index:\n",
    "        df4_train.loc[index,sensor] = event.loc[sensor,'charge']\n",
    "    \n",
    "    az, ze = meta.loc[index,['azimuth','zenith']].values\n",
    "    df4_train.loc[index,'az'] = az\n",
    "    df4_train.loc[index,'ze'] = ze\n",
    "\n",
    "    count = count + 1\n",
    "    if count % 10 == 0:\n",
    "        print(\"Working on event\", count)\n",
    "        \n",
    "df4_train.fillna(0, inplace=True)"
   ]
  },
  {
   "cell_type": "code",
   "execution_count": 122,
   "id": "164e5787",
   "metadata": {
    "scrolled": true
   },
   "outputs": [
    {
     "name": "stdout",
     "output_type": "stream",
     "text": [
      "Working on event 10\n",
      "Working on event 20\n",
      "Working on event 30\n",
      "Working on event 40\n",
      "Working on event 50\n",
      "Working on event 60\n",
      "Working on event 70\n",
      "Working on event 80\n",
      "Working on event 90\n",
      "Working on event 100\n",
      "Working on event 110\n",
      "Working on event 120\n",
      "Working on event 130\n",
      "Working on event 140\n",
      "Working on event 150\n",
      "Working on event 160\n",
      "Working on event 170\n",
      "Working on event 180\n",
      "Working on event 190\n",
      "Working on event 200\n",
      "Working on event 210\n",
      "Working on event 220\n",
      "Working on event 230\n",
      "Working on event 240\n",
      "Working on event 250\n",
      "Working on event 260\n",
      "Working on event 270\n",
      "Working on event 280\n",
      "Working on event 290\n",
      "Working on event 300\n"
     ]
    }
   ],
   "source": [
    "df4_test = pd.DataFrame(columns=[i for i in range(0, num_sensors)]+['az','ze'])\n",
    "\n",
    "# Now we generate feature data from the raw data\n",
    "# We use aux = False only here\n",
    "count = 0\n",
    "\n",
    "for index in test_indices[:300]:\n",
    "    event = batch1.loc[index]\n",
    "    event.set_index('sensor_id',\n",
    "                    inplace=True)\n",
    "    event = event.groupby('sensor_id').sum()\n",
    "\n",
    "    for sensor in event.index:\n",
    "        df4_test.loc[index,sensor] = event.loc[sensor,'charge']\n",
    "    \n",
    "    az, ze = meta.loc[index,['azimuth','zenith']].values\n",
    "    df4_test.loc[index,'az'] = az\n",
    "    df4_test.loc[index,'ze'] = ze\n",
    "\n",
    "    count = count + 1\n",
    "    if count % 10 == 0:\n",
    "        print(\"Working on event\", count)\n",
    "        \n",
    "df4_test.fillna(0, inplace=True)"
   ]
  },
  {
   "cell_type": "code",
   "execution_count": 123,
   "id": "3019529d",
   "metadata": {},
   "outputs": [],
   "source": [
    "X4_train = df4_train[range(0,num_sensors)]\n",
    "y4_train = df4_train[['az','ze']]\n",
    "\n",
    "X4_test = df4_test[range(0,num_sensors)]\n",
    "y4_test =df4_test[['az','ze']]"
   ]
  },
  {
   "cell_type": "code",
   "execution_count": 124,
   "id": "747ec5a1",
   "metadata": {},
   "outputs": [
    {
     "data": {
      "text/html": [
       "<style>#sk-container-id-6 {color: black;}#sk-container-id-6 pre{padding: 0;}#sk-container-id-6 div.sk-toggleable {background-color: white;}#sk-container-id-6 label.sk-toggleable__label {cursor: pointer;display: block;width: 100%;margin-bottom: 0;padding: 0.3em;box-sizing: border-box;text-align: center;}#sk-container-id-6 label.sk-toggleable__label-arrow:before {content: \"▸\";float: left;margin-right: 0.25em;color: #696969;}#sk-container-id-6 label.sk-toggleable__label-arrow:hover:before {color: black;}#sk-container-id-6 div.sk-estimator:hover label.sk-toggleable__label-arrow:before {color: black;}#sk-container-id-6 div.sk-toggleable__content {max-height: 0;max-width: 0;overflow: hidden;text-align: left;background-color: #f0f8ff;}#sk-container-id-6 div.sk-toggleable__content pre {margin: 0.2em;color: black;border-radius: 0.25em;background-color: #f0f8ff;}#sk-container-id-6 input.sk-toggleable__control:checked~div.sk-toggleable__content {max-height: 200px;max-width: 100%;overflow: auto;}#sk-container-id-6 input.sk-toggleable__control:checked~label.sk-toggleable__label-arrow:before {content: \"▾\";}#sk-container-id-6 div.sk-estimator input.sk-toggleable__control:checked~label.sk-toggleable__label {background-color: #d4ebff;}#sk-container-id-6 div.sk-label input.sk-toggleable__control:checked~label.sk-toggleable__label {background-color: #d4ebff;}#sk-container-id-6 input.sk-hidden--visually {border: 0;clip: rect(1px 1px 1px 1px);clip: rect(1px, 1px, 1px, 1px);height: 1px;margin: -1px;overflow: hidden;padding: 0;position: absolute;width: 1px;}#sk-container-id-6 div.sk-estimator {font-family: monospace;background-color: #f0f8ff;border: 1px dotted black;border-radius: 0.25em;box-sizing: border-box;margin-bottom: 0.5em;}#sk-container-id-6 div.sk-estimator:hover {background-color: #d4ebff;}#sk-container-id-6 div.sk-parallel-item::after {content: \"\";width: 100%;border-bottom: 1px solid gray;flex-grow: 1;}#sk-container-id-6 div.sk-label:hover label.sk-toggleable__label {background-color: #d4ebff;}#sk-container-id-6 div.sk-serial::before {content: \"\";position: absolute;border-left: 1px solid gray;box-sizing: border-box;top: 0;bottom: 0;left: 50%;z-index: 0;}#sk-container-id-6 div.sk-serial {display: flex;flex-direction: column;align-items: center;background-color: white;padding-right: 0.2em;padding-left: 0.2em;position: relative;}#sk-container-id-6 div.sk-item {position: relative;z-index: 1;}#sk-container-id-6 div.sk-parallel {display: flex;align-items: stretch;justify-content: center;background-color: white;position: relative;}#sk-container-id-6 div.sk-item::before, #sk-container-id-6 div.sk-parallel-item::before {content: \"\";position: absolute;border-left: 1px solid gray;box-sizing: border-box;top: 0;bottom: 0;left: 50%;z-index: -1;}#sk-container-id-6 div.sk-parallel-item {display: flex;flex-direction: column;z-index: 1;position: relative;background-color: white;}#sk-container-id-6 div.sk-parallel-item:first-child::after {align-self: flex-end;width: 50%;}#sk-container-id-6 div.sk-parallel-item:last-child::after {align-self: flex-start;width: 50%;}#sk-container-id-6 div.sk-parallel-item:only-child::after {width: 0;}#sk-container-id-6 div.sk-dashed-wrapped {border: 1px dashed gray;margin: 0 0.4em 0.5em 0.4em;box-sizing: border-box;padding-bottom: 0.4em;background-color: white;}#sk-container-id-6 div.sk-label label {font-family: monospace;font-weight: bold;display: inline-block;line-height: 1.2em;}#sk-container-id-6 div.sk-label-container {text-align: center;}#sk-container-id-6 div.sk-container {/* jupyter's `normalize.less` sets `[hidden] { display: none; }` but bootstrap.min.css set `[hidden] { display: none !important; }` so we also need the `!important` here to be able to override the default hidden behavior on the sphinx rendered scikit-learn.org. See: https://github.com/scikit-learn/scikit-learn/issues/21755 */display: inline-block !important;position: relative;}#sk-container-id-6 div.sk-text-repr-fallback {display: none;}</style><div id=\"sk-container-id-6\" class=\"sk-top-container\"><div class=\"sk-text-repr-fallback\"><pre>LinearRegression()</pre><b>In a Jupyter environment, please rerun this cell to show the HTML representation or trust the notebook. <br />On GitHub, the HTML representation is unable to render, please try loading this page with nbviewer.org.</b></div><div class=\"sk-container\" hidden><div class=\"sk-item\"><div class=\"sk-estimator sk-toggleable\"><input class=\"sk-toggleable__control sk-hidden--visually\" id=\"sk-estimator-id-6\" type=\"checkbox\" checked><label for=\"sk-estimator-id-6\" class=\"sk-toggleable__label sk-toggleable__label-arrow\">LinearRegression</label><div class=\"sk-toggleable__content\"><pre>LinearRegression()</pre></div></div></div></div></div>"
      ],
      "text/plain": [
       "LinearRegression()"
      ]
     },
     "execution_count": 124,
     "metadata": {},
     "output_type": "execute_result"
    }
   ],
   "source": [
    "# Fitting the regression\n",
    "slr4 = LinearRegression(copy_X=True)\n",
    "slr4.fit(X4_train, y4_train)"
   ]
  },
  {
   "cell_type": "code",
   "execution_count": 125,
   "id": "73d5d70a",
   "metadata": {},
   "outputs": [
    {
     "data": {
      "text/plain": [
       "array([[ 4.08805910e+00,  1.46207198e+00],\n",
       "       [ 8.42464181e+00,  1.03551159e+00],\n",
       "       [ 4.64873047e+00,  1.21932490e+00],\n",
       "       [ 2.39337288e+01, -3.91495369e+00],\n",
       "       [ 3.51602591e+00,  1.47878540e+00],\n",
       "       [ 3.64987582e+00,  1.53067652e+00],\n",
       "       [ 4.26849042e+00,  1.50201929e+00],\n",
       "       [ 1.37002853e+03,  1.07012346e+02],\n",
       "       [ 3.70953914e+00,  1.50263897e+00],\n",
       "       [ 3.57585674e+00,  1.54169013e+00],\n",
       "       [ 4.10373669e+00,  1.52365730e+00],\n",
       "       [ 3.81187635e+00,  1.44224352e+00],\n",
       "       [ 3.93296988e+00,  1.57030216e+00],\n",
       "       [ 4.08301339e+00,  1.44467332e+00],\n",
       "       [ 3.74122272e+00,  1.51162160e+00],\n",
       "       [ 3.75475484e+00,  1.45988187e+00],\n",
       "       [ 4.51269159e+00,  1.58324776e+00],\n",
       "       [ 4.02124463e+00,  1.58327434e+00],\n",
       "       [ 3.64764941e+00,  1.43114791e+00],\n",
       "       [ 4.05505631e+00,  1.45276793e+00],\n",
       "       [ 3.74474005e+00,  1.48290336e+00],\n",
       "       [ 3.79028743e+00,  1.51191708e+00],\n",
       "       [ 3.83334770e+00,  1.45734479e+00],\n",
       "       [ 3.67110948e+00,  1.54719389e+00],\n",
       "       [ 3.43286906e+00,  1.46875102e+00],\n",
       "       [ 3.70824620e+00,  1.43917520e+00],\n",
       "       [ 3.49716528e+00,  1.46126991e+00],\n",
       "       [ 3.40021952e+00,  1.59763883e+00],\n",
       "       [ 3.57080172e+00,  1.57330682e+00],\n",
       "       [ 3.95464255e+00,  1.52342993e+00],\n",
       "       [ 3.98697213e+00,  1.43167641e+00],\n",
       "       [ 3.54174238e+00,  1.48409894e+00],\n",
       "       [ 3.39969424e+00,  1.54694294e+00],\n",
       "       [ 3.74202769e+00,  1.54002219e+00],\n",
       "       [ 3.83306288e+00,  1.49124886e+00],\n",
       "       [ 5.46993984e+00,  1.50503490e+00],\n",
       "       [ 4.12398284e+00,  1.42291180e+00],\n",
       "       [ 1.82737058e+00,  1.26551561e+00],\n",
       "       [ 3.80911646e+00,  1.65374764e+00],\n",
       "       [ 2.03586046e+00,  1.78317033e+00],\n",
       "       [ 3.65655078e+00,  1.49291171e+00],\n",
       "       [ 3.61361166e+00,  1.48568817e+00],\n",
       "       [ 3.51135542e+00,  1.42180001e+00],\n",
       "       [ 3.33266512e+00,  1.46069433e+00],\n",
       "       [ 3.93629875e+00,  1.39300970e+00],\n",
       "       [ 3.30572249e+00,  1.55022072e+00],\n",
       "       [ 3.67642463e+00,  1.47710806e+00],\n",
       "       [ 4.18137114e+00,  1.57793929e+00],\n",
       "       [ 3.70570314e+00,  1.57595944e+00],\n",
       "       [ 3.19710167e+00,  1.50126320e+00],\n",
       "       [ 3.79108259e+00,  1.43051708e+00],\n",
       "       [ 4.86021718e+00,  1.69030519e+00],\n",
       "       [ 3.56868849e+00,  1.42384345e+00],\n",
       "       [ 3.55929168e+00,  1.50715216e+00],\n",
       "       [ 3.59233445e+00,  1.46372464e+00],\n",
       "       [ 2.12821953e+01,  2.83541092e+01],\n",
       "       [ 3.58605257e+00,  1.51490670e+00],\n",
       "       [ 3.66306104e+00,  1.70457148e+00],\n",
       "       [ 3.68094616e+00,  1.49701760e+00],\n",
       "       [ 4.02810951e+00,  1.50593404e+00],\n",
       "       [ 3.59145670e+00,  1.42207315e+00],\n",
       "       [ 3.66876836e+00,  1.58262237e+00],\n",
       "       [ 3.53315624e+00,  1.48487600e+00],\n",
       "       [ 4.14389566e+00,  1.29342489e+00],\n",
       "       [ 3.19546525e+00,  1.52490440e+00],\n",
       "       [ 3.42937889e+00,  1.48130300e+00],\n",
       "       [ 5.95007797e+00,  1.61823757e+00],\n",
       "       [ 3.95115418e+00,  1.47893241e+00],\n",
       "       [ 3.67704181e+00,  1.55830611e+00],\n",
       "       [ 3.65496590e+00,  1.44758028e+00],\n",
       "       [ 3.41823367e+00,  1.49026812e+00],\n",
       "       [ 3.77254641e+00,  1.84956442e+00],\n",
       "       [ 3.45283000e+00,  1.36917058e+00],\n",
       "       [ 3.60209219e+00,  1.44028983e+00],\n",
       "       [ 4.16165948e+00,  1.43097652e+00],\n",
       "       [ 3.61808635e+00,  1.49560071e+00],\n",
       "       [ 3.73623845e+00,  1.47513514e+00],\n",
       "       [ 3.54695079e+00,  1.56156780e+00],\n",
       "       [ 3.48993384e+00,  1.54736555e+00],\n",
       "       [ 3.97244645e+00,  1.39482451e+00],\n",
       "       [ 3.52639545e+00,  1.63768720e+00],\n",
       "       [ 3.64650996e+00,  1.51626199e+00],\n",
       "       [ 3.59235394e+00,  1.49764481e+00],\n",
       "       [ 4.06947871e+00,  1.51840803e+00],\n",
       "       [ 3.82534674e+00,  1.59415384e+00],\n",
       "       [ 3.65092078e+00,  1.54198901e+00],\n",
       "       [ 3.68550056e+00,  1.45890049e+00],\n",
       "       [ 3.91444281e+00,  1.48163084e+00],\n",
       "       [ 2.78313652e+00,  1.92714309e+00],\n",
       "       [ 3.57483410e+00,  1.48277316e+00],\n",
       "       [ 3.84311723e+00,  1.53697215e+00],\n",
       "       [ 3.94655939e+00,  1.43989196e+00],\n",
       "       [ 3.64422907e+00,  1.44970609e+00],\n",
       "       [ 3.78229849e+00,  1.44679650e+00],\n",
       "       [ 1.39564163e+00,  1.31479510e+00],\n",
       "       [ 3.67755366e+00,  1.44971892e+00],\n",
       "       [ 2.76659693e+00,  1.33677538e+00],\n",
       "       [ 4.37122515e+00,  1.31039902e+00],\n",
       "       [ 3.82789447e+00,  1.52585150e+00],\n",
       "       [ 3.69083232e+00,  1.41557789e+00],\n",
       "       [ 4.03538266e+00,  1.49711874e+00],\n",
       "       [ 3.69098629e+00,  1.51155852e+00],\n",
       "       [ 3.99594297e+00,  1.65319865e+00],\n",
       "       [ 3.38377939e+00,  1.44173914e+00],\n",
       "       [ 3.23834555e+00,  1.43103217e+00],\n",
       "       [ 3.90121299e+00,  1.57039409e+00],\n",
       "       [ 3.69310189e+00,  1.54296428e+00],\n",
       "       [ 4.09323771e+00,  1.44608421e+00],\n",
       "       [ 3.96324417e+00,  1.52789709e+00],\n",
       "       [ 6.40252611e+00,  2.02410588e+00],\n",
       "       [ 3.72482366e+00,  1.46849083e+00],\n",
       "       [ 3.51951660e+00, -5.26505043e-01],\n",
       "       [ 4.02704488e+00,  1.20480885e+00],\n",
       "       [ 3.78686066e+00,  1.55461664e+00],\n",
       "       [ 3.73315444e+00,  1.61092838e+00],\n",
       "       [ 3.53252553e+00,  1.51515766e+00],\n",
       "       [ 3.89884373e+00,  1.50491015e+00],\n",
       "       [ 3.73362270e+00,  1.45502184e+00],\n",
       "       [ 3.29052674e+00,  1.46102300e+00],\n",
       "       [ 3.94672980e+00,  1.52267630e+00],\n",
       "       [ 3.75508482e+00,  1.42918939e+00],\n",
       "       [ 3.50480751e+00,  1.49677769e+00],\n",
       "       [ 3.11041430e+00,  1.22151249e+00],\n",
       "       [ 3.85598462e+00,  1.48408972e+00],\n",
       "       [ 4.02246077e+00,  1.66543945e+00],\n",
       "       [ 3.81412217e+00,  1.45805240e+00],\n",
       "       [ 3.88580931e+00,  1.44030607e+00],\n",
       "       [ 3.53074904e+00,  1.48049506e+00],\n",
       "       [ 4.14324544e+00,  1.50755919e+00],\n",
       "       [ 2.61796258e+00,  1.68303639e+00],\n",
       "       [ 3.54323485e+00,  1.62584443e+00],\n",
       "       [ 4.03087568e+00,  1.48620554e+00],\n",
       "       [ 4.04064446e+00,  1.60855297e+00],\n",
       "       [ 3.64511698e+00,  1.34890080e+00],\n",
       "       [ 3.81954948e+00,  1.54084995e+00],\n",
       "       [ 3.62808952e+00,  1.45477965e+00],\n",
       "       [ 3.73958746e+00,  1.44921600e+00],\n",
       "       [ 1.03558368e+01,  2.09925622e+00],\n",
       "       [ 3.90749796e+00,  1.53809657e+00],\n",
       "       [ 3.51333716e+00,  1.63594702e+00],\n",
       "       [ 3.81683132e+00,  1.39569055e+00],\n",
       "       [ 3.58485870e+00,  1.49155976e+00],\n",
       "       [ 3.55110513e+00,  1.44404512e+00],\n",
       "       [ 3.27324187e+00,  1.29142077e+00],\n",
       "       [ 3.71277684e+00,  1.43994464e+00],\n",
       "       [ 3.65433094e+00,  1.65624658e+00],\n",
       "       [ 5.22783786e+00,  9.09645415e-01],\n",
       "       [ 3.21145821e+00,  1.51400984e+00],\n",
       "       [ 4.03176819e+00,  1.40418784e+00],\n",
       "       [ 3.80771176e+00,  1.45102593e+00],\n",
       "       [ 4.20283684e+00,  1.52765336e+00],\n",
       "       [ 3.66827245e+00,  1.43320057e+00],\n",
       "       [ 3.99836578e+00,  1.42057370e+00],\n",
       "       [ 4.17458102e+00,  1.45535404e+00],\n",
       "       [ 3.77046492e+00,  1.55330237e+00],\n",
       "       [ 3.32744242e+00,  1.50995475e+00],\n",
       "       [ 4.28808653e+00,  1.39429262e+00],\n",
       "       [ 4.79174151e+00,  8.33998552e-01],\n",
       "       [ 3.72790483e+00,  1.53106982e+00],\n",
       "       [ 3.84019240e+00,  1.43821169e+00],\n",
       "       [ 3.72224128e+00,  1.53190515e+00],\n",
       "       [ 3.78545167e+00,  1.67935090e+00],\n",
       "       [ 3.64452495e+00,  1.53504573e+00],\n",
       "       [ 4.20299348e+00,  1.53311522e+00],\n",
       "       [ 3.86176907e+00,  1.46350718e+00],\n",
       "       [ 3.46116363e+00,  1.52013697e+00],\n",
       "       [ 3.82653148e+00,  1.45770453e+00],\n",
       "       [ 3.81209582e+00,  1.51219957e+00],\n",
       "       [ 3.73498572e+00,  1.56438706e+00],\n",
       "       [ 3.90794782e+00,  1.62695242e+00],\n",
       "       [ 3.65664754e+00,  1.36950150e+00],\n",
       "       [ 3.79424008e+00,  1.58192565e+00],\n",
       "       [ 3.78634481e+00,  1.60578063e+00],\n",
       "       [ 3.58987867e+00,  1.47469022e+00],\n",
       "       [ 4.04520195e+00,  1.51409840e+00],\n",
       "       [ 3.19067370e+00,  1.47662426e+00],\n",
       "       [ 3.48595544e+00,  1.35143904e+00],\n",
       "       [ 3.51263597e+00,  1.52480658e+00],\n",
       "       [ 3.34417434e+00, -2.91140013e-01],\n",
       "       [ 3.79336668e+00,  1.60466170e+00],\n",
       "       [ 3.78133304e+00,  1.40804772e+00],\n",
       "       [ 3.36912501e+00,  1.33333429e+00],\n",
       "       [ 3.78305953e+00,  1.37335569e+00],\n",
       "       [ 3.73154048e+00,  1.47333765e+00],\n",
       "       [ 3.96241656e+00,  1.69428260e+00],\n",
       "       [ 3.70996033e+00,  1.56634176e+00],\n",
       "       [ 4.34103040e+00,  1.54547544e+00],\n",
       "       [ 3.55531105e+00,  1.56509021e+00],\n",
       "       [ 4.30124684e+00,  1.35125765e+00],\n",
       "       [ 4.36658204e+00,  1.49074062e+00],\n",
       "       [ 3.74684359e+00,  1.46054891e+00],\n",
       "       [ 3.52966055e+00,  1.55763108e+00],\n",
       "       [ 3.61905450e+00,  1.42506930e+00],\n",
       "       [ 3.91080907e+00,  1.61653001e+00],\n",
       "       [ 3.22458985e+00,  1.58971858e+00],\n",
       "       [ 3.58360969e+00,  1.54870391e+00],\n",
       "       [ 3.91362781e+00,  1.55605488e+00],\n",
       "       [ 3.90601089e+00,  1.42918912e+00],\n",
       "       [ 3.70477035e+00,  1.46934695e+00],\n",
       "       [ 3.76857445e+00,  1.64779304e+00],\n",
       "       [ 3.36754845e+00,  1.40831948e+00],\n",
       "       [ 3.06425205e+00,  1.25549221e+00],\n",
       "       [ 2.50652794e+00,  1.29425574e+00],\n",
       "       [ 3.69397195e+00,  1.42421891e+00],\n",
       "       [ 3.96969584e+00,  1.48601288e+00],\n",
       "       [ 3.90737400e+00,  1.43874386e+00],\n",
       "       [ 3.71480869e+00,  1.67923391e+00],\n",
       "       [ 3.86829142e+00,  1.47898909e+00],\n",
       "       [ 3.18592100e+00,  1.42757556e+00],\n",
       "       [ 3.54870786e+00,  1.50118197e+00],\n",
       "       [ 3.00244606e+00,  1.38274066e+00],\n",
       "       [ 3.77862252e+00,  1.53810827e+00],\n",
       "       [ 3.86329461e+00,  1.29231240e+00],\n",
       "       [ 3.93593745e+00,  1.52812144e+00],\n",
       "       [ 3.53624229e+00,  1.52760069e+00],\n",
       "       [-1.31030925e+02, -6.92546055e+00],\n",
       "       [ 3.78720372e+00,  1.59464214e+00],\n",
       "       [ 3.89556084e+00,  1.53041474e+00],\n",
       "       [ 4.01536872e+00,  1.40558196e+00],\n",
       "       [ 1.25632957e-01,  1.43107790e+00],\n",
       "       [ 3.47995514e+00,  1.64973085e+00],\n",
       "       [ 3.87616977e+00,  1.42360346e+00],\n",
       "       [ 4.25982683e+00,  1.50039612e+00],\n",
       "       [ 3.38985043e+00,  1.55506824e+00],\n",
       "       [ 3.70156404e+00,  1.50208296e+00],\n",
       "       [ 3.80459356e+00,  1.52296439e+00],\n",
       "       [ 3.94648543e+00,  1.58544959e+00],\n",
       "       [ 3.73137345e+00,  1.65954017e+00],\n",
       "       [ 3.84215112e+00,  1.30678461e+00],\n",
       "       [ 3.68476522e+00,  1.02871013e+00],\n",
       "       [ 3.61034639e+00,  1.60256815e+00],\n",
       "       [ 3.54411992e+00,  1.57730800e+00],\n",
       "       [ 2.62718312e+00,  1.99851730e+00],\n",
       "       [ 4.09242344e+00,  1.38684358e+00],\n",
       "       [ 3.70288732e+00,  1.60350542e+00],\n",
       "       [ 3.80200515e+00,  1.47037997e+00],\n",
       "       [ 4.25539764e+00,  1.41627467e+00],\n",
       "       [ 3.96276967e+00,  1.52100406e+00],\n",
       "       [ 8.02552009e-02,  1.37405362e+00],\n",
       "       [ 3.55145179e+00,  1.45801308e+00],\n",
       "       [ 3.45513779e+00,  1.58122077e+00],\n",
       "       [ 3.26123036e+00,  1.37836971e+00],\n",
       "       [ 4.37898740e+00,  1.73805501e+00],\n",
       "       [ 3.55376054e+00,  1.66806449e+00],\n",
       "       [ 3.50319217e+00,  1.51227906e+00],\n",
       "       [ 3.78507372e+00,  1.53705693e+00],\n",
       "       [ 3.32624847e+00,  1.56988166e+00],\n",
       "       [ 3.69255293e+00,  1.44165086e+00],\n",
       "       [ 3.85771130e+00,  1.40055463e+00],\n",
       "       [ 3.76084559e+00,  1.52218179e+00],\n",
       "       [ 3.35425679e+00,  1.54022168e+00],\n",
       "       [ 3.73866546e+00,  1.37069669e+00],\n",
       "       [ 3.65150729e+00,  1.43041078e+00],\n",
       "       [ 3.89098155e+00,  1.51075572e+00],\n",
       "       [ 3.56267492e+00,  1.39380371e+00],\n",
       "       [ 3.95782442e+00,  1.46593127e+00],\n",
       "       [ 3.17019721e+00,  1.77106350e+00],\n",
       "       [ 3.70008825e+00,  1.44143242e+00],\n",
       "       [ 3.50507347e+00,  1.50042433e+00],\n",
       "       [ 3.76425361e+00,  1.55123981e+00],\n",
       "       [ 3.66273450e+00,  1.35110820e+00],\n",
       "       [ 4.74101397e+00,  8.60764937e-01],\n",
       "       [ 3.88672430e+00,  1.47136325e+00],\n",
       "       [ 3.76371188e+00,  1.55855525e+00],\n",
       "       [ 3.82480331e+00,  1.48064199e+00],\n",
       "       [ 3.88816596e+00,  1.43563306e+00],\n",
       "       [ 3.87965125e+00,  1.54801340e+00],\n",
       "       [ 3.08604882e+00,  1.65803632e+00],\n",
       "       [ 3.84249992e+00,  1.46139900e+00],\n",
       "       [ 4.09177440e+00,  1.58520820e+00],\n",
       "       [ 3.67654935e+00,  1.51031234e+00],\n",
       "       [ 3.10644974e+00,  1.47073329e+00],\n",
       "       [ 3.85645245e+00,  1.40119788e+00],\n",
       "       [ 3.62282660e+00,  1.49158333e+00],\n",
       "       [ 3.66301140e+00,  1.56089688e+00],\n",
       "       [ 3.60580855e+00,  1.36917604e+00],\n",
       "       [ 3.77948955e+00,  1.39660352e+00],\n",
       "       [ 3.64903826e+00,  1.49462965e+00],\n",
       "       [ 6.49295439e-01,  8.69289427e-01],\n",
       "       [ 3.87493555e+00,  1.66626262e+00],\n",
       "       [ 3.75899525e+00,  1.59501255e+00],\n",
       "       [ 3.73972380e+00,  1.56650727e+00],\n",
       "       [ 3.77616736e+00,  1.55264968e+00],\n",
       "       [ 5.18301515e+00,  1.76050121e+00],\n",
       "       [ 4.35540027e+00,  1.36178477e+00],\n",
       "       [ 3.13100020e+00,  1.72968357e+00],\n",
       "       [ 3.42139513e+00,  1.37297754e+00],\n",
       "       [ 3.76602895e+00,  1.46579984e+00],\n",
       "       [ 2.64918906e+00,  1.21629634e+00],\n",
       "       [ 3.76269060e+00,  1.51720134e+00],\n",
       "       [ 3.85417532e+00,  1.54403885e+00],\n",
       "       [ 4.51212595e+00,  1.18501653e+00],\n",
       "       [ 3.66139517e+00,  1.55904526e+00],\n",
       "       [ 3.78487573e+00,  1.57855639e+00],\n",
       "       [ 3.41613275e+00,  1.21781129e+00],\n",
       "       [ 3.45322538e+00,  1.48629644e+00],\n",
       "       [ 3.36108403e+00,  1.39879319e+00],\n",
       "       [ 3.63697621e+00,  1.51602951e+00],\n",
       "       [ 3.56499984e+00,  1.47719424e+00],\n",
       "       [ 3.93215622e+00,  1.54994013e+00]])"
      ]
     },
     "execution_count": 125,
     "metadata": {},
     "output_type": "execute_result"
    }
   ],
   "source": [
    "slr4.predict(X4_test)"
   ]
  },
  {
   "cell_type": "code",
   "execution_count": null,
   "id": "6bc22d3d",
   "metadata": {},
   "outputs": [],
   "source": [
    "az_pred_ = slr.predict(X_test.values)[:,0]\n",
    "ze_pred_ = slr.predict(X_test.values)[:,1]\n",
    "\n",
    "model__error = angular_dist_score(y_test['az'].values,\n",
    "                                   y_test['ze'].values,\n",
    "                                   az_pred_,\n",
    "                                   ze_pred_)\n",
    "\n",
    "print(\"The angular distance score for model  is\", model__error)"
   ]
  }
 ],
 "metadata": {
  "kernelspec": {
   "display_name": "Python 3 (ipykernel)",
   "language": "python",
   "name": "python3"
  },
  "language_info": {
   "codemirror_mode": {
    "name": "ipython",
    "version": 3
   },
   "file_extension": ".py",
   "mimetype": "text/x-python",
   "name": "python",
   "nbconvert_exporter": "python",
   "pygments_lexer": "ipython3",
   "version": "3.11.4"
  }
 },
 "nbformat": 4,
 "nbformat_minor": 5
}
