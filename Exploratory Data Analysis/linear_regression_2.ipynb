{
 "cells": [
  {
   "cell_type": "code",
   "execution_count": 1,
   "id": "ea4bc4f8",
   "metadata": {},
   "outputs": [],
   "source": [
    "from sklearn.linear_model import LinearRegression\n",
    "import numpy as np\n",
    "import pandas as pd"
   ]
  },
  {
   "cell_type": "code",
   "execution_count": 2,
   "id": "58c4505e",
   "metadata": {},
   "outputs": [],
   "source": [
    "def angular_dist_score(az_true, zen_true, az_pred, zen_pred):\n",
    "    '''\n",
    "    calculate the MAE of the angular distance between two directions.\n",
    "    The two vectors are first converted to cartesian unit vectors,\n",
    "    and then their scalar product is computed, which is equal to\n",
    "    the cosine of the angle between the two vectors. The inverse \n",
    "    cosine (arccos) thereof is then the angle between the two input vectors\n",
    "    \n",
    "    Parameters:\n",
    "    -----------\n",
    "    \n",
    "    az_true : float (or array thereof)\n",
    "        true azimuth value(s) in radian\n",
    "    zen_true : float (or array thereof)\n",
    "        true zenith value(s) in radian\n",
    "    az_pred : float (or array thereof)\n",
    "        predicted azimuth value(s) in radian\n",
    "    zen_pred : float (or array thereof)\n",
    "        predicted zenith value(s) in radian\n",
    "    \n",
    "    Returns:\n",
    "    --------\n",
    "    \n",
    "    dist : float\n",
    "        mean over the angular distance(s) in radian\n",
    "    '''\n",
    "    \n",
    "    if not (np.all(np.isfinite(az_true)) and\n",
    "            np.all(np.isfinite(zen_true)) and\n",
    "            np.all(np.isfinite(az_pred)) and\n",
    "            np.all(np.isfinite(zen_pred))):\n",
    "        raise ValueError(\"All arguments must be finite\")\n",
    "    \n",
    "    # pre-compute all sine and cosine values\n",
    "    sa1 = np.sin(az_true)\n",
    "    ca1 = np.cos(az_true)\n",
    "    sz1 = np.sin(zen_true)\n",
    "    cz1 = np.cos(zen_true)\n",
    "    \n",
    "    sa2 = np.sin(az_pred)\n",
    "    ca2 = np.cos(az_pred)\n",
    "    sz2 = np.sin(zen_pred)\n",
    "    cz2 = np.cos(zen_pred)\n",
    "    \n",
    "    # scalar product of the two cartesian vectors (x = sz*ca, y = sz*sa, z = cz)\n",
    "    scalar_prod = sz1*sz2*(ca1*ca2 + sa1*sa2) + (cz1*cz2)\n",
    "    \n",
    "    # scalar product of two unit vectors is always between -1 and 1, this is against nummerical instability\n",
    "    # that might otherwise occure from the finite precision of the sine and cosine functions\n",
    "    scalar_prod =  np.clip(scalar_prod, -1, 1)\n",
    "    \n",
    "    # convert back to an angle (in radian)\n",
    "    return np.average(np.abs(np.arccos(scalar_prod)))"
   ]
  },
  {
   "cell_type": "code",
   "execution_count": 3,
   "id": "7eb93da2",
   "metadata": {},
   "outputs": [],
   "source": [
    "# Importing data\n",
    "batch1 = pd.read_parquet('../batches_train/batch_1_repartitions/part.0.parquet')\n",
    "sensor_geom = pd.read_csv('../sensor_geometry.csv')"
   ]
  },
  {
   "cell_type": "code",
   "execution_count": 4,
   "id": "89033a0b",
   "metadata": {},
   "outputs": [],
   "source": [
    "# Importing meta data\n",
    "meta = pd.read_parquet('../batches_train/train_meta.parquet')"
   ]
  },
  {
   "cell_type": "code",
   "execution_count": 5,
   "id": "af11cae4",
   "metadata": {},
   "outputs": [],
   "source": [
    "event_ids = list(set(batch1.index))"
   ]
  },
  {
   "cell_type": "code",
   "execution_count": 6,
   "id": "6dc569be",
   "metadata": {},
   "outputs": [],
   "source": [
    "meta_1_0 = meta[meta.event_id.isin(event_ids)]"
   ]
  },
  {
   "cell_type": "code",
   "execution_count": 7,
   "id": "686247ab",
   "metadata": {},
   "outputs": [],
   "source": [
    "meta_1_0.to_parquet('../batches_train/meta_1_0.parquet')"
   ]
  },
  {
   "cell_type": "code",
   "execution_count": 8,
   "id": "a4710b93",
   "metadata": {},
   "outputs": [],
   "source": [
    "meta = pd.read_parquet('../batches_train/meta_1_0.parquet')"
   ]
  },
  {
   "cell_type": "code",
   "execution_count": 9,
   "id": "34781627",
   "metadata": {},
   "outputs": [
    {
     "data": {
      "text/html": [
       "<div>\n",
       "<style scoped>\n",
       "    .dataframe tbody tr th:only-of-type {\n",
       "        vertical-align: middle;\n",
       "    }\n",
       "\n",
       "    .dataframe tbody tr th {\n",
       "        vertical-align: top;\n",
       "    }\n",
       "\n",
       "    .dataframe thead th {\n",
       "        text-align: right;\n",
       "    }\n",
       "</style>\n",
       "<table border=\"1\" class=\"dataframe\">\n",
       "  <thead>\n",
       "    <tr style=\"text-align: right;\">\n",
       "      <th></th>\n",
       "      <th>batch_id</th>\n",
       "      <th>event_id</th>\n",
       "      <th>first_pulse_index</th>\n",
       "      <th>last_pulse_index</th>\n",
       "      <th>azimuth</th>\n",
       "      <th>zenith</th>\n",
       "    </tr>\n",
       "  </thead>\n",
       "  <tbody>\n",
       "    <tr>\n",
       "      <th>0</th>\n",
       "      <td>1</td>\n",
       "      <td>24</td>\n",
       "      <td>0</td>\n",
       "      <td>60</td>\n",
       "      <td>5.029555</td>\n",
       "      <td>2.087498</td>\n",
       "    </tr>\n",
       "    <tr>\n",
       "      <th>1</th>\n",
       "      <td>1</td>\n",
       "      <td>41</td>\n",
       "      <td>61</td>\n",
       "      <td>111</td>\n",
       "      <td>0.417742</td>\n",
       "      <td>1.549686</td>\n",
       "    </tr>\n",
       "    <tr>\n",
       "      <th>2</th>\n",
       "      <td>1</td>\n",
       "      <td>59</td>\n",
       "      <td>112</td>\n",
       "      <td>147</td>\n",
       "      <td>1.160466</td>\n",
       "      <td>2.401942</td>\n",
       "    </tr>\n",
       "    <tr>\n",
       "      <th>3</th>\n",
       "      <td>1</td>\n",
       "      <td>67</td>\n",
       "      <td>148</td>\n",
       "      <td>289</td>\n",
       "      <td>5.845952</td>\n",
       "      <td>0.759054</td>\n",
       "    </tr>\n",
       "    <tr>\n",
       "      <th>4</th>\n",
       "      <td>1</td>\n",
       "      <td>72</td>\n",
       "      <td>290</td>\n",
       "      <td>351</td>\n",
       "      <td>0.653719</td>\n",
       "      <td>0.939117</td>\n",
       "    </tr>\n",
       "    <tr>\n",
       "      <th>...</th>\n",
       "      <td>...</td>\n",
       "      <td>...</td>\n",
       "      <td>...</td>\n",
       "      <td>...</td>\n",
       "      <td>...</td>\n",
       "      <td>...</td>\n",
       "    </tr>\n",
       "    <tr>\n",
       "      <th>69360</th>\n",
       "      <td>1</td>\n",
       "      <td>1129136</td>\n",
       "      <td>10924325</td>\n",
       "      <td>10924401</td>\n",
       "      <td>0.248121</td>\n",
       "      <td>1.680275</td>\n",
       "    </tr>\n",
       "    <tr>\n",
       "      <th>69361</th>\n",
       "      <td>1</td>\n",
       "      <td>1129140</td>\n",
       "      <td>10924402</td>\n",
       "      <td>10924463</td>\n",
       "      <td>3.103800</td>\n",
       "      <td>1.914090</td>\n",
       "    </tr>\n",
       "    <tr>\n",
       "      <th>69362</th>\n",
       "      <td>1</td>\n",
       "      <td>1129144</td>\n",
       "      <td>10924464</td>\n",
       "      <td>10924502</td>\n",
       "      <td>5.134968</td>\n",
       "      <td>2.632402</td>\n",
       "    </tr>\n",
       "    <tr>\n",
       "      <th>69363</th>\n",
       "      <td>1</td>\n",
       "      <td>1129153</td>\n",
       "      <td>10924503</td>\n",
       "      <td>10924549</td>\n",
       "      <td>2.563419</td>\n",
       "      <td>1.626596</td>\n",
       "    </tr>\n",
       "    <tr>\n",
       "      <th>69364</th>\n",
       "      <td>1</td>\n",
       "      <td>1129174</td>\n",
       "      <td>10924550</td>\n",
       "      <td>10935664</td>\n",
       "      <td>5.131753</td>\n",
       "      <td>0.156261</td>\n",
       "    </tr>\n",
       "  </tbody>\n",
       "</table>\n",
       "<p>69365 rows × 6 columns</p>\n",
       "</div>"
      ],
      "text/plain": [
       "       batch_id  event_id  first_pulse_index  last_pulse_index   azimuth  \\\n",
       "0             1        24                  0                60  5.029555   \n",
       "1             1        41                 61               111  0.417742   \n",
       "2             1        59                112               147  1.160466   \n",
       "3             1        67                148               289  5.845952   \n",
       "4             1        72                290               351  0.653719   \n",
       "...         ...       ...                ...               ...       ...   \n",
       "69360         1   1129136           10924325          10924401  0.248121   \n",
       "69361         1   1129140           10924402          10924463  3.103800   \n",
       "69362         1   1129144           10924464          10924502  5.134968   \n",
       "69363         1   1129153           10924503          10924549  2.563419   \n",
       "69364         1   1129174           10924550          10935664  5.131753   \n",
       "\n",
       "         zenith  \n",
       "0      2.087498  \n",
       "1      1.549686  \n",
       "2      2.401942  \n",
       "3      0.759054  \n",
       "4      0.939117  \n",
       "...         ...  \n",
       "69360  1.680275  \n",
       "69361  1.914090  \n",
       "69362  2.632402  \n",
       "69363  1.626596  \n",
       "69364  0.156261  \n",
       "\n",
       "[69365 rows x 6 columns]"
      ]
     },
     "execution_count": 9,
     "metadata": {},
     "output_type": "execute_result"
    }
   ],
   "source": [
    "meta"
   ]
  },
  {
   "cell_type": "code",
   "execution_count": 6,
   "id": "c83fc54c",
   "metadata": {},
   "outputs": [
    {
     "name": "stderr",
     "output_type": "stream",
     "text": [
      "C:\\Users\\chris\\AppData\\Local\\Temp\\ipykernel_12984\\2141827850.py:5: SettingWithCopyWarning: \n",
      "A value is trying to be set on a copy of a slice from a DataFrame\n",
      "\n",
      "See the caveats in the documentation: https://pandas.pydata.org/pandas-docs/stable/user_guide/indexing.html#returning-a-view-versus-a-copy\n",
      "  meta_batch1.drop(['batch_id', 'first_pulse_index', 'last_pulse_index'],\n"
     ]
    }
   ],
   "source": [
    "# Part of meta that we need\n",
    "meta_batch1 = meta[meta.event_id.isin(event_ids)]\n",
    "meta_batch1.set_index('event_id',\n",
    "                      inplace=True)\n",
    "meta_batch1.drop(['batch_id', 'first_pulse_index', 'last_pulse_index'], \n",
    "                 axis=1,\n",
    "                 inplace=True)"
   ]
  },
  {
   "cell_type": "code",
   "execution_count": 21,
   "id": "6083c418",
   "metadata": {},
   "outputs": [
    {
     "data": {
      "text/html": [
       "<div>\n",
       "<style scoped>\n",
       "    .dataframe tbody tr th:only-of-type {\n",
       "        vertical-align: middle;\n",
       "    }\n",
       "\n",
       "    .dataframe tbody tr th {\n",
       "        vertical-align: top;\n",
       "    }\n",
       "\n",
       "    .dataframe thead th {\n",
       "        text-align: right;\n",
       "    }\n",
       "</style>\n",
       "<table border=\"1\" class=\"dataframe\">\n",
       "  <thead>\n",
       "    <tr style=\"text-align: right;\">\n",
       "      <th></th>\n",
       "      <th>azimuth</th>\n",
       "      <th>zenith</th>\n",
       "    </tr>\n",
       "    <tr>\n",
       "      <th>event_id</th>\n",
       "      <th></th>\n",
       "      <th></th>\n",
       "    </tr>\n",
       "  </thead>\n",
       "  <tbody>\n",
       "    <tr>\n",
       "      <th>24</th>\n",
       "      <td>5.029555</td>\n",
       "      <td>2.087498</td>\n",
       "    </tr>\n",
       "    <tr>\n",
       "      <th>41</th>\n",
       "      <td>0.417742</td>\n",
       "      <td>1.549686</td>\n",
       "    </tr>\n",
       "    <tr>\n",
       "      <th>59</th>\n",
       "      <td>1.160466</td>\n",
       "      <td>2.401942</td>\n",
       "    </tr>\n",
       "    <tr>\n",
       "      <th>67</th>\n",
       "      <td>5.845952</td>\n",
       "      <td>0.759054</td>\n",
       "    </tr>\n",
       "    <tr>\n",
       "      <th>72</th>\n",
       "      <td>0.653719</td>\n",
       "      <td>0.939117</td>\n",
       "    </tr>\n",
       "  </tbody>\n",
       "</table>\n",
       "</div>"
      ],
      "text/plain": [
       "           azimuth    zenith\n",
       "event_id                    \n",
       "24        5.029555  2.087498\n",
       "41        0.417742  1.549686\n",
       "59        1.160466  2.401942\n",
       "67        5.845952  0.759054\n",
       "72        0.653719  0.939117"
      ]
     },
     "execution_count": 21,
     "metadata": {},
     "output_type": "execute_result"
    }
   ],
   "source": [
    "meta_batch1.head()"
   ]
  },
  {
   "cell_type": "code",
   "execution_count": 7,
   "id": "acde3230",
   "metadata": {},
   "outputs": [],
   "source": [
    "from sklearn.model_selection import train_test_split"
   ]
  },
  {
   "cell_type": "code",
   "execution_count": 8,
   "id": "a8d676ed",
   "metadata": {},
   "outputs": [],
   "source": [
    "train_indices, test_indices = train_test_split(event_ids,\n",
    "                                               shuffle=True,\n",
    "                                               random_state=123,\n",
    "                                               test_size=0.25)"
   ]
  },
  {
   "cell_type": "code",
   "execution_count": 9,
   "id": "ddc59c64",
   "metadata": {},
   "outputs": [],
   "source": [
    "num_sensors = 5160"
   ]
  },
  {
   "cell_type": "code",
   "execution_count": 10,
   "id": "b5513547",
   "metadata": {},
   "outputs": [],
   "source": [
    "df_train = pd.DataFrame(columns=[i for i in range(0, num_sensors)]+['az','ze'])"
   ]
  },
  {
   "cell_type": "code",
   "execution_count": 11,
   "id": "0bbdd1d9",
   "metadata": {
    "scrolled": true
   },
   "outputs": [
    {
     "name": "stdout",
     "output_type": "stream",
     "text": [
      "Working on event 100\n",
      "Working on event 200\n",
      "Working on event 300\n",
      "Working on event 400\n",
      "Working on event 500\n",
      "Working on event 600\n",
      "Working on event 700\n",
      "Working on event 800\n",
      "Working on event 900\n",
      "Working on event 1000\n"
     ]
    }
   ],
   "source": [
    "# Now we generate feature data from the raw data\n",
    "# We use aux = False only here\n",
    "count = 0\n",
    "\n",
    "batch1_no_aux = batch1[batch1.auxiliary==False]\n",
    "\n",
    "for index in train_indices[:1000]:\n",
    "    event = batch1_no_aux.loc[index]\n",
    "\n",
    "    sensors = event.sensor_id.values\n",
    "\n",
    "    for sensor in sensors:\n",
    "        df_train.loc[index,sensor] = 1\n",
    "    \n",
    "    az, ze = meta_batch1.loc[index,['azimuth','zenith']].values\n",
    "    df_train.loc[index,'az'] = az\n",
    "    df_train.loc[index,'ze'] = ze\n",
    "\n",
    "    count = count + 1\n",
    "    if count % 100 == 0:\n",
    "        print(\"Working on event\", count)"
   ]
  },
  {
   "cell_type": "code",
   "execution_count": 77,
   "id": "64c3b182",
   "metadata": {},
   "outputs": [],
   "source": [
    "df_train.fillna(0, inplace=True)"
   ]
  },
  {
   "cell_type": "code",
   "execution_count": 78,
   "id": "98631f28",
   "metadata": {},
   "outputs": [
    {
     "data": {
      "text/html": [
       "<div>\n",
       "<style scoped>\n",
       "    .dataframe tbody tr th:only-of-type {\n",
       "        vertical-align: middle;\n",
       "    }\n",
       "\n",
       "    .dataframe tbody tr th {\n",
       "        vertical-align: top;\n",
       "    }\n",
       "\n",
       "    .dataframe thead th {\n",
       "        text-align: right;\n",
       "    }\n",
       "</style>\n",
       "<table border=\"1\" class=\"dataframe\">\n",
       "  <thead>\n",
       "    <tr style=\"text-align: right;\">\n",
       "      <th></th>\n",
       "      <th>0</th>\n",
       "      <th>1</th>\n",
       "      <th>2</th>\n",
       "      <th>3</th>\n",
       "      <th>4</th>\n",
       "      <th>5</th>\n",
       "      <th>6</th>\n",
       "      <th>7</th>\n",
       "      <th>8</th>\n",
       "      <th>9</th>\n",
       "      <th>...</th>\n",
       "      <th>5152</th>\n",
       "      <th>5153</th>\n",
       "      <th>5154</th>\n",
       "      <th>5155</th>\n",
       "      <th>5156</th>\n",
       "      <th>5157</th>\n",
       "      <th>5158</th>\n",
       "      <th>5159</th>\n",
       "      <th>az</th>\n",
       "      <th>ze</th>\n",
       "    </tr>\n",
       "  </thead>\n",
       "  <tbody>\n",
       "    <tr>\n",
       "      <th>1023496</th>\n",
       "      <td>0</td>\n",
       "      <td>0</td>\n",
       "      <td>0</td>\n",
       "      <td>0</td>\n",
       "      <td>0</td>\n",
       "      <td>0</td>\n",
       "      <td>0</td>\n",
       "      <td>0</td>\n",
       "      <td>0</td>\n",
       "      <td>0</td>\n",
       "      <td>...</td>\n",
       "      <td>0</td>\n",
       "      <td>0</td>\n",
       "      <td>0</td>\n",
       "      <td>0</td>\n",
       "      <td>0</td>\n",
       "      <td>0</td>\n",
       "      <td>0</td>\n",
       "      <td>0</td>\n",
       "      <td>2.248502</td>\n",
       "      <td>0.432784</td>\n",
       "    </tr>\n",
       "    <tr>\n",
       "      <th>681492</th>\n",
       "      <td>0</td>\n",
       "      <td>0</td>\n",
       "      <td>0</td>\n",
       "      <td>0</td>\n",
       "      <td>0</td>\n",
       "      <td>0</td>\n",
       "      <td>0</td>\n",
       "      <td>0</td>\n",
       "      <td>0</td>\n",
       "      <td>0</td>\n",
       "      <td>...</td>\n",
       "      <td>0</td>\n",
       "      <td>0</td>\n",
       "      <td>0</td>\n",
       "      <td>0</td>\n",
       "      <td>0</td>\n",
       "      <td>0</td>\n",
       "      <td>0</td>\n",
       "      <td>0</td>\n",
       "      <td>3.299984</td>\n",
       "      <td>2.809545</td>\n",
       "    </tr>\n",
       "    <tr>\n",
       "      <th>38448</th>\n",
       "      <td>0</td>\n",
       "      <td>0</td>\n",
       "      <td>0</td>\n",
       "      <td>0</td>\n",
       "      <td>0</td>\n",
       "      <td>0</td>\n",
       "      <td>0</td>\n",
       "      <td>0</td>\n",
       "      <td>0</td>\n",
       "      <td>0</td>\n",
       "      <td>...</td>\n",
       "      <td>0</td>\n",
       "      <td>0</td>\n",
       "      <td>0</td>\n",
       "      <td>0</td>\n",
       "      <td>0</td>\n",
       "      <td>0</td>\n",
       "      <td>0</td>\n",
       "      <td>0</td>\n",
       "      <td>5.291643</td>\n",
       "      <td>0.989836</td>\n",
       "    </tr>\n",
       "    <tr>\n",
       "      <th>892244</th>\n",
       "      <td>0</td>\n",
       "      <td>0</td>\n",
       "      <td>0</td>\n",
       "      <td>0</td>\n",
       "      <td>0</td>\n",
       "      <td>0</td>\n",
       "      <td>0</td>\n",
       "      <td>0</td>\n",
       "      <td>0</td>\n",
       "      <td>0</td>\n",
       "      <td>...</td>\n",
       "      <td>0</td>\n",
       "      <td>0</td>\n",
       "      <td>0</td>\n",
       "      <td>0</td>\n",
       "      <td>0</td>\n",
       "      <td>0</td>\n",
       "      <td>0</td>\n",
       "      <td>0</td>\n",
       "      <td>0.758019</td>\n",
       "      <td>2.730688</td>\n",
       "    </tr>\n",
       "    <tr>\n",
       "      <th>717306</th>\n",
       "      <td>0</td>\n",
       "      <td>0</td>\n",
       "      <td>0</td>\n",
       "      <td>0</td>\n",
       "      <td>0</td>\n",
       "      <td>0</td>\n",
       "      <td>0</td>\n",
       "      <td>0</td>\n",
       "      <td>0</td>\n",
       "      <td>0</td>\n",
       "      <td>...</td>\n",
       "      <td>0</td>\n",
       "      <td>0</td>\n",
       "      <td>0</td>\n",
       "      <td>0</td>\n",
       "      <td>0</td>\n",
       "      <td>0</td>\n",
       "      <td>0</td>\n",
       "      <td>0</td>\n",
       "      <td>3.283212</td>\n",
       "      <td>0.080609</td>\n",
       "    </tr>\n",
       "  </tbody>\n",
       "</table>\n",
       "<p>5 rows × 5162 columns</p>\n",
       "</div>"
      ],
      "text/plain": [
       "         0  1  2  3  4  5  6  7  8  9  ...  5152  5153  5154  5155  5156  \\\n",
       "1023496  0  0  0  0  0  0  0  0  0  0  ...     0     0     0     0     0   \n",
       "681492   0  0  0  0  0  0  0  0  0  0  ...     0     0     0     0     0   \n",
       "38448    0  0  0  0  0  0  0  0  0  0  ...     0     0     0     0     0   \n",
       "892244   0  0  0  0  0  0  0  0  0  0  ...     0     0     0     0     0   \n",
       "717306   0  0  0  0  0  0  0  0  0  0  ...     0     0     0     0     0   \n",
       "\n",
       "         5157  5158  5159        az        ze  \n",
       "1023496     0     0     0  2.248502  0.432784  \n",
       "681492      0     0     0  3.299984  2.809545  \n",
       "38448       0     0     0  5.291643  0.989836  \n",
       "892244      0     0     0  0.758019  2.730688  \n",
       "717306      0     0     0  3.283212  0.080609  \n",
       "\n",
       "[5 rows x 5162 columns]"
      ]
     },
     "execution_count": 78,
     "metadata": {},
     "output_type": "execute_result"
    }
   ],
   "source": [
    "# This is the DataFrame that represents our training data\n",
    "df_train.head()"
   ]
  },
  {
   "cell_type": "code",
   "execution_count": 79,
   "id": "8312ad41",
   "metadata": {},
   "outputs": [],
   "source": [
    "slr1 = LinearRegression(copy_X=True)"
   ]
  },
  {
   "cell_type": "code",
   "execution_count": 80,
   "id": "989252a3",
   "metadata": {},
   "outputs": [],
   "source": [
    "Xs_train = df_train[range(0,num_sensors)]\n",
    "ys_train = df_train[['az','ze']]"
   ]
  },
  {
   "cell_type": "code",
   "execution_count": 81,
   "id": "60fb39b4",
   "metadata": {},
   "outputs": [
    {
     "data": {
      "text/html": [
       "<style>#sk-container-id-4 {color: black;}#sk-container-id-4 pre{padding: 0;}#sk-container-id-4 div.sk-toggleable {background-color: white;}#sk-container-id-4 label.sk-toggleable__label {cursor: pointer;display: block;width: 100%;margin-bottom: 0;padding: 0.3em;box-sizing: border-box;text-align: center;}#sk-container-id-4 label.sk-toggleable__label-arrow:before {content: \"▸\";float: left;margin-right: 0.25em;color: #696969;}#sk-container-id-4 label.sk-toggleable__label-arrow:hover:before {color: black;}#sk-container-id-4 div.sk-estimator:hover label.sk-toggleable__label-arrow:before {color: black;}#sk-container-id-4 div.sk-toggleable__content {max-height: 0;max-width: 0;overflow: hidden;text-align: left;background-color: #f0f8ff;}#sk-container-id-4 div.sk-toggleable__content pre {margin: 0.2em;color: black;border-radius: 0.25em;background-color: #f0f8ff;}#sk-container-id-4 input.sk-toggleable__control:checked~div.sk-toggleable__content {max-height: 200px;max-width: 100%;overflow: auto;}#sk-container-id-4 input.sk-toggleable__control:checked~label.sk-toggleable__label-arrow:before {content: \"▾\";}#sk-container-id-4 div.sk-estimator input.sk-toggleable__control:checked~label.sk-toggleable__label {background-color: #d4ebff;}#sk-container-id-4 div.sk-label input.sk-toggleable__control:checked~label.sk-toggleable__label {background-color: #d4ebff;}#sk-container-id-4 input.sk-hidden--visually {border: 0;clip: rect(1px 1px 1px 1px);clip: rect(1px, 1px, 1px, 1px);height: 1px;margin: -1px;overflow: hidden;padding: 0;position: absolute;width: 1px;}#sk-container-id-4 div.sk-estimator {font-family: monospace;background-color: #f0f8ff;border: 1px dotted black;border-radius: 0.25em;box-sizing: border-box;margin-bottom: 0.5em;}#sk-container-id-4 div.sk-estimator:hover {background-color: #d4ebff;}#sk-container-id-4 div.sk-parallel-item::after {content: \"\";width: 100%;border-bottom: 1px solid gray;flex-grow: 1;}#sk-container-id-4 div.sk-label:hover label.sk-toggleable__label {background-color: #d4ebff;}#sk-container-id-4 div.sk-serial::before {content: \"\";position: absolute;border-left: 1px solid gray;box-sizing: border-box;top: 0;bottom: 0;left: 50%;z-index: 0;}#sk-container-id-4 div.sk-serial {display: flex;flex-direction: column;align-items: center;background-color: white;padding-right: 0.2em;padding-left: 0.2em;position: relative;}#sk-container-id-4 div.sk-item {position: relative;z-index: 1;}#sk-container-id-4 div.sk-parallel {display: flex;align-items: stretch;justify-content: center;background-color: white;position: relative;}#sk-container-id-4 div.sk-item::before, #sk-container-id-4 div.sk-parallel-item::before {content: \"\";position: absolute;border-left: 1px solid gray;box-sizing: border-box;top: 0;bottom: 0;left: 50%;z-index: -1;}#sk-container-id-4 div.sk-parallel-item {display: flex;flex-direction: column;z-index: 1;position: relative;background-color: white;}#sk-container-id-4 div.sk-parallel-item:first-child::after {align-self: flex-end;width: 50%;}#sk-container-id-4 div.sk-parallel-item:last-child::after {align-self: flex-start;width: 50%;}#sk-container-id-4 div.sk-parallel-item:only-child::after {width: 0;}#sk-container-id-4 div.sk-dashed-wrapped {border: 1px dashed gray;margin: 0 0.4em 0.5em 0.4em;box-sizing: border-box;padding-bottom: 0.4em;background-color: white;}#sk-container-id-4 div.sk-label label {font-family: monospace;font-weight: bold;display: inline-block;line-height: 1.2em;}#sk-container-id-4 div.sk-label-container {text-align: center;}#sk-container-id-4 div.sk-container {/* jupyter's `normalize.less` sets `[hidden] { display: none; }` but bootstrap.min.css set `[hidden] { display: none !important; }` so we also need the `!important` here to be able to override the default hidden behavior on the sphinx rendered scikit-learn.org. See: https://github.com/scikit-learn/scikit-learn/issues/21755 */display: inline-block !important;position: relative;}#sk-container-id-4 div.sk-text-repr-fallback {display: none;}</style><div id=\"sk-container-id-4\" class=\"sk-top-container\"><div class=\"sk-text-repr-fallback\"><pre>LinearRegression()</pre><b>In a Jupyter environment, please rerun this cell to show the HTML representation or trust the notebook. <br />On GitHub, the HTML representation is unable to render, please try loading this page with nbviewer.org.</b></div><div class=\"sk-container\" hidden><div class=\"sk-item\"><div class=\"sk-estimator sk-toggleable\"><input class=\"sk-toggleable__control sk-hidden--visually\" id=\"sk-estimator-id-4\" type=\"checkbox\" checked><label for=\"sk-estimator-id-4\" class=\"sk-toggleable__label sk-toggleable__label-arrow\">LinearRegression</label><div class=\"sk-toggleable__content\"><pre>LinearRegression()</pre></div></div></div></div></div>"
      ],
      "text/plain": [
       "LinearRegression()"
      ]
     },
     "execution_count": 81,
     "metadata": {},
     "output_type": "execute_result"
    }
   ],
   "source": [
    "slr1.fit(Xs_train.values, ys_train.values)"
   ]
  },
  {
   "cell_type": "code",
   "execution_count": 82,
   "id": "e159ca26",
   "metadata": {},
   "outputs": [
    {
     "data": {
      "text/plain": [
       "(2, 5160)"
      ]
     },
     "execution_count": 82,
     "metadata": {},
     "output_type": "execute_result"
    }
   ],
   "source": [
    "slr1.coef_.shape"
   ]
  },
  {
   "cell_type": "code",
   "execution_count": 83,
   "id": "4630f04c",
   "metadata": {},
   "outputs": [
    {
     "name": "stdout",
     "output_type": "stream",
     "text": [
      "Working on event 100\n",
      "Working on event 200\n",
      "Working on event 300\n"
     ]
    }
   ],
   "source": [
    "# Now we set up the testing data\n",
    "df_test = pd.DataFrame(columns=[i for i in range(0, num_sensors)]+['az','ze'])\n",
    "\n",
    "count = 0\n",
    "\n",
    "batch1_no_aux = batch1[batch1.auxiliary==False]\n",
    "\n",
    "for index in test_indices[:300]:\n",
    "    event = batch1_no_aux.loc[index]\n",
    "\n",
    "    sensors = event.sensor_id.values\n",
    "\n",
    "    for sensor in sensors:\n",
    "        df_test.loc[index,sensor] = 1\n",
    "    \n",
    "    az, ze = meta_batch1.loc[index,['azimuth','zenith']].values\n",
    "    df_test.loc[index,'az'] = az\n",
    "    df_test.loc[index,'ze'] = ze\n",
    "\n",
    "    count = count + 1\n",
    "    if count % 100 == 0:\n",
    "        print(\"Working on event\", count)\n",
    "\n",
    "df_test.fillna(0, inplace=True)"
   ]
  },
  {
   "cell_type": "code",
   "execution_count": 84,
   "id": "1a24f18d",
   "metadata": {},
   "outputs": [],
   "source": [
    "Xs_test = df_test[range(0,num_sensors)]\n",
    "ys_test = df_test[['az','ze']]"
   ]
  },
  {
   "cell_type": "code",
   "execution_count": 21,
   "id": "6b9848a7",
   "metadata": {},
   "outputs": [
    {
     "ename": "NameError",
     "evalue": "name 'slr1' is not defined",
     "output_type": "error",
     "traceback": [
      "\u001b[1;31m---------------------------------------------------------------------------\u001b[0m",
      "\u001b[1;31mNameError\u001b[0m                                 Traceback (most recent call last)",
      "Cell \u001b[1;32mIn[21], line 1\u001b[0m\n\u001b[1;32m----> 1\u001b[0m slr1\u001b[38;5;241m.\u001b[39mpredict(Xs_test)\n",
      "\u001b[1;31mNameError\u001b[0m: name 'slr1' is not defined"
     ]
    }
   ],
   "source": [
    "slr1.predict(Xs_test)"
   ]
  },
  {
   "cell_type": "markdown",
   "id": "827c07cf",
   "metadata": {},
   "source": [
    "### Baseline model\n",
    "\n",
    "This model just \"trains\" by computing the mean of the output azimuth and zenith and predicts these numbers always"
   ]
  },
  {
   "cell_type": "code",
   "execution_count": 89,
   "id": "7ea27db1",
   "metadata": {},
   "outputs": [],
   "source": [
    "train_mean = np.mean(ys_train.values, axis=0)"
   ]
  },
  {
   "cell_type": "code",
   "execution_count": 90,
   "id": "b2246874",
   "metadata": {},
   "outputs": [
    {
     "data": {
      "text/plain": [
       "array([3.33623343, 1.52299244])"
      ]
     },
     "execution_count": 90,
     "metadata": {},
     "output_type": "execute_result"
    }
   ],
   "source": [
    "train_mean"
   ]
  },
  {
   "cell_type": "code",
   "execution_count": 95,
   "id": "a359206a",
   "metadata": {},
   "outputs": [],
   "source": [
    "baseline_pred_az = train_mean[0]*np.ones(len(ys_test))\n",
    "baseline_pred_ze = train_mean[1]*np.ones(len(ys_test))"
   ]
  },
  {
   "cell_type": "code",
   "execution_count": 100,
   "id": "42d02bd6",
   "metadata": {},
   "outputs": [
    {
     "name": "stdout",
     "output_type": "stream",
     "text": [
      "The angular distance score for the baseline model is 1.5288671288320204\n"
     ]
    }
   ],
   "source": [
    "baseline_error = angular_dist_score(ys_test['az'].values,\n",
    "                                    ys_test['ze'].values,\n",
    "                                    baseline_pred_az,\n",
    "                                    baseline_pred_ze)\n",
    "\n",
    "print(\"The angular distance score for the baseline model is\", baseline_error)"
   ]
  },
  {
   "cell_type": "markdown",
   "id": "5b05732b",
   "metadata": {},
   "source": [
    "So the baseline model is accurate up to basically $\\pi/2$ radians, i.e. statistically speaking the true direction will be in the same hemisphere that the baseline model guesses."
   ]
  },
  {
   "cell_type": "markdown",
   "id": "5533b2fa",
   "metadata": {},
   "source": [
    "### Model 1\n",
    "\n",
    "This model just puts a 1 in a sensor where it went off for that event, and a 0 in the sensors that didn't go off"
   ]
  },
  {
   "cell_type": "code",
   "execution_count": 103,
   "id": "bd23533a",
   "metadata": {},
   "outputs": [
    {
     "name": "stdout",
     "output_type": "stream",
     "text": [
      "The angular distance score for model 1 is 1.5847234132004213\n"
     ]
    }
   ],
   "source": [
    "az_pred_1 = slr1.predict(Xs_test.values)[:,0]\n",
    "ze_pred_1 = slr1.predict(Xs_test.values)[:,1]\n",
    "\n",
    "model_1_error = angular_dist_score(ys_test['az'].values,\n",
    "                                   ys_test['ze'].values,\n",
    "                                   az_pred_1,\n",
    "                                   ze_pred_1)\n",
    "\n",
    "print(\"The angular distance score for model 1 is\", model_1_error)"
   ]
  },
  {
   "cell_type": "markdown",
   "id": "15da8a02",
   "metadata": {},
   "source": [
    "### Model 2\n",
    "\n",
    "This model includes aux = True"
   ]
  },
  {
   "cell_type": "code",
   "execution_count": 13,
   "id": "41cfaa05",
   "metadata": {},
   "outputs": [],
   "source": [
    "df_train = pd.DataFrame(columns=[i for i in range(0, num_sensors)]+['az','ze'])"
   ]
  },
  {
   "cell_type": "code",
   "execution_count": 14,
   "id": "4c2300d4",
   "metadata": {},
   "outputs": [
    {
     "name": "stdout",
     "output_type": "stream",
     "text": [
      "Working on event 100\n",
      "Working on event 200\n",
      "Working on event 300\n",
      "Working on event 400\n",
      "Working on event 500\n",
      "Working on event 600\n",
      "Working on event 700\n",
      "Working on event 800\n",
      "Working on event 900\n",
      "Working on event 1000\n"
     ]
    }
   ],
   "source": [
    "# Now we generate feature data from the raw data\n",
    "# We use aux = True as well here\n",
    "count = 0\n",
    "\n",
    "for index in train_indices[:1000]:\n",
    "    event = batch1.loc[index]\n",
    "\n",
    "    sensors = event.sensor_id.values\n",
    "\n",
    "    for sensor in sensors:\n",
    "        df_train.loc[index,sensor] = 1\n",
    "    \n",
    "    az, ze = meta_batch1.loc[index,['azimuth','zenith']].values\n",
    "    df_train.loc[index,'az'] = az\n",
    "    df_train.loc[index,'ze'] = ze\n",
    "\n",
    "    count = count + 1\n",
    "    if count % 100 == 0:\n",
    "        print(\"Working on event\", count)"
   ]
  },
  {
   "cell_type": "code",
   "execution_count": 17,
   "id": "7c82e6d3",
   "metadata": {},
   "outputs": [],
   "source": [
    "df_train.fillna(0, inplace=True)\n",
    "Xs_train = df_train[range(0,num_sensors)]\n",
    "ys_train = df_train[['az','ze']]"
   ]
  },
  {
   "cell_type": "code",
   "execution_count": 18,
   "id": "ff95598d",
   "metadata": {},
   "outputs": [
    {
     "data": {
      "text/html": [
       "<style>#sk-container-id-1 {color: black;}#sk-container-id-1 pre{padding: 0;}#sk-container-id-1 div.sk-toggleable {background-color: white;}#sk-container-id-1 label.sk-toggleable__label {cursor: pointer;display: block;width: 100%;margin-bottom: 0;padding: 0.3em;box-sizing: border-box;text-align: center;}#sk-container-id-1 label.sk-toggleable__label-arrow:before {content: \"▸\";float: left;margin-right: 0.25em;color: #696969;}#sk-container-id-1 label.sk-toggleable__label-arrow:hover:before {color: black;}#sk-container-id-1 div.sk-estimator:hover label.sk-toggleable__label-arrow:before {color: black;}#sk-container-id-1 div.sk-toggleable__content {max-height: 0;max-width: 0;overflow: hidden;text-align: left;background-color: #f0f8ff;}#sk-container-id-1 div.sk-toggleable__content pre {margin: 0.2em;color: black;border-radius: 0.25em;background-color: #f0f8ff;}#sk-container-id-1 input.sk-toggleable__control:checked~div.sk-toggleable__content {max-height: 200px;max-width: 100%;overflow: auto;}#sk-container-id-1 input.sk-toggleable__control:checked~label.sk-toggleable__label-arrow:before {content: \"▾\";}#sk-container-id-1 div.sk-estimator input.sk-toggleable__control:checked~label.sk-toggleable__label {background-color: #d4ebff;}#sk-container-id-1 div.sk-label input.sk-toggleable__control:checked~label.sk-toggleable__label {background-color: #d4ebff;}#sk-container-id-1 input.sk-hidden--visually {border: 0;clip: rect(1px 1px 1px 1px);clip: rect(1px, 1px, 1px, 1px);height: 1px;margin: -1px;overflow: hidden;padding: 0;position: absolute;width: 1px;}#sk-container-id-1 div.sk-estimator {font-family: monospace;background-color: #f0f8ff;border: 1px dotted black;border-radius: 0.25em;box-sizing: border-box;margin-bottom: 0.5em;}#sk-container-id-1 div.sk-estimator:hover {background-color: #d4ebff;}#sk-container-id-1 div.sk-parallel-item::after {content: \"\";width: 100%;border-bottom: 1px solid gray;flex-grow: 1;}#sk-container-id-1 div.sk-label:hover label.sk-toggleable__label {background-color: #d4ebff;}#sk-container-id-1 div.sk-serial::before {content: \"\";position: absolute;border-left: 1px solid gray;box-sizing: border-box;top: 0;bottom: 0;left: 50%;z-index: 0;}#sk-container-id-1 div.sk-serial {display: flex;flex-direction: column;align-items: center;background-color: white;padding-right: 0.2em;padding-left: 0.2em;position: relative;}#sk-container-id-1 div.sk-item {position: relative;z-index: 1;}#sk-container-id-1 div.sk-parallel {display: flex;align-items: stretch;justify-content: center;background-color: white;position: relative;}#sk-container-id-1 div.sk-item::before, #sk-container-id-1 div.sk-parallel-item::before {content: \"\";position: absolute;border-left: 1px solid gray;box-sizing: border-box;top: 0;bottom: 0;left: 50%;z-index: -1;}#sk-container-id-1 div.sk-parallel-item {display: flex;flex-direction: column;z-index: 1;position: relative;background-color: white;}#sk-container-id-1 div.sk-parallel-item:first-child::after {align-self: flex-end;width: 50%;}#sk-container-id-1 div.sk-parallel-item:last-child::after {align-self: flex-start;width: 50%;}#sk-container-id-1 div.sk-parallel-item:only-child::after {width: 0;}#sk-container-id-1 div.sk-dashed-wrapped {border: 1px dashed gray;margin: 0 0.4em 0.5em 0.4em;box-sizing: border-box;padding-bottom: 0.4em;background-color: white;}#sk-container-id-1 div.sk-label label {font-family: monospace;font-weight: bold;display: inline-block;line-height: 1.2em;}#sk-container-id-1 div.sk-label-container {text-align: center;}#sk-container-id-1 div.sk-container {/* jupyter's `normalize.less` sets `[hidden] { display: none; }` but bootstrap.min.css set `[hidden] { display: none !important; }` so we also need the `!important` here to be able to override the default hidden behavior on the sphinx rendered scikit-learn.org. See: https://github.com/scikit-learn/scikit-learn/issues/21755 */display: inline-block !important;position: relative;}#sk-container-id-1 div.sk-text-repr-fallback {display: none;}</style><div id=\"sk-container-id-1\" class=\"sk-top-container\"><div class=\"sk-text-repr-fallback\"><pre>LinearRegression()</pre><b>In a Jupyter environment, please rerun this cell to show the HTML representation or trust the notebook. <br />On GitHub, the HTML representation is unable to render, please try loading this page with nbviewer.org.</b></div><div class=\"sk-container\" hidden><div class=\"sk-item\"><div class=\"sk-estimator sk-toggleable\"><input class=\"sk-toggleable__control sk-hidden--visually\" id=\"sk-estimator-id-1\" type=\"checkbox\" checked><label for=\"sk-estimator-id-1\" class=\"sk-toggleable__label sk-toggleable__label-arrow\">LinearRegression</label><div class=\"sk-toggleable__content\"><pre>LinearRegression()</pre></div></div></div></div></div>"
      ],
      "text/plain": [
       "LinearRegression()"
      ]
     },
     "execution_count": 18,
     "metadata": {},
     "output_type": "execute_result"
    }
   ],
   "source": [
    "slr2 = LinearRegression(copy_X=True)\n",
    "slr2.fit(Xs_train, ys_train)"
   ]
  },
  {
   "cell_type": "code",
   "execution_count": 19,
   "id": "60dbce4e",
   "metadata": {},
   "outputs": [
    {
     "name": "stdout",
     "output_type": "stream",
     "text": [
      "Working on event 100\n",
      "Working on event 200\n",
      "Working on event 300\n"
     ]
    }
   ],
   "source": [
    "# Now we set up the testing data\n",
    "df_test = pd.DataFrame(columns=[i for i in range(0, num_sensors)]+['az','ze'])\n",
    "\n",
    "count = 0\n",
    "\n",
    "for index in test_indices[:300]:\n",
    "    event = batch1.loc[index]\n",
    "\n",
    "    sensors = event.sensor_id.values\n",
    "\n",
    "    for sensor in sensors:\n",
    "        df_test.loc[index,sensor] = 1\n",
    "    \n",
    "    az, ze = meta_batch1.loc[index,['azimuth','zenith']].values\n",
    "    df_test.loc[index,'az'] = az\n",
    "    df_test.loc[index,'ze'] = ze\n",
    "\n",
    "    count = count + 1\n",
    "    if count % 100 == 0:\n",
    "        print(\"Working on event\", count)\n",
    "\n",
    "df_test.fillna(0, inplace=True)\n",
    "\n",
    "Xs_test = df_test[range(0,num_sensors)]\n",
    "ys_test = df_test[['az','ze']]"
   ]
  },
  {
   "cell_type": "code",
   "execution_count": 20,
   "id": "b16149a3",
   "metadata": {},
   "outputs": [
    {
     "data": {
      "text/plain": [
       "array([[ 3.7584406 ,  1.38591386],\n",
       "       [ 0.93770954,  1.10396083],\n",
       "       [ 4.75752019,  0.91810188],\n",
       "       [ 4.26397059,  1.08561153],\n",
       "       [ 4.79136348,  1.72646885],\n",
       "       [ 2.80571476,  1.6763304 ],\n",
       "       [ 3.19038151,  1.13495321],\n",
       "       [ 2.44321865,  2.10253234],\n",
       "       [ 3.80568447,  1.75455573],\n",
       "       [ 3.35174696,  1.70141403],\n",
       "       [ 3.375917  ,  1.41960598],\n",
       "       [ 0.1256769 ,  1.23073215],\n",
       "       [ 2.41610337,  1.51902429],\n",
       "       [ 4.22550394,  2.09272606],\n",
       "       [ 4.58881738,  0.94026285],\n",
       "       [ 2.33853783,  1.69719775],\n",
       "       [ 5.04076333,  1.97699137],\n",
       "       [ 4.9628013 ,  1.98930894],\n",
       "       [ 4.48895259,  0.9515598 ],\n",
       "       [ 3.88960851,  1.62627877],\n",
       "       [ 4.23603269,  1.4198982 ],\n",
       "       [ 3.80046778,  1.66372024],\n",
       "       [ 3.5151331 ,  1.45436096],\n",
       "       [ 3.08917254,  1.3391126 ],\n",
       "       [ 2.38480371,  1.90618564],\n",
       "       [ 3.05241363,  1.0169507 ],\n",
       "       [ 2.55503065,  2.40361124],\n",
       "       [ 3.82013862,  1.44393475],\n",
       "       [ 4.83033551,  1.08692739],\n",
       "       [ 5.50648551,  2.12840415],\n",
       "       [ 3.02666712,  1.44617169],\n",
       "       [ 3.22284318,  0.88146036],\n",
       "       [ 2.58592511,  1.15545981],\n",
       "       [ 4.0207673 ,  1.36664699],\n",
       "       [ 3.65948859,  1.71476702],\n",
       "       [ 2.96693236,  1.5448165 ],\n",
       "       [ 4.83754922,  1.35008627],\n",
       "       [ 1.40724007,  1.77698861],\n",
       "       [ 3.68723045,  1.88976423],\n",
       "       [ 1.66640362,  1.7337174 ],\n",
       "       [ 2.54302929,  1.17659272],\n",
       "       [ 2.12906349,  1.1952386 ],\n",
       "       [ 3.43862572,  1.16727965],\n",
       "       [ 2.59193055,  2.09386838],\n",
       "       [ 2.64483932,  1.43612801],\n",
       "       [ 1.77963487,  1.30906331],\n",
       "       [ 2.45357257,  1.17940394],\n",
       "       [ 3.49415877,  1.42745091],\n",
       "       [ 4.86985597,  1.90719192],\n",
       "       [ 2.15953615,  1.6091495 ],\n",
       "       [ 2.12819998,  1.36905977],\n",
       "       [ 4.23759675,  1.90536506],\n",
       "       [ 1.98006002,  1.35217225],\n",
       "       [ 2.19287196,  2.20503144],\n",
       "       [ 3.58695087,  1.82322821],\n",
       "       [ 4.23874668,  1.998799  ],\n",
       "       [ 2.548075  ,  1.61158053],\n",
       "       [ 4.12334082,  1.70075825],\n",
       "       [ 4.6071889 ,  1.98185285],\n",
       "       [ 3.76102122,  1.09604194],\n",
       "       [ 3.18828934,  1.69807161],\n",
       "       [ 3.16056653,  1.69372362],\n",
       "       [ 2.56740045,  0.71981496],\n",
       "       [ 2.46977393,  1.641599  ],\n",
       "       [ 2.22193583,  1.54333855],\n",
       "       [ 3.19053052,  0.92405315],\n",
       "       [ 4.2292384 ,  0.7236112 ],\n",
       "       [ 3.928543  ,  2.42854032],\n",
       "       [ 4.15413727,  1.99249179],\n",
       "       [ 2.49816914,  1.17157488],\n",
       "       [ 4.3501189 ,  1.81197533],\n",
       "       [ 6.10135446,  1.86622073],\n",
       "       [ 3.68594522,  0.24776204],\n",
       "       [ 3.49255135,  1.47397008],\n",
       "       [ 4.15674733,  2.17182269],\n",
       "       [ 2.06474888,  1.25992809],\n",
       "       [ 5.19335284,  2.08014332],\n",
       "       [ 3.89122823,  2.09772637],\n",
       "       [ 3.71663856,  1.34352962],\n",
       "       [ 2.49201242,  1.21235141],\n",
       "       [ 3.27720048,  1.81402864],\n",
       "       [ 0.94452937,  1.505099  ],\n",
       "       [ 3.60466461,  1.5502512 ],\n",
       "       [ 4.73053091,  1.60106643],\n",
       "       [ 3.17813633,  1.17694663],\n",
       "       [ 2.27907387,  1.42633838],\n",
       "       [ 2.99035265,  1.32446996],\n",
       "       [ 3.92068771,  1.40346047],\n",
       "       [ 2.91603961,  1.39073726],\n",
       "       [ 2.81748951,  1.1719225 ],\n",
       "       [ 2.01354524,  1.87399006],\n",
       "       [ 3.99295859,  1.1852904 ],\n",
       "       [ 1.21458044,  1.15530414],\n",
       "       [ 4.90839638,  1.70307401],\n",
       "       [ 1.32184079,  2.18789555],\n",
       "       [ 3.48866513,  1.53795788],\n",
       "       [ 4.77645039,  1.17160027],\n",
       "       [ 4.93510099,  1.31983936],\n",
       "       [ 3.16960465,  1.97175849],\n",
       "       [ 3.34948354,  1.51969581],\n",
       "       [ 3.88826621,  1.75664545],\n",
       "       [ 3.16458346,  1.82047055],\n",
       "       [ 4.09073232,  1.59907375],\n",
       "       [ 2.11094731,  0.99268358],\n",
       "       [ 1.84871357,  1.30562708],\n",
       "       [ 3.00069838,  1.32052624],\n",
       "       [ 3.26959631,  1.5349567 ],\n",
       "       [ 3.69566552,  1.36119607],\n",
       "       [ 1.87201174,  1.38644067],\n",
       "       [ 5.7498494 ,  1.54141907],\n",
       "       [ 3.6131872 ,  2.03776142],\n",
       "       [ 2.92482094, -0.24162285],\n",
       "       [ 3.6253662 ,  1.84164876],\n",
       "       [ 2.71032227,  1.60890255],\n",
       "       [ 2.52585622,  2.01979235],\n",
       "       [ 3.76243587,  1.65410618],\n",
       "       [ 3.26421143,  1.65072365],\n",
       "       [ 2.70717242,  1.62182521],\n",
       "       [ 1.6881575 ,  1.75432148],\n",
       "       [ 3.12291493,  2.08025904],\n",
       "       [ 2.34862516,  1.53767864],\n",
       "       [ 2.28420716,  1.59806899],\n",
       "       [ 1.88969434,  0.88001671],\n",
       "       [ 3.47889882,  1.88534891],\n",
       "       [ 3.27255269,  2.16291453],\n",
       "       [ 2.50298072,  2.0246792 ],\n",
       "       [ 3.72631059,  1.42730753],\n",
       "       [ 3.29788771,  1.2735278 ],\n",
       "       [ 3.12635891,  1.15749764],\n",
       "       [ 1.72490854,  1.18953449],\n",
       "       [ 3.5178819 ,  1.56719078],\n",
       "       [ 3.41075568,  1.41176263],\n",
       "       [ 2.14223103,  0.69015965],\n",
       "       [ 2.1882327 ,  1.27538597],\n",
       "       [ 2.63273042,  1.62574521],\n",
       "       [ 4.12921302,  1.62732998],\n",
       "       [ 3.58874249,  1.92006215],\n",
       "       [ 3.14628178,  1.7629726 ],\n",
       "       [ 4.43407184,  1.61806598],\n",
       "       [ 2.213497  ,  1.86496542],\n",
       "       [ 1.95893357,  0.91904954],\n",
       "       [ 1.76129608,  1.75658181],\n",
       "       [ 2.99096817,  1.80328267],\n",
       "       [ 1.4916788 ,  0.94503146],\n",
       "       [ 2.49511676,  1.06312808],\n",
       "       [ 2.43931621,  1.28322603],\n",
       "       [ 4.56214693,  1.78076721],\n",
       "       [ 3.4320854 ,  1.22803247],\n",
       "       [ 5.05193179,  2.10590838],\n",
       "       [ 5.8885007 ,  1.95511654],\n",
       "       [ 2.58469898,  2.23077842],\n",
       "       [ 2.39441078,  0.63868181],\n",
       "       [ 2.34757495,  1.12109912],\n",
       "       [ 2.02267401,  0.51973914],\n",
       "       [ 2.41756159,  1.87218201],\n",
       "       [ 2.97684581,  1.4150595 ],\n",
       "       [ 3.40215308,  1.38525321],\n",
       "       [ 5.15324107,  1.42382061],\n",
       "       [ 2.70300654,  1.48810467],\n",
       "       [ 4.55207054,  1.7085782 ],\n",
       "       [ 3.29647446,  1.15034397],\n",
       "       [ 2.84164865,  1.70807125],\n",
       "       [ 2.06838499,  1.68726267],\n",
       "       [ 3.82906033,  1.6420629 ],\n",
       "       [ 2.46457821,  1.58367207],\n",
       "       [ 4.47283212,  1.98484745],\n",
       "       [ 4.96425951,  1.44820304],\n",
       "       [ 3.43626993,  1.01616065],\n",
       "       [ 3.13330651,  2.12355828],\n",
       "       [ 3.53224375,  1.52235105],\n",
       "       [ 3.25246316,  1.29214708],\n",
       "       [ 4.17033083,  1.52321551],\n",
       "       [ 1.24141628,  1.00348956],\n",
       "       [ 2.06447247,  1.55424323],\n",
       "       [ 3.35222221,  1.47736056],\n",
       "       [ 2.14550985,  1.66344504],\n",
       "       [ 2.34984387,  0.65500721],\n",
       "       [ 3.06801159,  1.49009904],\n",
       "       [ 4.45296328, -0.02397486],\n",
       "       [ 4.05138381,  1.60210493],\n",
       "       [ 4.11218997,  1.74795856],\n",
       "       [ 2.07357823,  1.41766344],\n",
       "       [ 3.31821813,  1.95639394],\n",
       "       [ 2.68388833,  1.50732443],\n",
       "       [ 3.03799895,  1.34466821],\n",
       "       [ 2.78546386,  1.88753914],\n",
       "       [ 3.90321666,  2.15978483],\n",
       "       [ 3.16875712,  2.04345756],\n",
       "       [ 4.13907455,  1.47717023],\n",
       "       [ 3.42483899,  1.77500297],\n",
       "       [ 3.06174219,  1.5991155 ],\n",
       "       [ 2.84821964,  2.83003061],\n",
       "       [ 2.9408054 ,  1.4152587 ],\n",
       "       [ 3.62122256,  2.03138767],\n",
       "       [ 3.29248207,  2.09804819],\n",
       "       [ 2.74835001,  2.06968095],\n",
       "       [ 3.26768378,  1.70413758],\n",
       "       [ 5.79193482,  1.47778073],\n",
       "       [ 2.52840653,  1.23483996],\n",
       "       [ 3.05188517,  1.83218328],\n",
       "       [ 2.90800932,  1.57742323],\n",
       "       [ 3.49228383,  1.40396243],\n",
       "       [ 2.90323879,  0.85502144],\n",
       "       [ 3.2455644 ,  1.54141357],\n",
       "       [ 1.09116596,  2.15127735],\n",
       "       [ 1.35208755,  1.48952016],\n",
       "       [ 3.55223424,  1.73653524],\n",
       "       [ 5.67615293,  1.63155629],\n",
       "       [ 1.86732287,  1.06247848],\n",
       "       [ 2.50353511,  1.3831775 ],\n",
       "       [ 3.75484416,  1.10176717],\n",
       "       [ 2.83971022,  2.0682065 ],\n",
       "       [ 3.73673148,  1.63044589],\n",
       "       [ 4.10643427,  1.7031914 ],\n",
       "       [ 3.72532183,  1.45596124],\n",
       "       [ 0.18240233,  1.31047564],\n",
       "       [ 3.39781807,  1.66093507],\n",
       "       [ 3.63326483,  2.09817833],\n",
       "       [ 4.84757695,  1.36302644],\n",
       "       [ 1.5770585 ,  1.67396118],\n",
       "       [ 4.86039017,  1.5898556 ],\n",
       "       [ 3.16000259,  1.02895994],\n",
       "       [ 4.1999215 ,  0.88325579],\n",
       "       [ 3.37759064,  1.66359354],\n",
       "       [ 3.58218711,  0.88807375],\n",
       "       [ 2.88584746,  2.14606573],\n",
       "       [ 4.19243928,  1.69708839],\n",
       "       [ 5.05654733,  2.0162918 ],\n",
       "       [ 4.88710874,  1.38087589],\n",
       "       [ 3.30326275,  0.76002015],\n",
       "       [ 3.02513528,  1.36615065],\n",
       "       [ 2.5817121 ,  1.37042098],\n",
       "       [ 1.99839641,  0.9231423 ],\n",
       "       [ 2.14630271,  0.88925292],\n",
       "       [ 3.11881337,  1.29115609],\n",
       "       [ 3.41071694,  1.83328859],\n",
       "       [ 3.73107573,  1.51696379],\n",
       "       [ 3.45435041,  0.81035682],\n",
       "       [ 5.47473771,  2.48552237],\n",
       "       [ 2.64769303,  1.34929803],\n",
       "       [ 3.81321871,  1.80536085],\n",
       "       [ 2.55048684,  1.54230615],\n",
       "       [ 4.86452993,  2.28677095],\n",
       "       [ 3.31533533,  1.38945524],\n",
       "       [ 3.32046666,  1.65415593],\n",
       "       [ 3.34801022,  1.65542694],\n",
       "       [ 4.48142497,  1.32887303],\n",
       "       [ 3.47160979,  1.26330942],\n",
       "       [ 4.40095599,  2.10317235],\n",
       "       [ 4.6129707 ,  1.59329672],\n",
       "       [ 4.20436889,  1.22780999],\n",
       "       [ 2.54300406,  1.05306881],\n",
       "       [ 2.33245796,  1.35402015],\n",
       "       [ 4.09191202,  1.87769959],\n",
       "       [ 2.20344166,  1.4827717 ],\n",
       "       [ 3.85021374,  1.49713029],\n",
       "       [ 3.82165306,  0.84571224],\n",
       "       [ 3.2111968 ,  1.10866919],\n",
       "       [ 4.47358693,  1.93918962],\n",
       "       [ 3.23622979,  1.69011094],\n",
       "       [ 4.24111426,  1.73163822],\n",
       "       [ 4.22961953,  1.58752141],\n",
       "       [ 4.158771  ,  1.51145995],\n",
       "       [ 2.07900665,  1.71836453],\n",
       "       [ 3.59392714,  1.10570686],\n",
       "       [ 4.63754399,  1.76274262],\n",
       "       [ 2.82065138,  1.1797937 ],\n",
       "       [ 4.28606277,  2.3764964 ],\n",
       "       [ 5.10082547,  1.11422283],\n",
       "       [ 3.52986852,  1.52791219],\n",
       "       [ 3.07009942,  1.66064132],\n",
       "       [ 3.39265247,  1.36408127],\n",
       "       [ 3.05506707,  1.69076681],\n",
       "       [ 3.68421428,  1.74259401],\n",
       "       [ 3.78681886,  1.94945632],\n",
       "       [ 2.86804219,  1.5544706 ],\n",
       "       [ 2.66066073,  1.95996581],\n",
       "       [ 2.35637245,  1.5980165 ],\n",
       "       [ 2.00700871,  1.46249741],\n",
       "       [ 2.81686934,  1.44464188],\n",
       "       [ 1.03571392,  1.67136091],\n",
       "       [ 3.75770876,  2.17827078],\n",
       "       [ 3.68134536,  1.80896136],\n",
       "       [ 4.83644639,  1.66045262],\n",
       "       [ 4.93535381,  0.74148709],\n",
       "       [ 2.95526253,  1.18592375],\n",
       "       [ 3.60468913,  2.02622502],\n",
       "       [ 3.51053151,  1.47372216],\n",
       "       [ 3.98214077,  1.64932165],\n",
       "       [ 2.66568347,  1.45124033],\n",
       "       [ 3.25896605,  1.28313112],\n",
       "       [ 3.06760936,  1.27336741],\n",
       "       [ 3.83952884,  1.19375813],\n",
       "       [ 3.95364938,  1.6255176 ],\n",
       "       [ 3.37543825,  1.69749638],\n",
       "       [ 3.8499035 ,  1.27709386],\n",
       "       [ 3.05657634,  1.87778829],\n",
       "       [ 2.17916509,  1.8535088 ],\n",
       "       [ 1.99916677,  2.00178056],\n",
       "       [ 3.8846939 ,  1.29584236]])"
      ]
     },
     "execution_count": 20,
     "metadata": {},
     "output_type": "execute_result"
    }
   ],
   "source": [
    "slr2.predict(Xs_test)"
   ]
  },
  {
   "cell_type": "code",
   "execution_count": null,
   "id": "e8809bd1",
   "metadata": {},
   "outputs": [],
   "source": []
  }
 ],
 "metadata": {
  "kernelspec": {
   "display_name": "Python 3 (ipykernel)",
   "language": "python",
   "name": "python3"
  },
  "language_info": {
   "codemirror_mode": {
    "name": "ipython",
    "version": 3
   },
   "file_extension": ".py",
   "mimetype": "text/x-python",
   "name": "python",
   "nbconvert_exporter": "python",
   "pygments_lexer": "ipython3",
   "version": "3.11.4"
  }
 },
 "nbformat": 4,
 "nbformat_minor": 5
}
