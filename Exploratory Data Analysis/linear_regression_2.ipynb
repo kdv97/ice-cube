{
 "cells": [
  {
   "cell_type": "code",
   "execution_count": 27,
   "id": "ea4bc4f8",
   "metadata": {},
   "outputs": [],
   "source": [
    "from sklearn.linear_model import LinearRegression\n",
    "import numpy as np\n",
    "import pandas as pd"
   ]
  },
  {
   "cell_type": "code",
   "execution_count": 28,
   "id": "58c4505e",
   "metadata": {},
   "outputs": [],
   "source": [
    "def angular_dist_score(az_true, zen_true, az_pred, zen_pred):\n",
    "    '''\n",
    "    calculate the MAE of the angular distance between two directions.\n",
    "    The two vectors are first converted to cartesian unit vectors,\n",
    "    and then their scalar product is computed, which is equal to\n",
    "    the cosine of the angle between the two vectors. The inverse \n",
    "    cosine (arccos) thereof is then the angle between the two input vectors\n",
    "    \n",
    "    Parameters:\n",
    "    -----------\n",
    "    \n",
    "    az_true : float (or array thereof)\n",
    "        true azimuth value(s) in radian\n",
    "    zen_true : float (or array thereof)\n",
    "        true zenith value(s) in radian\n",
    "    az_pred : float (or array thereof)\n",
    "        predicted azimuth value(s) in radian\n",
    "    zen_pred : float (or array thereof)\n",
    "        predicted zenith value(s) in radian\n",
    "    \n",
    "    Returns:\n",
    "    --------\n",
    "    \n",
    "    dist : float\n",
    "        mean over the angular distance(s) in radian\n",
    "    '''\n",
    "    \n",
    "    if not (np.all(np.isfinite(az_true)) and\n",
    "            np.all(np.isfinite(zen_true)) and\n",
    "            np.all(np.isfinite(az_pred)) and\n",
    "            np.all(np.isfinite(zen_pred))):\n",
    "        raise ValueError(\"All arguments must be finite\")\n",
    "    \n",
    "    # pre-compute all sine and cosine values\n",
    "    sa1 = np.sin(az_true)\n",
    "    ca1 = np.cos(az_true)\n",
    "    sz1 = np.sin(zen_true)\n",
    "    cz1 = np.cos(zen_true)\n",
    "    \n",
    "    sa2 = np.sin(az_pred)\n",
    "    ca2 = np.cos(az_pred)\n",
    "    sz2 = np.sin(zen_pred)\n",
    "    cz2 = np.cos(zen_pred)\n",
    "    \n",
    "    # scalar product of the two cartesian vectors (x = sz*ca, y = sz*sa, z = cz)\n",
    "    scalar_prod = sz1*sz2*(ca1*ca2 + sa1*sa2) + (cz1*cz2)\n",
    "    \n",
    "    # scalar product of two unit vectors is always between -1 and 1, this is against nummerical instability\n",
    "    # that might otherwise occure from the finite precision of the sine and cosine functions\n",
    "    scalar_prod =  np.clip(scalar_prod, -1, 1)\n",
    "    \n",
    "    # convert back to an angle (in radian)\n",
    "    return np.average(np.abs(np.arccos(scalar_prod)))"
   ]
  },
  {
   "cell_type": "code",
   "execution_count": 29,
   "id": "7eb93da2",
   "metadata": {},
   "outputs": [],
   "source": [
    "# Importing data\n",
    "batch1 = pd.read_parquet('../batches_train/batch_1_repartitions/part.0.parquet')\n",
    "sensor_geom = pd.read_csv('../sensor_geometry.csv')"
   ]
  },
  {
   "cell_type": "code",
   "execution_count": 30,
   "id": "4e0d7fa3",
   "metadata": {},
   "outputs": [],
   "source": [
    "meta = pd.read_parquet('../batches_train/meta_1_0.parquet')"
   ]
  },
  {
   "cell_type": "code",
   "execution_count": 31,
   "id": "af11cae4",
   "metadata": {},
   "outputs": [],
   "source": [
    "event_ids = list(set(batch1.index))"
   ]
  },
  {
   "cell_type": "code",
   "execution_count": 32,
   "id": "c83fc54c",
   "metadata": {},
   "outputs": [],
   "source": [
    "# Part of meta that we need\n",
    "meta.set_index('event_id',\n",
    "                      inplace=True)\n",
    "meta.drop(['batch_id', 'first_pulse_index', 'last_pulse_index'], \n",
    "                 axis=1,\n",
    "                 inplace=True)"
   ]
  },
  {
   "cell_type": "code",
   "execution_count": 33,
   "id": "6083c418",
   "metadata": {},
   "outputs": [
    {
     "data": {
      "text/html": [
       "<div>\n",
       "<style scoped>\n",
       "    .dataframe tbody tr th:only-of-type {\n",
       "        vertical-align: middle;\n",
       "    }\n",
       "\n",
       "    .dataframe tbody tr th {\n",
       "        vertical-align: top;\n",
       "    }\n",
       "\n",
       "    .dataframe thead th {\n",
       "        text-align: right;\n",
       "    }\n",
       "</style>\n",
       "<table border=\"1\" class=\"dataframe\">\n",
       "  <thead>\n",
       "    <tr style=\"text-align: right;\">\n",
       "      <th></th>\n",
       "      <th>azimuth</th>\n",
       "      <th>zenith</th>\n",
       "    </tr>\n",
       "    <tr>\n",
       "      <th>event_id</th>\n",
       "      <th></th>\n",
       "      <th></th>\n",
       "    </tr>\n",
       "  </thead>\n",
       "  <tbody>\n",
       "    <tr>\n",
       "      <th>24</th>\n",
       "      <td>5.029555</td>\n",
       "      <td>2.087498</td>\n",
       "    </tr>\n",
       "    <tr>\n",
       "      <th>41</th>\n",
       "      <td>0.417742</td>\n",
       "      <td>1.549686</td>\n",
       "    </tr>\n",
       "    <tr>\n",
       "      <th>59</th>\n",
       "      <td>1.160466</td>\n",
       "      <td>2.401942</td>\n",
       "    </tr>\n",
       "    <tr>\n",
       "      <th>67</th>\n",
       "      <td>5.845952</td>\n",
       "      <td>0.759054</td>\n",
       "    </tr>\n",
       "    <tr>\n",
       "      <th>72</th>\n",
       "      <td>0.653719</td>\n",
       "      <td>0.939117</td>\n",
       "    </tr>\n",
       "  </tbody>\n",
       "</table>\n",
       "</div>"
      ],
      "text/plain": [
       "           azimuth    zenith\n",
       "event_id                    \n",
       "24        5.029555  2.087498\n",
       "41        0.417742  1.549686\n",
       "59        1.160466  2.401942\n",
       "67        5.845952  0.759054\n",
       "72        0.653719  0.939117"
      ]
     },
     "execution_count": 33,
     "metadata": {},
     "output_type": "execute_result"
    }
   ],
   "source": [
    "meta.head()"
   ]
  },
  {
   "cell_type": "code",
   "execution_count": 34,
   "id": "acde3230",
   "metadata": {},
   "outputs": [],
   "source": [
    "from sklearn.model_selection import train_test_split"
   ]
  },
  {
   "cell_type": "code",
   "execution_count": 35,
   "id": "a8d676ed",
   "metadata": {},
   "outputs": [],
   "source": [
    "train_indices, test_indices = train_test_split(event_ids,\n",
    "                                               shuffle=True,\n",
    "                                               random_state=123,\n",
    "                                               test_size=0.25)"
   ]
  },
  {
   "cell_type": "code",
   "execution_count": 36,
   "id": "ddc59c64",
   "metadata": {},
   "outputs": [],
   "source": [
    "num_sensors = 5160"
   ]
  },
  {
   "cell_type": "markdown",
   "id": "aed30ee2",
   "metadata": {},
   "source": [
    "### Training set"
   ]
  },
  {
   "cell_type": "code",
   "execution_count": 37,
   "id": "b5513547",
   "metadata": {},
   "outputs": [],
   "source": [
    "df1_train = pd.DataFrame(columns=[i for i in range(0, num_sensors)]+['az','ze'])"
   ]
  },
  {
   "cell_type": "code",
   "execution_count": 38,
   "id": "0bbdd1d9",
   "metadata": {},
   "outputs": [
    {
     "name": "stdout",
     "output_type": "stream",
     "text": [
      "Working on event 100\n",
      "Working on event 200\n",
      "Working on event 300\n",
      "Working on event 400\n",
      "Working on event 500\n",
      "Working on event 600\n",
      "Working on event 700\n",
      "Working on event 800\n",
      "Working on event 900\n",
      "Working on event 1000\n",
      "CPU times: total: 16.8 s\n",
      "Wall time: 46.7 s\n"
     ]
    }
   ],
   "source": [
    "%%time\n",
    "\n",
    "# Now we generate feature data from the raw data\n",
    "# We use aux = False only here\n",
    "count = 0\n",
    "\n",
    "batch1_no_aux = batch1[batch1.auxiliary==False]\n",
    "\n",
    "for index in train_indices[:1000]:\n",
    "    event = batch1_no_aux.loc[index]\n",
    "\n",
    "    sensors = event.sensor_id.values\n",
    "\n",
    "    for sensor in sensors:\n",
    "        df1_train.loc[index,sensor] = 1\n",
    "    \n",
    "    az, ze = meta.loc[index,['azimuth','zenith']].values\n",
    "    df1_train.loc[index,'az'] = az\n",
    "    df1_train.loc[index,'ze'] = ze\n",
    "\n",
    "    count = count + 1\n",
    "    if count % 100 == 0:\n",
    "        print(\"Working on event\", count)\n",
    "        \n",
    "df1_train.fillna(0, inplace=True)"
   ]
  },
  {
   "cell_type": "code",
   "execution_count": 39,
   "id": "98631f28",
   "metadata": {
    "scrolled": true
   },
   "outputs": [
    {
     "data": {
      "text/html": [
       "<div>\n",
       "<style scoped>\n",
       "    .dataframe tbody tr th:only-of-type {\n",
       "        vertical-align: middle;\n",
       "    }\n",
       "\n",
       "    .dataframe tbody tr th {\n",
       "        vertical-align: top;\n",
       "    }\n",
       "\n",
       "    .dataframe thead th {\n",
       "        text-align: right;\n",
       "    }\n",
       "</style>\n",
       "<table border=\"1\" class=\"dataframe\">\n",
       "  <thead>\n",
       "    <tr style=\"text-align: right;\">\n",
       "      <th></th>\n",
       "      <th>0</th>\n",
       "      <th>1</th>\n",
       "      <th>2</th>\n",
       "      <th>3</th>\n",
       "      <th>4</th>\n",
       "      <th>5</th>\n",
       "      <th>6</th>\n",
       "      <th>7</th>\n",
       "      <th>8</th>\n",
       "      <th>9</th>\n",
       "      <th>...</th>\n",
       "      <th>5152</th>\n",
       "      <th>5153</th>\n",
       "      <th>5154</th>\n",
       "      <th>5155</th>\n",
       "      <th>5156</th>\n",
       "      <th>5157</th>\n",
       "      <th>5158</th>\n",
       "      <th>5159</th>\n",
       "      <th>az</th>\n",
       "      <th>ze</th>\n",
       "    </tr>\n",
       "  </thead>\n",
       "  <tbody>\n",
       "    <tr>\n",
       "      <th>1023496</th>\n",
       "      <td>0</td>\n",
       "      <td>0</td>\n",
       "      <td>0</td>\n",
       "      <td>0</td>\n",
       "      <td>0</td>\n",
       "      <td>0</td>\n",
       "      <td>0</td>\n",
       "      <td>0</td>\n",
       "      <td>0</td>\n",
       "      <td>0</td>\n",
       "      <td>...</td>\n",
       "      <td>0</td>\n",
       "      <td>0</td>\n",
       "      <td>0</td>\n",
       "      <td>0</td>\n",
       "      <td>0</td>\n",
       "      <td>0</td>\n",
       "      <td>0</td>\n",
       "      <td>0</td>\n",
       "      <td>2.248502</td>\n",
       "      <td>0.432784</td>\n",
       "    </tr>\n",
       "    <tr>\n",
       "      <th>681492</th>\n",
       "      <td>0</td>\n",
       "      <td>0</td>\n",
       "      <td>0</td>\n",
       "      <td>0</td>\n",
       "      <td>0</td>\n",
       "      <td>0</td>\n",
       "      <td>0</td>\n",
       "      <td>0</td>\n",
       "      <td>0</td>\n",
       "      <td>0</td>\n",
       "      <td>...</td>\n",
       "      <td>0</td>\n",
       "      <td>0</td>\n",
       "      <td>0</td>\n",
       "      <td>0</td>\n",
       "      <td>0</td>\n",
       "      <td>0</td>\n",
       "      <td>0</td>\n",
       "      <td>0</td>\n",
       "      <td>3.299984</td>\n",
       "      <td>2.809545</td>\n",
       "    </tr>\n",
       "    <tr>\n",
       "      <th>38448</th>\n",
       "      <td>0</td>\n",
       "      <td>0</td>\n",
       "      <td>0</td>\n",
       "      <td>0</td>\n",
       "      <td>0</td>\n",
       "      <td>0</td>\n",
       "      <td>0</td>\n",
       "      <td>0</td>\n",
       "      <td>0</td>\n",
       "      <td>0</td>\n",
       "      <td>...</td>\n",
       "      <td>0</td>\n",
       "      <td>0</td>\n",
       "      <td>0</td>\n",
       "      <td>0</td>\n",
       "      <td>0</td>\n",
       "      <td>0</td>\n",
       "      <td>0</td>\n",
       "      <td>0</td>\n",
       "      <td>5.291643</td>\n",
       "      <td>0.989836</td>\n",
       "    </tr>\n",
       "    <tr>\n",
       "      <th>892244</th>\n",
       "      <td>0</td>\n",
       "      <td>0</td>\n",
       "      <td>0</td>\n",
       "      <td>0</td>\n",
       "      <td>0</td>\n",
       "      <td>0</td>\n",
       "      <td>0</td>\n",
       "      <td>0</td>\n",
       "      <td>0</td>\n",
       "      <td>0</td>\n",
       "      <td>...</td>\n",
       "      <td>0</td>\n",
       "      <td>0</td>\n",
       "      <td>0</td>\n",
       "      <td>0</td>\n",
       "      <td>0</td>\n",
       "      <td>0</td>\n",
       "      <td>0</td>\n",
       "      <td>0</td>\n",
       "      <td>0.758019</td>\n",
       "      <td>2.730688</td>\n",
       "    </tr>\n",
       "    <tr>\n",
       "      <th>717306</th>\n",
       "      <td>0</td>\n",
       "      <td>0</td>\n",
       "      <td>0</td>\n",
       "      <td>0</td>\n",
       "      <td>0</td>\n",
       "      <td>0</td>\n",
       "      <td>0</td>\n",
       "      <td>0</td>\n",
       "      <td>0</td>\n",
       "      <td>0</td>\n",
       "      <td>...</td>\n",
       "      <td>0</td>\n",
       "      <td>0</td>\n",
       "      <td>0</td>\n",
       "      <td>0</td>\n",
       "      <td>0</td>\n",
       "      <td>0</td>\n",
       "      <td>0</td>\n",
       "      <td>0</td>\n",
       "      <td>3.283212</td>\n",
       "      <td>0.080609</td>\n",
       "    </tr>\n",
       "  </tbody>\n",
       "</table>\n",
       "<p>5 rows × 5162 columns</p>\n",
       "</div>"
      ],
      "text/plain": [
       "         0  1  2  3  4  5  6  7  8  9  ...  5152  5153  5154  5155  5156  \\\n",
       "1023496  0  0  0  0  0  0  0  0  0  0  ...     0     0     0     0     0   \n",
       "681492   0  0  0  0  0  0  0  0  0  0  ...     0     0     0     0     0   \n",
       "38448    0  0  0  0  0  0  0  0  0  0  ...     0     0     0     0     0   \n",
       "892244   0  0  0  0  0  0  0  0  0  0  ...     0     0     0     0     0   \n",
       "717306   0  0  0  0  0  0  0  0  0  0  ...     0     0     0     0     0   \n",
       "\n",
       "         5157  5158  5159        az        ze  \n",
       "1023496     0     0     0  2.248502  0.432784  \n",
       "681492      0     0     0  3.299984  2.809545  \n",
       "38448       0     0     0  5.291643  0.989836  \n",
       "892244      0     0     0  0.758019  2.730688  \n",
       "717306      0     0     0  3.283212  0.080609  \n",
       "\n",
       "[5 rows x 5162 columns]"
      ]
     },
     "execution_count": 39,
     "metadata": {},
     "output_type": "execute_result"
    }
   ],
   "source": [
    "# This is the DataFrame that represents our training data\n",
    "df1_train.head()"
   ]
  },
  {
   "cell_type": "markdown",
   "id": "f3156ded",
   "metadata": {},
   "source": [
    "### Testing set"
   ]
  },
  {
   "cell_type": "code",
   "execution_count": 40,
   "id": "4630f04c",
   "metadata": {},
   "outputs": [
    {
     "name": "stdout",
     "output_type": "stream",
     "text": [
      "Working on event 100\n",
      "Working on event 200\n",
      "Working on event 300\n"
     ]
    }
   ],
   "source": [
    "# Now we set up the testing data\n",
    "df1_test = pd.DataFrame(columns=[i for i in range(0, num_sensors)]+['az','ze'])\n",
    "\n",
    "count = 0\n",
    "\n",
    "batch1_no_aux = batch1[batch1.auxiliary==False]\n",
    "\n",
    "for index in test_indices[:300]:\n",
    "    event = batch1_no_aux.loc[index]\n",
    "\n",
    "    sensors = event.sensor_id.values\n",
    "\n",
    "    for sensor in sensors:\n",
    "        df1_test.loc[index,sensor] = 1\n",
    "    \n",
    "    az, ze = meta.loc[index,['azimuth','zenith']].values\n",
    "    df1_test.loc[index,'az'] = az\n",
    "    df1_test.loc[index,'ze'] = ze\n",
    "\n",
    "    count = count + 1\n",
    "    if count % 100 == 0:\n",
    "        print(\"Working on event\", count)\n",
    "\n",
    "df1_test.fillna(0, inplace=True)"
   ]
  },
  {
   "cell_type": "markdown",
   "id": "a6952bb6",
   "metadata": {},
   "source": [
    "### Fitting"
   ]
  },
  {
   "cell_type": "code",
   "execution_count": 41,
   "id": "989252a3",
   "metadata": {},
   "outputs": [],
   "source": [
    "X1_train = df1_train[range(0,num_sensors)]\n",
    "y1_train = df1_train[['az','ze']]"
   ]
  },
  {
   "cell_type": "code",
   "execution_count": 42,
   "id": "1a24f18d",
   "metadata": {},
   "outputs": [],
   "source": [
    "X1_test = df1_test[range(0,num_sensors)]\n",
    "y1_test = df1_test[['az','ze']]"
   ]
  },
  {
   "cell_type": "code",
   "execution_count": 43,
   "id": "8312ad41",
   "metadata": {},
   "outputs": [],
   "source": [
    "slr1 = LinearRegression(copy_X=True)"
   ]
  },
  {
   "cell_type": "code",
   "execution_count": 44,
   "id": "60fb39b4",
   "metadata": {},
   "outputs": [
    {
     "data": {
      "text/html": [
       "<style>#sk-container-id-2 {color: black;}#sk-container-id-2 pre{padding: 0;}#sk-container-id-2 div.sk-toggleable {background-color: white;}#sk-container-id-2 label.sk-toggleable__label {cursor: pointer;display: block;width: 100%;margin-bottom: 0;padding: 0.3em;box-sizing: border-box;text-align: center;}#sk-container-id-2 label.sk-toggleable__label-arrow:before {content: \"▸\";float: left;margin-right: 0.25em;color: #696969;}#sk-container-id-2 label.sk-toggleable__label-arrow:hover:before {color: black;}#sk-container-id-2 div.sk-estimator:hover label.sk-toggleable__label-arrow:before {color: black;}#sk-container-id-2 div.sk-toggleable__content {max-height: 0;max-width: 0;overflow: hidden;text-align: left;background-color: #f0f8ff;}#sk-container-id-2 div.sk-toggleable__content pre {margin: 0.2em;color: black;border-radius: 0.25em;background-color: #f0f8ff;}#sk-container-id-2 input.sk-toggleable__control:checked~div.sk-toggleable__content {max-height: 200px;max-width: 100%;overflow: auto;}#sk-container-id-2 input.sk-toggleable__control:checked~label.sk-toggleable__label-arrow:before {content: \"▾\";}#sk-container-id-2 div.sk-estimator input.sk-toggleable__control:checked~label.sk-toggleable__label {background-color: #d4ebff;}#sk-container-id-2 div.sk-label input.sk-toggleable__control:checked~label.sk-toggleable__label {background-color: #d4ebff;}#sk-container-id-2 input.sk-hidden--visually {border: 0;clip: rect(1px 1px 1px 1px);clip: rect(1px, 1px, 1px, 1px);height: 1px;margin: -1px;overflow: hidden;padding: 0;position: absolute;width: 1px;}#sk-container-id-2 div.sk-estimator {font-family: monospace;background-color: #f0f8ff;border: 1px dotted black;border-radius: 0.25em;box-sizing: border-box;margin-bottom: 0.5em;}#sk-container-id-2 div.sk-estimator:hover {background-color: #d4ebff;}#sk-container-id-2 div.sk-parallel-item::after {content: \"\";width: 100%;border-bottom: 1px solid gray;flex-grow: 1;}#sk-container-id-2 div.sk-label:hover label.sk-toggleable__label {background-color: #d4ebff;}#sk-container-id-2 div.sk-serial::before {content: \"\";position: absolute;border-left: 1px solid gray;box-sizing: border-box;top: 0;bottom: 0;left: 50%;z-index: 0;}#sk-container-id-2 div.sk-serial {display: flex;flex-direction: column;align-items: center;background-color: white;padding-right: 0.2em;padding-left: 0.2em;position: relative;}#sk-container-id-2 div.sk-item {position: relative;z-index: 1;}#sk-container-id-2 div.sk-parallel {display: flex;align-items: stretch;justify-content: center;background-color: white;position: relative;}#sk-container-id-2 div.sk-item::before, #sk-container-id-2 div.sk-parallel-item::before {content: \"\";position: absolute;border-left: 1px solid gray;box-sizing: border-box;top: 0;bottom: 0;left: 50%;z-index: -1;}#sk-container-id-2 div.sk-parallel-item {display: flex;flex-direction: column;z-index: 1;position: relative;background-color: white;}#sk-container-id-2 div.sk-parallel-item:first-child::after {align-self: flex-end;width: 50%;}#sk-container-id-2 div.sk-parallel-item:last-child::after {align-self: flex-start;width: 50%;}#sk-container-id-2 div.sk-parallel-item:only-child::after {width: 0;}#sk-container-id-2 div.sk-dashed-wrapped {border: 1px dashed gray;margin: 0 0.4em 0.5em 0.4em;box-sizing: border-box;padding-bottom: 0.4em;background-color: white;}#sk-container-id-2 div.sk-label label {font-family: monospace;font-weight: bold;display: inline-block;line-height: 1.2em;}#sk-container-id-2 div.sk-label-container {text-align: center;}#sk-container-id-2 div.sk-container {/* jupyter's `normalize.less` sets `[hidden] { display: none; }` but bootstrap.min.css set `[hidden] { display: none !important; }` so we also need the `!important` here to be able to override the default hidden behavior on the sphinx rendered scikit-learn.org. See: https://github.com/scikit-learn/scikit-learn/issues/21755 */display: inline-block !important;position: relative;}#sk-container-id-2 div.sk-text-repr-fallback {display: none;}</style><div id=\"sk-container-id-2\" class=\"sk-top-container\"><div class=\"sk-text-repr-fallback\"><pre>LinearRegression()</pre><b>In a Jupyter environment, please rerun this cell to show the HTML representation or trust the notebook. <br />On GitHub, the HTML representation is unable to render, please try loading this page with nbviewer.org.</b></div><div class=\"sk-container\" hidden><div class=\"sk-item\"><div class=\"sk-estimator sk-toggleable\"><input class=\"sk-toggleable__control sk-hidden--visually\" id=\"sk-estimator-id-2\" type=\"checkbox\" checked><label for=\"sk-estimator-id-2\" class=\"sk-toggleable__label sk-toggleable__label-arrow\">LinearRegression</label><div class=\"sk-toggleable__content\"><pre>LinearRegression()</pre></div></div></div></div></div>"
      ],
      "text/plain": [
       "LinearRegression()"
      ]
     },
     "execution_count": 44,
     "metadata": {},
     "output_type": "execute_result"
    }
   ],
   "source": [
    "slr1.fit(X1_train.values, y1_train.values)"
   ]
  },
  {
   "cell_type": "markdown",
   "id": "827c07cf",
   "metadata": {},
   "source": [
    "### Baseline model\n",
    "\n",
    "This model just \"trains\" by computing the mean of the output azimuth and zenith and predicts these numbers always"
   ]
  },
  {
   "cell_type": "code",
   "execution_count": 45,
   "id": "7ea27db1",
   "metadata": {},
   "outputs": [],
   "source": [
    "train_mean = np.mean(y1_train.values, axis=0)"
   ]
  },
  {
   "cell_type": "code",
   "execution_count": 46,
   "id": "b2246874",
   "metadata": {},
   "outputs": [
    {
     "data": {
      "text/plain": [
       "array([3.33623343, 1.52299244])"
      ]
     },
     "execution_count": 46,
     "metadata": {},
     "output_type": "execute_result"
    }
   ],
   "source": [
    "train_mean"
   ]
  },
  {
   "cell_type": "code",
   "execution_count": 47,
   "id": "a359206a",
   "metadata": {},
   "outputs": [],
   "source": [
    "baseline_pred_az = train_mean[0]*np.ones(len(y1_test))\n",
    "baseline_pred_ze = train_mean[1]*np.ones(len(y1_test))"
   ]
  },
  {
   "cell_type": "code",
   "execution_count": 48,
   "id": "42d02bd6",
   "metadata": {},
   "outputs": [
    {
     "name": "stdout",
     "output_type": "stream",
     "text": [
      "The angular distance score for the baseline model is 1.5288671288320204\n"
     ]
    }
   ],
   "source": [
    "baseline_error = angular_dist_score(y1_test['az'].values,\n",
    "                                    y1_test['ze'].values,\n",
    "                                    baseline_pred_az,\n",
    "                                    baseline_pred_ze)\n",
    "\n",
    "print(\"The angular distance score for the baseline model is\", baseline_error)"
   ]
  },
  {
   "cell_type": "markdown",
   "id": "5b05732b",
   "metadata": {},
   "source": [
    "So the baseline model is accurate up to basically $\\pi/2$ radians, i.e. statistically speaking the true direction will be in the same hemisphere that the baseline model guesses."
   ]
  },
  {
   "cell_type": "markdown",
   "id": "5533b2fa",
   "metadata": {},
   "source": [
    "### Model 1\n",
    "\n",
    "This model just puts a 1 in a sensor where it went off for that event, and a 0 in the sensors that didn't go off"
   ]
  },
  {
   "cell_type": "code",
   "execution_count": 49,
   "id": "bd23533a",
   "metadata": {},
   "outputs": [
    {
     "name": "stdout",
     "output_type": "stream",
     "text": [
      "The angular distance score for model 1 is 1.5847234132004213\n"
     ]
    }
   ],
   "source": [
    "az_pred_1 = slr1.predict(X1_test.values)[:,0]\n",
    "ze_pred_1 = slr1.predict(X1_test.values)[:,1]\n",
    "\n",
    "model_1_error = angular_dist_score(y1_test['az'].values,\n",
    "                                   y1_test['ze'].values,\n",
    "                                   az_pred_1,\n",
    "                                   ze_pred_1)\n",
    "\n",
    "print(\"The angular distance score for model 1 is\", model_1_error)"
   ]
  },
  {
   "cell_type": "markdown",
   "id": "15da8a02",
   "metadata": {},
   "source": [
    "### Model 2\n",
    "\n",
    "This model includes aux = True"
   ]
  },
  {
   "cell_type": "code",
   "execution_count": 50,
   "id": "41cfaa05",
   "metadata": {},
   "outputs": [],
   "source": [
    "df2_train = pd.DataFrame(columns=[i for i in range(0, num_sensors)]+['az','ze'])"
   ]
  },
  {
   "cell_type": "code",
   "execution_count": 51,
   "id": "4c2300d4",
   "metadata": {},
   "outputs": [
    {
     "name": "stdout",
     "output_type": "stream",
     "text": [
      "Working on event 100\n",
      "Working on event 200\n",
      "Working on event 300\n",
      "Working on event 400\n",
      "Working on event 500\n",
      "Working on event 600\n",
      "Working on event 700\n",
      "Working on event 800\n",
      "Working on event 900\n",
      "Working on event 1000\n"
     ]
    }
   ],
   "source": [
    "# Now we generate feature data from the raw data\n",
    "# We use aux = True as well here\n",
    "count = 0\n",
    "\n",
    "for index in train_indices[:1000]:\n",
    "    event = batch1.loc[index]\n",
    "\n",
    "    sensors = event.sensor_id.values\n",
    "\n",
    "    for sensor in sensors:\n",
    "        df2_train.loc[index,sensor] = 1\n",
    "    \n",
    "    az, ze = meta.loc[index,['azimuth','zenith']].values\n",
    "    df2_train.loc[index,'az'] = az\n",
    "    df2_train.loc[index,'ze'] = ze\n",
    "\n",
    "    count = count + 1\n",
    "    if count % 100 == 0:\n",
    "        print(\"Working on event\", count)\n",
    "        \n",
    "df2_train.fillna(0, inplace=True)"
   ]
  },
  {
   "cell_type": "code",
   "execution_count": 52,
   "id": "7c82e6d3",
   "metadata": {},
   "outputs": [],
   "source": [
    "X2_train = df2_train[range(0,num_sensors)]\n",
    "y2_train = df2_train[['az','ze']]"
   ]
  },
  {
   "cell_type": "code",
   "execution_count": 54,
   "id": "ff95598d",
   "metadata": {},
   "outputs": [
    {
     "data": {
      "text/html": [
       "<style>#sk-container-id-3 {color: black;}#sk-container-id-3 pre{padding: 0;}#sk-container-id-3 div.sk-toggleable {background-color: white;}#sk-container-id-3 label.sk-toggleable__label {cursor: pointer;display: block;width: 100%;margin-bottom: 0;padding: 0.3em;box-sizing: border-box;text-align: center;}#sk-container-id-3 label.sk-toggleable__label-arrow:before {content: \"▸\";float: left;margin-right: 0.25em;color: #696969;}#sk-container-id-3 label.sk-toggleable__label-arrow:hover:before {color: black;}#sk-container-id-3 div.sk-estimator:hover label.sk-toggleable__label-arrow:before {color: black;}#sk-container-id-3 div.sk-toggleable__content {max-height: 0;max-width: 0;overflow: hidden;text-align: left;background-color: #f0f8ff;}#sk-container-id-3 div.sk-toggleable__content pre {margin: 0.2em;color: black;border-radius: 0.25em;background-color: #f0f8ff;}#sk-container-id-3 input.sk-toggleable__control:checked~div.sk-toggleable__content {max-height: 200px;max-width: 100%;overflow: auto;}#sk-container-id-3 input.sk-toggleable__control:checked~label.sk-toggleable__label-arrow:before {content: \"▾\";}#sk-container-id-3 div.sk-estimator input.sk-toggleable__control:checked~label.sk-toggleable__label {background-color: #d4ebff;}#sk-container-id-3 div.sk-label input.sk-toggleable__control:checked~label.sk-toggleable__label {background-color: #d4ebff;}#sk-container-id-3 input.sk-hidden--visually {border: 0;clip: rect(1px 1px 1px 1px);clip: rect(1px, 1px, 1px, 1px);height: 1px;margin: -1px;overflow: hidden;padding: 0;position: absolute;width: 1px;}#sk-container-id-3 div.sk-estimator {font-family: monospace;background-color: #f0f8ff;border: 1px dotted black;border-radius: 0.25em;box-sizing: border-box;margin-bottom: 0.5em;}#sk-container-id-3 div.sk-estimator:hover {background-color: #d4ebff;}#sk-container-id-3 div.sk-parallel-item::after {content: \"\";width: 100%;border-bottom: 1px solid gray;flex-grow: 1;}#sk-container-id-3 div.sk-label:hover label.sk-toggleable__label {background-color: #d4ebff;}#sk-container-id-3 div.sk-serial::before {content: \"\";position: absolute;border-left: 1px solid gray;box-sizing: border-box;top: 0;bottom: 0;left: 50%;z-index: 0;}#sk-container-id-3 div.sk-serial {display: flex;flex-direction: column;align-items: center;background-color: white;padding-right: 0.2em;padding-left: 0.2em;position: relative;}#sk-container-id-3 div.sk-item {position: relative;z-index: 1;}#sk-container-id-3 div.sk-parallel {display: flex;align-items: stretch;justify-content: center;background-color: white;position: relative;}#sk-container-id-3 div.sk-item::before, #sk-container-id-3 div.sk-parallel-item::before {content: \"\";position: absolute;border-left: 1px solid gray;box-sizing: border-box;top: 0;bottom: 0;left: 50%;z-index: -1;}#sk-container-id-3 div.sk-parallel-item {display: flex;flex-direction: column;z-index: 1;position: relative;background-color: white;}#sk-container-id-3 div.sk-parallel-item:first-child::after {align-self: flex-end;width: 50%;}#sk-container-id-3 div.sk-parallel-item:last-child::after {align-self: flex-start;width: 50%;}#sk-container-id-3 div.sk-parallel-item:only-child::after {width: 0;}#sk-container-id-3 div.sk-dashed-wrapped {border: 1px dashed gray;margin: 0 0.4em 0.5em 0.4em;box-sizing: border-box;padding-bottom: 0.4em;background-color: white;}#sk-container-id-3 div.sk-label label {font-family: monospace;font-weight: bold;display: inline-block;line-height: 1.2em;}#sk-container-id-3 div.sk-label-container {text-align: center;}#sk-container-id-3 div.sk-container {/* jupyter's `normalize.less` sets `[hidden] { display: none; }` but bootstrap.min.css set `[hidden] { display: none !important; }` so we also need the `!important` here to be able to override the default hidden behavior on the sphinx rendered scikit-learn.org. See: https://github.com/scikit-learn/scikit-learn/issues/21755 */display: inline-block !important;position: relative;}#sk-container-id-3 div.sk-text-repr-fallback {display: none;}</style><div id=\"sk-container-id-3\" class=\"sk-top-container\"><div class=\"sk-text-repr-fallback\"><pre>LinearRegression()</pre><b>In a Jupyter environment, please rerun this cell to show the HTML representation or trust the notebook. <br />On GitHub, the HTML representation is unable to render, please try loading this page with nbviewer.org.</b></div><div class=\"sk-container\" hidden><div class=\"sk-item\"><div class=\"sk-estimator sk-toggleable\"><input class=\"sk-toggleable__control sk-hidden--visually\" id=\"sk-estimator-id-3\" type=\"checkbox\" checked><label for=\"sk-estimator-id-3\" class=\"sk-toggleable__label sk-toggleable__label-arrow\">LinearRegression</label><div class=\"sk-toggleable__content\"><pre>LinearRegression()</pre></div></div></div></div></div>"
      ],
      "text/plain": [
       "LinearRegression()"
      ]
     },
     "execution_count": 54,
     "metadata": {},
     "output_type": "execute_result"
    }
   ],
   "source": [
    "slr2 = LinearRegression(copy_X=True)\n",
    "slr2.fit(X2_train, y2_train)"
   ]
  },
  {
   "cell_type": "code",
   "execution_count": 55,
   "id": "60dbce4e",
   "metadata": {},
   "outputs": [
    {
     "name": "stdout",
     "output_type": "stream",
     "text": [
      "Working on event 100\n",
      "Working on event 200\n",
      "Working on event 300\n"
     ]
    }
   ],
   "source": [
    "# Now we set up the testing data\n",
    "df2_test = pd.DataFrame(columns=[i for i in range(0, num_sensors)]+['az','ze'])\n",
    "\n",
    "count = 0\n",
    "\n",
    "for index in test_indices[:300]:\n",
    "    event = batch1.loc[index]\n",
    "\n",
    "    sensors = event.sensor_id.values\n",
    "\n",
    "    for sensor in sensors:\n",
    "        df2_test.loc[index,sensor] = 1\n",
    "    \n",
    "    az, ze = meta.loc[index,['azimuth','zenith']].values\n",
    "    df2_test.loc[index,'az'] = az\n",
    "    df2_test.loc[index,'ze'] = ze\n",
    "\n",
    "    count = count + 1\n",
    "    if count % 100 == 0:\n",
    "        print(\"Working on event\", count)\n",
    "\n",
    "df2_test.fillna(0, inplace=True)\n",
    "\n",
    "X2_test = df2_test[range(0,num_sensors)]\n",
    "y2_test = df2_test[['az','ze']]"
   ]
  },
  {
   "cell_type": "code",
   "execution_count": 56,
   "id": "e8809bd1",
   "metadata": {},
   "outputs": [
    {
     "name": "stdout",
     "output_type": "stream",
     "text": [
      "The angular distance score for model 2 is 1.5805230532332462\n"
     ]
    }
   ],
   "source": [
    "az_pred_2 = slr2.predict(X2_test.values)[:,0]\n",
    "ze_pred_2 = slr2.predict(X2_test.values)[:,1]\n",
    "\n",
    "model_2_error = angular_dist_score(y2_test['az'].values,\n",
    "                                   y2_test['ze'].values,\n",
    "                                   az_pred_2,\n",
    "                                   ze_pred_2)\n",
    "\n",
    "print(\"The angular distance score for model 2 is\", model_2_error)"
   ]
  },
  {
   "cell_type": "markdown",
   "id": "ea9d725b",
   "metadata": {},
   "source": [
    "This improves very slightly over model 1"
   ]
  },
  {
   "cell_type": "markdown",
   "id": "30d2ce7b",
   "metadata": {},
   "source": [
    "### Model 3: charge and aux = False only"
   ]
  },
  {
   "cell_type": "code",
   "execution_count": 57,
   "id": "7736302b",
   "metadata": {
    "scrolled": true
   },
   "outputs": [
    {
     "name": "stdout",
     "output_type": "stream",
     "text": [
      "Working on event 10\n",
      "Working on event 20\n",
      "Working on event 30\n",
      "Working on event 40\n",
      "Working on event 50\n",
      "Working on event 60\n",
      "Working on event 70\n",
      "Working on event 80\n",
      "Working on event 90\n",
      "Working on event 100\n",
      "Working on event 110\n",
      "Working on event 120\n",
      "Working on event 130\n",
      "Working on event 140\n",
      "Working on event 150\n",
      "Working on event 160\n",
      "Working on event 170\n",
      "Working on event 180\n",
      "Working on event 190\n",
      "Working on event 200\n",
      "Working on event 210\n",
      "Working on event 220\n",
      "Working on event 230\n",
      "Working on event 240\n",
      "Working on event 250\n",
      "Working on event 260\n",
      "Working on event 270\n",
      "Working on event 280\n",
      "Working on event 290\n",
      "Working on event 300\n",
      "Working on event 310\n",
      "Working on event 320\n",
      "Working on event 330\n",
      "Working on event 340\n",
      "Working on event 350\n",
      "Working on event 360\n",
      "Working on event 370\n",
      "Working on event 380\n",
      "Working on event 390\n",
      "Working on event 400\n",
      "Working on event 410\n",
      "Working on event 420\n",
      "Working on event 430\n",
      "Working on event 440\n",
      "Working on event 450\n",
      "Working on event 460\n",
      "Working on event 470\n",
      "Working on event 480\n",
      "Working on event 490\n",
      "Working on event 500\n",
      "Working on event 510\n",
      "Working on event 520\n",
      "Working on event 530\n",
      "Working on event 540\n",
      "Working on event 550\n",
      "Working on event 560\n",
      "Working on event 570\n",
      "Working on event 580\n",
      "Working on event 590\n",
      "Working on event 600\n",
      "Working on event 610\n",
      "Working on event 620\n",
      "Working on event 630\n",
      "Working on event 640\n",
      "Working on event 650\n",
      "Working on event 660\n",
      "Working on event 670\n",
      "Working on event 680\n",
      "Working on event 690\n",
      "Working on event 700\n",
      "Working on event 710\n",
      "Working on event 720\n",
      "Working on event 730\n",
      "Working on event 740\n",
      "Working on event 750\n",
      "Working on event 760\n",
      "Working on event 770\n",
      "Working on event 780\n",
      "Working on event 790\n",
      "Working on event 800\n",
      "Working on event 810\n",
      "Working on event 820\n",
      "Working on event 830\n",
      "Working on event 840\n",
      "Working on event 850\n",
      "Working on event 860\n",
      "Working on event 870\n",
      "Working on event 880\n",
      "Working on event 890\n",
      "Working on event 900\n",
      "Working on event 910\n",
      "Working on event 920\n",
      "Working on event 930\n",
      "Working on event 940\n",
      "Working on event 950\n",
      "Working on event 960\n",
      "Working on event 970\n",
      "Working on event 980\n",
      "Working on event 990\n",
      "Working on event 1000\n"
     ]
    }
   ],
   "source": [
    "df3_train = pd.DataFrame(columns=[i for i in range(0, num_sensors)]+['az','ze'])\n",
    "\n",
    "# Now we generate feature data from the raw data\n",
    "# We use aux = False only here\n",
    "count = 0\n",
    "\n",
    "batch1_model_3 = batch1[batch1.auxiliary==False]\n",
    "\n",
    "for index in train_indices[:1000]:\n",
    "    event = batch1_model_3.loc[index]\n",
    "    event.set_index('sensor_id',\n",
    "                    inplace=True)\n",
    "    event = event.groupby('sensor_id').sum()\n",
    "\n",
    "    for sensor in event.index:\n",
    "        df3_train.loc[index,sensor] = event.loc[sensor,'charge']\n",
    "    \n",
    "    az, ze = meta.loc[index,['azimuth','zenith']].values\n",
    "    df3_train.loc[index,'az'] = az\n",
    "    df3_train.loc[index,'ze'] = ze\n",
    "\n",
    "    count = count + 1\n",
    "    if count % 10 == 0:\n",
    "        print(\"Working on event\", count)\n",
    "        \n",
    "df3_train.fillna(0, inplace=True)"
   ]
  },
  {
   "cell_type": "code",
   "execution_count": 58,
   "id": "505d8002",
   "metadata": {
    "scrolled": true
   },
   "outputs": [
    {
     "name": "stdout",
     "output_type": "stream",
     "text": [
      "Working on event 10\n",
      "Working on event 20\n",
      "Working on event 30\n",
      "Working on event 40\n",
      "Working on event 50\n",
      "Working on event 60\n",
      "Working on event 70\n",
      "Working on event 80\n",
      "Working on event 90\n",
      "Working on event 100\n",
      "Working on event 110\n",
      "Working on event 120\n",
      "Working on event 130\n",
      "Working on event 140\n",
      "Working on event 150\n",
      "Working on event 160\n",
      "Working on event 170\n",
      "Working on event 180\n",
      "Working on event 190\n",
      "Working on event 200\n",
      "Working on event 210\n",
      "Working on event 220\n",
      "Working on event 230\n",
      "Working on event 240\n",
      "Working on event 250\n",
      "Working on event 260\n",
      "Working on event 270\n",
      "Working on event 280\n",
      "Working on event 290\n",
      "Working on event 300\n"
     ]
    }
   ],
   "source": [
    "df3_test = pd.DataFrame(columns=[i for i in range(0, num_sensors)]+['az','ze'])\n",
    "\n",
    "# Now we generate feature data from the raw data\n",
    "# We use aux = False only here\n",
    "count = 0\n",
    "\n",
    "for index in test_indices[:300]:\n",
    "    event = batch1_model_3.loc[index]\n",
    "    event.set_index('sensor_id',\n",
    "                    inplace=True)\n",
    "    event = event.groupby('sensor_id').sum()\n",
    "\n",
    "    for sensor in event.index:\n",
    "        df3_test.loc[index,sensor] = event.loc[sensor,'charge']\n",
    "    \n",
    "    az, ze = meta.loc[index,['azimuth','zenith']].values\n",
    "    df3_test.loc[index,'az'] = az\n",
    "    df3_test.loc[index,'ze'] = ze\n",
    "\n",
    "    count = count + 1\n",
    "    if count % 10 == 0:\n",
    "        print(\"Working on event\", count)\n",
    "        \n",
    "df3_test.fillna(0, inplace=True)"
   ]
  },
  {
   "cell_type": "code",
   "execution_count": 59,
   "id": "8bd235f7",
   "metadata": {},
   "outputs": [],
   "source": [
    "X3_train = df3_train[range(0,num_sensors)]\n",
    "y3_train = df3_train[['az','ze']]\n",
    "\n",
    "X3_test = df3_test[range(0,num_sensors)]\n",
    "y3_test =df3_test[['az','ze']]"
   ]
  },
  {
   "cell_type": "code",
   "execution_count": 60,
   "id": "e1629ee1",
   "metadata": {},
   "outputs": [
    {
     "data": {
      "text/html": [
       "<style>#sk-container-id-4 {color: black;}#sk-container-id-4 pre{padding: 0;}#sk-container-id-4 div.sk-toggleable {background-color: white;}#sk-container-id-4 label.sk-toggleable__label {cursor: pointer;display: block;width: 100%;margin-bottom: 0;padding: 0.3em;box-sizing: border-box;text-align: center;}#sk-container-id-4 label.sk-toggleable__label-arrow:before {content: \"▸\";float: left;margin-right: 0.25em;color: #696969;}#sk-container-id-4 label.sk-toggleable__label-arrow:hover:before {color: black;}#sk-container-id-4 div.sk-estimator:hover label.sk-toggleable__label-arrow:before {color: black;}#sk-container-id-4 div.sk-toggleable__content {max-height: 0;max-width: 0;overflow: hidden;text-align: left;background-color: #f0f8ff;}#sk-container-id-4 div.sk-toggleable__content pre {margin: 0.2em;color: black;border-radius: 0.25em;background-color: #f0f8ff;}#sk-container-id-4 input.sk-toggleable__control:checked~div.sk-toggleable__content {max-height: 200px;max-width: 100%;overflow: auto;}#sk-container-id-4 input.sk-toggleable__control:checked~label.sk-toggleable__label-arrow:before {content: \"▾\";}#sk-container-id-4 div.sk-estimator input.sk-toggleable__control:checked~label.sk-toggleable__label {background-color: #d4ebff;}#sk-container-id-4 div.sk-label input.sk-toggleable__control:checked~label.sk-toggleable__label {background-color: #d4ebff;}#sk-container-id-4 input.sk-hidden--visually {border: 0;clip: rect(1px 1px 1px 1px);clip: rect(1px, 1px, 1px, 1px);height: 1px;margin: -1px;overflow: hidden;padding: 0;position: absolute;width: 1px;}#sk-container-id-4 div.sk-estimator {font-family: monospace;background-color: #f0f8ff;border: 1px dotted black;border-radius: 0.25em;box-sizing: border-box;margin-bottom: 0.5em;}#sk-container-id-4 div.sk-estimator:hover {background-color: #d4ebff;}#sk-container-id-4 div.sk-parallel-item::after {content: \"\";width: 100%;border-bottom: 1px solid gray;flex-grow: 1;}#sk-container-id-4 div.sk-label:hover label.sk-toggleable__label {background-color: #d4ebff;}#sk-container-id-4 div.sk-serial::before {content: \"\";position: absolute;border-left: 1px solid gray;box-sizing: border-box;top: 0;bottom: 0;left: 50%;z-index: 0;}#sk-container-id-4 div.sk-serial {display: flex;flex-direction: column;align-items: center;background-color: white;padding-right: 0.2em;padding-left: 0.2em;position: relative;}#sk-container-id-4 div.sk-item {position: relative;z-index: 1;}#sk-container-id-4 div.sk-parallel {display: flex;align-items: stretch;justify-content: center;background-color: white;position: relative;}#sk-container-id-4 div.sk-item::before, #sk-container-id-4 div.sk-parallel-item::before {content: \"\";position: absolute;border-left: 1px solid gray;box-sizing: border-box;top: 0;bottom: 0;left: 50%;z-index: -1;}#sk-container-id-4 div.sk-parallel-item {display: flex;flex-direction: column;z-index: 1;position: relative;background-color: white;}#sk-container-id-4 div.sk-parallel-item:first-child::after {align-self: flex-end;width: 50%;}#sk-container-id-4 div.sk-parallel-item:last-child::after {align-self: flex-start;width: 50%;}#sk-container-id-4 div.sk-parallel-item:only-child::after {width: 0;}#sk-container-id-4 div.sk-dashed-wrapped {border: 1px dashed gray;margin: 0 0.4em 0.5em 0.4em;box-sizing: border-box;padding-bottom: 0.4em;background-color: white;}#sk-container-id-4 div.sk-label label {font-family: monospace;font-weight: bold;display: inline-block;line-height: 1.2em;}#sk-container-id-4 div.sk-label-container {text-align: center;}#sk-container-id-4 div.sk-container {/* jupyter's `normalize.less` sets `[hidden] { display: none; }` but bootstrap.min.css set `[hidden] { display: none !important; }` so we also need the `!important` here to be able to override the default hidden behavior on the sphinx rendered scikit-learn.org. See: https://github.com/scikit-learn/scikit-learn/issues/21755 */display: inline-block !important;position: relative;}#sk-container-id-4 div.sk-text-repr-fallback {display: none;}</style><div id=\"sk-container-id-4\" class=\"sk-top-container\"><div class=\"sk-text-repr-fallback\"><pre>LinearRegression()</pre><b>In a Jupyter environment, please rerun this cell to show the HTML representation or trust the notebook. <br />On GitHub, the HTML representation is unable to render, please try loading this page with nbviewer.org.</b></div><div class=\"sk-container\" hidden><div class=\"sk-item\"><div class=\"sk-estimator sk-toggleable\"><input class=\"sk-toggleable__control sk-hidden--visually\" id=\"sk-estimator-id-4\" type=\"checkbox\" checked><label for=\"sk-estimator-id-4\" class=\"sk-toggleable__label sk-toggleable__label-arrow\">LinearRegression</label><div class=\"sk-toggleable__content\"><pre>LinearRegression()</pre></div></div></div></div></div>"
      ],
      "text/plain": [
       "LinearRegression()"
      ]
     },
     "execution_count": 60,
     "metadata": {},
     "output_type": "execute_result"
    }
   ],
   "source": [
    "# Fit the regression\n",
    "slr3 = LinearRegression(copy_X=True)\n",
    "slr3.fit(X3_train, y3_train)"
   ]
  },
  {
   "cell_type": "code",
   "execution_count": 61,
   "id": "4d273024",
   "metadata": {
    "scrolled": true
   },
   "outputs": [
    {
     "name": "stdout",
     "output_type": "stream",
     "text": [
      "The angular distance score for model 3 is 1.5453663141818437\n"
     ]
    }
   ],
   "source": [
    "az_pred_3 = slr3.predict(X3_test.values)[:,0]\n",
    "ze_pred_3 = slr3.predict(X3_test.values)[:,1]\n",
    "\n",
    "model_3_error = angular_dist_score(y3_test['az'].values,\n",
    "                                   y3_test['ze'].values,\n",
    "                                   az_pred_3,\n",
    "                                   ze_pred_3)\n",
    "\n",
    "print(\"The angular distance score for model 3 is\", model_3_error)"
   ]
  },
  {
   "cell_type": "markdown",
   "id": "d6e8d562",
   "metadata": {},
   "source": [
    "### Model 4: charge and aux = True"
   ]
  },
  {
   "cell_type": "code",
   "execution_count": null,
   "id": "673add79",
   "metadata": {
    "scrolled": true
   },
   "outputs": [],
   "source": [
    "df4_train = pd.DataFrame(columns=[i for i in range(0, num_sensors)]+['az','ze'])\n",
    "\n",
    "# Now we generate feature data from the raw data\n",
    "# We use aux = True as well here\n",
    "count = 0\n",
    "\n",
    "for index in train_indices[:1000]:\n",
    "    event = batch1.loc[index]\n",
    "    event.set_index('sensor_id',\n",
    "                    inplace=True)\n",
    "    event = event.groupby('sensor_id').sum()\n",
    "\n",
    "    for sensor in event.index:\n",
    "        df4_train.loc[index,sensor] = event.loc[sensor,'charge']\n",
    "    \n",
    "    az, ze = meta.loc[index,['azimuth','zenith']].values\n",
    "    df4_train.loc[index,'az'] = az\n",
    "    df4_train.loc[index,'ze'] = ze\n",
    "\n",
    "    count = count + 1\n",
    "    if count % 10 == 0:\n",
    "        print(\"Working on event\", count)\n",
    "        \n",
    "df4_train.fillna(0, inplace=True)"
   ]
  },
  {
   "cell_type": "code",
   "execution_count": null,
   "id": "bc3f0460",
   "metadata": {
    "scrolled": true
   },
   "outputs": [],
   "source": [
    "df4_test = pd.DataFrame(columns=[i for i in range(0, num_sensors)]+['az','ze'])\n",
    "\n",
    "# Now we generate feature data from the raw data\n",
    "# We use aux = False only here\n",
    "count = 0\n",
    "\n",
    "for index in test_indices[:300]:\n",
    "    event = batch1.loc[index]\n",
    "    event.set_index('sensor_id',\n",
    "                    inplace=True)\n",
    "    event = event.groupby('sensor_id').sum()\n",
    "\n",
    "    for sensor in event.index:\n",
    "        df4_test.loc[index,sensor] = event.loc[sensor,'charge']\n",
    "    \n",
    "    az, ze = meta.loc[index,['azimuth','zenith']].values\n",
    "    df4_test.loc[index,'az'] = az\n",
    "    df4_test.loc[index,'ze'] = ze\n",
    "\n",
    "    count = count + 1\n",
    "    if count % 10 == 0:\n",
    "        print(\"Working on event\", count)\n",
    "        \n",
    "df4_test.fillna(0, inplace=True)"
   ]
  },
  {
   "cell_type": "code",
   "execution_count": null,
   "id": "18ce77d4",
   "metadata": {},
   "outputs": [],
   "source": [
    "X4_train = df4_train[range(0,num_sensors)]\n",
    "y4_train = df4_train[['az','ze']]\n",
    "\n",
    "X4_test = df4_test[range(0,num_sensors)]\n",
    "y4_test = df4_test[['az','ze']]"
   ]
  },
  {
   "cell_type": "code",
   "execution_count": null,
   "id": "cc85a765",
   "metadata": {},
   "outputs": [],
   "source": [
    "# Fitting the regression\n",
    "slr4 = LinearRegression(copy_X=True)\n",
    "slr4.fit(X4_train, y4_train)"
   ]
  },
  {
   "cell_type": "code",
   "execution_count": null,
   "id": "a5c73b5f",
   "metadata": {},
   "outputs": [],
   "source": [
    "az_pred_4 = slr4.predict(X4_test.values)[:,0]\n",
    "ze_pred_4 = slr4.predict(X4_test.values)[:,1]\n",
    "\n",
    "model_4_error = angular_dist_score(y4_test['az'].values,\n",
    "                                   y4_test['ze'].values,\n",
    "                                   az_pred_4,\n",
    "                                   ze_pred_4)\n",
    "\n",
    "print(\"The angular distance score for model 4 is\", model_4_error)"
   ]
  },
  {
   "cell_type": "markdown",
   "id": "532f5cba",
   "metadata": {},
   "source": [
    "### Model 5 - a CNN before I know what they actually are, so this might go badly"
   ]
  },
  {
   "cell_type": "code",
   "execution_count": null,
   "id": "f528b166",
   "metadata": {},
   "outputs": [],
   "source": [
    "from keras import models\n",
    "from keras import layers\n",
    "from keras import optimizers\n",
    "from keras import losses\n",
    "from keras import metrics\n",
    "from keras.utils.np_utils import to_categorical\n"
   ]
  },
  {
   "cell_type": "code",
   "execution_count": null,
   "id": "9a07b6f9",
   "metadata": {},
   "outputs": [],
   "source": []
  }
 ],
 "metadata": {
  "kernelspec": {
   "display_name": "Python 3 (ipykernel)",
   "language": "python",
   "name": "python3"
  },
  "language_info": {
   "codemirror_mode": {
    "name": "ipython",
    "version": 3
   },
   "file_extension": ".py",
   "mimetype": "text/x-python",
   "name": "python",
   "nbconvert_exporter": "python",
   "pygments_lexer": "ipython3",
   "version": "3.11.4"
  }
 },
 "nbformat": 4,
 "nbformat_minor": 5
}
