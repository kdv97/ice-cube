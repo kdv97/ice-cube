{
 "cells": [
  {
   "cell_type": "code",
   "execution_count": 42,
   "id": "e2861030",
   "metadata": {},
   "outputs": [],
   "source": [
    "import pandas as pd\n",
    "import numpy as np\n",
    "from sklearn.decomposition import PCA"
   ]
  },
  {
   "cell_type": "code",
   "execution_count": 5,
   "id": "d4799cda",
   "metadata": {},
   "outputs": [],
   "source": [
    "# The training data\n",
    "batch1 = pd.read_parquet('../batches_train/batch_1.parquet')"
   ]
  },
  {
   "cell_type": "code",
   "execution_count": 10,
   "id": "00375f1e",
   "metadata": {},
   "outputs": [],
   "source": [
    "# The meta data\n",
    "meta = pd.read_parquet('../batches_train/train_meta.parquet')"
   ]
  },
  {
   "cell_type": "code",
   "execution_count": 11,
   "id": "97f5c21f",
   "metadata": {},
   "outputs": [],
   "source": [
    "# get only the parts of metadata in batch1\n",
    "meta = meta[meta.batch_id==1]"
   ]
  },
  {
   "cell_type": "code",
   "execution_count": 68,
   "id": "4654a8e6",
   "metadata": {},
   "outputs": [
    {
     "data": {
      "text/html": [
       "<div>\n",
       "<style scoped>\n",
       "    .dataframe tbody tr th:only-of-type {\n",
       "        vertical-align: middle;\n",
       "    }\n",
       "\n",
       "    .dataframe tbody tr th {\n",
       "        vertical-align: top;\n",
       "    }\n",
       "\n",
       "    .dataframe thead th {\n",
       "        text-align: right;\n",
       "    }\n",
       "</style>\n",
       "<table border=\"1\" class=\"dataframe\">\n",
       "  <thead>\n",
       "    <tr style=\"text-align: right;\">\n",
       "      <th></th>\n",
       "      <th>batch_id</th>\n",
       "      <th>event_id</th>\n",
       "      <th>first_pulse_index</th>\n",
       "      <th>last_pulse_index</th>\n",
       "      <th>azimuth</th>\n",
       "      <th>zenith</th>\n",
       "    </tr>\n",
       "  </thead>\n",
       "  <tbody>\n",
       "    <tr>\n",
       "      <th>0</th>\n",
       "      <td>1</td>\n",
       "      <td>24</td>\n",
       "      <td>0</td>\n",
       "      <td>60</td>\n",
       "      <td>5.029555</td>\n",
       "      <td>2.087498</td>\n",
       "    </tr>\n",
       "    <tr>\n",
       "      <th>1</th>\n",
       "      <td>1</td>\n",
       "      <td>41</td>\n",
       "      <td>61</td>\n",
       "      <td>111</td>\n",
       "      <td>0.417742</td>\n",
       "      <td>1.549686</td>\n",
       "    </tr>\n",
       "    <tr>\n",
       "      <th>2</th>\n",
       "      <td>1</td>\n",
       "      <td>59</td>\n",
       "      <td>112</td>\n",
       "      <td>147</td>\n",
       "      <td>1.160466</td>\n",
       "      <td>2.401942</td>\n",
       "    </tr>\n",
       "    <tr>\n",
       "      <th>3</th>\n",
       "      <td>1</td>\n",
       "      <td>67</td>\n",
       "      <td>148</td>\n",
       "      <td>289</td>\n",
       "      <td>5.845952</td>\n",
       "      <td>0.759054</td>\n",
       "    </tr>\n",
       "    <tr>\n",
       "      <th>4</th>\n",
       "      <td>1</td>\n",
       "      <td>72</td>\n",
       "      <td>290</td>\n",
       "      <td>351</td>\n",
       "      <td>0.653719</td>\n",
       "      <td>0.939117</td>\n",
       "    </tr>\n",
       "    <tr>\n",
       "      <th>...</th>\n",
       "      <td>...</td>\n",
       "      <td>...</td>\n",
       "      <td>...</td>\n",
       "      <td>...</td>\n",
       "      <td>...</td>\n",
       "      <td>...</td>\n",
       "    </tr>\n",
       "    <tr>\n",
       "      <th>199995</th>\n",
       "      <td>1</td>\n",
       "      <td>3266160</td>\n",
       "      <td>32791961</td>\n",
       "      <td>32792033</td>\n",
       "      <td>1.536491</td>\n",
       "      <td>0.537451</td>\n",
       "    </tr>\n",
       "    <tr>\n",
       "      <th>199996</th>\n",
       "      <td>1</td>\n",
       "      <td>3266175</td>\n",
       "      <td>32792034</td>\n",
       "      <td>32792157</td>\n",
       "      <td>5.091808</td>\n",
       "      <td>2.732550</td>\n",
       "    </tr>\n",
       "    <tr>\n",
       "      <th>199997</th>\n",
       "      <td>1</td>\n",
       "      <td>3266192</td>\n",
       "      <td>32792158</td>\n",
       "      <td>32792216</td>\n",
       "      <td>3.605875</td>\n",
       "      <td>0.815684</td>\n",
       "    </tr>\n",
       "    <tr>\n",
       "      <th>199998</th>\n",
       "      <td>1</td>\n",
       "      <td>3266195</td>\n",
       "      <td>32792217</td>\n",
       "      <td>32792279</td>\n",
       "      <td>3.752771</td>\n",
       "      <td>1.098687</td>\n",
       "    </tr>\n",
       "    <tr>\n",
       "      <th>199999</th>\n",
       "      <td>1</td>\n",
       "      <td>3266196</td>\n",
       "      <td>32792280</td>\n",
       "      <td>32792415</td>\n",
       "      <td>3.017863</td>\n",
       "      <td>1.213878</td>\n",
       "    </tr>\n",
       "  </tbody>\n",
       "</table>\n",
       "<p>200000 rows × 6 columns</p>\n",
       "</div>"
      ],
      "text/plain": [
       "        batch_id  event_id  first_pulse_index  last_pulse_index   azimuth  \\\n",
       "0              1        24                  0                60  5.029555   \n",
       "1              1        41                 61               111  0.417742   \n",
       "2              1        59                112               147  1.160466   \n",
       "3              1        67                148               289  5.845952   \n",
       "4              1        72                290               351  0.653719   \n",
       "...          ...       ...                ...               ...       ...   \n",
       "199995         1   3266160           32791961          32792033  1.536491   \n",
       "199996         1   3266175           32792034          32792157  5.091808   \n",
       "199997         1   3266192           32792158          32792216  3.605875   \n",
       "199998         1   3266195           32792217          32792279  3.752771   \n",
       "199999         1   3266196           32792280          32792415  3.017863   \n",
       "\n",
       "          zenith  \n",
       "0       2.087498  \n",
       "1       1.549686  \n",
       "2       2.401942  \n",
       "3       0.759054  \n",
       "4       0.939117  \n",
       "...          ...  \n",
       "199995  0.537451  \n",
       "199996  2.732550  \n",
       "199997  0.815684  \n",
       "199998  1.098687  \n",
       "199999  1.213878  \n",
       "\n",
       "[200000 rows x 6 columns]"
      ]
     },
     "execution_count": 68,
     "metadata": {},
     "output_type": "execute_result"
    }
   ],
   "source": [
    "meta[meta.zenith>0]"
   ]
  },
  {
   "cell_type": "code",
   "execution_count": 14,
   "id": "a6b70910",
   "metadata": {},
   "outputs": [],
   "source": [
    "batch1_aux_false = batch1[batch1.auxiliary==False]"
   ]
  },
  {
   "cell_type": "code",
   "execution_count": 17,
   "id": "8da9fa9c",
   "metadata": {},
   "outputs": [],
   "source": [
    "sensor_geom = pd.read_csv('../sensor_geometry.csv')"
   ]
  },
  {
   "cell_type": "code",
   "execution_count": 18,
   "id": "655b2ef1",
   "metadata": {},
   "outputs": [],
   "source": [
    "# Make a function that outputs (x,y,z) for a sensor_id input\n",
    "def id_to_xyz(sen):\n",
    "    row = tuple(sensor_geom.loc[sen][1:4])\n",
    "    return row"
   ]
  },
  {
   "cell_type": "code",
   "execution_count": 64,
   "id": "7fc3f987",
   "metadata": {},
   "outputs": [],
   "source": [
    "def find_linear_fit(eventid):\n",
    "    event = batch1_aux_false.loc[eventid]\n",
    "    coords = [id_to_xyz(sen) for sen in event.sensor_id]\n",
    "    pca = PCA(n_components=1)\n",
    "    pca.fit(coords)\n",
    "    dir_cartesian = pca.components_\n",
    "    print(dir_cartesian)\n",
    "    x = dir_cartesian[0,0]\n",
    "    y = dir_cartesian[0,1]\n",
    "    z = dir_cartesian[0,2]\n",
    "    ze = np.arccos(z)\n",
    "    az = max(np.arctan(y/x), 2*np.pi - np.abs(np.arctan(y/x)))\n",
    "    return (az, ze)"
   ]
  },
  {
   "cell_type": "code",
   "execution_count": 69,
   "id": "3ee8bd73",
   "metadata": {},
   "outputs": [
    {
     "name": "stdout",
     "output_type": "stream",
     "text": [
      "[[0.01850423 0.75651934 0.65370947]]\n"
     ]
    },
    {
     "data": {
      "text/plain": [
       "(4.736843796092404, 0.8583203300518643)"
      ]
     },
     "execution_count": 69,
     "metadata": {},
     "output_type": "execute_result"
    }
   ],
   "source": [
    "find_linear_fit(41)"
   ]
  },
  {
   "cell_type": "code",
   "execution_count": null,
   "id": "aeff663a",
   "metadata": {},
   "outputs": [],
   "source": []
  }
 ],
 "metadata": {
  "kernelspec": {
   "display_name": "Python 3 (ipykernel)",
   "language": "python",
   "name": "python3"
  },
  "language_info": {
   "codemirror_mode": {
    "name": "ipython",
    "version": 3
   },
   "file_extension": ".py",
   "mimetype": "text/x-python",
   "name": "python",
   "nbconvert_exporter": "python",
   "pygments_lexer": "ipython3",
   "version": "3.11.4"
  }
 },
 "nbformat": 4,
 "nbformat_minor": 5
}
