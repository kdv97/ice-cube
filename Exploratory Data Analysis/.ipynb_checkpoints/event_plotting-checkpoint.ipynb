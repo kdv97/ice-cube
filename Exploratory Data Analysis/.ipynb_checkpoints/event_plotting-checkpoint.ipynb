{
 "cells": [
  {
   "cell_type": "markdown",
   "id": "e1c4e594",
   "metadata": {},
   "source": [
    "### Description\n",
    "\n",
    "The function `event_plot` takes in an `event_id`, as well as various boolean inputs (`aux_incl`, `show_sensors`, `show_true_direction`) and plots the event with the relevant parameters. \n",
    "\n",
    "Events are plotted as follows: for each sensor, the size of the plotted point is equal to the total charge (sum of all charges of each time this particular sensor was activated, i.e. sum of all charges of each pulse at that center); the plotted point is colored by the time of the *first* registered pulse for that sensor. "
   ]
  },
  {
   "cell_type": "markdown",
   "id": "d1116119",
   "metadata": {},
   "source": [
    "Fun-looking event IDs: 79, 131158, 917609 (these have no real practical relevance, they're just pretty)\n",
    "\n",
    "Below we list examples which are either cascade/through-going\n",
    "\n",
    "Cascade: 79, 131158, 917609\n",
    "\n",
    "Through-going: "
   ]
  },
  {
   "cell_type": "code",
   "execution_count": 1,
   "id": "ff11f153",
   "metadata": {},
   "outputs": [],
   "source": [
    "import pandas as pd\n",
    "import numpy as np\n",
    "import matplotlib.pyplot as plt"
   ]
  },
  {
   "cell_type": "code",
   "execution_count": 2,
   "id": "3952d079",
   "metadata": {},
   "outputs": [],
   "source": [
    "# Uncomment to toggle interactivity of matplotlib plots\n",
    "%matplotlib notebook"
   ]
  },
  {
   "cell_type": "code",
   "execution_count": 3,
   "id": "9358d8bd",
   "metadata": {},
   "outputs": [],
   "source": [
    "# Load data\n",
    "batch1 = pd.read_parquet('../batches_train/batch_1_repartitions/part.0.parquet')\n",
    "sensor_geom = pd.read_csv('../sensor_geometry.csv')\n",
    "event_ids = list(set(batch1.index))"
   ]
  },
  {
   "cell_type": "code",
   "execution_count": 4,
   "id": "317372dd",
   "metadata": {},
   "outputs": [
    {
     "name": "stderr",
     "output_type": "stream",
     "text": [
      "\n",
      "KeyboardInterrupt\n",
      "\n"
     ]
    }
   ],
   "source": [
    "# Load metadata\n",
    "# meta = pd.read_parquet('../batches_train/train_meta.parquet/')"
   ]
  },
  {
   "cell_type": "code",
   "execution_count": null,
   "id": "d705ca30",
   "metadata": {},
   "outputs": [],
   "source": [
    "# Make a function that outputs (x,y,z) for a sensor_id input\n",
    "def id_to_xyz(sen):\n",
    "    row = tuple(sensor_geom.loc[sen][1:4])\n",
    "    return row"
   ]
  },
  {
   "cell_type": "code",
   "execution_count": null,
   "id": "6c4d63f6",
   "metadata": {},
   "outputs": [],
   "source": [
    "def event_plot(eventid, \n",
    "               aux_incl=False, \n",
    "               show_sensors=True,\n",
    "               show_true_direction=False):\n",
    "    \n",
    "    fig = plt.figure(figsize=(8,8))\n",
    "    ax = fig.add_subplot(projection='3d')\n",
    "    event = batch1.loc[eventid]\n",
    "    scale = 600\n",
    "    \n",
    "    # Aux false or both?\n",
    "    if aux_incl==False:\n",
    "        event = event[event.auxiliary==False]\n",
    "    else:\n",
    "        pass\n",
    "    \n",
    "    # Each sensor will register one point; total charge (sum over all \n",
    "    # times that sensor registered a charge) corresponds to size in plot\n",
    "    sensors_and_charge = event.groupby('sensor_id').sum()['charge']\n",
    "    sensors = np.array(sensors_and_charge.index)\n",
    "    \n",
    "    # Cartesian coords of sensors to plot\n",
    "    xs = [id_to_xyz(s)[0] for s in sensors]\n",
    "    ys = [id_to_xyz(s)[1] for s in sensors]\n",
    "    zs = [id_to_xyz(s)[2] for s in sensors]\n",
    "    \n",
    "    # Sizes computed from values in sensors_and_charge \n",
    "    sizes = sensors_and_charge.values\n",
    "    \n",
    "    # Times are computed by first time sensor registered a pulse\n",
    "    times = [event[event.sensor_id==s].time.values[0] for s in sensors]\n",
    "\n",
    "    # This scatter plots the sensor pulses\n",
    "    im = ax.scatter(xs, ys, zs,\n",
    "                    c=times,\n",
    "                    cmap='rainbow_r',\n",
    "                    s=10*sizes,\n",
    "                    zorder=2,\n",
    "                    label='pulse',\n",
    "                    alpha=1)\n",
    "    \n",
    "    # This plots the sensors\n",
    "    if show_sensors==True:\n",
    "        ax.scatter(sensor_geom.x, sensor_geom.y, sensor_geom.z,\n",
    "                   c='0.1',\n",
    "                   alpha=0.03,\n",
    "                   s=0.5,\n",
    "                   zorder=1)\n",
    "        \n",
    "    # This plots the true direction\n",
    "    if show_true_direction==True:\n",
    "        try: \n",
    "            df = meta[meta.event_id==eventid]\n",
    "            az = df.azimuth.iloc[0]\n",
    "            ze = df.zenith.iloc[0]\n",
    "            xhat = np.cos(az)*np.sin(ze)\n",
    "            yhat = np.sin(az)*np.sin(ze)\n",
    "            zhat = np.cos(ze)\n",
    "            \n",
    "            xdir = scale*xhat\n",
    "            ydir = scale*yhat\n",
    "            zdir = scale*zhat\n",
    "            \n",
    "            xs = [0, xdir]\n",
    "            ys = [0, ydir]\n",
    "            zs = [0, zdir]\n",
    "            \n",
    "            ax.plot(xs, ys, zs, \n",
    "                    '--',\n",
    "                    c='red',\n",
    "                    linewidth=0.75,\n",
    "                    label='true direction',\n",
    "                    zorder=0)\n",
    "            \n",
    "        except NameError:\n",
    "            print(\"WARNING: 'meta' undefined\")\n",
    "            print(\"Did you load meta data and name it 'meta'?\")\n",
    "        \n",
    "\n",
    "    # Color bar, legend, other niceties\n",
    "    plt.colorbar(im,\n",
    "                 orientation='vertical', \n",
    "                 label='Nanoseconds passed in event',\n",
    "                 location='left',\n",
    "                 fraction=0.02, \n",
    "                 pad=0.1)\n",
    "    \n",
    "    plt.title(\"Neutrino event \" + str(eventid) + \", aux = \" + str(aux_incl),\n",
    "              fontsize=12)\n",
    "    plt.legend(loc=(-0.3,0.9))\n",
    "    ax.set_xlabel('$x$')\n",
    "    ax.set_ylabel('$y$')\n",
    "    ax.set_zlabel('$z$')\n",
    "    \n",
    "    ax.view_init(30,-45)\n",
    "    \n",
    "    ax.grid(False)\n",
    "\n",
    "    plt.show()"
   ]
  },
  {
   "cell_type": "code",
   "execution_count": null,
   "id": "158179ee",
   "metadata": {},
   "outputs": [],
   "source": [
    "event_plot(event_ids[1], aux_incl=True, show_true_direction=True)"
   ]
  },
  {
   "cell_type": "code",
   "execution_count": null,
   "id": "78a10961",
   "metadata": {},
   "outputs": [],
   "source": []
  }
 ],
 "metadata": {
  "kernelspec": {
   "display_name": "Python 3 (ipykernel)",
   "language": "python",
   "name": "python3"
  },
  "language_info": {
   "codemirror_mode": {
    "name": "ipython",
    "version": 3
   },
   "file_extension": ".py",
   "mimetype": "text/x-python",
   "name": "python",
   "nbconvert_exporter": "python",
   "pygments_lexer": "ipython3",
   "version": "3.11.4"
  }
 },
 "nbformat": 4,
 "nbformat_minor": 5
}
