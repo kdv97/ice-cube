{
 "cells": [
  {
   "cell_type": "code",
   "execution_count": 2,
   "id": "af798017",
   "metadata": {},
   "outputs": [],
   "source": [
    "from sklearn.linear_model import LinearRegression\n",
    "import numpy as np\n",
    "import pandas as pd"
   ]
  },
  {
   "cell_type": "code",
   "execution_count": 3,
   "id": "941954f0",
   "metadata": {},
   "outputs": [],
   "source": [
    "def angular_dist_score(az_true, zen_true, az_pred, zen_pred):\n",
    "    '''\n",
    "    calculate the MAE of the angular distance between two directions.\n",
    "    The two vectors are first converted to cartesian unit vectors,\n",
    "    and then their scalar product is computed, which is equal to\n",
    "    the cosine of the angle between the two vectors. The inverse \n",
    "    cosine (arccos) thereof is then the angle between the two input vectors\n",
    "    \n",
    "    Parameters:\n",
    "    -----------\n",
    "    \n",
    "    az_true : float (or array thereof)\n",
    "        true azimuth value(s) in radian\n",
    "    zen_true : float (or array thereof)\n",
    "        true zenith value(s) in radian\n",
    "    az_pred : float (or array thereof)\n",
    "        predicted azimuth value(s) in radian\n",
    "    zen_pred : float (or array thereof)\n",
    "        predicted zenith value(s) in radian\n",
    "    \n",
    "    Returns:\n",
    "    --------\n",
    "    \n",
    "    dist : float\n",
    "        mean over the angular distance(s) in radian\n",
    "    '''\n",
    "    \n",
    "    if not (np.all(np.isfinite(az_true)) and\n",
    "            np.all(np.isfinite(zen_true)) and\n",
    "            np.all(np.isfinite(az_pred)) and\n",
    "            np.all(np.isfinite(zen_pred))):\n",
    "        raise ValueError(\"All arguments must be finite\")\n",
    "    \n",
    "    # pre-compute all sine and cosine values\n",
    "    sa1 = np.sin(az_true)\n",
    "    ca1 = np.cos(az_true)\n",
    "    sz1 = np.sin(zen_true)\n",
    "    cz1 = np.cos(zen_true)\n",
    "    \n",
    "    sa2 = np.sin(az_pred)\n",
    "    ca2 = np.cos(az_pred)\n",
    "    sz2 = np.sin(zen_pred)\n",
    "    cz2 = np.cos(zen_pred)\n",
    "    \n",
    "    # scalar product of the two cartesian vectors (x = sz*ca, y = sz*sa, z = cz)\n",
    "    scalar_prod = sz1*sz2*(ca1*ca2 + sa1*sa2) + (cz1*cz2)\n",
    "    \n",
    "    # scalar product of two unit vectors is always between -1 and 1, this is against nummerical instability\n",
    "    # that might otherwise occure from the finite precision of the sine and cosine functions\n",
    "    scalar_prod =  np.clip(scalar_prod, -1, 1)\n",
    "    \n",
    "    # convert back to an angle (in radian)\n",
    "    return np.average(np.abs(np.arccos(scalar_prod)))"
   ]
  },
  {
   "cell_type": "code",
   "execution_count": 4,
   "id": "4bf4bfe7",
   "metadata": {},
   "outputs": [],
   "source": [
    "# Importing data\n",
    "batch1 = pd.read_parquet('../batches_train/batch_1_repartitions/part.0.parquet')\n",
    "sensor_geom = pd.read_csv('../sensor_geometry.csv')\n",
    "\n",
    "meta = pd.read_parquet('../batches_train/meta_1_0.parquet')\n",
    "\n",
    "event_ids = list(set(batch1.index))\n",
    "\n",
    "# Part of meta that we need\n",
    "meta.set_index('event_id',\n",
    "                      inplace=True)\n",
    "meta.drop(['batch_id', 'first_pulse_index', 'last_pulse_index'], \n",
    "                 axis=1,\n",
    "                 inplace=True)\n",
    "\n",
    "num_sensors = 5160"
   ]
  },
  {
   "cell_type": "code",
   "execution_count": 5,
   "id": "8f7c5461",
   "metadata": {},
   "outputs": [],
   "source": [
    "from sklearn.model_selection import train_test_split"
   ]
  },
  {
   "cell_type": "code",
   "execution_count": 6,
   "id": "179a2299",
   "metadata": {},
   "outputs": [],
   "source": [
    "train_indices, test_indices = train_test_split(event_ids,\n",
    "                                               shuffle=True,\n",
    "                                               random_state=123,\n",
    "                                               test_size=0.25)"
   ]
  },
  {
   "cell_type": "code",
   "execution_count": 7,
   "id": "ef7f0537",
   "metadata": {},
   "outputs": [],
   "source": [
    "# Make a function that outputs (x,y,z) for a sensor_id input\n",
    "def id_to_xyz(sen):\n",
    "    row = tuple(sensor_geom.loc[sen][1:4])\n",
    "    return row"
   ]
  },
  {
   "cell_type": "markdown",
   "id": "195ffc74",
   "metadata": {},
   "source": [
    "### Model 5: including clustering"
   ]
  },
  {
   "cell_type": "code",
   "execution_count": 18,
   "id": "040e003a",
   "metadata": {},
   "outputs": [],
   "source": [
    "df1_train = pd.DataFrame(columns=[i for i in range(0, num_sensors)]+['num_clust']+['az','ze'])"
   ]
  },
  {
   "cell_type": "code",
   "execution_count": 19,
   "id": "6978d7ea",
   "metadata": {
    "scrolled": true
   },
   "outputs": [
    {
     "name": "stdout",
     "output_type": "stream",
     "text": [
      "Working on event 10\n",
      "Working on event 20\n",
      "Working on event 30\n",
      "Working on event 40\n",
      "Working on event 50\n",
      "Working on event 60\n",
      "Working on event 70\n",
      "Working on event 80\n",
      "Working on event 90\n",
      "Working on event 100\n",
      "Working on event 110\n",
      "Working on event 120\n",
      "Working on event 130\n",
      "Working on event 140\n",
      "Working on event 150\n",
      "Working on event 160\n",
      "Working on event 170\n",
      "Working on event 180\n",
      "Working on event 190\n",
      "Working on event 200\n",
      "Working on event 210\n",
      "Working on event 220\n",
      "Working on event 230\n",
      "Working on event 240\n",
      "Working on event 250\n",
      "Working on event 260\n",
      "Working on event 270\n",
      "Working on event 280\n",
      "Working on event 290\n",
      "Working on event 300\n",
      "Working on event 310\n",
      "Working on event 320\n",
      "Working on event 330\n",
      "Working on event 340\n",
      "Working on event 350\n",
      "Working on event 360\n",
      "Working on event 370\n",
      "Working on event 380\n",
      "Working on event 390\n",
      "Working on event 400\n",
      "Working on event 410\n",
      "Working on event 420\n",
      "Working on event 430\n",
      "Working on event 440\n",
      "Working on event 450\n",
      "Working on event 460\n",
      "Working on event 470\n",
      "Working on event 480\n",
      "Working on event 490\n",
      "Working on event 500\n",
      "Working on event 510\n",
      "Working on event 520\n",
      "Working on event 530\n",
      "Working on event 540\n",
      "Working on event 550\n",
      "Working on event 560\n",
      "Working on event 570\n",
      "Working on event 580\n",
      "Working on event 590\n",
      "Working on event 600\n",
      "Working on event 610\n",
      "Working on event 620\n",
      "Working on event 630\n",
      "Working on event 640\n",
      "Working on event 650\n",
      "Working on event 660\n",
      "Working on event 670\n",
      "Working on event 680\n",
      "Working on event 690\n",
      "Working on event 700\n",
      "Working on event 710\n",
      "Working on event 720\n",
      "Working on event 730\n",
      "Working on event 740\n",
      "Working on event 750\n",
      "Working on event 760\n",
      "Working on event 770\n",
      "Working on event 780\n",
      "Working on event 790\n",
      "Working on event 800\n",
      "Working on event 810\n",
      "Working on event 820\n",
      "Working on event 830\n",
      "Working on event 840\n",
      "Working on event 850\n",
      "Working on event 860\n",
      "Working on event 870\n",
      "Working on event 880\n",
      "Working on event 890\n",
      "Working on event 900\n",
      "Working on event 910\n",
      "Working on event 920\n",
      "Working on event 930\n",
      "Working on event 940\n",
      "Working on event 950\n",
      "Working on event 960\n",
      "Working on event 970\n",
      "Working on event 980\n",
      "Working on event 990\n",
      "Working on event 1000\n"
     ]
    }
   ],
   "source": [
    "import scipy.cluster.hierarchy as hcluster\n",
    "threshhold = 150\n",
    "\n",
    "# Now we generate feature data from the raw data\n",
    "# We use aux = False only here\n",
    "count = 0\n",
    "\n",
    "batch1_no_aux = batch1[batch1.auxiliary==False]\n",
    "\n",
    "for index in train_indices[:1000]:\n",
    "    event = batch1_no_aux.loc[index]\n",
    "    event.set_index('sensor_id',\n",
    "                    inplace=True)\n",
    "    event = event.groupby('sensor_id').sum()\n",
    "    \n",
    "    sensors = event.index\n",
    "\n",
    "    for sensor in sensors:\n",
    "        df1_train.loc[index,sensor] = event.loc[sensor,'charge']\n",
    "    \n",
    "    az, ze = meta.loc[index,['azimuth','zenith']].values\n",
    "    df1_train.loc[index,'az'] = az\n",
    "    df1_train.loc[index,'ze'] = ze\n",
    "    \n",
    "    # Clustering\n",
    "    raw_data = [id_to_xyz(sen) for sen in sensors]\n",
    "    clusters = hcluster.fclusterdata(raw_data,threshhold,criterion='distance')\n",
    "    num_clusters = len(set(clusters))\n",
    "    df1_train.loc[index,'num_clust'] = num_clusters\n",
    "    \n",
    "\n",
    "    count = count + 1\n",
    "    if count % 10 == 0:\n",
    "        print(\"Working on event\", count)\n",
    "        \n",
    "df1_train.fillna(0, inplace=True)"
   ]
  },
  {
   "cell_type": "code",
   "execution_count": 20,
   "id": "bbfd8d57",
   "metadata": {
    "scrolled": true
   },
   "outputs": [
    {
     "name": "stdout",
     "output_type": "stream",
     "text": [
      "Working on event 10\n",
      "Working on event 20\n",
      "Working on event 30\n",
      "Working on event 40\n",
      "Working on event 50\n",
      "Working on event 60\n",
      "Working on event 70\n",
      "Working on event 80\n",
      "Working on event 90\n",
      "Working on event 100\n",
      "Working on event 110\n",
      "Working on event 120\n",
      "Working on event 130\n",
      "Working on event 140\n",
      "Working on event 150\n",
      "Working on event 160\n",
      "Working on event 170\n",
      "Working on event 180\n",
      "Working on event 190\n",
      "Working on event 200\n",
      "Working on event 210\n",
      "Working on event 220\n",
      "Working on event 230\n",
      "Working on event 240\n",
      "Working on event 250\n",
      "Working on event 260\n",
      "Working on event 270\n",
      "Working on event 280\n",
      "Working on event 290\n",
      "Working on event 300\n"
     ]
    }
   ],
   "source": [
    "# Now we generate test data from the raw data\n",
    "# We use aux = False only here\n",
    "df1_test = pd.DataFrame(columns=[i for i in range(0, num_sensors)]+['num_clust']+['az','ze'])\n",
    "\n",
    "\n",
    "count = 0\n",
    "\n",
    "for index in test_indices[:300]:\n",
    "    event = batch1_no_aux.loc[index]\n",
    "    event.set_index('sensor_id',\n",
    "                    inplace=True)\n",
    "    event = event.groupby('sensor_id').sum()\n",
    "    \n",
    "    sensors = event.index\n",
    "\n",
    "    for sensor in sensors:\n",
    "        df1_test.loc[index,sensor] = event.loc[sensor,'charge']\n",
    "    \n",
    "    az, ze = meta.loc[index,['azimuth','zenith']].values\n",
    "    df1_test.loc[index,'az'] = az\n",
    "    df1_test.loc[index,'ze'] = ze\n",
    "    \n",
    "    # Clustering\n",
    "    raw_data = [id_to_xyz(sen) for sen in sensors]\n",
    "    clusters = hcluster.fclusterdata(raw_data,threshhold,criterion='distance')\n",
    "    num_clusters = len(set(clusters))\n",
    "    df1_test.loc[index,'num_clust'] = num_clusters\n",
    "    \n",
    "\n",
    "    count = count + 1\n",
    "    if count % 10 == 0:\n",
    "        print(\"Working on event\", count)\n",
    "        \n",
    "df1_test.fillna(0, inplace=True)"
   ]
  },
  {
   "cell_type": "code",
   "execution_count": 38,
   "id": "b3542547",
   "metadata": {},
   "outputs": [],
   "source": [
    "X5_train = df1_train[[i for i in range(0,num_sensors)]+['num_clust']]\n",
    "y5_train = df1_train[['az','ze']]\n",
    "\n",
    "X5_test = df1_test[[i for i in range(0,num_sensors)]+['num_clust']]\n",
    "y5_test = df1_test[['az','ze']]"
   ]
  },
  {
   "cell_type": "code",
   "execution_count": 40,
   "id": "03287887",
   "metadata": {},
   "outputs": [
    {
     "data": {
      "text/html": [
       "<style>#sk-container-id-2 {color: black;}#sk-container-id-2 pre{padding: 0;}#sk-container-id-2 div.sk-toggleable {background-color: white;}#sk-container-id-2 label.sk-toggleable__label {cursor: pointer;display: block;width: 100%;margin-bottom: 0;padding: 0.3em;box-sizing: border-box;text-align: center;}#sk-container-id-2 label.sk-toggleable__label-arrow:before {content: \"▸\";float: left;margin-right: 0.25em;color: #696969;}#sk-container-id-2 label.sk-toggleable__label-arrow:hover:before {color: black;}#sk-container-id-2 div.sk-estimator:hover label.sk-toggleable__label-arrow:before {color: black;}#sk-container-id-2 div.sk-toggleable__content {max-height: 0;max-width: 0;overflow: hidden;text-align: left;background-color: #f0f8ff;}#sk-container-id-2 div.sk-toggleable__content pre {margin: 0.2em;color: black;border-radius: 0.25em;background-color: #f0f8ff;}#sk-container-id-2 input.sk-toggleable__control:checked~div.sk-toggleable__content {max-height: 200px;max-width: 100%;overflow: auto;}#sk-container-id-2 input.sk-toggleable__control:checked~label.sk-toggleable__label-arrow:before {content: \"▾\";}#sk-container-id-2 div.sk-estimator input.sk-toggleable__control:checked~label.sk-toggleable__label {background-color: #d4ebff;}#sk-container-id-2 div.sk-label input.sk-toggleable__control:checked~label.sk-toggleable__label {background-color: #d4ebff;}#sk-container-id-2 input.sk-hidden--visually {border: 0;clip: rect(1px 1px 1px 1px);clip: rect(1px, 1px, 1px, 1px);height: 1px;margin: -1px;overflow: hidden;padding: 0;position: absolute;width: 1px;}#sk-container-id-2 div.sk-estimator {font-family: monospace;background-color: #f0f8ff;border: 1px dotted black;border-radius: 0.25em;box-sizing: border-box;margin-bottom: 0.5em;}#sk-container-id-2 div.sk-estimator:hover {background-color: #d4ebff;}#sk-container-id-2 div.sk-parallel-item::after {content: \"\";width: 100%;border-bottom: 1px solid gray;flex-grow: 1;}#sk-container-id-2 div.sk-label:hover label.sk-toggleable__label {background-color: #d4ebff;}#sk-container-id-2 div.sk-serial::before {content: \"\";position: absolute;border-left: 1px solid gray;box-sizing: border-box;top: 0;bottom: 0;left: 50%;z-index: 0;}#sk-container-id-2 div.sk-serial {display: flex;flex-direction: column;align-items: center;background-color: white;padding-right: 0.2em;padding-left: 0.2em;position: relative;}#sk-container-id-2 div.sk-item {position: relative;z-index: 1;}#sk-container-id-2 div.sk-parallel {display: flex;align-items: stretch;justify-content: center;background-color: white;position: relative;}#sk-container-id-2 div.sk-item::before, #sk-container-id-2 div.sk-parallel-item::before {content: \"\";position: absolute;border-left: 1px solid gray;box-sizing: border-box;top: 0;bottom: 0;left: 50%;z-index: -1;}#sk-container-id-2 div.sk-parallel-item {display: flex;flex-direction: column;z-index: 1;position: relative;background-color: white;}#sk-container-id-2 div.sk-parallel-item:first-child::after {align-self: flex-end;width: 50%;}#sk-container-id-2 div.sk-parallel-item:last-child::after {align-self: flex-start;width: 50%;}#sk-container-id-2 div.sk-parallel-item:only-child::after {width: 0;}#sk-container-id-2 div.sk-dashed-wrapped {border: 1px dashed gray;margin: 0 0.4em 0.5em 0.4em;box-sizing: border-box;padding-bottom: 0.4em;background-color: white;}#sk-container-id-2 div.sk-label label {font-family: monospace;font-weight: bold;display: inline-block;line-height: 1.2em;}#sk-container-id-2 div.sk-label-container {text-align: center;}#sk-container-id-2 div.sk-container {/* jupyter's `normalize.less` sets `[hidden] { display: none; }` but bootstrap.min.css set `[hidden] { display: none !important; }` so we also need the `!important` here to be able to override the default hidden behavior on the sphinx rendered scikit-learn.org. See: https://github.com/scikit-learn/scikit-learn/issues/21755 */display: inline-block !important;position: relative;}#sk-container-id-2 div.sk-text-repr-fallback {display: none;}</style><div id=\"sk-container-id-2\" class=\"sk-top-container\"><div class=\"sk-text-repr-fallback\"><pre>LinearRegression()</pre><b>In a Jupyter environment, please rerun this cell to show the HTML representation or trust the notebook. <br />On GitHub, the HTML representation is unable to render, please try loading this page with nbviewer.org.</b></div><div class=\"sk-container\" hidden><div class=\"sk-item\"><div class=\"sk-estimator sk-toggleable\"><input class=\"sk-toggleable__control sk-hidden--visually\" id=\"sk-estimator-id-2\" type=\"checkbox\" checked><label for=\"sk-estimator-id-2\" class=\"sk-toggleable__label sk-toggleable__label-arrow\">LinearRegression</label><div class=\"sk-toggleable__content\"><pre>LinearRegression()</pre></div></div></div></div></div>"
      ],
      "text/plain": [
       "LinearRegression()"
      ]
     },
     "execution_count": 40,
     "metadata": {},
     "output_type": "execute_result"
    }
   ],
   "source": [
    "# Fitting the model\n",
    "slr5 = LinearRegression(copy_X=True)\n",
    "\n",
    "slr5.fit(X5_train.values, y5_train.values)"
   ]
  },
  {
   "cell_type": "code",
   "execution_count": 41,
   "id": "c421cc74",
   "metadata": {},
   "outputs": [
    {
     "name": "stdout",
     "output_type": "stream",
     "text": [
      "The angular distance score for model 5 is 1.5533778231049427\n"
     ]
    }
   ],
   "source": [
    "az_pred_5 = slr5.predict(X5_test.values)[:,0]\n",
    "ze_pred_5 = slr5.predict(X5_test.values)[:,1]\n",
    "\n",
    "model_5_error = angular_dist_score(y5_test['az'],\n",
    "                                   y5_test['ze'],\n",
    "                                   az_pred_5,\n",
    "                                   ze_pred_5)\n",
    "\n",
    "print(\"The angular distance score for model 5 is\", model_5_error)"
   ]
  },
  {
   "cell_type": "code",
   "execution_count": null,
   "id": "7794fb04",
   "metadata": {},
   "outputs": [],
   "source": []
  }
 ],
 "metadata": {
  "kernelspec": {
   "display_name": "Python 3 (ipykernel)",
   "language": "python",
   "name": "python3"
  },
  "language_info": {
   "codemirror_mode": {
    "name": "ipython",
    "version": 3
   },
   "file_extension": ".py",
   "mimetype": "text/x-python",
   "name": "python",
   "nbconvert_exporter": "python",
   "pygments_lexer": "ipython3",
   "version": "3.11.4"
  }
 },
 "nbformat": 4,
 "nbformat_minor": 5
}
