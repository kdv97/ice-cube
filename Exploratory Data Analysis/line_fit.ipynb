{
 "cells": [
  {
   "cell_type": "code",
   "execution_count": 1,
   "id": "15034db6",
   "metadata": {},
   "outputs": [],
   "source": [
    "import numpy as np\n",
    "import pandas as pd"
   ]
  },
  {
   "cell_type": "code",
   "execution_count": 2,
   "id": "d001dc1a",
   "metadata": {},
   "outputs": [],
   "source": [
    "batch1 = pd.read_parquet('../batches_train/batch_1_repartitions/part.0.parquet')\n",
    "sensor_geom = pd.read_csv('../sensor_geometry.csv')\n",
    "\n",
    "def id_to_xyz(sen):\n",
    "    return sensor_geom.loc[sen][['x','y','z']].values"
   ]
  },
  {
   "cell_type": "code",
   "execution_count": 141,
   "id": "cd94d72c",
   "metadata": {},
   "outputs": [],
   "source": [
    "meta = pd.read_parquet('../batches_train/train_meta.parquet/')"
   ]
  },
  {
   "cell_type": "code",
   "execution_count": 155,
   "id": "72b1f6a9",
   "metadata": {},
   "outputs": [
    {
     "data": {
      "text/html": [
       "<div>\n",
       "<style scoped>\n",
       "    .dataframe tbody tr th:only-of-type {\n",
       "        vertical-align: middle;\n",
       "    }\n",
       "\n",
       "    .dataframe tbody tr th {\n",
       "        vertical-align: top;\n",
       "    }\n",
       "\n",
       "    .dataframe thead th {\n",
       "        text-align: right;\n",
       "    }\n",
       "</style>\n",
       "<table border=\"1\" class=\"dataframe\">\n",
       "  <thead>\n",
       "    <tr style=\"text-align: right;\">\n",
       "      <th></th>\n",
       "      <th>batch_id</th>\n",
       "      <th>event_id</th>\n",
       "      <th>first_pulse_index</th>\n",
       "      <th>last_pulse_index</th>\n",
       "      <th>azimuth</th>\n",
       "      <th>zenith</th>\n",
       "    </tr>\n",
       "  </thead>\n",
       "  <tbody>\n",
       "    <tr>\n",
       "      <th>0</th>\n",
       "      <td>1</td>\n",
       "      <td>24</td>\n",
       "      <td>0</td>\n",
       "      <td>60</td>\n",
       "      <td>5.029555</td>\n",
       "      <td>2.087498</td>\n",
       "    </tr>\n",
       "    <tr>\n",
       "      <th>1</th>\n",
       "      <td>1</td>\n",
       "      <td>41</td>\n",
       "      <td>61</td>\n",
       "      <td>111</td>\n",
       "      <td>0.417742</td>\n",
       "      <td>1.549686</td>\n",
       "    </tr>\n",
       "    <tr>\n",
       "      <th>2</th>\n",
       "      <td>1</td>\n",
       "      <td>59</td>\n",
       "      <td>112</td>\n",
       "      <td>147</td>\n",
       "      <td>1.160466</td>\n",
       "      <td>2.401942</td>\n",
       "    </tr>\n",
       "    <tr>\n",
       "      <th>3</th>\n",
       "      <td>1</td>\n",
       "      <td>67</td>\n",
       "      <td>148</td>\n",
       "      <td>289</td>\n",
       "      <td>5.845952</td>\n",
       "      <td>0.759054</td>\n",
       "    </tr>\n",
       "    <tr>\n",
       "      <th>4</th>\n",
       "      <td>1</td>\n",
       "      <td>72</td>\n",
       "      <td>290</td>\n",
       "      <td>351</td>\n",
       "      <td>0.653719</td>\n",
       "      <td>0.939117</td>\n",
       "    </tr>\n",
       "  </tbody>\n",
       "</table>\n",
       "</div>"
      ],
      "text/plain": [
       "   batch_id  event_id  first_pulse_index  last_pulse_index   azimuth    zenith\n",
       "0         1        24                  0                60  5.029555  2.087498\n",
       "1         1        41                 61               111  0.417742  1.549686\n",
       "2         1        59                112               147  1.160466  2.401942\n",
       "3         1        67                148               289  5.845952  0.759054\n",
       "4         1        72                290               351  0.653719  0.939117"
      ]
     },
     "execution_count": 155,
     "metadata": {},
     "output_type": "execute_result"
    }
   ],
   "source": [
    "meta.head()"
   ]
  },
  {
   "cell_type": "code",
   "execution_count": 100,
   "id": "93e3332a",
   "metadata": {},
   "outputs": [],
   "source": [
    "# Physics papers tell us how to find the 'best-fit' line\n",
    "# r = r_0 + v*t, with r_0 and v calculated as follows\n",
    "def find_direction(event):\n",
    "    placetimes = event.drop_duplicates('sensor_id')[['sensor_id', 'time']].reset_index()\n",
    "    for i in range(0,len(placetimes)):\n",
    "        placetimes.loc[i,['x','y','z']] = id_to_xyz(placetimes.loc[i,'sensor_id'])\n",
    "        placetimes.loc[i,['xt','yt','zt']] = (placetimes.loc[i, ['x','y','z']]*placetimes.loc[i,'time']).values\n",
    "        placetimes.loc[i,'time_squared'] = np.square(placetimes.loc[i,'time'])\n",
    "        \n",
    "    means = placetimes.mean(axis=0)\n",
    "    \n",
    "    vx = (means.xt - means.x*means.time)/(means.time_squared - np.square(means.time))\n",
    "    vy = (means.yt - means.y*means.time)/(means.time_squared - np.square(means.time))\n",
    "    vz = (means.zt - means.z*means.time)/(means.time_squared - np.square(means.time))\n",
    "\n",
    "    v = -np.array([vx,vy,vz])\n",
    "    \n",
    "    return v/np.linalg.norm(v)"
   ]
  },
  {
   "cell_type": "code",
   "execution_count": 101,
   "id": "177d2ff5",
   "metadata": {},
   "outputs": [
    {
     "data": {
      "text/plain": [
       "array([0.59365092, 0.42984057, 0.68030557])"
      ]
     },
     "execution_count": 101,
     "metadata": {},
     "output_type": "execute_result"
    }
   ],
   "source": [
    "find_direction(batch1.loc[24])"
   ]
  },
  {
   "cell_type": "code",
   "execution_count": 129,
   "id": "a2453b53",
   "metadata": {},
   "outputs": [],
   "source": [
    "def vector_to_angle(v):\n",
    "    v = np.clip(v, -1, 1)\n",
    "    ze = np.arccos(v[2])\n",
    "    az = np.arctan2(v[1],v[0])\n",
    "    return (az,ze)"
   ]
  },
  {
   "cell_type": "code",
   "execution_count": 163,
   "id": "ed1cae71",
   "metadata": {},
   "outputs": [],
   "source": [
    "def find_angular_origin(event):\n",
    "    cartesian_direction = find_direction(event)\n",
    "    prelim = vector_to_angle(cartesian_direction)\n",
    "    az = prelim[0]\n",
    "    ze = prelim[1]\n",
    "    \n",
    "    if az < 0.001:\n",
    "        az = 2*np.pi - az\n",
    "    \n",
    "    return (az, ze)"
   ]
  },
  {
   "cell_type": "code",
   "execution_count": 159,
   "id": "2a8bf456",
   "metadata": {},
   "outputs": [
    {
     "data": {
      "text/plain": [
       "(0.6266936314955205, 0.8226168529759329)"
      ]
     },
     "execution_count": 159,
     "metadata": {},
     "output_type": "execute_result"
    }
   ],
   "source": [
    "find_angular_origin(batch1.loc[24])"
   ]
  },
  {
   "cell_type": "markdown",
   "id": "c9700b86",
   "metadata": {},
   "source": [
    "### Testing"
   ]
  },
  {
   "cell_type": "code",
   "execution_count": 160,
   "id": "ac7c0e3e",
   "metadata": {},
   "outputs": [],
   "source": [
    "event_ids = list(set(batch1.index))"
   ]
  },
  {
   "cell_type": "code",
   "execution_count": 161,
   "id": "a067a86e",
   "metadata": {},
   "outputs": [],
   "source": [
    "N = 100\n",
    "test_indices = [event_ids[i] for i in range(0,N)]\n",
    "\n",
    "meta_subset = meta[meta.event_id.isin(test_indices)]\n",
    "batch1_subset = batch1.loc[test_indices]"
   ]
  },
  {
   "cell_type": "code",
   "execution_count": 164,
   "id": "e3110a3a",
   "metadata": {
    "scrolled": true
   },
   "outputs": [
    {
     "name": "stdout",
     "output_type": "stream",
     "text": [
      "Testing...1 complete\n",
      "Testing...2 complete\n",
      "Testing...3 complete\n",
      "Testing...4 complete\n",
      "Testing...5 complete\n",
      "Testing...6 complete\n",
      "Testing...7 complete\n",
      "Testing...8 complete\n",
      "Testing...9 complete\n",
      "Testing...10 complete\n",
      "Testing...11 complete\n",
      "Testing...12 complete\n",
      "Testing...13 complete\n",
      "Testing...14 complete\n",
      "Testing...15 complete\n",
      "Testing...16 complete\n",
      "Testing...17 complete\n",
      "Testing...18 complete\n",
      "Testing...19 complete\n",
      "Testing...20 complete\n",
      "Testing...21 complete\n",
      "Testing...22 complete\n",
      "Testing...23 complete\n",
      "Testing...24 complete\n",
      "Testing...25 complete\n",
      "Testing...26 complete\n",
      "Testing...27 complete\n",
      "Testing...28 complete\n",
      "Testing...29 complete\n",
      "Testing...30 complete\n",
      "Testing...31 complete\n",
      "Testing...32 complete\n",
      "Testing...33 complete\n",
      "Testing...34 complete\n",
      "Testing...35 complete\n",
      "Testing...36 complete\n",
      "Testing...37 complete\n",
      "Testing...38 complete\n",
      "Testing...39 complete\n",
      "Testing...40 complete\n",
      "Testing...41 complete\n",
      "Testing...42 complete\n",
      "Testing...43 complete\n",
      "Testing...44 complete\n",
      "Testing...45 complete\n",
      "Testing...46 complete\n",
      "Testing...47 complete\n",
      "Testing...48 complete\n",
      "Testing...49 complete\n",
      "Testing...50 complete\n",
      "Testing...51 complete\n",
      "Testing...52 complete\n",
      "Testing...53 complete\n",
      "Testing...54 complete\n",
      "Testing...55 complete\n",
      "Testing...56 complete\n",
      "Testing...57 complete\n",
      "Testing...58 complete\n",
      "Testing...59 complete\n",
      "Testing...60 complete\n",
      "Testing...61 complete\n",
      "Testing...62 complete\n",
      "Testing...63 complete\n",
      "Testing...64 complete\n",
      "Testing...65 complete\n",
      "Testing...66 complete\n",
      "Testing...67 complete\n",
      "Testing...68 complete\n",
      "Testing...69 complete\n",
      "Testing...70 complete\n",
      "Testing...71 complete\n",
      "Testing...72 complete\n",
      "Testing...73 complete\n",
      "Testing...74 complete\n",
      "Testing...75 complete\n",
      "Testing...76 complete\n",
      "Testing...77 complete\n",
      "Testing...78 complete\n",
      "Testing...79 complete\n",
      "Testing...80 complete\n",
      "Testing...81 complete\n",
      "Testing...82 complete\n",
      "Testing...83 complete\n",
      "Testing...84 complete\n",
      "Testing...85 complete\n",
      "Testing...86 complete\n",
      "Testing...87 complete\n",
      "Testing...88 complete\n",
      "Testing...89 complete\n",
      "Testing...90 complete\n",
      "Testing...91 complete\n",
      "Testing...92 complete\n",
      "Testing...93 complete\n",
      "Testing...94 complete\n",
      "Testing...95 complete\n",
      "Testing...96 complete\n",
      "Testing...97 complete\n",
      "Testing...98 complete\n",
      "Testing...99 complete\n",
      "Testing...100 complete\n"
     ]
    }
   ],
   "source": [
    "preds = []\n",
    "trues = []\n",
    "\n",
    "count = 0\n",
    "for index in test_indices:\n",
    "    count = count + 1\n",
    "    print(\"Testing...\" + str(count), \"complete\")\n",
    "    preds.append(find_angular_origin(batch1_subset.loc[index]))\n",
    "    \n",
    "    ev = meta_subset[meta_subset.event_id==index]\n",
    "    trues.append((ev.azimuth.values[0], ev.zenith.values[0]))"
   ]
  },
  {
   "cell_type": "code",
   "execution_count": 165,
   "id": "2eea6d34",
   "metadata": {},
   "outputs": [],
   "source": [
    "def mse(A, B):\n",
    "    D = np.zeros(A.shape)\n",
    "    for i in range(0, D.shape[0]):\n",
    "        D[i,0] = min(np.abs(A[i,0] - B[i,0]),\n",
    "                     np.abs(A[i,0] - B[i,0] - 2*np.pi),\n",
    "                     np.abs(A[i,0] - B[i,0] + 2*np.pi))\n",
    "        D[i,1] = min(np.abs(A[i,1] - B[i,1]),\n",
    "                     np.abs(A[i,1] - B[i,1] - np.pi),\n",
    "                     np.abs(A[i,1] - B[i,1] - np.pi))\n",
    "    return (np.square(D)).mean(axis=0)"
   ]
  },
  {
   "cell_type": "code",
   "execution_count": 166,
   "id": "4ebdda57",
   "metadata": {},
   "outputs": [
    {
     "data": {
      "text/plain": [
       "array([3.23222768, 0.97845222])"
      ]
     },
     "execution_count": 166,
     "metadata": {},
     "output_type": "execute_result"
    }
   ],
   "source": [
    "mse(np.array(preds), np.array(trues))"
   ]
  },
  {
   "cell_type": "code",
   "execution_count": null,
   "id": "593b5c1a",
   "metadata": {},
   "outputs": [],
   "source": []
  }
 ],
 "metadata": {
  "kernelspec": {
   "display_name": "Python 3 (ipykernel)",
   "language": "python",
   "name": "python3"
  },
  "language_info": {
   "codemirror_mode": {
    "name": "ipython",
    "version": 3
   },
   "file_extension": ".py",
   "mimetype": "text/x-python",
   "name": "python",
   "nbconvert_exporter": "python",
   "pygments_lexer": "ipython3",
   "version": "3.10.9"
  }
 },
 "nbformat": 4,
 "nbformat_minor": 5
}
